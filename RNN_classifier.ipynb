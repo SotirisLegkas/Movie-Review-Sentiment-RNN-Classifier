{
  "cells": [
    {
      "cell_type": "markdown",
      "metadata": {
        "id": "9u5gUTaRmz0K"
      },
      "source": [
        "##### Imports"
      ]
    },
    {
      "cell_type": "code",
      "execution_count": null,
      "metadata": {
        "colab": {
          "base_uri": "https://localhost:8080/"
        },
        "id": "cLbN4yssXvur",
        "outputId": "2c366f2c-4d0d-4f3f-d5d7-a5fba5600287"
      },
      "outputs": [
        {
          "name": "stdout",
          "output_type": "stream",
          "text": [
            "\u001b[K     |████████████████████████████████| 462 kB 5.5 MB/s \n",
            "\u001b[K     |████████████████████████████████| 133 kB 3.9 MB/s \n",
            "\u001b[?25h"
          ]
        }
      ],
      "source": [
        "# Installing and checking keras tuner and tensorflow\n",
        "!pip install -q --upgrade tensorflow\n",
        "!pip install keras-tuner -q --upgrade"
      ]
    },
    {
      "cell_type": "code",
      "execution_count": null,
      "metadata": {
        "colab": {
          "base_uri": "https://localhost:8080/"
        },
        "id": "eqEW8HY9IqAY",
        "outputId": "367fdb38-de6d-439c-da3d-f0f8ba273e2f"
      },
      "outputs": [
        {
          "name": "stdout",
          "output_type": "stream",
          "text": [
            "Mounted at /content/gdrive\n"
          ]
        }
      ],
      "source": [
        "from google.colab import drive\n",
        "drive.mount('/content/gdrive')"
      ]
    },
    {
      "cell_type": "code",
      "execution_count": null,
      "metadata": {
        "id": "SoNSR79xX0Tv"
      },
      "outputs": [],
      "source": [
        "# #Verify Pytorch installation\n",
        "# import torch\n",
        "# print(torch.__version__)"
      ]
    },
    {
      "cell_type": "code",
      "execution_count": null,
      "metadata": {
        "colab": {
          "base_uri": "https://localhost:8080/"
        },
        "id": "fuq-U84UX1tp",
        "outputId": "d548bdc1-bead-4d5f-a3d1-8a6de5ce5ce7"
      },
      "outputs": [
        {
          "name": "stdout",
          "output_type": "stream",
          "text": [
            "2.8.0\n"
          ]
        }
      ],
      "source": [
        "# Verify Tensorflow  installation\n",
        "import tensorflow as tf\n",
        "print(tf.__version__)"
      ]
    },
    {
      "cell_type": "code",
      "execution_count": null,
      "metadata": {
        "id": "tdE7jh-cX3Aq"
      },
      "outputs": [],
      "source": [
        "#Necessary Library Imports \n",
        "from tensorflow.keras.callbacks import ModelCheckpoint,EarlyStopping\n",
        "from tensorflow.keras.models import Sequential\n",
        "from tensorflow.keras.layers import Dense, Dropout\n",
        "from tensorflow.keras.optimizers import Adam\n",
        "from keras.wrappers.scikit_learn import KerasClassifier\n",
        "import keras_tuner as kt\n",
        "from tensorflow import keras\n",
        "import math \n",
        "import numpy as np\n",
        "import os\n",
        "from sklearn.dummy import DummyClassifier\n",
        "import pandas as pd\n",
        "import time\n",
        "import pickle\n",
        "from sklearn.metrics import f1_score\n",
        "from sklearn.model_selection import train_test_split\n",
        "from sklearn.model_selection import PredefinedSplit\n",
        "from sklearn.feature_extraction.text import TfidfVectorizer\n",
        "from nltk import WhitespaceTokenizer\n",
        "from sklearn.linear_model import LogisticRegression\n",
        "from sklearn.metrics import f1_score, accuracy_score,confusion_matrix,classification_report,plot_confusion_matrix, recall_score, precision_score\n",
        "from sklearn.model_selection import GridSearchCV\n",
        "from sklearn.model_selection import cross_val_score, KFold\n",
        "from sklearn.metrics import precision_recall_curve\n",
        "from sklearn.metrics import auc\n",
        "import matplotlib.pyplot as plt\n",
        "from sklearn.metrics import mean_squared_error\n",
        "from sklearn.metrics import mean_absolute_error\n",
        "import seaborn as sns\n",
        "from sklearn.metrics import roc_auc_score\n",
        "import csv\n",
        "import gzip\n",
        "import urllib.request\n",
        "import requests\n",
        "import nltk\n",
        "from nltk.corpus import stopwords\n",
        "from sklearn.manifold import TSNE\n",
        "from sklearn.decomposition import PCA, TruncatedSVD\n",
        "import re\n",
        "from nltk.stem import WordNetLemmatizer\n",
        "from sklearn.feature_selection import mutual_info_classif\n",
        "import warnings\n",
        "warnings.filterwarnings(\"ignore\")\n",
        "from tensorflow.keras.layers import Dense, Dropout, Bidirectional, GRU, Embedding\n",
        "from tensorflow.keras.layers import Dense, Dropout, Bidirectional, LSTM, Embedding, Input\n",
        "from keras.layers import LSTM\n",
        "import tensorflow as tf\n",
        "from tensorflow.keras.callbacks import ModelCheckpoint\n",
        "from tensorflow.keras.layers import Dense, Dropout, Bidirectional, LSTM, Embedding, Input\n",
        "from tensorflow.keras.optimizers import Adam\n",
        "import tensorflow.keras.backend as K\n",
        "from tensorflow.keras import Model"
      ]
    },
    {
      "cell_type": "code",
      "execution_count": null,
      "metadata": {
        "colab": {
          "base_uri": "https://localhost:8080/"
        },
        "id": "QH35bYWVlY0a",
        "outputId": "7ccd7f11-9bc0-4c89-c315-072b310d552d"
      },
      "outputs": [
        {
          "name": "stdout",
          "output_type": "stream",
          "text": [
            "--2022-03-25 15:21:41--  https://dl.fbaipublicfiles.com/fasttext/vectors-crawl/cc.en.300.vec.gz\n",
            "Resolving dl.fbaipublicfiles.com (dl.fbaipublicfiles.com)... 104.22.74.142, 172.67.9.4, 104.22.75.142, ...\n",
            "Connecting to dl.fbaipublicfiles.com (dl.fbaipublicfiles.com)|104.22.74.142|:443... connected.\n",
            "HTTP request sent, awaiting response... 200 OK\n",
            "Length: 1325960915 (1.2G) [binary/octet-stream]\n",
            "Saving to: ‘cc.en.300.vec.gz’\n",
            "\n",
            "cc.en.300.vec.gz    100%[===================>]   1.23G  41.9MB/s    in 30s     \n",
            "\n",
            "2022-03-25 15:22:12 (42.4 MB/s) - ‘cc.en.300.vec.gz’ saved [1325960915/1325960915]\n",
            "\n"
          ]
        }
      ],
      "source": [
        "!wget -nc https://dl.fbaipublicfiles.com/fasttext/vectors-crawl/cc.en.300.vec.gz\n",
        "!gzip -d cc.en.300.vec.gz"
      ]
    },
    {
      "cell_type": "code",
      "execution_count": null,
      "metadata": {
        "id": "2SMr-hD2lec2"
      },
      "outputs": [],
      "source": [
        "# idx = 0\n",
        "# vocab = {}\n",
        "# # Save embeddings to numpy array (vocab_size x dimensions)\n",
        "# # We manually add 2 special tokens (for padding & unknown words)\n",
        "# with open(\"cc.en.300.vec\", 'r', encoding=\"utf-8\", newline='\\n',errors='ignore') as f:\n",
        "#     for l in f:\n",
        "#         line = l.rstrip().split(' ')\n",
        "#         if idx == 0:\n",
        "#             vocab_size = int(line[0]) + 2\n",
        "#             dim = int(line[1])\n",
        "#             vecs = np.zeros(vocab_size*dim).reshape(vocab_size,dim)\n",
        "#             vocab[\"__PADDING__\"] = 0\n",
        "#             vocab[\"__UNK__\"] = 1\n",
        "#             idx = 2\n",
        "#         else:\n",
        "#             vocab[line[0]] = idx\n",
        "#             emb = np.array(line[1:]).astype(np.float)\n",
        "#             if (emb.shape[0] == dim):\n",
        "#                 vecs[idx,:] = emb  # Embeddings are saved in an numpy array vecs\n",
        "#                 idx+=1\n",
        "#             else:\n",
        "#                 continue\n",
        "\n",
        "#     # Serialize vocab & embeddings\n",
        "#     pickle.dump(vocab,open(\"/content/gdrive/My Drive/fasttext_voc.pkl\" ,'wb'))\n",
        "#     np.save(\"/content/gdrive/My Drive/fasttext.npy\",vecs)\n",
        "    \n",
        "#     # Free ram\n",
        "#     vecs = None\n",
        "#     vocab = None\n",
        "#     emb = None  "
      ]
    },
    {
      "cell_type": "code",
      "execution_count": null,
      "metadata": {
        "id": "tcDzXsR3lfDg"
      },
      "outputs": [],
      "source": [
        "fasttext_embed = np.load(\"/content/gdrive/My Drive/fasttext.npy\")\n",
        "fasttext_word_to_index = pickle.load(open(\"/content/gdrive/My Drive/fasttext_voc.pkl\", 'rb')) "
      ]
    },
    {
      "cell_type": "code",
      "execution_count": null,
      "metadata": {
        "id": "JDlt032cX4fx"
      },
      "outputs": [],
      "source": [
        "#Downloading Stopwords & Dictionary\n",
        "nltk.download('stopwords',quiet=True)\n",
        "nltk.download('wordnet',quiet=True)\n",
        "\n",
        "#Downloading data(In compressed form) provided by Stanford University\n",
        "!wget -q  http://ai.stanford.edu/~amaas/data/sentiment/aclImdb_v1.tar.gz\n",
        "\n",
        "#Unzipping data\n",
        "!tar  xzf aclImdb_v1.tar.gz"
      ]
    },
    {
      "cell_type": "code",
      "execution_count": null,
      "metadata": {
        "id": "uWLJB49rX6Kg"
      },
      "outputs": [],
      "source": [
        "#Setting random seed so we can analyse results\n",
        "np.random.seed(365)"
      ]
    },
    {
      "cell_type": "markdown",
      "metadata": {
        "id": "6inDdeLvm3It"
      },
      "source": [
        "##### Loading Data"
      ]
    },
    {
      "cell_type": "code",
      "execution_count": null,
      "metadata": {
        "id": "zyHhN0y1X70g"
      },
      "outputs": [],
      "source": [
        "#Initializing Function to load data\n",
        "def load_train_test_imdb_data(data_dir):\n",
        "    \"\"\"Loads the IMDB train/test datasets from a folder path.\n",
        "    Input:\n",
        "    data_dir: path to the \"aclImdb\" folder.\n",
        "    \n",
        "    Returns:\n",
        "    train/test datasets as pandas dataframes.\n",
        "    \"\"\"\n",
        "\n",
        "    data = {}\n",
        "    for split in [\"train\", \"test\"]:\n",
        "        data[split] = []\n",
        "        for sentiment in [\"neg\", \"pos\"]:\n",
        "          #Renaming sentiment to values \n",
        "            score = 1 if sentiment == \"pos\" else 0\n",
        "\n",
        "            path = os.path.join(data_dir, split, sentiment)\n",
        "            file_names = os.listdir(path)\n",
        "            for f_name in file_names:\n",
        "                with open(os.path.join(path, f_name), \"r\") as f:\n",
        "                    review = f.read()\n",
        "                    data[split].append([review, score])\n",
        "    #Shuffling train data\n",
        "    np.random.shuffle(data[\"train\"])        \n",
        "    data[\"train\"] = pd.DataFrame(data[\"train\"],\n",
        "                                 columns=['text', 'sentiment'])\n",
        "     #Shuffling test data\n",
        "    np.random.shuffle(data[\"test\"])\n",
        "    data[\"test\"] = pd.DataFrame(data[\"test\"],\n",
        "                                columns=['text', 'sentiment'])\n",
        "    return data[\"train\"], data[\"test\"] "
      ]
    },
    {
      "cell_type": "code",
      "execution_count": null,
      "metadata": {
        "id": "e24yg57QX_Lt"
      },
      "outputs": [],
      "source": [
        "# Loading the data into train,test\n",
        "train_data, test_data = load_train_test_imdb_data(\n",
        "    data_dir=\"aclImdb/\")"
      ]
    },
    {
      "cell_type": "code",
      "execution_count": null,
      "metadata": {
        "colab": {
          "base_uri": "https://localhost:8080/"
        },
        "id": "F5wxy_n3YAnu",
        "outputId": "b335a5eb-05f5-43cf-e443-1e274d9e50bb"
      },
      "outputs": [
        {
          "data": {
            "text/plain": [
              "495"
            ]
          },
          "execution_count": 14,
          "metadata": {},
          "output_type": "execute_result"
        }
      ],
      "source": [
        "#Combining them together\n",
        "newdf=pd.concat([train_data,test_data],ignore_index=True)\n",
        "newdf=newdf[0:1000]\n",
        "newdf.sentiment.sum()"
      ]
    },
    {
      "cell_type": "markdown",
      "metadata": {
        "id": "pFSYQ5pwm8wQ"
      },
      "source": [
        "##### Preprocessing + Learning Curves Function"
      ]
    },
    {
      "cell_type": "code",
      "execution_count": null,
      "metadata": {
        "colab": {
          "base_uri": "https://localhost:8080/"
        },
        "id": "wBAIem_vYCG3",
        "outputId": "18bd0af6-f6fc-49d1-a5e0-d23fa1c7c837"
      },
      "outputs": [
        {
          "name": "stdout",
          "output_type": "stream",
          "text": [
            "Train length 700\n",
            "Dev length 120\n",
            "Test length 180\n"
          ]
        }
      ],
      "source": [
        "#Splitting our dataset into train & test\n",
        "X_train,X_val = train_test_split(newdf,train_size=0.7,random_state=1)\n",
        "\n",
        "#Splitting our test set into dev & test \n",
        "X_dev,X_test= train_test_split(X_val, test_size =  0.6 ,random_state=1)\n",
        "\n",
        "#Checking lengths\n",
        "print('Train length',X_train.shape[0])\n",
        "print('Dev length',X_dev.shape[0])\n",
        "print('Test length',X_test.shape[0])"
      ]
    },
    {
      "cell_type": "code",
      "execution_count": null,
      "metadata": {
        "colab": {
          "base_uri": "https://localhost:8080/"
        },
        "id": "SO_8RmraYENy",
        "outputId": "44f49714-3fe3-4b51-f516-d67cd30ba7be"
      },
      "outputs": [
        {
          "name": "stdout",
          "output_type": "stream",
          "text": [
            "We have an average of  167 words per review for the train set.\n"
          ]
        }
      ],
      "source": [
        "#Average train document length\n",
        "X_train['countWords'] = newdf.text.str.count(' ') + 1\n",
        "average=X_train.countWords.sum()/len(newdf)\n",
        "print('We have an average of ',round(average),'words per review for the train set.')"
      ]
    },
    {
      "cell_type": "code",
      "execution_count": null,
      "metadata": {
        "colab": {
          "base_uri": "https://localhost:8080/"
        },
        "id": "cjiuxaKh8m0v",
        "outputId": "f88546a4-2356-4ce2-f52c-8b5b8d56bde4"
      },
      "outputs": [
        {
          "name": "stdout",
          "output_type": "stream",
          "text": [
            "The max sequence length is : 1007\n"
          ]
        }
      ],
      "source": [
        "MAX_SEQUENCE_LENGTH = max(X_train.countWords)\n",
        "print('The max sequence length is :', MAX_SEQUENCE_LENGTH )"
      ]
    },
    {
      "cell_type": "code",
      "execution_count": null,
      "metadata": {
        "id": "bRhDwX-FYGI4"
      },
      "outputs": [],
      "source": [
        "#Init lemmatizer\n",
        "lemmzer = WordNetLemmatizer() "
      ]
    },
    {
      "cell_type": "code",
      "execution_count": null,
      "metadata": {
        "id": "gz8q7lgWYH22"
      },
      "outputs": [],
      "source": [
        "#Preprocessing Function\n",
        "def prep(corpus): # fun to preprocess the corpus # allagi \n",
        "  corpus= corpus.apply(lambda x:x.lower()) #Lowercase\n",
        "  corpus= corpus.apply(lambda x:re.sub(r'<.*?>', ' ', x)) #Remove html tags\n",
        "  corpus= corpus.apply(lambda x: re.sub(r'\\W', ' ', str(x))) #Remove punctuation\n",
        "  corpus= corpus.apply(lambda x:re.sub('\\d+', ' ', x)) #Remove numbers\n",
        "  corpus= corpus.apply(lambda x:re.sub(r'\\s+[a-zA-Z]\\s+', ' ', x)) #Remove single characters\n",
        "  corpus= corpus.apply(lambda x:re.sub(r'\\s+', ' ',x)) #Remove multiple spaces\n",
        "  corpus= corpus.apply(lambda x:[lemmzer.lemmatize(word) for word in x.split()]) #Running Lemmatizer by splitting the sentences into words\n",
        "  corpus= corpus.apply(lambda x:' '.join(x)) #Re-forming the previously split sentences\n",
        "  return corpus"
      ]
    },
    {
      "cell_type": "code",
      "execution_count": null,
      "metadata": {
        "id": "tTmub8nNYJUM"
      },
      "outputs": [],
      "source": [
        "#Running prep on our dataset\n",
        "X_train.text=prep(X_train.text)\n",
        "X_dev.text=prep(X_dev.text)\n",
        "X_test.text = prep(X_test.text)\n",
        "\n",
        "#Renaming our target values\n",
        "y_train = X_train.sentiment\n",
        "y_dev = X_dev.sentiment\n",
        "y_test = X_test.sentiment"
      ]
    },
    {
      "cell_type": "code",
      "execution_count": null,
      "metadata": {
        "id": "DuiYl6mRze99"
      },
      "outputs": [],
      "source": [
        "#Dataframe with train and dev data for our Grid Search\n",
        "param=pd.concat([X_train,X_dev],axis=0)\n",
        "y_param=param.sentiment"
      ]
    },
    {
      "cell_type": "code",
      "execution_count": null,
      "metadata": {
        "id": "s2Vq8Q_Z9_ts"
      },
      "outputs": [],
      "source": [
        "import spacy\n",
        "from spacy.lang.en.stop_words import STOP_WORDS\n",
        "\n",
        "nlp = spacy.load('en_core_web_sm',disable=[\"tagger\", \"parser\",\"ner\"])\n",
        "nlp.add_pipe(nlp.create_pipe('sentencizer')) \n",
        "\n",
        "def tokenize_samples(samples):\n",
        "  \n",
        "  tokenized_samples = []\n",
        "  for i in samples.index:\n",
        "    doc = nlp(samples[i])  # Tokenize the sample into sentences\n",
        "    tokens = []\n",
        "    for sent in doc.sents:\n",
        "      for tok in sent:  # Iterate through the words of the sentence\n",
        "        if '\\n' in tok.text or \"\\t\" in tok.text or \"--\" in tok.text or \"*\" in tok.text or tok.text.lower() in STOP_WORDS:\n",
        "          continue\n",
        "        if tok.text.strip():  \n",
        "          tokens.append(tok.text.replace('\"',\"'\").strip())\n",
        "    tokenized_samples.append(tokens)\n",
        "\n",
        "  return tokenized_samples\n",
        "\n",
        "X_train_tokenized = tokenize_samples(X_train.text)\n",
        "X_dev_tokenized = tokenize_samples(X_dev.text)\n",
        "X_test_tokenized = tokenize_samples(X_test.text)\n",
        "param_tokenized=tokenize_samples(param.text) "
      ]
    },
    {
      "cell_type": "code",
      "execution_count": null,
      "metadata": {
        "id": "dmePGRRml-YS"
      },
      "outputs": [],
      "source": [
        "import tensorflow as tf\n",
        "from tensorflow.keras.preprocessing.text import Tokenizer\n",
        "from tensorflow.keras.preprocessing.sequence import pad_sequences\n",
        "\n",
        "MAX_WORDS = 500 \n",
        "MAX_SEQUENCE_LENGTH = 50 \n",
        "EMBEDDING_DIM = fasttext_embed.shape[1]\n",
        "\n",
        "# Init tokenizer\n",
        "tokenizer = Tokenizer(num_words=MAX_WORDS, oov_token='__UNK__')\n",
        "# num_words: the maximum number of words to keep, based on word frequency.\n",
        "# oov_token: will be used to replace OOV WORDS\n",
        "\n",
        "# Fit tokenizer (Updates internal vocabulary based on a list of texts.)\n",
        "tokenizer.fit_on_texts([\" \".join(x) for x in X_train_tokenized])\n",
        "\n",
        "# Converts text to sequences of IDs\n",
        "train_seqs = tokenizer.texts_to_sequences([\" \".join(x) for x in X_train_tokenized])\n",
        "dev_seqs = tokenizer.texts_to_sequences([\" \".join(x) for x in X_dev_tokenized])\n",
        "param_seqs = tokenizer.texts_to_sequences([\" \".join(x) for x in param_tokenized])\n",
        "\n",
        "\n",
        "\n",
        "train_data = pad_sequences(train_seqs, maxlen=MAX_SEQUENCE_LENGTH, padding='post')\n",
        "dev_data = pad_sequences(dev_seqs, maxlen=MAX_SEQUENCE_LENGTH, padding='post')\n",
        "\n",
        "param_data = pad_sequences(param_seqs, maxlen=MAX_SEQUENCE_LENGTH, padding='post') "
      ]
    },
    {
      "cell_type": "code",
      "execution_count": null,
      "metadata": {
        "id": "jjGMcF1pmEZv"
      },
      "outputs": [],
      "source": [
        "test_seqs = tokenizer.texts_to_sequences([\" \".join(x) for x in X_test_tokenized])\n",
        "test_data = pad_sequences(test_seqs, maxlen=MAX_SEQUENCE_LENGTH, padding='post') "
      ]
    },
    {
      "cell_type": "code",
      "execution_count": null,
      "metadata": {
        "id": "ojbZmzD73vZR"
      },
      "outputs": [],
      "source": [
        "# from sklearn.decomposition import PCA, TruncatedSVD\n",
        "\n",
        "# # Dimensionality Reduction using SVD\n",
        "# svd = TruncatedSVD(n_components=250, random_state=4321)\n",
        "# x_train_trunc = svd.fit_transform(train_data)\n",
        "# x_dev_trunc = svd.fit_transform(dev_data)\n",
        "# x_param_trunc = svd.fit_transform(param_data)\n",
        "# x_test_trunc = svd.fit_transform(test_data)"
      ]
    },
    {
      "cell_type": "code",
      "execution_count": null,
      "metadata": {
        "colab": {
          "base_uri": "https://localhost:8080/"
        },
        "id": "BrcDEjdJmF-C",
        "outputId": "85e41c47-f36e-44cd-82b3-857fc1a80338"
      },
      "outputs": [
        {
          "name": "stdout",
          "output_type": "stream",
          "text": [
            "Found 13111 unique tokens.\n",
            "\n",
            "{'__UNK__': 1, 'movie': 2, 'wa': 3, 'film': 4, 'like': 5, 'ha': 6, 'time': 7, 'good': 8, 'character': 9, 'story': 10, 'scene': 11, 'great': 12, 'life': 13, 'bad': 14, 'people': 15, 'way': 16, 'don': 17, 'think': 18, 'thing': 19, 'love': 20, 'watch': 21, 'acting': 22, 'know': 23, 'actor': 24, 'little': 25, 'look': 26, 'seen': 27, 'end': 28, 'best': 29, 'doe': 30, 'plot': 31, 'work': 32, 'better': 33, 'm': 34, 'man': 35, 'lot': 36, 'find': 37, 'year': 38, 'come': 39, 'role': 40, 'watching': 41, 'director': 42, 'want': 43, 'real': 44, 've': 45, 'new': 46, 'performance': 47, 'guy': 48, 'going': 49, 'got': 50, 'didn': 51, 'funny': 52, 'woman': 53, 'isn': 54, 'doesn': 55, 'u': 56, 'play': 57, 'fan': 58, 'world': 59, 'feel': 60, 'right': 61, 'cast': 62, 'thought': 63, 'star': 64, 'old': 65, 'girl': 66, 'actually': 67, 'action': 68, 'pretty': 69, 'point': 70, 'child': 71, 'day': 72, 'big': 73, 'fact': 74, 'minute': 75, 'try': 76, 'set': 77, 'friend': 78, 'moment': 79, 'let': 80, 'effect': 81, 'kind': 82, 'young': 83, 'music': 84, 'original': 85, 'comedy': 86, 'horror': 87, 'interesting': 88, 'shot': 89, 'start': 90, 'especially': 91, 'fun': 92, 'script': 93, 'line': 94, 'turn': 95, 'looking': 96, 'long': 97, 'place': 98, 'family': 99, 'audience': 100, 'making': 101, 'found': 102, 'mean': 103, 'll': 104, 'dvd': 105, 'saw': 106, 'away': 107, 'probably': 108, 'worth': 109, 'ending': 110, 'screen': 111, 'book': 112, 'different': 113, 'bit': 114, 'kid': 115, 'series': 116, 'course': 117, 'idea': 118, 'worst': 119, 'sure': 120, 'tv': 121, 'reason': 122, 'far': 123, 'true': 124, 'american': 125, 'maybe': 126, 'high': 127, 'hard': 128, 'version': 129, 'war': 130, 'watched': 131, 'need': 132, 'special': 133, 'money': 134, 'sense': 135, 'black': 136, 'left': 137, 'having': 138, 'short': 139, 'played': 140, 'believe': 141, 'wife': 142, 'job': 143, 'second': 144, 'dead': 145, 'trying': 146, 'said': 147, 'poor': 148, 'read': 149, 'given': 150, 'men': 151, 'simply': 152, 'help': 153, 'seeing': 154, 'problem': 155, 'death': 156, 'viewer': 157, 'definitely': 158, 'later': 159, 'instead': 160, 'lead': 161, 'mind': 162, 'truly': 163, 'hand': 164, 'eye': 165, 'writer': 166, 'house': 167, 'art': 168, 'wrong': 169, 'half': 170, 'piece': 171, 'style': 172, 'john': 173, 'le': 174, 'completely': 175, 'tell': 176, 'excellent': 177, 'classic': 178, 'town': 179, 'hope': 180, 'night': 181, 'hour': 182, 'killer': 183, 'main': 184, 'sound': 185, 'sort': 186, 'father': 187, 'recommend': 188, 'beautiful': 189, 'nice': 190, 'came': 191, 'song': 192, 'wasn': 193, 'finally': 194, 'd': 195, 'couldn': 196, 'live': 197, 'felt': 198, 'level': 199, 'home': 200, 'camera': 201, 'use': 202, 'run': 203, 'fall': 204, 'understand': 205, 'fight': 206, 'enjoy': 207, 'joke': 208, 'awful': 209, 'production': 210, 'attempt': 211, 'budget': 212, 'loved': 213, 'episode': 214, 'harry': 215, 'case': 216, 'boring': 217, 'supposed': 218, 'brother': 219, 'event': 220, 'worse': 221, 'amazing': 222, 'won': 223, 'despite': 224, 'unfortunately': 225, 'school': 226, 'king': 227, 'flick': 228, 'waste': 229, 'michael': 230, 'sex': 231, 'cut': 232, 'entertaining': 233, 'overall': 234, 'begin': 235, 'getting': 236, 'oh': 237, 'video': 238, 'dream': 239, 'cinema': 240, 'remember': 241, 'rest': 242, 'early': 243, 'absolutely': 244, 'rock': 245, 'couple': 246, 'human': 247, 'face': 248, 'playing': 249, 'boy': 250, 'actress': 251, 'head': 252, 'mr': 253, 'lack': 254, 'low': 255, 'sequence': 256, 'son': 257, 'today': 258, 'act': 259, 'white': 260, 'gore': 261, 'laugh': 262, 'yes': 263, 'talent': 264, 'highly': 265, 'fine': 266, 'review': 267, 'called': 268, 'word': 269, 'street': 270, 'huge': 271, 'writing': 272, 'went': 273, 'evil': 274, 'twist': 275, 'zombie': 276, 'feature': 277, 'comment': 278, 'example': 279, 'feeling': 280, 'title': 281, 'written': 282, 'lee': 283, 'save': 284, 'direction': 285, 'person': 286, 'final': 287, 'quality': 288, 'relationship': 289, 'voice': 290, 'lame': 291, 'change': 292, 'genre': 293, 'game': 294, 'guess': 295, 'based': 296, 'certainly': 297, 'effort': 298, 's': 299, 'jack': 300, 'wish': 301, 'directed': 302, 'heart': 303, 'liked': 304, 'hollywood': 305, 'able': 306, 'career': 307, 'decent': 308, 'care': 309, 'perfect': 310, 'type': 311, 'past': 312, 'running': 313, 'terrible': 314, 'living': 315, 'add': 316, 'slow': 317, 'history': 318, 'meet': 319, 'stuff': 320, 'hero': 321, 'thinking': 322, 'small': 323, 'wonder': 324, 'ben': 325, 'horrible': 326, 'god': 327, 'talking': 328, 'female': 329, 'entire': 330, 'picture': 331, 'age': 332, 'check': 333, 'happens': 334, 'wonderful': 335, 'favorite': 336, 'break': 337, 'totally': 338, 'wouldn': 339, 'hit': 340, 'killed': 341, 'novel': 342, 'particularly': 343, 'crap': 344, 'drama': 345, 'open': 346, 'theme': 347, 'stand': 348, 'oscar': 349, 'local': 350, 'beginning': 351, 'cop': 352, 'stop': 353, 'city': 354, 'etc': 355, 'documentary': 356, 'view': 357, 'monster': 358, 'order': 359, 'expect': 360, 'violence': 361, 'kill': 362, 'soon': 363, 'deal': 364, 'strange': 365, 'german': 366, 'power': 367, 'dialogue': 368, 'secret': 369, 'class': 370, 'stupid': 371, 'seriously': 372, 'wanted': 373, 'happy': 374, 'joe': 375, 'country': 376, 'matter': 377, 'hear': 378, 'body': 379, 'possible': 380, 'spoiler': 381, 'sad': 382, 'daughter': 383, 'band': 384, 'apparently': 385, 'interest': 386, 'cartoon': 387, 'victim': 388, 'police': 389, 'coming': 390, 'gave': 391, 'brilliant': 392, 'leave': 393, 'rating': 394, 'cheesy': 395, 'strong': 396, 'blood': 397, 'soldier': 398, 'took': 399, 'major': 400, 'mention': 401, 'light': 402, 'close': 403, 'dark': 404, 'opening': 405, 'convincing': 406, 'mother': 407, 'element': 408, 'shame': 409, 'disappointed': 410, 'chance': 411, 'number': 412, 'member': 413, 'enjoyed': 414, 'annoying': 415, 'richard': 416, 'easy': 417, 'known': 418, 'usual': 419, 'york': 420, 'team': 421, 'happened': 422, 'reality': 423, 'near': 424, 'told': 425, 'peter': 426, 'return': 427, 'ridiculous': 428, 'issue': 429, 'lost': 430, 'sister': 431, 'shown': 432, 'room': 433, 'result': 434, 'taking': 435, 'extremely': 436, 'success': 437, 'surprise': 438, 'fast': 439, 'filmmaker': 440, 'thriller': 441, 'somewhat': 442, 'sequel': 443, 'british': 444, 'single': 445, 'car': 446, 'giving': 447, 'husband': 448, 'straight': 449, 'comic': 450, 'poorly': 451, 'follow': 452, 'question': 453, 'hilarious': 454, 'moving': 455, 'french': 456, 'complete': 457, 'value': 458, 'quickly': 459, 'girlfriend': 460, 'hell': 461, 'okay': 462, 'sci': 463, 'fi': 464, 'self': 465, 'dramatic': 466, 'artist': 467, 'copy': 468, 'theater': 469, 'cinematography': 470, 'robert': 471, 'saying': 472, 'revenge': 473, 'dog': 474, 'bring': 475, 'storyline': 476, 'doubt': 477, 'baby': 478, 'pilot': 479, 'simple': 480, 'murder': 481, 'looked': 482, 'turned': 483, 'george': 484, 'mary': 485, 'forced': 486, 'cheap': 487, 'talented': 488, 'named': 489, 'bruce': 490, 'musical': 491, 'segment': 492, 'weak': 493, 'animal': 494, 'showing': 495, 'filmed': 496, 'obvious': 497, 'ghost': 498, 'society': 499, 'middle': 500, 'italian': 501, 'large': 502, 'non': 503, 'talk': 504, 'attention': 505, 'james': 506, 'producer': 507, 'setting': 508, 'released': 509, 'david': 510, 'award': 511, 'note': 512, 'premise': 513, 'buy': 514, 'image': 515, 'super': 516, 'typical': 517, 'usually': 518, 'walk': 519, 'taken': 520, 'ago': 521, 'expected': 522, 'clear': 523, 'average': 524, 'bunch': 525, 'obviously': 526, 'aren': 527, 'battle': 528, 'material': 529, 'soundtrack': 530, 'pace': 531, 'clever': 532, 'nudity': 533, 'extra': 534, 'flashback': 535, 'situation': 536, 'mystery': 537, 'ok': 538, 'predictable': 539, 'write': 540, 'jump': 541, 'heard': 542, 'eventually': 543, 'killing': 544, 'experience': 545, 'lady': 546, 'miss': 547, 'tried': 548, 'wood': 549, 'answer': 550, 'message': 551, 'including': 552, 'personal': 553, 'minor': 554, 'christian': 555, 'editing': 556, 'entertainment': 557, 'sorry': 558, 'remake': 559, 'credit': 560, 'dirty': 561, 'powerful': 562, 'exception': 563, 'form': 564, 'atmosphere': 565, 'memory': 566, 'opinion': 567, 'working': 568, 'release': 569, 'steve': 570, 'lover': 571, 'offer': 572, 'believable': 573, 'dance': 574, 'create': 575, 'crime': 576, 'earlier': 577, 'culture': 578, 'acted': 579, 'late': 580, 'cold': 581, 'group': 582, 'dialog': 583, 'aspect': 584, 'reading': 585, 'learn': 586, 'score': 587, 'haven': 588, 'future': 589, 'english': 590, 'billy': 591, 'difficult': 592, 'emotional': 593, 'started': 594, 'tale': 595, 'attack': 596, 'al': 597, 'blob': 598, 'tom': 599, 'brought': 600, 'supporting': 601, 'box': 602, 'nightmare': 603, 'basically': 604, 'detail': 605, 'student': 606, 'fighting': 607, 'male': 608, 'exactly': 609, 'stephen': 610, 'hate': 611, 'older': 612, 'gay': 613, 'impact': 614, 'easily': 615, 'critic': 616, 'television': 617, 'america': 618, 'prison': 619, 'basic': 620, 'clearly': 621, 'hold': 622, 'involved': 623, 'jackson': 624, 'disney': 625, 'adult': 626, 'island': 627, 'win': 628, 'interested': 629, 'knew': 630, 'porn': 631, 'th': 632, 'teen': 633, 'suspense': 634, 'nearly': 635, 'climax': 636, 'silly': 637, 'appears': 638, 'post': 639, 'martial': 640, 'ring': 641, 'cry': 642, 'plus': 643, 'forever': 644, 'paul': 645, 'potential': 646, 'recently': 647, 'color': 648, 'present': 649, 'followed': 650, 'force': 651, 'sit': 652, 'focus': 653, 'scott': 654, 'modern': 655, 'leading': 656, 'fellow': 657, 'worked': 658, 'famous': 659, 'absolute': 660, 'sam': 661, 'admit': 662, 'stay': 663, 'channel': 664, 'background': 665, 'realize': 666, 'throw': 667, 'page': 668, 'successful': 669, 'concept': 670, 'club': 671, 'sadly': 672, 'nt': 673, 'freddy': 674, 'alien': 675, 'blue': 676, 'yeah': 677, 'gone': 678, 'cause': 679, 'hair': 680, 'nature': 681, 'deserves': 682, 'parent': 683, 'standard': 684, 'happen': 685, 'wow': 686, 'decided': 687, 'inside': 688, 'mentioned': 689, 'company': 690, 'die': 691, 'slasher': 692, 'surprised': 693, 'earth': 694, 'eastwood': 695, 'cool': 696, 'criminal': 697, 'dr': 698, 'ex': 699, 'viewing': 700, 'kept': 701, 'meant': 702, 'total': 703, 'race': 704, 'adam': 705, 'unique': 706, 'scary': 707, 'studio': 708, 'alive': 709, 'fantasy': 710, 'enjoyable': 711, 'cameo': 712, 'de': 713, 'truth': 714, 'million': 715, 'figure': 716, 'state': 717, 'list': 718, 'chris': 719, 'pick': 720, 'appeal': 721, 'mark': 722, 'trouble': 723, 'period': 724, 'perfectly': 725, 'zero': 726, 'general': 727, 'academy': 728, 'humor': 729, 'free': 730, 'era': 731, 'stick': 732, 'creepy': 733, 'ahead': 734, 'similar': 735, 'location': 736, 'particular': 737, 'charlie': 738, 'business': 739, 'meaning': 740, 'horse': 741, 'bud': 742, 'build': 743, 'masterpiece': 744, 'crazy': 745, 'tough': 746, 'incredible': 747, 'pathetic': 748, 'solid': 749, 'wave': 750, 'unbelievable': 751, 'generally': 752, 'screenplay': 753, 'greatest': 754, 'plane': 755, 'thanks': 756, 'dull': 757, 'maker': 758, 'energy': 759, 'step': 760, 'serial': 761, 'fantastic': 762, 'space': 763, 'animation': 764, 'tear': 765, 'subject': 766, 'pure': 767, 'possibly': 768, 'singing': 769, 'gag': 770, 'suppose': 771, 'superb': 772, 'decides': 773, 'violent': 774, 'canadian': 775, 'apart': 776, 'forget': 777, 'william': 778, 'leaf': 779, 'accent': 780, 'rich': 781, 'plan': 782, 'difference': 783, 'shoot': 784, 'exciting': 785, 'dancing': 786, 'emotion': 787, 'narrative': 788, 'presence': 789, 'merely': 790, 'portrayal': 791, 'finish': 792, 'project': 793, 'forward': 794, 'mirror': 795, 'brings': 796, 'co': 797, 'sick': 798, 'appear': 799, 'jones': 800, 'door': 801, 'law': 802, 'villain': 803, 'ended': 804, 'missing': 805, 'needed': 806, 'rate': 807, 'south': 808, 'frank': 809, 'common': 810, 'cute': 811, 'wrote': 812, 'missed': 813, 'escape': 814, 'albert': 815, 'younger': 816, 'wait': 817, 'adventure': 818, 'memorable': 819, 'finding': 820, 'finished': 821, 'shooting': 822, 'appearance': 823, 'sweet': 824, 'important': 825, 'season': 826, 'development': 827, 'certain': 828, 'jerry': 829, 'expectation': 830, 'sissy': 831, 'justice': 832, 'superman': 833, 'chase': 834, 'coffy': 835, 'bored': 836, 'fully': 837, 'respect': 838, 'married': 839, 'trash': 840, 'mood': 841, 'spirit': 842, 'footage': 843, 'teenager': 844, 'board': 845, 'ship': 846, 'pay': 847, 'consider': 848, 'knowing': 849, 'kelly': 850, 'martin': 851, 'heaven': 852, 'sub': 853, 'attitude': 854, 'pain': 855, 'social': 856, 'unknown': 857, 'awesome': 858, 'rated': 859, 'steal': 860, 'utterly': 861, 'casting': 862, 'failed': 863, 'cover': 864, 'dollar': 865, 'romantic': 866, 'directing': 867, 'desire': 868, 'recommended': 869, 'fashion': 870, 'western': 871, 'military': 872, 'scream': 873, 'la': 874, 'impressive': 875, 'bought': 876, 'tape': 877, 'popular': 878, 'created': 879, 'unlike': 880, 'round': 881, 'stage': 882, 'dumb': 883, 'photography': 884, 'gary': 885, 'angel': 886, 'garbage': 887, 'air': 888, 'avoid': 889, 'fails': 890, 'visual': 891, 'office': 892, 'trailer': 893, 'mouth': 894, 'seagal': 895, 'master': 896, 'imagine': 897, 'giant': 898, 'lie': 899, 'logic': 900, 'positive': 901, 'sexual': 902, 'deep': 903, 'term': 904, 'tension': 905, 'bear': 906, 'gun': 907, 'beauty': 908, 'plenty': 909, 'sight': 910, 'clean': 911, 'starring': 912, 'christopher': 913, 'excuse': 914, 'produce': 915, 'charm': 916, 'theatre': 917, 'nonsense': 918, 'fit': 919, 'ray': 920, 'scare': 921, 'psycho': 922, 'adaptation': 923, 'choice': 924, 'incredibly': 925, 'language': 926, 'japanese': 927, 'independent': 928, 'weird': 929, 'chemistry': 930, 'length': 931, 'drawn': 932, 'paid': 933, 'spent': 934, 'longer': 935, 'edge': 936, 'tone': 937, 'party': 938, 'plain': 939, 'drive': 940, 'store': 941, 'pull': 942, 'thoroughly': 943, 'showed': 944, 'player': 945, 'protagonist': 946, 'lion': 947, 'romance': 948, 'church': 949, 'pam': 950, 'morris': 951, 'childhood': 952, 'drug': 953, 'shin': 954, 'ae': 955, 'sandler': 956, 'telling': 957, 'lighting': 958, 'impossible': 959, 'interview': 960, 'mess': 961, 'water': 962, 'sudden': 963, 'purpose': 964, 'central': 965, 'dozen': 966, 'entirely': 967, 'ability': 968, 'yeti': 969, 'cinematic': 970, 'ready': 971, 'follows': 972, 'pop': 973, 'delivered': 974, 'following': 975, 'disappointing': 976, 'opportunity': 977, 'computer': 978, 'previous': 979, 'deserved': 980, 'normal': 981, 'genius': 982, 'stuck': 983, 'rent': 984, 'immediately': 985, 'fairly': 986, 'college': 987, 'industry': 988, 'witness': 989, 'actual': 990, 'approach': 991, 'lovely': 992, 'laughing': 993, 'bet': 994, 'stone': 995, 'hotel': 996, 'red': 997, 'amateur': 998, 'manages': 999, 'hot': 1000, 'search': 1001, 'government': 1002, 'fire': 1003, 'extreme': 1004, 'tragic': 1005, 'road': 1006, 'thousand': 1007, 'month': 1008, 'recent': 1009, 'building': 1010, 'graphic': 1011, 'gang': 1012, 'natural': 1013, 'intense': 1014, 'painful': 1015, 'involving': 1016, 'beat': 1017, 'wondering': 1018, 'artistic': 1019, 'jenny': 1020, 'asks': 1021, 'filled': 1022, 'draw': 1023, 'commercial': 1024, 'movement': 1025, 'expecting': 1026, 'league': 1027, 'noir': 1028, 'superhero': 1029, 'seven': 1030, 'batman': 1031, 'lumet': 1032, 'portrayed': 1033, 'beautifully': 1034, 'happening': 1035, 'tree': 1036, 'explanation': 1037, 'amusing': 1038, 'price': 1039, 'afraid': 1040, 'smith': 1041, 'mistake': 1042, 'imdb': 1043, 'hole': 1044, 'added': 1045, 'spot': 1046, 'join': 1047, 'contains': 1048, 'grace': 1049, 'touch': 1050, 'ultimately': 1051, 'match': 1052, 'deeply': 1053, 'conclusion': 1054, 'individual': 1055, 'decide': 1056, 'political': 1057, 'badly': 1058, 'considering': 1059, 'walking': 1060, 'singer': 1061, 'flaw': 1062, 'rare': 1063, 'collection': 1064, 'folk': 1065, 'moore': 1066, 'reviewer': 1067, 'taste': 1068, 'ask': 1069, 'warning': 1070, 'williams': 1071, 'deeper': 1072, 'fred': 1073, 'astaire': 1074, 'ginger': 1075, 'sky': 1076, 'jim': 1077, 'clint': 1078, 'window': 1079, 'burt': 1080, 'week': 1081, 'tragedy': 1082, 'physical': 1083, 'sword': 1084, 'highlight': 1085, 'flying': 1086, 'catch': 1087, 'julie': 1088, 'clothes': 1089, 'sunshine': 1090, 'falling': 1091, 'benefit': 1092, 'wooden': 1093, 'absurd': 1094, 'decade': 1095, 'broken': 1096, 'pee': 1097, 'intelligent': 1098, 'worthy': 1099, 'hamilton': 1100, 'jane': 1101, 'chan': 1102, 'cgi': 1103, 'honestly': 1104, 'conflict': 1105, 'ramones': 1106, 'gino': 1107, 'motion': 1108, 'constantly': 1109, 'sign': 1110, 'biggest': 1111, 'effective': 1112, 'legend': 1113, 'report': 1114, 'creature': 1115, 'identity': 1116, 'steven': 1117, 'direct': 1118, 'record': 1119, 'terrific': 1120, 'kinda': 1121, 'depth': 1122, 'twice': 1123, 'marriage': 1124, 'appeared': 1125, 'paced': 1126, 'realistic': 1127, 'matt': 1128, 'wall': 1129, 'stranger': 1130, 'notice': 1131, 'planet': 1132, 'century': 1133, 'rule': 1134, 'slowly': 1135, 'hey': 1136, 'revolution': 1137, 'odd': 1138, 'understanding': 1139, 'skip': 1140, 'hidden': 1141, 'ii': 1142, 'decision': 1143, 'suck': 1144, 'field': 1145, 'kate': 1146, 'appreciate': 1147, 'boyfriend': 1148, 'pair': 1149, 'leg': 1150, 'costume': 1151, 'flat': 1152, 'track': 1153, 'claim': 1154, 'cliché': 1155, 'aside': 1156, 'caught': 1157, 'hoffman': 1158, 'compare': 1159, 'doctor': 1160, 'filming': 1161, 'rape': 1162, 'died': 1163, 'belief': 1164, 'scenario': 1165, 'skill': 1166, 'halloween': 1167, 'majority': 1168, 'sandra': 1169, 'hank': 1170, 'featuring': 1171, 'pointless': 1172, 'statement': 1173, 'moral': 1174, 'campbell': 1175, 'twin': 1176, 'sin': 1177, 'reminds': 1178, 'fu': 1179, 'date': 1180, 'outside': 1181, 'reach': 1182, 'cat': 1183, 'literally': 1184, 'rubbish': 1185, 'quick': 1186, 'food': 1187, 'screaming': 1188, 'barely': 1189, 'vampire': 1190, 'mainly': 1191, 'spend': 1192, 'encounter': 1193, 'joey': 1194, 'roll': 1195, 'cowboy': 1196, 'taylor': 1197, 'gem': 1198, 'tooth': 1199, 'musician': 1200, 'manner': 1201, 'struggle': 1202, 'festival': 1203, 'ho': 1204, 'topic': 1205, 'ratso': 1206, 'touching': 1207, 'engaging': 1208, 'naked': 1209, 'witch': 1210, 'everybody': 1211, 'clue': 1212, 'grade': 1213, 'explain': 1214, 'heavy': 1215, 'perform': 1216, 'ride': 1217, 'jason': 1218, 'cooper': 1219, 'public': 1220, 'eat': 1221, 'buddy': 1222, 'ugly': 1223, 'addition': 1224, 'warner': 1225, 'dreadful': 1226, 'queen': 1227, 'crash': 1228, 'reporter': 1229, 'london': 1230, 'detective': 1231, 'began': 1232, 'presented': 1233, 'park': 1234, 'complex': 1235, 'perspective': 1236, 'aid': 1237, 'provides': 1238, 'epic': 1239, 'bed': 1240, 'intention': 1241, 'claire': 1242, 'suddenly': 1243, 'originally': 1244, 'frame': 1245, 'sitting': 1246, 'surface': 1247, 'pacing': 1248, 'fascinating': 1249, 'national': 1250, 'born': 1251, 'allow': 1252, 'capture': 1253, 'cutting': 1254, 'douglas': 1255, 'foot': 1256, 'kay': 1257, 'dy': 1258, 'random': 1259, 'facing': 1260, 'sport': 1261, 'emotionally': 1262, 'technical': 1263, 'daniel': 1264, 'hardly': 1265, 'rogers': 1266, 'remembered': 1267, 'buck': 1268, 'ruined': 1269, 'callahan': 1270, 'mysterious': 1271, 'bloody': 1272, 'treated': 1273, 'allows': 1274, 'kubrick': 1275, 'discus': 1276, 'somebody': 1277, 'terrifying': 1278, 'animated': 1279, 'wake': 1280, 'soft': 1281, 'loose': 1282, 'candy': 1283, 'fox': 1284, 'semi': 1285, 'limited': 1286, 'expression': 1287, 'kick': 1288, 'opera': 1289, 'lifetime': 1290, 'mad': 1291, 'lynch': 1292, 'magic': 1293, 'soul': 1294, 'winning': 1295, 'dad': 1296, 'support': 1297, 'failure': 1298, 'kung': 1299, 'display': 1300, 'fat': 1301, 'control': 1302, 'news': 1303, 'wearing': 1304, 'bos': 1305, 'bill': 1306, 'scarecrow': 1307, 'ground': 1308, 'train': 1309, 'reference': 1310, 'affair': 1311, 'hurt': 1312, 'design': 1313, 'walken': 1314, 'familiar': 1315, 'cross': 1316, 'gorgeous': 1317, 'fear': 1318, 'partner': 1319, 'slightly': 1320, 'pal': 1321, 'sinatra': 1322, 'survive': 1323, 'massive': 1324, 'bettie': 1325, 'content': 1326, 'hines': 1327, 'mouse': 1328, 'lewis': 1329, 'falk': 1330, 'fay': 1331, 'fairy': 1332, 'spanish': 1333, 'coburn': 1334, 'heroine': 1335, 'heston': 1336, 'liliom': 1337, 'thrill': 1338, 'involvement': 1339, 'mountain': 1340, 'anthony': 1341, 'thank': 1342, 'cost': 1343, 'performer': 1344, 'grim': 1345, 'exploitation': 1346, 'native': 1347, 'performed': 1348, 'normally': 1349, 'pas': 1350, 'bother': 1351, 'fell': 1352, 'fair': 1353, 'tired': 1354, 'na': 1355, 'shop': 1356, 'loud': 1357, 'compared': 1358, 'seek': 1359, 'spielberg': 1360, 'lucky': 1361, 'managed': 1362, 'murderer': 1363, 'favourite': 1364, 'ford': 1365, 'danny': 1366, 'surrounding': 1367, 'cult': 1368, 'remains': 1369, 'brook': 1370, 'magnificent': 1371, 'warrior': 1372, 'anymore': 1373, 'practically': 1374, 'yard': 1375, 'hoping': 1376, 'pride': 1377, 'hearing': 1378, 'lose': 1379, 'gotten': 1380, 'mediocre': 1381, 'knife': 1382, 'research': 1383, 'describe': 1384, 'compelling': 1385, 'mixed': 1386, 'damn': 1387, 'intended': 1388, 'san': 1389, 'howard': 1390, 'disgusting': 1391, 'prove': 1392, 'changed': 1393, 'intriguing': 1394, 'explained': 1395, 'comedian': 1396, 'medium': 1397, 'harsh': 1398, 'spy': 1399, 'fill': 1400, 'watchable': 1401, 'par': 1402, 'fool': 1403, 'flow': 1404, 'morning': 1405, 'grave': 1406, 'bar': 1407, 'land': 1408, 'honest': 1409, 'confused': 1410, 'subtle': 1411, 'stopped': 1412, 'dentist': 1413, 'loses': 1414, 'dying': 1415, 'speak': 1416, 'likely': 1417, 'clown': 1418, 'till': 1419, 'moon': 1420, 'section': 1421, 'insight': 1422, 'wasted': 1423, 'speaking': 1424, 'strength': 1425, 'radio': 1426, 'maria': 1427, 'enjoyment': 1428, 'visuals': 1429, 'count': 1430, 'interaction': 1431, 'davis': 1432, 'terribly': 1433, 'forgotten': 1434, 'personality': 1435, 'curious': 1436, 'aware': 1437, 'worker': 1438, 'cage': 1439, 'professor': 1440, 'wilson': 1441, 'lord': 1442, 'held': 1443, 'existence': 1444, 'disturbing': 1445, 'concert': 1446, 'whatsoever': 1447, 'funniest': 1448, 'nail': 1449, 'print': 1450, 'casper': 1451, 'sharon': 1452, 'kong': 1453, 'wear': 1454, 'shakespeare': 1455, 'anton': 1456, 'uncle': 1457, 'fruit': 1458, 'jong': 1459, 'elvira': 1460, 'loser': 1461, 'picked': 1462, 'moved': 1463, 'trust': 1464, 'blair': 1465, 'laughed': 1466, 'accurate': 1467, 'lived': 1468, 'expert': 1469, 'crew': 1470, 'elm': 1471, 'surprisingly': 1472, 'v': 1473, 'owner': 1474, 'arnold': 1475, 'johnny': 1476, 'depressing': 1477, 'gon': 1478, 'helping': 1479, 'impression': 1480, 'official': 1481, 'welcome': 1482, 'supposedly': 1483, 'punk': 1484, 'travel': 1485, 'bothered': 1486, 'ordinary': 1487, 'subtitle': 1488, 'combined': 1489, 'exceptional': 1490, 'fitting': 1491, 'ed': 1492, 'dressed': 1493, 'pleasure': 1494, 'bob': 1495, 'personally': 1496, 'briefly': 1497, 'texas': 1498, 'poignant': 1499, 'anti': 1500, 'according': 1501, 'nazi': 1502, 'suggest': 1503, 'green': 1504, 'fabulous': 1505, 'torture': 1506, 'burning': 1507, 'profound': 1508, 'center': 1509, 'correct': 1510, 'scrooge': 1511, 'christmas': 1512, 'dragon': 1513, 'directs': 1514, 'raise': 1515, 'directly': 1516, 'weren': 1517, 'jesus': 1518, 'hoped': 1519, 'praise': 1520, 'model': 1521, 'citizen': 1522, 'tight': 1523, 'introduced': 1524, 'faced': 1525, 'sexy': 1526, 'superior': 1527, 'treat': 1528, 'monkey': 1529, 'skin': 1530, 'ultimate': 1531, 'summer': 1532, 'brutal': 1533, 'camp': 1534, 'vehicle': 1535, 'key': 1536, 'hadn': 1537, 'exist': 1538, 'surprising': 1539, 'sent': 1540, 'brian': 1541, 'journey': 1542, 'mini': 1543, 'hat': 1544, 'unfortunate': 1545, 'sea': 1546, 'dated': 1547, 'suspect': 1548, 'nyc': 1549, 'photo': 1550, 'village': 1551, 'caused': 1552, 'protect': 1553, 'proper': 1554, 'learns': 1555, 'dealing': 1556, 'bird': 1557, 'officer': 1558, 'formula': 1559, 'pacino': 1560, 'designed': 1561, 'west': 1562, 'mile': 1563, 'community': 1564, 'send': 1565, 'ron': 1566, 'flesh': 1567, 'angle': 1568, 'vision': 1569, 'hall': 1570, 'mid': 1571, 'jimmy': 1572, 'tradition': 1573, 'leaving': 1574, 'blame': 1575, 'terror': 1576, 'truck': 1577, 'grab': 1578, 'horrific': 1579, 'relation': 1580, 'disappointment': 1581, 'france': 1582, 'melodrama': 1583, 'notorious': 1584, 'friendship': 1585, 'technology': 1586, 'beach': 1587, 'accept': 1588, 'include': 1589, 'judge': 1590, 'galactica': 1591, 'thin': 1592, 'spoil': 1593, 'shock': 1594, 'quiet': 1595, 'produced': 1596, 'gory': 1597, 'e': 1598, 'nicholson': 1599, 'necessary': 1600, 'agree': 1601, 'veteran': 1602, 'shirt': 1603, 'paying': 1604, 'suicide': 1605, 'stereotypical': 1606, 'drew': 1607, 'received': 1608, 'department': 1609, 'da': 1610, 'pickford': 1611, 'smile': 1612, 'mike': 1613, 'dare': 1614, 'sell': 1615, 'jennifer': 1616, 'bug': 1617, 'hong': 1618, 'idiot': 1619, 'pound': 1620, 'historical': 1621, 'thurman': 1622, 'met': 1623, 'corleone': 1624, 'alright': 1625, 'interpretation': 1626, 'dangerous': 1627, 'suit': 1628, 'built': 1629, 'standing': 1630, 'unexpected': 1631, 'machine': 1632, 'storytelling': 1633, 'wes': 1634, 'floor': 1635, 'downright': 1636, 'laughable': 1637, 'threw': 1638, 'van': 1639, 'pulled': 1640, 'promise': 1641, 'blockbuster': 1642, 'existent': 1643, 'fresh': 1644, 'teacher': 1645, 'hanging': 1646, 'constant': 1647, 'faster': 1648, 'burn': 1649, 'shoulder': 1650, 'handle': 1651, 'relatively': 1652, 'crappy': 1653, 'teenage': 1654, 'midnight': 1655, 'bizarre': 1656, 'struggling': 1657, 'soviet': 1658, 'roger': 1659, 'chief': 1660, 'tony': 1661, 'photographer': 1662, 'religion': 1663, 'dimension': 1664, 'washington': 1665, 'virtually': 1666, 'portraying': 1667, 'develop': 1668, 'creating': 1669, 'luke': 1670, 'brilliantly': 1671, 'iii': 1672, 'considered': 1673, 't': 1674, 'goldberg': 1675, 'raised': 1676, 'continues': 1677, 'monk': 1678, 'fail': 1679, 'silent': 1680, 'stunning': 1681, 'shallow': 1682, 'craft': 1683, 'holiday': 1684, 'portray': 1685, 'nowadays': 1686, 'oil': 1687, 'broadway': 1688, 'vote': 1689, 'robot': 1690, 'grant': 1691, 'range': 1692, 'russell': 1693, 'lloyd': 1694, 'st': 1695, 'cia': 1696, 'gripping': 1697, 'bbc': 1698, 'helped': 1699, 'beatty': 1700, 'putting': 1701, 'willing': 1702, 'reveals': 1703, 'brief': 1704, 'allowed': 1705, 'fate': 1706, 'description': 1707, 'realized': 1708, 'breast': 1709, 'francisco': 1710, 'entertained': 1711, 'commentary': 1712, 'discovered': 1713, 'survivor': 1714, 'wanting': 1715, 'satire': 1716, 'apartment': 1717, 'bigger': 1718, 'challenge': 1719, 'comical': 1720, 'andrew': 1721, 'guard': 1722, 'army': 1723, 'roy': 1724, 'merit': 1725, 'dancer': 1726, 'boat': 1727, 'load': 1728, 'precious': 1729, 'growing': 1730, 'africa': 1731, 'glad': 1732, 'gas': 1733, 'nasty': 1734, 'wanna': 1735, 'slice': 1736, 'hint': 1737, 'cue': 1738, 'chose': 1739, 'joan': 1740, 'rodney': 1741, 'brown': 1742, 'paper': 1743, 'fake': 1744, 'treatment': 1745, 'saturday': 1746, 'tune': 1747, 'process': 1748, 'teeth': 1749, 'bond': 1750, 'favor': 1751, 'charming': 1752, 'holding': 1753, 'sheer': 1754, 'starting': 1755, 'related': 1756, 'progress': 1757, 'mask': 1758, 'trip': 1759, 'andy': 1760, 'winter': 1761, 'anderson': 1762, 'nathan': 1763, 'stiller': 1764, 'ran': 1765, 'express': 1766, 'awkward': 1767, 'passed': 1768, 'quote': 1769, 'ann': 1770, 'abuse': 1771, 'fault': 1772, 'teach': 1773, 'pasolini': 1774, 'harder': 1775, 'parker': 1776, 'principal': 1777, 'connected': 1778, 'eating': 1779, 'achieve': 1780, 'enigmatic': 1781, 'broke': 1782, 'whilst': 1783, 'purely': 1784, 'marine': 1785, 'ruth': 1786, 'nurse': 1787, 'developed': 1788, 'sake': 1789, 'aunt': 1790, 'forgive': 1791, 'drunk': 1792, 'hyde': 1793, 'hart': 1794, 'stewart': 1795, 'hitler': 1796, 'marvel': 1797, 'stan': 1798, 'ollie': 1799, 'bakshi': 1800, 'rex': 1801, 'attacked': 1802, 'object': 1803, 'weapon': 1804, 'burton': 1805, 'lay': 1806, 'method': 1807, 'argument': 1808, 'code': 1809, 'bourne': 1810, 'von': 1811, 'dick': 1812, 'vigilante': 1813, 'tracy': 1814, 'zizek': 1815, 'panic': 1816, 'convinced': 1817, 'clichés': 1818, 'pregnant': 1819, 'listen': 1820, 'wedding': 1821, 'comparison': 1822, 'walked': 1823, 'wendigo': 1824, 'supernatural': 1825, 'scenery': 1826, 'dean': 1827, 'theatrical': 1828, 'carpenter': 1829, 'thrown': 1830, 'toy': 1831, 'crafted': 1832, 'targeted': 1833, 'asleep': 1834, 'contact': 1835, 'swear': 1836, 'deserve': 1837, 'nut': 1838, 'provoking': 1839, 'jew': 1840, 'weekend': 1841, 'meat': 1842, 'saving': 1843, 'turner': 1844, 'ill': 1845, 'fly': 1846, 'dilemma': 1847, 'nod': 1848, 'realism': 1849, 'scientist': 1850, 'insane': 1851, 'allen': 1852, 'ian': 1853, 'sondra': 1854, 'appreciated': 1855, 'hunter': 1856, 'private': 1857, 'bright': 1858, 'brain': 1859, 'lesson': 1860, 'science': 1861, 'higher': 1862, 'keeping': 1863, 'disease': 1864, 'universe': 1865, 'lucas': 1866, 'inspired': 1867, 'solo': 1868, 'purple': 1869, 'adding': 1870, 'grow': 1871, 'nomination': 1872, 'tall': 1873, 'amazingly': 1874, 'monastery': 1875, 'fiction': 1876, 'frequently': 1877, 'louis': 1878, 'response': 1879, 'reveal': 1880, 'ups': 1881, 'thankfully': 1882, 'slapstick': 1883, 'marry': 1884, 'carrying': 1885, 'impressed': 1886, 'francis': 1887, 'unable': 1888, 'saved': 1889, 'picking': 1890, 'paint': 1891, 'hardcore': 1892, 'crowd': 1893, 'rolling': 1894, 'robin': 1895, 'hide': 1896, 'fame': 1897, 'sean': 1898, 'credible': 1899, 'minded': 1900, 'threatening': 1901, 'huh': 1902, 'basement': 1903, 'chick': 1904, 'refuse': 1905, 'nude': 1906, 'noticed': 1907, 'unnecessary': 1908, 'executed': 1909, 'includes': 1910, 'kevin': 1911, 'metal': 1912, 'hospital': 1913, 'devil': 1914, 'liner': 1915, 'aka': 1916, 'countless': 1917, 'bound': 1918, 'urban': 1919, 'witty': 1920, 'mainstream': 1921, 'handled': 1922, 'erotic': 1923, 'comedic': 1924, 'presumably': 1925, 'blown': 1926, 'complain': 1927, 'credibility': 1928, 'dingo': 1929, 'haunting': 1930, 'program': 1931, 'godfather': 1932, 'ignore': 1933, 'shocking': 1934, 'drag': 1935, 'gordon': 1936, 'nick': 1937, 'nation': 1938, 'rise': 1939, 'whoa': 1940, 'test': 1941, 'sgt': 1942, 'displayed': 1943, 'cash': 1944, 'occasion': 1945, 'hill': 1946, 'funnier': 1947, 'annie': 1948, 'largely': 1949, 'tomlinson': 1950, 'charge': 1951, 'environment': 1952, 'appealing': 1953, 'strongly': 1954, 'overcome': 1955, 'substance': 1956, 'anchorman': 1957, 'station': 1958, 'blind': 1959, 'author': 1960, 'min': 1961, 'area': 1962, 'royal': 1963, 'rendition': 1964, 'market': 1965, 'mob': 1966, 'clark': 1967, 'shared': 1968, 'destruction': 1969, 'agent': 1970, 'reminded': 1971, 'unfunny': 1972, 'porno': 1973, 'lousy': 1974, 'paris': 1975, 'abandoned': 1976, 'rough': 1977, 'bite': 1978, 'training': 1979, 'losing': 1980, 'available': 1981, 'turning': 1982, 'russian': 1983, 'clash': 1984, 'faith': 1985, 'sunny': 1986, 'jr': 1987, 'hasn': 1988, 'described': 1989, 'effectively': 1990, 'primarily': 1991, 'demand': 1992, 'target': 1993, 'lane': 1994, 'captivating': 1995, 'circumstance': 1996, 'serf': 1997, 'network': 1998, 'worry': 1999, 'xica': 2000, 'core': 2001, 'advice': 2002, 'lesbian': 2003, 'delightful': 2004, 'mix': 2005, 'mill': 2006, 'spoiled': 2007, 'courage': 2008, 'striking': 2009, 'underrated': 2010, 'tower': 2011, 'included': 2012, 'ultra': 2013, 'satisfied': 2014, 'arthur': 2015, 'titanic': 2016, 'rip': 2017, 'rookie': 2018, 'football': 2019, 'baseball': 2020, 'offered': 2021, 'likable': 2022, 'professional': 2023, 'ta': 2024, 'obsessed': 2025, 'complaint': 2026, 'confusing': 2027, 'discovers': 2028, 'jean': 2029, 'ego': 2030, 'bore': 2031, 'numerous': 2032, 'gangster': 2033, 'california': 2034, 'share': 2035, 'rider': 2036, 'contrast': 2037, 'henry': 2038, 'underground': 2039, 'combination': 2040, 'versus': 2041, 'promising': 2042, 'prisoner': 2043, 'unusual': 2044, 'germany': 2045, 'boot': 2046, 'criticism': 2047, 'cousin': 2048, 'pit': 2049, 'hunt': 2050, 'creative': 2051, 'knock': 2052, 'vincent': 2053, 'riff': 2054, 'trapped': 2055, 'album': 2056, 'ticket': 2057, 'sing': 2058, 'gut': 2059, 'ireland': 2060, 'rescue': 2061, 'morgan': 2062, 'wendy': 2063, 'marty': 2064, 'blah': 2065, 'kent': 2066, 'sho': 2067, 'christy': 2068, 'mccarthy': 2069, 'reed': 2070, 'blackie': 2071, 'giovanna': 2072, 'stronger': 2073, 'rarely': 2074, 'triumph': 2075, 'capturing': 2076, 'enter': 2077, 'tense': 2078, 'void': 2079, 'letter': 2080, 'theory': 2081, 'bone': 2082, 'convey': 2083, 'lisa': 2084, 'oddly': 2085, 'gross': 2086, 'spin': 2087, 'physically': 2088, 'river': 2089, 'minimal': 2090, 'pool': 2091, 'wonderfully': 2092, 'dwarf': 2093, 'morality': 2094, 'fix': 2095, 'dubbing': 2096, 'kicked': 2097, 'plant': 2098, 'discussion': 2099, 'irish': 2100, 'believed': 2101, 'relief': 2102, 'fest': 2103, 'seeking': 2104, 'dan': 2105, 'liking': 2106, 'garfield': 2107, 'unrealistic': 2108, 'strip': 2109, 'table': 2110, 'neo': 2111, 'packed': 2112, 'survived': 2113, 'instantly': 2114, 'travolta': 2115, 'nightclub': 2116, 'charles': 2117, 'indian': 2118, 'testament': 2119, 'handsome': 2120, 'kim': 2121, 'scale': 2122, 'choose': 2123, 'surely': 2124, 'healthy': 2125, 'asked': 2126, 'president': 2127, 'touched': 2128, 'joy': 2129, 'heck': 2130, 'mass': 2131, 'sympathy': 2132, 'turkey': 2133, 'legendary': 2134, 'trek': 2135, 'equally': 2136, 'vader': 2137, 'carrie': 2138, 'safe': 2139, 'wise': 2140, 'defeat': 2141, 'format': 2142, 'intellectual': 2143, 'fare': 2144, 'walker': 2145, 'slave': 2146, 'holocaust': 2147, 'installment': 2148, 'baker': 2149, 'mild': 2150, 'flawed': 2151, 'reaction': 2152, 'pressure': 2153, 'europe': 2154, 'dimensional': 2155, 'ned': 2156, 'lacking': 2157, 'understandable': 2158, 'authority': 2159, 'generation': 2160, 'jealous': 2161, 'exact': 2162, 'associate': 2163, 'youth': 2164, 'prepared': 2165, 'sole': 2166, 'entertain': 2167, 'jeff': 2168, 'sydney': 2169, 'innocent': 2170, 'sleep': 2171, 'worthwhile': 2172, 'regard': 2173, 'carry': 2174, 'chilling': 2175, 'ball': 2176, 'eric': 2177, 'closing': 2178, 'flame': 2179, 'rage': 2180, 'attached': 2181, 'depiction': 2182, 'stale': 2183, 'combat': 2184, 'disturbed': 2185, 'excited': 2186, 'inspector': 2187, 'locke': 2188, 'gritty': 2189, 'trilogy': 2190, 'leader': 2191, 'connection': 2192, 'mission': 2193, 'stayed': 2194, 'warrant': 2195, 'richards': 2196, 'system': 2197, 'neck': 2198, 'wire': 2199, 'irritating': 2200, 'previously': 2201, 'closer': 2202, 'defend': 2203, 'destroy': 2204, 'cultural': 2205, 'bomb': 2206, 'bringing': 2207, 'shadow': 2208, 'idiotic': 2209, 'spite': 2210, 'sum': 2211, 'spoken': 2212, 'someday': 2213, 'placed': 2214, 'discover': 2215, 'pleasant': 2216, 'opposite': 2217, 'gender': 2218, 'locked': 2219, 'religious': 2220, 'humorous': 2221, 'web': 2222, 'trace': 2223, 'romero': 2224, 'atrocious': 2225, 'acceptable': 2226, 'prefer': 2227, 'sounded': 2228, 'gratuitous': 2229, 'danger': 2230, 'featured': 2231, 'revelation': 2232, 'propaganda': 2233, 'revealed': 2234, 'multiple': 2235, 'todd': 2236, 'vhs': 2237, 'campy': 2238, 'cannibal': 2239, 'contemporary': 2240, 'narrator': 2241, 'freedom': 2242, 'freak': 2243, 'vanessa': 2244, 'ling': 2245, 'luck': 2246, 'traditional': 2247, 'genuinely': 2248, 'poppins': 2249, 'winner': 2250, 'india': 2251, 'santa': 2252, 'cindy': 2253, 'requires': 2254, 'disaster': 2255, 'tad': 2256, 'confusion': 2257, 'hip': 2258, 'prize': 2259, 'tremendous': 2260, 'wurb': 2261, 'prank': 2262, 'phone': 2263, 'camcorder': 2264, 'cure': 2265, 'dire': 2266, 'loss': 2267, 'admittedly': 2268, 'sock': 2269, 'reunion': 2270, 'attempted': 2271, 'bonnie': 2272, 'mack': 2273, 'thirty': 2274, 'delivers': 2275, 'double': 2276, 'proceeding': 2277, 'simpson': 2278, 'wit': 2279, 'scripted': 2280, 'snl': 2281, 'shapiro': 2282, 'basketball': 2283, 'repeated': 2284, 'armor': 2285, 'driver': 2286, 'isolated': 2287, 'stab': 2288, 'mildly': 2289, 'entry': 2290, 'refreshing': 2291, 'murdered': 2292, 'headed': 2293, 'cinematographer': 2294, 'fist': 2295, 'hooked': 2296, 'conversation': 2297, 'figured': 2298, 'italy': 2299, 'anger': 2300, 'advanced': 2301, 'fiancé': 2302, 'kenny': 2303, 'regular': 2304, 'potentially': 2305, 'dry': 2306, 'site': 2307, 'controversial': 2308, 'brando': 2309, 'utter': 2310, 'gruesome': 2311, 'possibility': 2312, 'emphasis': 2313, 'negative': 2314, 'painting': 2315, 'distance': 2316, 'creation': 2317, 'sucked': 2318, 'analyze': 2319, 'remain': 2320, 'hutton': 2321, 'cable': 2322, 'mom': 2323, 'pile': 2324, 'waiting': 2325, 'authentic': 2326, 'synopsis': 2327, 'imagination': 2328, 'deaf': 2329, 'marxist': 2330, 'calling': 2331, 'kaufman': 2332, 'wind': 2333, 'realizes': 2334, 'logical': 2335, 'tribute': 2336, 'hartley': 2337, 'navy': 2338, 'demon': 2339, 'trick': 2340, 'nancy': 2341, 'forth': 2342, 'essentially': 2343, 'timing': 2344, 'intelligence': 2345, 'uk': 2346, 'mexico': 2347, 'japan': 2348, 'asking': 2349, 'ignored': 2350, 'appropriate': 2351, 'gift': 2352, 'dig': 2353, 'denouement': 2354, 'bullet': 2355, 'blonde': 2356, 'matrix': 2357, 'quaid': 2358, 'lake': 2359, 'pitch': 2360, 'link': 2361, 'saint': 2362, 'text': 2363, 'simon': 2364, 'competition': 2365, 'earnest': 2366, 'foreign': 2367, 'weakest': 2368, 'shouldn': 2369, 'breathtaking': 2370, 'peace': 2371, 'skull': 2372, 'horribly': 2373, 'eyre': 2374, 'proof': 2375, 'jet': 2376, 'humour': 2377, 'chimney': 2378, 'guide': 2379, 'pokemon': 2380, 'drop': 2381, 'intent': 2382, 'affection': 2383, 'mere': 2384, 'lesser': 2385, 'mcnicol': 2386, 'nerd': 2387, 'sibling': 2388, 'dear': 2389, 'magical': 2390, 'tyrannosaurus': 2391, 'captured': 2392, 'dinosaur': 2393, 'suffers': 2394, 'bridge': 2395, 'apt': 2396, 'karen': 2397, 'dress': 2398, 'vh': 2399, 'orleans': 2400, 'togar': 2401, 'crisis': 2402, 'hamlet': 2403, 'sullivan': 2404, 'root': 2405, 'relevance': 2406, 'vengeance': 2407, 'larry': 2408, 'spiderman': 2409, 'grew': 2410, 'samhain': 2411, 'difficulty': 2412, 'hatred': 2413, 'alienation': 2414, 'rooney': 2415, 'pie': 2416, 'wrestler': 2417, 'kei': 2418, 'muslim': 2419, 'feed': 2420, 'grier': 2421, 'blaxploitation': 2422, 'batwoman': 2423, 'govinda': 2424, 'cinderella': 2425, 'september': 2426, 'bregana': 2427, 'dangerfield': 2428, 'mellisa': 2429, 'costner': 2430, 'wilderness': 2431, 'rob': 2432, 'letting': 2433, 'rented': 2434, 'occasional': 2435, 'inane': 2436, 'properly': 2437, 'menacing': 2438, 'correctly': 2439, 'instance': 2440, 'behavior': 2441, 'wound': 2442, 'englund': 2443, 'zane': 2444, 'meyer': 2445, 'rachel': 2446, 'tank': 2447, 'digital': 2448, 'information': 2449, 'craven': 2450, 'madness': 2451, '½': 2452, 'garden': 2453, 'service': 2454, 'wild': 2455, 'resort': 2456, 'rat': 2457, 'buying': 2458, 'profit': 2459, 'choreography': 2460, 'snap': 2461, 'celebrity': 2462, 'passenger': 2463, 'brick': 2464, 'relate': 2465, 'mitch': 2466, 'dating': 2467, 'thumb': 2468, 'wwii': 2469, 'frankly': 2470, 'phrase': 2471, 'loaded': 2472, 'roaring': 2473, 'bedroom': 2474, 'barry': 2475, 'smell': 2476, 'slick': 2477, 'ny': 2478, 'spring': 2479, 'embarrassing': 2480, 'card': 2481, 'niven': 2482, 'granted': 2483, 'arrive': 2484, 'eternal': 2485, 'ryan': 2486, 'principle': 2487, 'established': 2488, 'shape': 2489, 'c': 2490, 'expressed': 2491, 'undeniably': 2492, 'lonely': 2493, 'inept': 2494, 'buff': 2495, 'rising': 2496, 'appropriately': 2497, 'manipulative': 2498, 'grown': 2499, 'teddy': 2500, 'jedi': 2501, 'brilliance': 2502, 'african': 2503, 'string': 2504, 'whoopi': 2505, 'celie': 2506, 'pg': 2507, 'unforgettable': 2508, 'sheriff': 2509, 'lazy': 2510, 'learning': 2511, 'desperation': 2512, 'north': 2513, 'unbearable': 2514, 'meaningless': 2515, 'emerges': 2516, 'dubbed': 2517, 'tour': 2518, 'andre': 2519, 'changing': 2520, 'louise': 2521, 'checking': 2522, 'speed': 2523, 'worried': 2524, 'psychopath': 2525, 'sympathetic': 2526, 'remarkable': 2527, 'naturally': 2528, 'rental': 2529, 'automatically': 2530, 'julia': 2531, 'edward': 2532, 'arrives': 2533, 'lawyer': 2534, 'occurs': 2535, 'unfolds': 2536, 'nd': 2537, 'ala': 2538, 'clumsy': 2539, 'subplot': 2540, 'generic': 2541, 'technically': 2542, 'boredom': 2543, 'connie': 2544, 'exceptionally': 2545, 'prime': 2546, 'tiresome': 2547, 'amateurish': 2548, 'b': 2549, 'pleasantly': 2550, 'arguably': 2551, 'intrigued': 2552, 'tedious': 2553, 'antic': 2554, 'racism': 2555, 'imagery': 2556, 'trial': 2557, 'wolf': 2558, 'universal': 2559, 'psychotic': 2560, 'dirtiest': 2561, 'fourth': 2562, 'justified': 2563, 'pat': 2564, 'hang': 2565, 'em': 2566, 'wandering': 2567, 'reader': 2568, 'chain': 2569, 'tail': 2570, 'chinese': 2571, 'ridiculously': 2572, 'lip': 2573, 'grand': 2574, 'warming': 2575, 'shine': 2576, 'capable': 2577, 'kumar': 2578, 'celluloid': 2579, 'miracle': 2580, 'australia': 2581, 'warm': 2582, 'technique': 2583, 'breaking': 2584, 'seemingly': 2585, 'stalked': 2586, 'clothing': 2587, 'guilty': 2588, 'summary': 2589, 'committed': 2590, 'explosion': 2591, 'suffering': 2592, 'chair': 2593, 'warlord': 2594, 'vonnegut': 2595, 'outstanding': 2596, 'feat': 2597, 'berlin': 2598, 'pretend': 2599, 'device': 2600, 'alan': 2601, 'laura': 2602, 'reflect': 2603, 'facial': 2604, 'ruby': 2605, 'traveling': 2606, 'trained': 2607, 'virginia': 2608, 'vicious': 2609, 'ludicrous': 2610, 'slap': 2611, 'choi': 2612, 'plight': 2613, 'suggested': 2614, 'lansbury': 2615, 'yellow': 2616, 'relative': 2617, 'destroyed': 2618, 'dinner': 2619, 'madonna': 2620, 'makeup': 2621, 'grows': 2622, 'prof': 2623, 'repeat': 2624, 'assault': 2625, 'painfully': 2626, 'shooter': 2627, 'cared': 2628, 'jake': 2629, 'dern': 2630, 'chaos': 2631, 'deleted': 2632, 'burgundy': 2633, 'relevant': 2634, 'narration': 2635, 'involves': 2636, 'tied': 2637, 'petty': 2638, 'yr': 2639, 'hated': 2640, 'lo': 2641, 'dude': 2642, 'phase': 2643, 'suggests': 2644, 'stock': 2645, 'bert': 2646, 'activity': 2647, 'bean': 2648, 'jay': 2649, 'walter': 2650, 'overly': 2651, 'context': 2652, 'inappropriate': 2653, 'snake': 2654, 'psychology': 2655, 'pause': 2656, 'niro': 2657, 'taxi': 2658, 'brave': 2659, 'remote': 2660, 'robbery': 2661, 'pant': 2662, 'engine': 2663, 'argue': 2664, 'passing': 2665, 'bland': 2666, 'remarkably': 2667, 'apparent': 2668, 'tag': 2669, 'shelf': 2670, 'lois': 2671, 'led': 2672, 'achievement': 2673, 'venice': 2674, 'foundation': 2675, 'victor': 2676, 'thomas': 2677, 'concerned': 2678, 'appalling': 2679, 'g': 2680, 'futuristic': 2681, 'reminiscent': 2682, 'aired': 2683, 'satan': 2684, 'learned': 2685, 'primitive': 2686, 'redemption': 2687, 'franchise': 2688, 'inhabitant': 2689, 'gaffikin': 2690, 'jonathan': 2691, 'adapted': 2692, 'experienced': 2693, 'lens': 2694, 'bobby': 2695, 'crack': 2696, 'judging': 2697, 'battlestar': 2698, 'corny': 2699, 'influenced': 2700, 'forgettable': 2701, 'envy': 2702, 'timothy': 2703, 'weakness': 2704, 'desperate': 2705, 'hopefully': 2706, 'prop': 2707, 'anybody': 2708, 'novela': 2709, 'ton': 2710, 'pointed': 2711, 'forbidden': 2712, 'latino': 2713, 'associated': 2714, 'overrated': 2715, 'der': 2716, 'sloppy': 2717, 'editor': 2718, 'goal': 2719, 'accepted': 2720, 'busy': 2721, 'troma': 2722, 'regret': 2723, 'inventive': 2724, 'unclear': 2725, 'poster': 2726, 'edit': 2727, 'sophisticated': 2728, 'shoe': 2729, 'structure': 2730, 'enthusiasm': 2731, 'separate': 2732, 'burned': 2733, 'cup': 2734, 'mistaken': 2735, 'driving': 2736, 'steel': 2737, 'settled': 2738, 'foster': 2739, 'raw': 2740, 'egypt': 2741, 'product': 2742, 'cabin': 2743, 'friday': 2744, 'mol': 2745, 'sarah': 2746, 'shocked': 2747, 'un': 2748, 'tiny': 2749, 'press': 2750, 'lol': 2751, 'finest': 2752, 'seat': 2753, 'involve': 2754, 'fortune': 2755, 'cookie': 2756, 'heap': 2757, 'agrees': 2758, 'com': 2759, 'located': 2760, 'aforementioned': 2761, 'faithful': 2762, 'crude': 2763, 'tim': 2764, 'hackneyed': 2765, 'narrow': 2766, 'concern': 2767, 'asian': 2768, 'colour': 2769, 'planning': 2770, 'mayor': 2771, 'stellar': 2772, 'everyday': 2773, 'arjun': 2774, 'um': 2775, 'imaginative': 2776, 'sweep': 2777, 'noodle': 2778, 'accident': 2779, 'offensive': 2780, 'frodo': 2781, 'similarity': 2782, 'lower': 2783, 'inxs': 2784, 'stunt': 2785, 'basis': 2786, 'landscape': 2787, 'morally': 2788, 'eater': 2789, 'politics': 2790, 'laughter': 2791, 'originality': 2792, 'mickey': 2793, 'darkness': 2794, 'heartfelt': 2795, 'anime': 2796, 'sleazy': 2797, 'blow': 2798, 'nicely': 2799, 'pamela': 2800, 'inn': 2801, 'sol': 2802, 'study': 2803, 'pity': 2804, 'johnson': 2805, 'azteca': 2806, 'linda': 2807, 'bernsen': 2808, 'incest': 2809, 'steady': 2810, 'sidekick': 2811, 'solution': 2812, 'significant': 2813, 'nope': 2814, 'convince': 2815, 'unconvincing': 2816, 'condition': 2817, 'duc': 2818, 'philip': 2819, 'outsider': 2820, 'zu': 2821, 'rival': 2822, 'hunting': 2823, 'anna': 2824, 'phenomenon': 2825, 'dee': 2826, 'brandon': 2827, 'macro': 2828, 'hershey': 2829, 'attempting': 2830, 'mamet': 2831, 'recognized': 2832, 'influence': 2833, 'hideous': 2834, 'courtney': 2835, 'neat': 2836, 'babe': 2837, 'jenna': 2838, 'jameson': 2839, 'terrorist': 2840, 'luthor': 2841, 'infected': 2842, 'angry': 2843, 'warren': 2844, 'offended': 2845, 'hilliard': 2846, 'meeting': 2847, 'portrays': 2848, 'envision': 2849, 'wrestling': 2850, 'airwolf': 2851, 'mockumentary': 2852, 'sailor': 2853, 'echo': 2854, 'stevens': 2855, 'backwoods': 2856, 'hostel': 2857, 'melody': 2858, 'ariel': 2859, 'predator': 2860, 'disappear': 2861, 'upper': 2862, 'hawke': 2863, 'kazan': 2864, 'doyle': 2865, 'nacho': 2866, 'rubell': 2867, 'cbc': 2868, 'holt': 2869, 'bamboo': 2870, 'superfriends': 2871, 'sabretooth': 2872, 'impress': 2873, 'doc': 2874, 'intensity': 2875, 'savini': 2876, 'fallen': 2877, 'molly': 2878, 'ally': 2879, 'forest': 2880, 'priya': 2881, 'shortly': 2882, 'bribe': 2883, 'con': 2884, 'conspiracy': 2885, 'possessed': 2886, 'representation': 2887, 'stress': 2888, 'springwood': 2889, 'ohio': 2890, 'psychologist': 2891, 'transfer': 2892, 'pan': 2893, 'sixth': 2894, 'alice': 2895, 'britain': 2896, 'tonight': 2897, 'block': 2898, 'plastic': 2899, 'jungle': 2900, 'kidding': 2901, 'size': 2902, 'belt': 2903, 'path': 2904, 'wounded': 2905, 'perception': 2906, 'failing': 2907, 'sink': 2908, 'clichéd': 2909, 'simultaneously': 2910, 'concerning': 2911, 'butcher': 2912, 'irony': 2913, 'steer': 2914, 'dane': 2915, 'exercise': 2916, 'cecil': 2917, 'preferred': 2918, 'casual': 2919, 'sweaty': 2920, 'kitchen': 2921, 'confession': 2922, 'base': 2923, 'overboard': 2924, 'screening': 2925, 'cheering': 2926, 'fund': 2927, 'penn': 2928, 'accidentally': 2929, 'smooth': 2930, 'union': 2931, 'deemed': 2932, 'heading': 2933, 'johansson': 2934, 'hugh': 2935, 'scoop': 2936, 'enters': 2937, 'investigate': 2938, 'ape': 2939, 'incidentally': 2940, 'eponymous': 2941, 'fictitious': 2942, 'amanda': 2943, 'cheer': 2944, 'experiment': 2945, 'inevitably': 2946, 'advance': 2947, 'medical': 2948, 'jeremy': 2949, 'biopics': 2950, 'returned': 2951, 'driven': 2952, 'climactic': 2953, 'emperor': 2954, 'bitter': 2955, 'harrison': 2956, 'raider': 2957, 'fisher': 2958, 'passable': 2959, 'ruin': 2960, 'sadness': 2961, 'hindsight': 2962, 'literary': 2963, 'overlooked': 2964, 'specific': 2965, 'insult': 2966, 'incestuous': 2967, 'glover': 2968, 'mental': 2969, 'flower': 2970, 'routine': 2971, 'accused': 2972, 'grass': 2973, 'buried': 2974, 'gentleman': 2975, 'urge': 2976, 'lulu': 2977, 'comfort': 2978, 'popcorn': 2979, 'australian': 2980, 'miserably': 2981, 'texture': 2982, 'meanest': 2983, 'misunderstood': 2984, 'peaceful': 2985, 'edited': 2986, 'reject': 2987, 'hadley': 2988, 'wayne': 2989, 'cad': 2990, 'degree': 2991, 'caring': 2992, 'helicopter': 2993, 'throwing': 2994, 'randomly': 2995, 'united': 2996, 'avid': 2997, 'skit': 2998, 'function': 2999, 'absence': 3000, 'themed': 3001, 'competent': 3002, 'conservative': 3003, 'topless': 3004, 'grossly': 3005, 'plague': 3006, 'titled': 3007, 'laid': 3008, 'handful': 3009, 'owen': 3010, 'jerky': 3011, 'distant': 3012, 'egg': 3013, 'sentimental': 3014, 'similarly': 3015, 'kidnapped': 3016, 'hayek': 3017, 'sir': 3018, 'sheep': 3019, 'werewolf': 3020, 'psychological': 3021, 'searching': 3022, 'referring': 3023, 'sends': 3024, 'humble': 3025, 'spends': 3026, 'stanley': 3027, 'describes': 3028, 'laurie': 3029, 'homage': 3030, 'superstar': 3031, 'chosen': 3032, 'deadly': 3033, 'helm': 3034, 'mindless': 3035, 'quit': 3036, 'wholly': 3037, 'helpful': 3038, 'drink': 3039, 'romp': 3040, 'mtv': 3041, 'photographed': 3042, 'bollywood': 3043, 'manage': 3044, 'khan': 3045, 'beneath': 3046, 'limit': 3047, 'genuine': 3048, 'factory': 3049, 'watcher': 3050, 'justification': 3051, 'chill': 3052, 'spine': 3053, 'submit': 3054, 'elaborate': 3055, 'scheme': 3056, 'affected': 3057, 'dealt': 3058, 'remark': 3059, 'knowledge': 3060, 'viking': 3061, 'soap': 3062, 'defies': 3063, 'enraged': 3064, 'berserker': 3065, 'ww': 3066, 'complexity': 3067, 'nolte': 3068, 'playwright': 3069, 'cell': 3070, 'writes': 3071, 'memoir': 3072, 'hiding': 3073, 'remembering': 3074, 'mail': 3075, 'definite': 3076, 'max': 3077, 'barbarian': 3078, 'website': 3079, 'responsible': 3080, 'gold': 3081, 'orphan': 3082, 'initially': 3083, 'provided': 3084, 'provide': 3085, 'spare': 3086, 'standout': 3087, 'maid': 3088, 'redeeming': 3089, 'inducing': 3090, 'tsing': 3091, 'nearby': 3092, 'mistress': 3093, 'drunken': 3094, 'performs': 3095, 'tongue': 3096, 'ash': 3097, 'ironically': 3098, 'angela': 3099, 'dennis': 3100, 'imagined': 3101, 'specifically': 3102, 'cameron': 3103, 'strike': 3104, 'ma': 3105, 'et': 3106, 'bunny': 3107, 'giggle': 3108, 'cloud': 3109, 'bye': 3110, 'elephant': 3111, 'cried': 3112, 'contrived': 3113, 'advise': 3114, 'suspicion': 3115, 'destiny': 3116, 'drove': 3117, 'october': 3118, 'required': 3119, 'sarafina': 3120, 'assume': 3121, 'veronica': 3122, 'spliced': 3123, 'clock': 3124, 'creates': 3125, 'dumbest': 3126, 'holland': 3127, 'remind': 3128, 'spoof': 3129, 'ear': 3130, 'dazzling': 3131, 'christ': 3132, 'dawn': 3133, 'crawford': 3134, 'begun': 3135, 'dynamic': 3136, 'depression': 3137, 'spectacular': 3138, 'thrilled': 3139, 'gable': 3140, 'agenda': 3141, 'spoofing': 3142, 'sings': 3143, 'aged': 3144, 'boob': 3145, 'robinson': 3146, 'wicked': 3147, 'remotely': 3148, 'inevitable': 3149, 'racial': 3150, 'replaced': 3151, 'inspiration': 3152, 'reasonably': 3153, 'odds': 3154, 'nominee': 3155, 'delivery': 3156, 'outcome': 3157, 'lifeless': 3158, 'gunfight': 3159, 'humanity': 3160, 'extended': 3161, 'increasingly': 3162, 'peterson': 3163, 'annoyed': 3164, 'phillips': 3165, 'predict': 3166, 'escaping': 3167, 'surrounded': 3168, 'fence': 3169, 'demise': 3170, 'stuffed': 3171, 'racing': 3172, 'chasing': 3173, 'carl': 3174, 'sounding': 3175, 'solve': 3176, 'sat': 3177, 'shower': 3178, 'viewed': 3179, 'cheat': 3180, 'birth': 3181, 'varied': 3182, 'alley': 3183, 'civilization': 3184, 'rendered': 3185, 'ethnic': 3186, 'inner': 3187, 'immigrant': 3188, 'poem': 3189, 'noted': 3190, 'cary': 3191, 'holly': 3192, 'rerun': 3193, 'vince': 3194, 'reasonable': 3195, 'filling': 3196, 'stupidity': 3197, 'occasionally': 3198, 'uh': 3199, 'palace': 3200, 'bikini': 3201, 'funding': 3202, 'alike': 3203, 'instinct': 3204, 'golf': 3205, 'proving': 3206, 'torn': 3207, 'fog': 3208, 'holmes': 3209, 'ninety': 3210, 'finale': 3211, 'moody': 3212, 'obsession': 3213, 'composed': 3214, 'ghostly': 3215, 'cannon': 3216, 'arm': 3217, 'rose': 3218, 'boyle': 3219, 'springer': 3220, 'preview': 3221, 'ecstasy': 3222, 'concentrate': 3223, 'seldom': 3224, 'symbolism': 3225, 'consist': 3226, 'profanity': 3227, 'lovable': 3228, 'nose': 3229, 'paxton': 3230, 'telemundo': 3231, 'lang': 3232, 'european': 3233, 'arab': 3234, 'messy': 3235, 'hired': 3236, 'intentionally': 3237, 'eraserhead': 3238, 'martian': 3239, 'audio': 3240, 'bum': 3241, 'meaningful': 3242, 'thread': 3243, 'fooled': 3244, 'naive': 3245, 'weather': 3246, 'daring': 3247, 'suspenseful': 3248, 'shoestring': 3249, 'expensive': 3250, 'donald': 3251, 'woronov': 3252, 'posted': 3253, 'goody': 3254, 'sunk': 3255, 'complicated': 3256, 'murderous': 3257, 'bell': 3258, 'strangely': 3259, 'atmospheric': 3260, 'jap': 3261, 'likewise': 3262, 'pacific': 3263, 'duty': 3264, 'landed': 3265, 'august': 3266, 'almodovar': 3267, 'broadcast': 3268, 'smart': 3269, 'indulgent': 3270, 'afternoon': 3271, 'praised': 3272, 'source': 3273, 'excessive': 3274, 'startling': 3275, 'mar': 3276, 'chile': 3277, 'uneven': 3278, 'trail': 3279, 'bull': 3280, 'disjointed': 3281, 'gretchen': 3282, 'icon': 3283, 'oriented': 3284, 'magazine': 3285, 'push': 3286, 'investigation': 3287, 'harmless': 3288, 'bare': 3289, 'threat': 3290, 'luckily': 3291, 'draper': 3292, 'collapse': 3293, 'waitress': 3294, 'protocol': 3295, 'beverly': 3296, 'april': 3297, 'hugely': 3298, 'preacher': 3299, 'gackt': 3300, 'feminine': 3301, 'lasted': 3302, 'developing': 3303, 'ashamed': 3304, 'pulling': 3305, 'timeless': 3306, 'http': 3307, 'exaggeration': 3308, 'initial': 3309, 'muscle': 3310, 'drift': 3311, 'cg': 3312, 'monologue': 3313, 'precisely': 3314, 'rancid': 3315, 'cheese': 3316, 'finger': 3317, 'cliched': 3318, 'towering': 3319, 'factor': 3320, 'communist': 3321, 'global': 3322, 'importance': 3323, 'reduced': 3324, 'blowing': 3325, 'imo': 3326, 'continuity': 3327, 'jeep': 3328, 'circle': 3329, 'denise': 3330, 'cleaning': 3331, 'k': 3332, 'prince': 3333, 'corrupt': 3334, 'territory': 3335, 'mansion': 3336, 'scared': 3337, 'punch': 3338, 'nelson': 3339, 'jumped': 3340, 'achieves': 3341, 'mannu': 3342, 'flirtatious': 3343, 'pen': 3344, 'haunt': 3345, 'recall': 3346, 'rochester': 3347, 'convincingly': 3348, 'jewish': 3349, 'li': 3350, 'haunted': 3351, 'policeman': 3352, 'feast': 3353, 'rid': 3354, 'scorsese': 3355, 'appleby': 3356, 'kattan': 3357, 'explodes': 3358, 'fart': 3359, 'pestilence': 3360, 'lunatic': 3361, 'contain': 3362, 'warned': 3363, 'stomach': 3364, 'dakar': 3365, 'supply': 3366, 'objective': 3367, 'execution': 3368, 'marketing': 3369, 'tax': 3370, 'usa': 3371, 'served': 3372, 'stalk': 3373, 'backup': 3374, 'centre': 3375, 'publicity': 3376, 'dignity': 3377, 'rick': 3378, 'perfection': 3379, 'posey': 3380, 'sentiment': 3381, 'afford': 3382, 'antonioni': 3383, 'rendering': 3384, 'flirting': 3385, 'moron': 3386, 'malta': 3387, 'commitment': 3388, 'mentally': 3389, 'handicapped': 3390, 'branagh': 3391, 'stake': 3392, 'tea': 3393, 'rounded': 3394, 'youngest': 3395, 'improvement': 3396, 'evidence': 3397, 'unpleasant': 3398, 'splatter': 3399, 'duke': 3400, 'chuck': 3401, 'guilt': 3402, 'pre': 3403, 'visually': 3404, 'nonetheless': 3405, 'bus': 3406, 'jayne': 3407, 'appearing': 3408, 'caine': 3409, 'lieutenant': 3410, 'intend': 3411, 'aztec': 3412, 'historic': 3413, 'exists': 3414, 'ice': 3415, 'unleashed': 3416, 'corbin': 3417, 'removed': 3418, 'notion': 3419, 'admire': 3420, 'portrait': 3421, 'bach': 3422, 'modesty': 3423, 'blaise': 3424, 'naughty': 3425, 'olin': 3426, 'mate': 3427, 'static': 3428, 'horrid': 3429, 'patience': 3430, 'risk': 3431, 'ramone': 3432, 'fighter': 3433, 'snow': 3434, 'captain': 3435, 'brenda': 3436, 'outing': 3437, 'afterward': 3438, 'explicit': 3439, 'borrowed': 3440, 'hire': 3441, 'vice': 3442, 'cassandra': 3443, 'tribal': 3444, 'discovery': 3445, 'aborigine': 3446, 'court': 3447, 'troubled': 3448, 'legitimate': 3449, 'cave': 3450, 'suo': 3451, 'accurately': 3452, 'mitchum': 3453, 'jail': 3454, 'bsg': 3455, 'greene': 3456, 'subjected': 3457, 'massacre': 3458, 'dandy': 3459, 'pushed': 3460, 'elvis': 3461, 'wealthy': 3462, 'smoke': 3463, 'overdone': 3464, 'taught': 3465, 'baddie': 3466, 'chasey': 3467, 'lain': 3468, 'salvation': 3469, 'thompson': 3470, 'ebert': 3471, 'chop': 3472, 'border': 3473, 'museum': 3474, 'reitman': 3475, 'persona': 3476, 'swing': 3477, 'lex': 3478, 'journalist': 3479, 'gap': 3480, 'christianity': 3481, 'excruciating': 3482, 'frightening': 3483, 'calm': 3484, 'psychic': 3485, 'europa': 3486, 'ultimatum': 3487, 'trier': 3488, 'balance': 3489, 'outfit': 3490, 'journal': 3491, 'immensely': 3492, 'stuart': 3493, 'voiced': 3494, 'sentence': 3495, 'mick': 3496, 'surfer': 3497, 'surfing': 3498, 'whimsical': 3499, 'raped': 3500, 'vacation': 3501, 'doodlebops': 3502, 'corpse': 3503, 'homicide': 3504, 'spencer': 3505, 'drake': 3506, 'satisfying': 3507, 'sherry': 3508, 'reda': 3509, 'coppola': 3510, 'cringe': 3511, 'vain': 3512, 'columbo': 3513, 'parody': 3514, 'triad': 3515, 'chang': 3516, 'mermaid': 3517, 'mandy': 3518, 'speech': 3519, 'attending': 3520, 'raymond': 3521, 'hearted': 3522, 'mafia': 3523, 'connors': 3524, 'brodie': 3525, 'wallace': 3526, 'beery': 3527, 'neighbor': 3528, 'serbian': 3529, 'breakup': 3530, 'noble': 3531, 'magistrate': 3532, 'kiss': 3533, 'greater': 3534, 'reeve': 3535, 'yankovic': 3536, 'karisma': 3537, 'nighy': 3538, 'widmark': 3539, 'explores': 3540, 'spagnolo': 3541, 'blaine': 3542, 'firefighter': 3543, 'wtc': 3544, 'freeway': 3545, 'caprice': 3546, 'layer': 3547, 'rodriguez': 3548, 'hokey': 3549, 'roedel': 3550, 'shaolin': 3551, 'chao': 3552, 'scaffolding': 3553, 'kleinman': 3554, 'quinn': 3555, 'teddi': 3556, 'awe': 3557, 'discovering': 3558, 'touchy': 3559, 'wo': 3560, 'colourful': 3561, 'salman': 3562, 'dive': 3563, 'apology': 3564, 'dismay': 3565, 'fleeing': 3566, 'flash': 3567, 'rear': 3568, 'unpredictable': 3569, 'hungry': 3570, 'toe': 3571, 'patient': 3572, 'spark': 3573, 'arrived': 3574, 'widescreen': 3575, 'surround': 3576, 'disc': 3577, 'darker': 3578, 'meter': 3579, 'square': 3580, 'awfully': 3581, 'favour': 3582, 'ignorant': 3583, 'tribe': 3584, 'upset': 3585, 'sinking': 3586, 'bruno': 3587, 'terrified': 3588, 'integrity': 3589, 'meal': 3590, 'ripping': 3591, 'ripped': 3592, 'matched': 3593, 'info': 3594, 'nagging': 3595, 'cruise': 3596, 'ferry': 3597, 'copious': 3598, 'fuel': 3599, 'heat': 3600, 'missile': 3601, 'carell': 3602, 'cook': 3603, 'stopping': 3604, 'cain': 3605, 'postman': 3606, 'account': 3607, 'unattractive': 3608, 'lana': 3609, 'fated': 3610, 'counterpart': 3611, 'kellaway': 3612, 'dish': 3613, 'believability': 3614, 'sexuality': 3615, 'bath': 3616, 'ain': 3617, 'depends': 3618, 'polished': 3619, 'dislike': 3620, 'rushed': 3621, 'herbie': 3622, 'senseless': 3623, 'cheated': 3624, 'mute': 3625, 'hottie': 3626, 'hysterical': 3627, 'grey': 3628, 'eats': 3629, 'fish': 3630, 'slim': 3631, 'eager': 3632, 'sexually': 3633, 'woody': 3634, 'corky': 3635, 'zany': 3636, 'powell': 3637, 'livesey': 3638, 'speaks': 3639, 'volume': 3640, 'consequently': 3641, 'delivering': 3642, 'fuzzy': 3643, 'entity': 3644, 'protein': 3645, 'punishment': 3646, 'freeze': 3647, 'voodoo': 3648, 'farce': 3649, 'bush': 3650, 'empathy': 3651, 'devastating': 3652, 'vein': 3653, 'troubling': 3654, 'ferguson': 3655, 'occupation': 3656, 'invasion': 3657, 'messed': 3658, 'jeffrey': 3659, 'dahmer': 3660, 'recognizable': 3661, 'degenerate': 3662, 'delf': 3663, 'demented': 3664, 'stalker': 3665, 'sith': 3666, 'inferior': 3667, 'blade': 3668, 'earl': 3669, 'ewoks': 3670, 'mighty': 3671, 'ai': 3672, 'shed': 3673, 'risky': 3674, 'jaw': 3675, 'entrance': 3676, 'empire': 3677, 'sun': 3678, 'tackle': 3679, 'tortured': 3680, 'abusive': 3681, 'blatant': 3682, 'heartbreaking': 3683, 'foreshadowing': 3684, 'bat': 3685, 'strictly': 3686, 'immature': 3687, 'catching': 3688, 'blier': 3689, 'pulp': 3690, 'restaurant': 3691, 'wary': 3692, 'premiere': 3693, 'plodding': 3694, 'mundane': 3695, 'predecessor': 3696, 'frailty': 3697, 'nominated': 3698, 'toilet': 3699, 'unhappy': 3700, 'kyle': 3701, 'tycoon': 3702, 'torch': 3703, 'ambitious': 3704, 'keith': 3705, 'housewife': 3706, 'ambition': 3707, 'inexplicable': 3708, 'england': 3709, 'comprised': 3710, 'coach': 3711, 'commented': 3712, 'underdog': 3713, 'dummy': 3714, 'mandatory': 3715, 'quasi': 3716, 'inception': 3717, 'cheating': 3718, 'endless': 3719, 'miraculous': 3720, 'senior': 3721, 'misleading': 3722, 'hurley': 3723, 'humiliation': 3724, 'revolves': 3725, 'knit': 3726, 'judy': 3727, 'netflix': 3728, 'grainy': 3729, 'bag': 3730, 'connery': 3731, 'miscast': 3732, 'consists': 3733, 'harris': 3734, 'underused': 3735, 'superbly': 3736, 'ruthless': 3737, 'formulaic': 3738, 'recorded': 3739, 'wronged': 3740, 'punchline': 3741, 'ax': 3742, 'broom': 3743, 'heyday': 3744, 'farrell': 3745, 'carter': 3746, 'believing': 3747, 'expose': 3748, 'carrey': 3749, 'liar': 3750, 'magnum': 3751, 'politically': 3752, 'enforcer': 3753, 'belongs': 3754, 'ted': 3755, 'wide': 3756, 'despicable': 3757, 'perkins': 3758, 'bank': 3759, 'exploring': 3760, 'myers': 3761, 'institution': 3762, 'jamie': 3763, 'translation': 3764, 'ellen': 3765, 'split': 3766, 'starsky': 3767, 'fetched': 3768, 'epidemic': 3769, 'fulci': 3770, 'combine': 3771, 'improve': 3772, 'biased': 3773, 'subtlety': 3774, 'coincidence': 3775, 'unlikely': 3776, 'murphy': 3777, 'manager': 3778, 'assassin': 3779, 'digitally': 3780, 'epitome': 3781, 'inspiring': 3782, 'outdoor': 3783, 'directorial': 3784, 'suffered': 3785, 'approached': 3786, 'guardian': 3787, 'gentle': 3788, 'brad': 3789, 'pitt': 3790, 'montage': 3791, 'presumed': 3792, 'bathroom': 3793, 'meryl': 3794, 'streep': 3795, 'lifestyle': 3796, 'probable': 3797, 'eaten': 3798, 'assumed': 3799, 'nintendo': 3800, 'confidence': 3801, 'endure': 3802, 'incident': 3803, 'torturing': 3804, 'butt': 3805, 'curse': 3806, 'dropped': 3807, 'kurt': 3808, 'underlying': 3809, 'wartime': 3810, 'sheryl': 3811, 'israel': 3812, 'stark': 3813, 'painter': 3814, 'straightforward': 3815, 'reached': 3816, 'peak': 3817, 'juxtaposition': 3818, 'selection': 3819, 'imitating': 3820, 'natasha': 3821, 'blank': 3822, 'mel': 3823, 'gibson': 3824, 'deodato': 3825, 'schwarzenegger': 3826, 'conan': 3827, 'ragneks': 3828, 'happiness': 3829, 'abruptly': 3830, 'splendid': 3831, 'savage': 3832, 'campaign': 3833, 'idiocy': 3834, 'pierce': 3835, 'generous': 3836, 'flair': 3837, 'cheung': 3838, 'bumbling': 3839, 'burial': 3840, 'reincarnation': 3841, 'bedknobs': 3842, 'boom': 3843, 'bombing': 3844, 'portobello': 3845, 'eglantine': 3846, 'noteworthy': 3847, 'mame': 3848, 'budding': 3849, 'countryside': 3850, 'romanian': 3851, 'populated': 3852, 'presume': 3853, 'declare': 3854, 'cinematographic': 3855, 'brow': 3856, 'kicking': 3857, 'keaton': 3858, 'shepard': 3859, 'traveler': 3860, 'tends': 3861, 'wishing': 3862, 'visit': 3863, 'gabriel': 3864, 'starter': 3865, 'frustrated': 3866, 'homer': 3867, 'rocket': 3868, 'oft': 3869, 'johnston': 3870, 'education': 3871, 'forwarded': 3872, 'worldwide': 3873, 'corps': 3874, 'clan': 3875, 'alternate': 3876, 'introduces': 3877, 'presenting': 3878, 'classy': 3879, 'showdown': 3880, 'stare': 3881, 'shout': 3882, 'nymph': 3883, 'opened': 3884, 'thee': 3885, 'escaped': 3886, 'promote': 3887, 'venture': 3888, 'option': 3889, 'cream': 3890, 'badge': 3891, 'politician': 3892, 'realise': 3893, 'abandon': 3894, 'newspaper': 3895, 'realises': 3896, 'drinking': 3897, 'ward': 3898, 'disgust': 3899, 'cigarette': 3900, 'hitting': 3901, 'insurance': 3902, 'phyllis': 3903, 'barbara': 3904, 'webber': 3905, 'norton': 3906, 'porter': 3907, 'electricity': 3908, 'danish': 3909, 'spice': 3910, 'quietly': 3911, 'schlock': 3912, 'ken': 3913, 'jeopardy': 3914, 'resolved': 3915, 'forgot': 3916, 'outlaw': 3917, 'gathered': 3918, 'screenwriter': 3919, 'rolled': 3920, 'proportion': 3921, 'ought': 3922, 'suspension': 3923, 'admits': 3924, 'secretary': 3925, 'obnoxious': 3926, 'suffer': 3927, 'trite': 3928, 'demonic': 3929, 'witless': 3930, 'hijacked': 3931, 'amid': 3932, 'roof': 3933, 'decrepit': 3934, 'headlight': 3935, 'crook': 3936, 'flounder': 3937, 'gutted': 3938, 'pushing': 3939, 'causing': 3940, 'stolen': 3941, 'daily': 3942, 'glued': 3943, 'tho': 3944, 'remembers': 3945, 'gradually': 3946, 'mock': 3947, 'spirited': 3948, 'natured': 3949, 'demille': 3950, 'w': 3951, 'griffith': 3952, 'additionally': 3953, 'disagree': 3954, 'atlantic': 3955, 'framing': 3956, 'pig': 3957, 'los': 3958, 'angeles': 3959, 'framed': 3960, 'curtain': 3961, 'introduction': 3962, 'deficiency': 3963, 'novelist': 3964, 'poet': 3965, 'threatened': 3966, 'continue': 3967, 'tina': 3968, 'hesitation': 3969, 'mcdowell': 3970, 'happily': 3971, 'respectively': 3972, 'fashioned': 3973, 'useful': 3974, 'menzies': 3975, 'designer': 3976, 'necessarily': 3977, 'aftermath': 3978, 'consequence': 3979, 'apocalyptic': 3980, 'sending': 3981, 'tie': 3982, 'overlong': 3983, 'voyage': 3984, 'manson': 3985, 'charismatic': 3986, 'stilted': 3987, 'intrigue': 3988, 'palpatine': 3989, 'eighty': 3990, 'beloved': 3991, 'cattle': 3992, 'setup': 3993, 'sheen': 3994, 'clarke': 3995, 'fiona': 3996, 'inskip': 3997, 'sheila': 3998, 'torso': 3999, 'colonel': 4000, 'ufo': 4001, 'pressed': 4002, 'delight': 4003, 'rebel': 4004, 'plug': 4005, 'timon': 4006, 'stole': 4007, 'centered': 4008, 'virtual': 4009, 'alert': 4010, 'goodness': 4011, 'coherent': 4012, 'realizing': 4013, 'spending': 4014, 'lean': 4015, 'imagining': 4016, 'yadda': 4017, 'illogical': 4018, 'akshay': 4019, 'slippery': 4020, 'carnival': 4021, 'depressed': 4022, 'hostility': 4023, 'slang': 4024, 'consistent': 4025, 'critical': 4026, 'kennedy': 4027, 'china': 4028, 'casino': 4029, 'bang': 4030, 'providing': 4031, 'fold': 4032, 'rapid': 4033, 'represents': 4034, 'beer': 4035, 'crane': 4036, 'exquisite': 4037, 'handed': 4038, 'labor': 4039, 'heroic': 4040, 'boo': 4041, 'span': 4042, 'stink': 4043, 'sappy': 4044, 'melodramatic': 4045, 'talked': 4046, 'explaining': 4047, 'purchase': 4048, 'worn': 4049, 'definition': 4050, 'complication': 4051, 'counter': 4052, 'o': 4053, 'succeeded': 4054, 'ppp': 4055, 'toothless': 4056, 'inexperienced': 4057, 'resolution': 4058, 'nerve': 4059, 'shiver': 4060, 'disappears': 4061, 'sinister': 4062, 'avenger': 4063, 'gershuni': 4064, 'receives': 4065, 'succession': 4066, 'loosely': 4067, 'hitchcock': 4068, 'roeg': 4069, 'library': 4070, 'lynn': 4071, 'gene': 4072, 'gal': 4073, 'exhibition': 4074, 'passion': 4075, 'enjoying': 4076, 'misadventure': 4077, 'coffee': 4078, 'walsh': 4079, 'forgiven': 4080, 'cleverly': 4081, 'stretch': 4082, 'brooding': 4083, 'schmid': 4084, 'fleet': 4085, 'joined': 4086, 'unit': 4087, 'engage': 4088, 'sergeant': 4089, 'resemblance': 4090, 'depicting': 4091, 'spain': 4092, 'fascist': 4093, 'recycled': 4094, 'succeeds': 4095, 'silver': 4096, 'haired': 4097, 'row': 4098, 'evening': 4099, 'cheesiness': 4100, 'jodie': 4101, 'resulting': 4102, 'shootout': 4103, 'wine': 4104, 'gilley': 4105, 'riding': 4106, 'houston': 4107, 'daddy': 4108, 'revealing': 4109, 'symbol': 4110, 'announced': 4111, 'leap': 4112, 'compliment': 4113, 'implied': 4114, 'missionary': 4115, 'rain': 4116, 'fortunately': 4117, 'annoys': 4118, 'inadvertently': 4119, 'rambo': 4120, 'dim': 4121, 'clunker': 4122, 'sentinel': 4123, 'neglected': 4124, 'carradine': 4125, 'combining': 4126, 'winslet': 4127, 'continued': 4128, 'fleshed': 4129, 'ranked': 4130, 'reagan': 4131, 'district': 4132, 'bay': 4133, 'pursue': 4134, 'ignores': 4135, 'surgery': 4136, 'returning': 4137, 'establishing': 4138, 'pad': 4139, 'welles': 4140, 'household': 4141, 'swallow': 4142, 'glimpse': 4143, 'evidently': 4144, 'agony': 4145, 'grandmother': 4146, 'clarity': 4147, 'upside': 4148, 'holy': 4149, 'amazed': 4150, 'liberal': 4151, 'scientific': 4152, 'translated': 4153, 'ensues': 4154, 'blast': 4155, 'cliche': 4156, 'riot': 4157, 'timely': 4158, 'renewed': 4159, 'gear': 4160, 'switched': 4161, 'leona': 4162, 'borzage': 4163, 'sloane': 4164, 'y': 4165, 'denzel': 4166, 'ross': 4167, 'sung': 4168, 'idealistic': 4169, 'effecting': 4170, 'dock': 4171, 'wider': 4172, 'aspiring': 4173, 'sensation': 4174, 'relating': 4175, 'highest': 4176, 'regime': 4177, 'acknowledge': 4178, 'avalanche': 4179, 'despair': 4180, 'se': 4181, 'ranch': 4182, 'statue': 4183, 'halfway': 4184, 'nursery': 4185, 'stereotype': 4186, 'catholic': 4187, 'snatcher': 4188, 'jackie': 4189, 'supreme': 4190, 'choreographed': 4191, 'arc': 4192, 'stalking': 4193, 'childish': 4194, 'selfish': 4195, 'krueger': 4196, 'twisted': 4197, 'perverted': 4198, 'dis': 4199, 'odyssey': 4200, 'cartoonish': 4201, 'dirt': 4202, 'incessant': 4203, 'package': 4204, 'cocaine': 4205, 'strung': 4206, 'hyper': 4207, 'hammy': 4208, 'translate': 4209, 'schnaas': 4210, 'shattering': 4211, 'chemical': 4212, 'rus': 4213, 'cynic': 4214, 'scorpion': 4215, 'misty': 4216, 'stabbed': 4217, 'employ': 4218, 'modest': 4219, 'stated': 4220, 'impersonation': 4221, 'pretentious': 4222, 'audition': 4223, 'wannabe': 4224, 'participant': 4225, 'host': 4226, 'gasp': 4227, 'shred': 4228, 'jaded': 4229, 'hal': 4230, 'mabel': 4231, 'claimed': 4232, 'gathering': 4233, 'bold': 4234, 'puppet': 4235, 'relentless': 4236, 'cleveland': 4237, 'cinematheque': 4238, 'cinemascope': 4239, 'zabriskie': 4240, 'canvas': 4241, 'fleeting': 4242, 'conventional': 4243, 'amazes': 4244, 'questionable': 4245, 'pass': 4246, 'dump': 4247, 'blond': 4248, 'newly': 4249, 'shunned': 4250, 'dumped': 4251, 'flute': 4252, 'nervousness': 4253, 'screwing': 4254, 'imho': 4255, 'scenic': 4256, 'birthday': 4257, 'inherent': 4258, 'confronted': 4259, 'regularly': 4260, 'hawkins': 4261, 'knee': 4262, 'qualify': 4263, 'sterling': 4264, 'kenneth': 4265, 'detract': 4266, 'penchant': 4267, 'allowing': 4268, 'weight': 4269, 'applies': 4270, 'gadget': 4271, 'unconventional': 4272, 'claustrophobic': 4273, 'accessible': 4274, 'neatly': 4275, 'dysfunctional': 4276, 'indie': 4277, 'kane': 4278, 'vent': 4279, 'struck': 4280, 'online': 4281, 'promoting': 4282, 'reliable': 4283, 'sideline': 4284, 'cramped': 4285, 'messing': 4286, 'purchased': 4287, 'franklin': 4288, 'wayans': 4289, 'prior': 4290, 'pro': 4291, 'voight': 4292, 'kitten': 4293, 'kindly': 4294, 'upgrade': 4295, 'coaster': 4296, 'boothe': 4297, 'position': 4298, 'fairytale': 4299, 'swift': 4300, 'anne': 4301, 'aiken': 4302, 'pursuit': 4303, 'menace': 4304, 'pudding': 4305, 'elevated': 4306, 'conviction': 4307, 'unsurprisingly': 4308, 'cortes': 4309, 'motif': 4310, 'strive': 4311, 'intestine': 4312, 'spear': 4313, 'uniform': 4314, 'wretched': 4315, 'yearning': 4316, 'orange': 4317, 'russia': 4318, 'antarctica': 4319, 'julian': 4320, 'virus': 4321, 'command': 4322, 'producing': 4323, 'companion': 4324, 'cd': 4325, 'programming': 4326, 'crystal': 4327, 'cbs': 4328, 'infinitely': 4329, 'chen': 4330, 'junk': 4331, 'entered': 4332, 'slight': 4333, 'airplane': 4334, 'indication': 4335, 'marathon': 4336, 'conscience': 4337, 'hackman': 4338, 'uniformly': 4339, 'garvin': 4340, 'dealer': 4341, 'jolly': 4342, 'dolly': 4343, 'neurotic': 4344, 'seed': 4345, 'user': 4346, 'mcqueen': 4347, 'hallan': 4348, 'dave': 4349, 'hating': 4350, 'practical': 4351, 'posse': 4352, 'strongest': 4353, 'appreciation': 4354, 'origin': 4355, 'airport': 4356, 'couch': 4357, 'succeed': 4358, 'rational': 4359, 'aimed': 4360, 'incapable': 4361, 'committing': 4362, 'miraculously': 4363, 'morbid': 4364, 'advertisement': 4365, 'thereof': 4366, 'painted': 4367, 'backdrop': 4368, 'narrated': 4369, 'foreigner': 4370, 'permanent': 4371, 'noting': 4372, 'dey': 4373, 'contestant': 4374, 'razor': 4375, 'eastern': 4376, 'rocky': 4377, 'excellently': 4378, 'excitement': 4379, 'outrageous': 4380, 'lust': 4381, 'martha': 4382, 'snappy': 4383, 'pertwee': 4384, 'spiritual': 4385, 'rousing': 4386, 'enhance': 4387, 'yesterday': 4388, 'rural': 4389, 'sand': 4390, 'beard': 4391, 'bouzaglo': 4392, 'continuous': 4393, 'distortion': 4394, 'anticipating': 4395, 'shadowy': 4396, 'electronic': 4397, 'rhyme': 4398, 'hilariously': 4399, 'amused': 4400, 'dictator': 4401, 'versa': 4402, 'retired': 4403, 'seventy': 4404, 'sim': 4405, 'korean': 4406, 'unwatchable': 4407, 'weir': 4408, 'recess': 4409, 'olivia': 4410, 'client': 4411, 'priest': 4412, 'doom': 4413, 'secondary': 4414, 'eve': 4415, 'confrontation': 4416, 'aging': 4417, 'golden': 4418, 'trap': 4419, 'accompanied': 4420, 'mexican': 4421, 'cobra': 4422, 'witnessed': 4423, 'survival': 4424, 'inter': 4425, 'unlikable': 4426, 'gameplay': 4427, 'challenging': 4428, 'olsen': 4429, 'warhol': 4430, 'absorbed': 4431, 'gig': 4432, 'performing': 4433, 'instrument': 4434, 'gambling': 4435, 'vega': 4436, 'construction': 4437, 'corruption': 4438, 'pufnstuf': 4439, 'roller': 4440, 'tech': 4441, 'blew': 4442, 'steam': 4443, 'talkie': 4444, 'obsessive': 4445, 'skinny': 4446, 'insect': 4447, 'seseme': 4448, 'discussed': 4449, 'alphabet': 4450, 'saloon': 4451, 'browsing': 4452, 'jarring': 4453, 'kissing': 4454, 'mixing': 4455, 'veil': 4456, 'notable': 4457, 'noirs': 4458, 'mann': 4459, 'uma': 4460, 'reply': 4461, 'bedlam': 4462, 'eddie': 4463, 'repugnant': 4464, 'starred': 4465, 'vinci': 4466, 'donner': 4467, 'spacey': 4468, 'resource': 4469, 'fur': 4470, 'attracted': 4471, 'hairy': 4472, 'revolting': 4473, 'deed': 4474, 'serum': 4475, 'warden': 4476, 'shifting': 4477, 'indicate': 4478, 'broad': 4479, 'geek': 4480, 'naming': 4481, 'billion': 4482, 'overlook': 4483, 'untergang': 4484, 'cynical': 4485, 'prankster': 4486, 'numbingly': 4487, 'snafu': 4488, 'colman': 4489, 'collins': 4490, 'cairo': 4491, 'mosque': 4492, 'chuckle': 4493, 'tolkien': 4494, 'serve': 4495, 'merry': 4496, 'vargas': 4497, 'harlem': 4498, 'brooklyn': 4499, 'harriet': 4500, 'glamor': 4501, 'excess': 4502, 'rea': 4503, 'sentimentality': 4504, 'dustin': 4505, 'sweat': 4506, 'florida': 4507, 'mentality': 4508, 'minority': 4509, 'develops': 4510, 'successfully': 4511, 'collar': 4512, 'imitation': 4513, 'emily': 4514, 'internal': 4515, 'fascination': 4516, 'satisfaction': 4517, 'endeavor': 4518, 'philosophy': 4519, 'greatly': 4520, 'awa': 4521, 'wwf': 4522, 'gagne': 4523, 'greg': 4524, 'currently': 4525, 'flight': 4526, 'engaged': 4527, 'liza': 4528, 'drivel': 4529, 'shamble': 4530, 'ocean': 4531, 'sandrich': 4532, 'assortment': 4533, 'bake': 4534, 'considerably': 4535, 'offbeat': 4536, 'toronto': 4537, 'hasselhoff': 4538, 'exorcist': 4539, 'flop': 4540, 'disbelief': 4541, 'somber': 4542, 'konchalovksy': 4543, 'waited': 4544, 'betrayal': 4545, 'reckon': 4546, 'choppy': 4547, 'canada': 4548, 'contest': 4549, 'estate': 4550, 'galen': 4551, 'snail': 4552, 'intellectually': 4553, 'divorce': 4554, 'northern': 4555, 'meyers': 4556, 'romulus': 4557, 'defining': 4558, 'responsibility': 4559, 'spray': 4560, 'prostitute': 4561, 'copper': 4562, 'render': 4563, 'yugoslavia': 4564, 'hb': 4565, 'celestial': 4566, 'plunge': 4567, 'scum': 4568, 'crypt': 4569, 'steeped': 4570, 'vo': 4571, 'sidney': 4572, 'pervert': 4573, 'tabu': 4574, 'bea': 4575, 'convention': 4576, 'je': 4577, 'aime': 4578, 'yvan': 4579, 'attal': 4580, 'wright': 4581, 'ethan': 4582, 'bubble': 4583, 'drifting': 4584, 'addiction': 4585, 'tilt': 4586, 'poldi': 4587, 'manchu': 4588, 'kool': 4589, 'perfected': 4590, 'armstrong': 4591, 'bin': 4592, 'predictably': 4593, 'frain': 4594, 'phillip': 4595, 'forgiveness': 4596, 'shemp': 4597, 'honed': 4598, 'doll': 4599, 'vivien': 4600, 'horrendous': 4601, 'jules': 4602, 'ladder': 4603, 'safety': 4604, 'russo': 4605, 'castle': 4606, 'sale': 4607, 'quest': 4608, 'paperhouse': 4609, 'rubbing': 4610, 'chester': 4611, 'sondheim': 4612, 'hartnett': 4613, 'seymour': 4614, 'anchor': 4615, 'misguided': 4616, 'percent': 4617, 'dong': 4618, 'bout': 4619, 'visiteurs': 4620, 'sheppard': 4621, 'miner': 4622, 'salvage': 4623, 'sailplane': 4624, 'goldsworthy': 4625, 'sleeping': 4626, 'shane': 4627, 'billionaire': 4628, 'rockwood': 4629, 'lundgren': 4630, 'charnier': 4631, 'lupino': 4632, 'rally': 4633, 'novarro': 4634, 'mona': 4635, 'lucci': 4636, 'isabelle': 4637, 'sasha': 4638, 'reiser': 4639, 'muriel': 4640, 'decoteau': 4641, 'gammon': 4642, 'heorot': 4643, 'amazement': 4644, 'lately': 4645, 'hyped': 4646, 'amores': 4647, 'perros': 4648, 'covered': 4649, 'climb': 4650, 'climbing': 4651, 'judd': 4652, 'breakfast': 4653, 'reunite': 4654, 'unforgivable': 4655, 'raj': 4656, 'pictured': 4657, 'caliber': 4658, 'innumerable': 4659, 'variation': 4660, 'beaten': 4661, 'rank': 4662, 'uncomfortable': 4663, 'stance': 4664, 'breckin': 4665, 'yaphet': 4666, 'kotto': 4667, 'ingenious': 4668, 'scan': 4669, 'shaye': 4670, 'depp': 4671, 'division': 4672, 'loft': 4673, 'wrist': 4674, 'coke': 4675, 'martino': 4676, 'inject': 4677, 'westerner': 4678, 'ceremony': 4679, 'alligator': 4680, 'kindergarten': 4681, 'gator': 4682, 'attacking': 4683, 'mattei': 4684, 'sergio': 4685, 'resistance': 4686, 'teaching': 4687, 'steamroller': 4688, 'bro': 4689, 'donated': 4690, 'shelter': 4691, 'blinking': 4692, 'crisp': 4693, 'payment': 4694, 'permission': 4695, 'departure': 4696, 'amusement': 4697, 'raspberry': 4698, 'jam': 4699, 'miniature': 4700, 'spaceship': 4701, 'widowed': 4702, 'brevity': 4703, 'polish': 4704, 'selling': 4705, 'respected': 4706, 'surreal': 4707, 'insanity': 4708, 'millionaire': 4709, 'thaw': 4710, 'goodman': 4711, 'sorta': 4712, 'therapy': 4713, 'seduce': 4714, 'chest': 4715, 'nipple': 4716, 'yikes': 4717, 'collie': 4718, 'lassie': 4719, 'gee': 4720, 'dapper': 4721, 'mullet': 4722, 'ish': 4723, 'yorkers': 4724, 'preston': 4725, 'charged': 4726, 'altered': 4727, 'releasing': 4728, 'garnered': 4729, 'scarlett': 4730, 'jackman': 4731, 'mcshane': 4732, 'deceased': 4733, 'bomber': 4734, 'dispatch': 4735, 'unbearably': 4736, 'byron': 4737, 'elderly': 4738, 'deciding': 4739, 'describing': 4740, 'quantum': 4741, 'physic': 4742, 'barrage': 4743, 'pattern': 4744, 'hormone': 4745, 'interwoven': 4746, 'poverty': 4747, 'consciousness': 4748, 'cease': 4749, 'doctored': 4750, 'chasse': 4751, 'recite': 4752, 'homo': 4753, 'circa': 4754, 'diamond': 4755, 'encourage': 4756, 'informative': 4757, 'frontline': 4758, 'pesky': 4759, 'mumbling': 4760, 'overtly': 4761, 'talky': 4762, 'bloodless': 4763, 'snore': 4764, 'socially': 4765, 'homosexual': 4766, 'lookin': 4767, 'opposed': 4768, 'depraved': 4769, 'sicko': 4770, 'exploitive': 4771, 'animaniacs': 4772, 'adored': 4773, 'jess': 4774, 'welker': 4775, 'frontier': 4776, 'babylon': 4777, 'taboo': 4778, 'shrunk': 4779, 'undisputed': 4780, 'saga': 4781, 'hamill': 4782, 'runner': 4783, 'chapter': 4784, 'mcdiarmid': 4785, 'accomplished': 4786, 'dragging': 4787, 'kiddy': 4788, 'storm': 4789, 'machinery': 4790, 'irvin': 4791, 'teller': 4792, 'ark': 4793, 'depicted': 4794, 'observation': 4795, 'passage': 4796, 'scope': 4797, 'garner': 4798, 'mister': 4799, 'beating': 4800, 'gracefully': 4801, 'nettie': 4802, 'separated': 4803, 'separation': 4804, 'filmography': 4805, 'thailand': 4806, 'unexpectedly': 4807, 'classified': 4808, 'moreau': 4809, 'wildly': 4810, 'elegant': 4811, 'purist': 4812, 'bathing': 4813, 'considers': 4814, 'readily': 4815, 'pandora': 4816, 'unimpressive': 4817, 'satisfy': 4818, 'jordan': 4819, 'mythology': 4820, 'richer': 4821, 'patton': 4822, 'breath': 4823, 'crusty': 4824, 'needle': 4825, 'smartly': 4826, 'lucy': 4827, 'malone': 4828, 'lurch': 4829, 'shenanigan': 4830, 'hubby': 4831, 'burst': 4832, 'convicted': 4833, 'suspicious': 4834, 'trend': 4835, 'wholeheartedly': 4836, 'sunday': 4837, 'rave': 4838, 'championship': 4839, 'coat': 4840, 'lying': 4841, 'goof': 4842, 'screwed': 4843, 'loop': 4844, 'conversion': 4845, 'sexploitation': 4846, 'zapata': 4847, 'avoiding': 4848, 'elizabeth': 4849, 'embarrassingly': 4850, 'darryl': 4851, 'hannah': 4852, 'improvisation': 4853, 'renting': 4854, 'dir': 4855, 'pollack': 4856, 'condor': 4857, 'redford': 4858, 'seal': 4859, 'remaining': 4860, 'barbra': 4861, 'institute': 4862, 'mechanic': 4863, 'laurence': 4864, 'fishburne': 4865, 'basket': 4866, 'lucille': 4867, 'helmed': 4868, 'willingly': 4869, 'cent': 4870, 'graveyard': 4871, 'lengthy': 4872, 'masturbating': 4873, 'menu': 4874, 'tackling': 4875, 'juicy': 4876, 'abc': 4877, 'sutherland': 4878, 'plead': 4879, 'heavenly': 4880, 'technicolor': 4881, 'stiff': 4882, 'annik': 4883, 'borel': 4884, 'ancestor': 4885, 'eerily': 4886, 'resembles': 4887, 'destined': 4888, 'hideously': 4889, 'epitomized': 4890, 'tamed': 4891, 'promoted': 4892, 'doubtlessly': 4893, 'grittiest': 4894, 'lure': 4895, 'longing': 4896, 'toughest': 4897, 'suspended': 4898, 'graphically': 4899, 'assery': 4900, 'hingle': 4901, 'furthermore': 4902, 'audrie': 4903, 'neenan': 4904, 'popwell': 4905, 'colleague': 4906, 'inconsequential': 4907, 'embarrassed': 4908, 'scariest': 4909, 'loomis': 4910, 'curtis': 4911, 'virgin': 4912, 'hagar': 4913, 'christine': 4914, 'horne': 4915, 'wrongly': 4916, 'regardless': 4917, 'strangling': 4918, 'whereabouts': 4919, 'dawson': 4920, 'suitably': 4921, 'hutch': 4922, 'glaser': 4923, 'terminator': 4924, 'uninspired': 4925, 'allude': 4926, 'gate': 4927, 'reviewing': 4928, 'hack': 4929, 'focused': 4930, 'extent': 4931, 'stylish': 4932, 'mcadams': 4933, 'ripner': 4934, 'security': 4935, 'staying': 4936, 'cox': 4937, 'homeward': 4938, 'infant': 4939, 'pleasing': 4940, 'limb': 4941, 'authentically': 4942, 'friendly': 4943, 'boast': 4944, 'sally': 4945, 'extends': 4946, 'boman': 4947, 'irani': 4948, 'ott': 4949, 'vivek': 4950, 'fardeen': 4951, 'esha': 4952, 'amrita': 4953, 'revival': 4954, 'heartwarming': 4955, 'adopted': 4956, 'affect': 4957, 'closest': 4958, 'delicately': 4959, 'sensitively': 4960, 'hugo': 4961, 'barrel': 4962, 'consistently': 4963, 'shamelessly': 4964, 'dickie': 4965, 'unfathomable': 4966, 'oddness': 4967, 'larger': 4968, 'expertly': 4969, 'censorship': 4970, 'nefarious': 4971, 'unanswered': 4972, 'awhile': 4973, 'nordic': 4974, 'barek': 4975, 'rebirth': 4976, 'questioning': 4977, 'improved': 4978, 'tactic': 4979, 'restless': 4980, 'drab': 4981, 'immediate': 4982, 'pretending': 4983, 'belonged': 4984, 'awaiting': 4985, 'disillusionment': 4986, 'bulk': 4987, 'cerebral': 4988, 'poetry': 4989, 'befriends': 4990, 'staggering': 4991, 'choosing': 4992, 'helga': 4993, 'gorgeously': 4994, 'spouting': 4995, 'solemn': 4996, 'emotive': 4997, 'gesture': 4998, 'braveheart': 4999, 'gladiator': 5000, 'thirteenth': 5001, 'antonio': 5002, 'trashy': 5003, 'enormously': 5004, 'ruggero': 5005, 'introducing': 5006, 'founder': 5007, 'entertainer': 5008, 'beefcake': 5009, 'adorably': 5010, 'almighty': 5011, 'maintains': 5012, 'anticipated': 5013, 'supportive': 5014, 'eva': 5015, 'rue': 5016, 'donut': 5017, 'shaped': 5018, 'creep': 5019, 'promotional': 5020, 'unintentional': 5021, 'hogbottom': 5022, 'crappiness': 5023, 'letdown': 5024, 'butler': 5025, 'sunlight': 5026, 'gloom': 5027, 'tyne': 5028, 'daly': 5029, 'villager': 5030, 'perilous': 5031, 'taoist': 5032, 'temple': 5033, 'ritual': 5034, 'stepmother': 5035, 'yin': 5036, 'rainbow': 5037, 'edwardian': 5038, 'dunkirk': 5039, 'reginald': 5040, 'blitz': 5041, 'scottish': 5042, 'balloon': 5043, 'weighill': 5044, 'foe': 5045, 'jaffe': 5046, 'lagoon': 5047, 'soccer': 5048, 'referee': 5049, 'sample': 5050, 'superficial': 5051, 'bald': 5052, 'mustache': 5053, 'mitchell': 5054, 'spit': 5055, 'hooter': 5056, 'jewel': 5057, 'hooker': 5058, 'sacrifice': 5059, 'piranha': 5060, 'yum': 5061, 'astounding': 5062, 'marked': 5063, 'sexiest': 5064, 'breathless': 5065, 'transport': 5066, 'foo': 5067, 'colorful': 5068, 'pizza': 5069, 'classmate': 5070, 'countdown': 5071, 'diary': 5072, 'differently': 5073, 'deceiver': 5074, 'gyllenhaal': 5075, 'coal': 5076, 'townsfolk': 5077, 'outcast': 5078, 'patch': 5079, 'terrorize': 5080, 'wasting': 5081, 'understands': 5082, 'contender': 5083, 'inspires': 5084, 'smaller': 5085, 'sore': 5086, 'inconsistent': 5087, 'hybrid': 5088, 'continually': 5089, 'alarm': 5090, 'objection': 5091, 'diego': 5092, 'tinos': 5093, 'weaker': 5094, 'surgeon': 5095, 'expertise': 5096, 'sophie': 5097, 'cow': 5098, 'sarcastic': 5099, 'mentioning': 5100, 'behold': 5101, 'hutson': 5102, 'petrol': 5103, 'stupidly': 5104, 'firing': 5105, 'til': 5106, 'catalog': 5107, 'spoonful': 5108, 'wheel': 5109, 'gel': 5110, 'anticipate': 5111, 'clapton': 5112, 'formation': 5113, 'sturdy': 5114, 'vocal': 5115, 'listening': 5116, 'jazz': 5117, 'bakewell': 5118, 'declared': 5119, 'blooded': 5120, 'spilling': 5121, 'undercover': 5122, 'sylvie': 5123, 'natalie': 5124, 'fairbanks': 5125, 'forcing': 5126, 'famed': 5127, 'existential': 5128, 'unfamiliar': 5129, 'macmurray': 5130, 'weary': 5131, 'samantha': 5132, 'eggar': 5133, 'conniving': 5134, 'stabbing': 5135, 'crucial': 5136, 'bewildered': 5137, 'grotesque': 5138, 'groove': 5139, 'tube': 5140, 'incomprehensible': 5141, 'premiered': 5142, 'excite': 5143, 'excursion': 5144, 'unreal': 5145, 'infantile': 5146, 'desperately': 5147, 'saddest': 5148, 'desired': 5149, 'cyclical': 5150, 'lured': 5151, 'heath': 5152, 'ledger': 5153, 'orlando': 5154, 'bloom': 5155, 'bend': 5156, 'throat': 5157, 'sigh': 5158, 'insert': 5159, 'shrug': 5160, 'undesirable': 5161, 'motivation': 5162, 'ruthlessly': 5163, 'secluded': 5164, 'recomend': 5165, 'loneliness': 5166, 'harel': 5167, 'stoicism': 5168, 'fatalism': 5169, 'achieving': 5170, 'software': 5171, 'avail': 5172, 'urging': 5173, 'bloke': 5174, 'rosie': 5175, 'coolest': 5176, 'alexander': 5177, 'gawd': 5178, 'transition': 5179, 'seductress': 5180, 'mcafee': 5181, 'conrad': 5182, 'eh': 5183, 'delusional': 5184, 'anyways': 5185, 'tolerable': 5186, 'sustains': 5187, 'spooky': 5188, 'creepiness': 5189, 'para': 5190, 'nervous': 5191, 'foreboding': 5192, 'mysteriously': 5193, 'goggles': 5194, 'brightly': 5195, 'lit': 5196, 'interior': 5197, 'straw': 5198, 'chew': 5199, 'dispatched': 5200, 'mayhem': 5201, 'depending': 5202, 'hood': 5203, 'stretched': 5204, 'receiving': 5205, 'founding': 5206, 'infancy': 5207, 'ease': 5208, 'kidnap': 5209, 'lt': 5210, 'judgement': 5211, 'uncover': 5212, 'fiendish': 5213, 'recorder': 5214, 'bride': 5215, 'sorcery': 5216, 'rom': 5217, 'belly': 5218, 'benchmark': 5219, 'bauer': 5220, 'admirer': 5221, 'emergence': 5222, 'shifted': 5223, 'overriding': 5224, 'innovative': 5225, 'picturesque': 5226, 'overhead': 5227, 'unremarkable': 5228, 'romanticized': 5229, 'extensive': 5230, 'beban': 5231, 'reflected': 5232, 'parallel': 5233, 'clara': 5234, 'drawback': 5235, 'environmental': 5236, 'dissolution': 5237, 'population': 5238, 'inadequate': 5239, 'healing': 5240, 'penned': 5241, 'literal': 5242, 'gunga': 5243, 'din': 5244, 'bravery': 5245, 'comradeship': 5246, 'mclaglen': 5247, 'courageous': 5248, 'earn': 5249, 'fanfare': 5250, 'lauren': 5251, 'doughty': 5252, 'carried': 5253, 'headmistress': 5254, 'status': 5255, 'recognition': 5256, 'verbal': 5257, 'bashing': 5258, 'funeral': 5259, 'ensuing': 5260, 'uplifting': 5261, 'toolbox': 5262, 'plank': 5263, 'demonstrate': 5264, 'everytown': 5265, 'jumping': 5266, 'ruled': 5267, 'realization': 5268, 'episodic': 5269, 'dramatically': 5270, 'parade': 5271, 'tend': 5272, 'glass': 5273, 'aural': 5274, 'prescient': 5275, 'assist': 5276, 'breathe': 5277, 'harm': 5278, 'sickness': 5279, 'procedure': 5280, 'socialist': 5281, 'crux': 5282, 'attraction': 5283, 'historically': 5284, 'cole': 5285, 'owe': 5286, 'stereotyped': 5287, 'bittersweet': 5288, 'leia': 5289, 'longest': 5290, 'stomp': 5291, 'duncan': 5292, 'lent': 5293, 'scotland': 5294, 'quieter': 5295, 'imrie': 5296, 'slain': 5297, 'maurice': 5298, 'goudry': 5299, 'mainland': 5300, 'dental': 5301, 'mutilated': 5302, 'scriptwriter': 5303, 'camfield': 5304, 'succinctly': 5305, 'firm': 5306, 'authenticity': 5307, 'filter': 5308, 'preposterous': 5309, 'redeem': 5310, 'conchita': 5311, 'alonso': 5312, 'phony': 5313, 'pseudo': 5314, 'devoid': 5315, 'ruining': 5316, 'viewpoint': 5317, 'pumbaa': 5318, 'simba': 5319, 'distract': 5320, 'ballad': 5321, 'kavner': 5322, 'lighthearted': 5323, 'yahoo': 5324, 'astounded': 5325, 'stretching': 5326, 'singular': 5327, 'irresponsible': 5328, 'linear': 5329, 'oddity': 5330, 'accidental': 5331, 'irrelevant': 5332, 'proud': 5333, 'ceremonial': 5334, 'respectful': 5335, 'identify': 5336, 'insurmountable': 5337, 'obstacle': 5338, 'risking': 5339, 'soulless': 5340, 'happier': 5341, 'invite': 5342, 'lunch': 5343, 'paresh': 5344, 'excels': 5345, 'overshadows': 5346, 'stumble': 5347, 'neetu': 5348, 'eliza': 5349, 'middleton': 5350, 'triangle': 5351, 'teeny': 5352, 'shrink': 5353, 'probation': 5354, 'coin': 5355, 'downtown': 5356, 'lil': 5357, 'blasting': 5358, 'weave': 5359, 'colored': 5360, 'monica': 5361, 'duchovney': 5362, 'managing': 5363, 'cosmetic': 5364, 'transformation': 5365, 'dose': 5366, 'blessed': 5367, 'aloud': 5368, 'repetitive': 5369, 'domino': 5370, 'repeatedly': 5371, 'recap': 5372, 'slam': 5373, 'wandered': 5374, 'importantly': 5375, 'lyrical': 5376, 'unsettling': 5377, 'machaty': 5378, 'sorely': 5379, 'height': 5380, 'celebration': 5381, 'overwhelm': 5382, 'variety': 5383, 'influential': 5384, 'hedy': 5385, 'lamarr': 5386, 'peek': 5387, 'laced': 5388, 'diatribe': 5389, 'correctness': 5390, 'convoluted': 5391, 'covering': 5392, 'wwi': 5393, 'debut': 5394, 'storyboard': 5395, 'obscured': 5396, 'equality': 5397, 'category': 5398, 'brazil': 5399, 'plea': 5400, 'referred': 5401, 'reluctant': 5402, 'consciously': 5403, 'siam': 5404, 'yul': 5405, 'brynner': 5406, 'deborah': 5407, 'fade': 5408, 'incorporate': 5409, 'bully': 5410, 'concoction': 5411, 'simplistic': 5412, 'banal': 5413, 'decameron': 5414, 'gain': 5415, 'iq': 5416, 'contempt': 5417, 'thespian': 5418, 'microphone': 5419, 'hassle': 5420, 'yarn': 5421, 'spaghetti': 5422, 'easier': 5423, 'endlessly': 5424, 'atheist': 5425, 'essential': 5426, 'believer': 5427, 'wishful': 5428, 'anthology': 5429, 'bergman': 5430, 'shining': 5431, 'foolish': 5432, 'icy': 5433, 'valley': 5434, 'avoided': 5435, 'michel': 5436, 'impersonating': 5437, 'oliver': 5438, 'creator': 5439, 'awarded': 5440, 'theodore': 5441, 'formed': 5442, 'camilla': 5443, 'laden': 5444, 'gu': 5445, 'defy': 5446, 'conduct': 5447, 'respond': 5448, 'minnelli': 5449, 'instructed': 5450, 'wb': 5451, 'wreck': 5452, 'suitable': 5453, 'sabotage': 5454, 'sophia': 5455, 'dug': 5456, 'constructed': 5457, 'unemployed': 5458, 'warn': 5459, 'tempted': 5460, 'avoids': 5461, 'hopper': 5462, 'trio': 5463, 'battered': 5464, 'observed': 5465, 'quotable': 5466, 'phil': 5467, 'billed': 5468, 'biker': 5469, 'blinding': 5470, 'heir': 5471, 'fought': 5472, 'guadalcanal': 5473, 'grenade': 5474, 'naval': 5475, 'battling': 5476, 'troop': 5477, 'disability': 5478, 'rosemary': 5479, 'heel': 5480, 'strode': 5481, 'demographic': 5482, 'giggling': 5483, 'promptly': 5484, 'subplots': 5485, 'thug': 5486, 'josh': 5487, 'notwithstanding': 5488, 'rarity': 5489, 'solely': 5490, 'abstract': 5491, 'censored': 5492, 'tick': 5493, 'winger': 5494, 'atrocity': 5495, 'vivid': 5496, 'vary': 5497, 'parked': 5498, 'bottle': 5499, 'implies': 5500, 'harron': 5501, 'lili': 5502, 'strathairn': 5503, 'mpaa': 5504, 'latest': 5505, 'pin': 5506, 'neverland': 5507, 'resonance': 5508, 'fulfilling': 5509, 'playboy': 5510, 'inch': 5511, 'bondage': 5512, 'launched': 5513, 'decency': 5514, 'vulnerable': 5515, 'quantity': 5516, 'nell': 5517, 'hysterically': 5518, 'begging': 5519, 'relaxing': 5520, 'cassette': 5521, 'loving': 5522, 'gravity': 5523, 'unfair': 5524, 'bee': 5525, 'tara': 5526, 'hunted': 5527, 'buries': 5528, 'fiend': 5529, 'rd': 5530, 'finnish': 5531, 'bummed': 5532, 'retarded': 5533, 'definatly': 5534, 'prominent': 5535, 'honesty': 5536, 'cristina': 5537, 'raines': 5538, 'creepily': 5539, 'burgess': 5540, 'meredith': 5541, 'chazen': 5542, 'comfortable': 5543, 'instant': 5544, 'ferrer': 5545, 'dreyfus': 5546, 'eli': 5547, 'angelo': 5548, 'iceberg': 5549, 'dicaprio': 5550, 'bates': 5551, 'rightly': 5552, 'abused': 5553, 'oprah': 5554, 'sofia': 5555, 'fiery': 5556, 'margaret': 5557, 'shug': 5558, 'willard': 5559, 'rae': 5560, 'susan': 5561, 'samuel': 5562, 'shall': 5563, 'wrenching': 5564, 'subtly': 5565, 'bothering': 5566, 'tagline': 5567, 'morpheus': 5568, 'townspeople': 5569, 'crazed': 5570, 'remained': 5571, 'county': 5572, 'practice': 5573, 'contract': 5574, 'grind': 5575, 'wing': 5576, 'biography': 5577, 'herculean': 5578, 'rumored': 5579, 'signed': 5580, 'stunk': 5581, 'btw': 5582, 'cetera': 5583, 'dessert': 5584, 'lifted': 5585, 'secondly': 5586, 'incompetent': 5587, 'noise': 5588, 'bouncing': 5589, 'oppressed': 5590, 'skeleton': 5591, 'writhe': 5592, 'buggy': 5593, 'ad': 5594, 'forgivable': 5595, 'bargain': 5596, 'writhing': 5597, 'needn': 5598, 'fatal': 5599, 'nauseating': 5600, 'amitabh': 5601, 'kapoor': 5602, 'om': 5603, 'loyalty': 5604, 'daneliuc': 5605, 'gather': 5606, 'sugary': 5607, 'elementary': 5608, 'ass': 5609, 'katt': 5610, 'wtf': 5611, 'leaning': 5612, 'hk': 5613, 'hark': 5614, 'busey': 5615, 'fbi': 5616, 'firstly': 5617, 'advertising': 5618, 'kline': 5619, 'ghetto': 5620, 'stable': 5621, 'canyon': 5622, 'alfre': 5623, 'woodard': 5624, 'equipment': 5625, 'spoke': 5626, 'corman': 5627, 'secretly': 5628, 'stash': 5629, 'succumbs': 5630, 'serviceable': 5631, 'publication': 5632, 'capably': 5633, 'halle': 5634, 'berry': 5635, 'shut': 5636, 'diversity': 5637, 'nicole': 5638, 'displeasure': 5639, 'assistant': 5640, 'mafioso': 5641, 'implausible': 5642, 'doggie': 5643, 'heightens': 5644, 'transferred': 5645, 'tendres': 5646, 'cousines': 5647, 'reverse': 5648, 'perverse': 5649, 'twit': 5650, 'gardener': 5651, 'offering': 5652, 'stupor': 5653, 'nightgown': 5654, 'mst': 5655, 'hype': 5656, 'dud': 5657, 'ajay': 5658, 'stadium': 5659, 'zoheb': 5660, 'aditya': 5661, 'ranvijay': 5662, 'asin': 5663, 'carefree': 5664, 'admired': 5665, 'task': 5666, 'distinctive': 5667, 'wirtanen': 5668, 'echelon': 5669, 'choking': 5670, 'critique': 5671, 'reign': 5672, 'yelling': 5673, 'cheadle': 5674, 'scattered': 5675, 'silence': 5676, 'hastily': 5677, 'dalton': 5678, 'zelah': 5679, 'planned': 5680, 'plausible': 5681, 'colleen': 5682, 'donaldson': 5683, 'react': 5684, 'closely': 5685, 'desert': 5686, 'lethal': 5687, 'invincible': 5688, 'vinnie': 5689, 'esteemed': 5690, 'wagon': 5691, 'unintentionally': 5692, 'distracting': 5693, 'conscious': 5694, 'inhabit': 5695, 'minus': 5696, 'chopped': 5697, 'spree': 5698, 'ingenuity': 5699, 'lucien': 5700, 'littlefield': 5701, 'idol': 5702, 'divided': 5703, 'bouncy': 5704, 'flix': 5705, 'amnesiac': 5706, 'burgi': 5707, 'mentor': 5708, 'elevate': 5709, 'romano': 5710, 'mugging': 5711, 'shaw': 5712, 'dragged': 5713, 'predicted': 5714, 'redneck': 5715, 'andreas': 5716, 'updated': 5717, 'lwr': 5718, 'prepare': 5719, 'lisbon': 5720, 'endearing': 5721, 'ewan': 5722, 'bike': 5723, 'achieved': 5724, 'wig': 5725, 'guessing': 5726, 'sincerely': 5727, 'measure': 5728, 'galadriel': 5729, 'grandiose': 5730, 'nz': 5731, 'gained': 5732, 'deliberately': 5733, 'hears': 5734, 'awesomely': 5735, 'typically': 5736, 'whiz': 5737, 'button': 5738, 'vancouver': 5739, 'yacht': 5740, 'disguised': 5741, 'stoop': 5742, 'shameful': 5743, 'moronic': 5744, 'hutchence': 5745, 'commit': 5746, 'discussing': 5747, 'candidate': 5748, 'stardom': 5749, 'representative': 5750, 'inherited': 5751, 'goon': 5752, 'interim': 5753, 'international': 5754, 'bogged': 5755, 'timer': 5756, 'significantly': 5757, 'vanity': 5758, 'reproduce': 5759, 'bret': 5760, 'carr': 5761, 'inward': 5762, 'pitiful': 5763, 'hobby': 5764, 'outer': 5765, 'specially': 5766, 'flown': 5767, 'unfolded': 5768, 'sweeping': 5769, 'impressionistic': 5770, 'motor': 5771, 'creatively': 5772, 'invalid': 5773, 'stud': 5774, 'wrapped': 5775, 'eagerly': 5776, 'crippled': 5777, 'acceptance': 5778, 'prosthetic': 5779, 'carradines': 5780, 'bogus': 5781, 'sterile': 5782, 'distracted': 5783, 'reel': 5784, 'guinness': 5785, 'wanders': 5786, 'schtick': 5787, 'liotta': 5788, 'hulce': 5789, 'nicky': 5790, 'unbreakable': 5791, 'lou': 5792, 'compassion': 5793, 'helena': 5794, 'alternative': 5795, 'stringing': 5796, 'plentiful': 5797, 'drifter': 5798, 'conveniently': 5799, 'fed': 5800, 'farm': 5801, 'settle': 5802, 'introduce': 5803, 'yummy': 5804, 'apply': 5805, 'bleak': 5806, 'consumer': 5807, 'harold': 5808, 'email': 5809, 'guaranteed': 5810, 'shoddy': 5811, 'youtube': 5812, 'knightley': 5813, 'overacting': 5814, 'keira': 5815, 'christensen': 5816, 'pocket': 5817, 'jar': 5818, 'ecstatic': 5819, 'spleen': 5820, 'elicited': 5821, 'skewed': 5822, 'sucker': 5823, 'mala': 5824, 'gigantic': 5825, 'promotion': 5826, 'kitamura': 5827, 'ordered': 5828, 'entitled': 5829, 'henchman': 5830, 'suited': 5831, 'remaking': 5832, 'blustering': 5833, 'aura': 5834, 'bobbing': 5835, 'spike': 5836, 'shave': 5837, 'yea': 5838, 'stupidest': 5839, 'purse': 5840, 'chazz': 5841, 'palminteri': 5842, 'damon': 5843, 'leno': 5844, 'jon': 5845, 'catwoman': 5846, 'opus': 5847, 'misfire': 5848, 'abortion': 5849, 'lamest': 5850, 'gaining': 5851, 'fellating': 5852, 'pardon': 5853, 'shaving': 5854, 'papier': 5855, 'mache': 5856, 'fx': 5857, 'embarrassment': 5858, 'briggs': 5859, 'skeet': 5860, 'shatner': 5861, 'impulse': 5862, 'liebmann': 5863, 'darcy': 5864, 'dtv': 5865, 'redundant': 5866, 'jolt': 5867, 'active': 5868, 'chandra': 5869, 'j': 5870, 'textbook': 5871, 'ornament': 5872, 'noelle': 5873, 'justin': 5874, 'alison': 5875, 'wayward': 5876, 'euro': 5877, 'earliest': 5878, 'diabolical': 5879, 'grating': 5880, 'bimbo': 5881, 'holden': 5882, 'concentrating': 5883, 'ustinov': 5884, 'blamed': 5885, 'arises': 5886, 'throughly': 5887, 'cardboard': 5888, 'faceless': 5889, 'imprisoned': 5890, 'hawaii': 5891, 'galaxy': 5892, 'albright': 5893, 'optimism': 5894, 'dense': 5895, 'signal': 5896, 'rome': 5897, 'seti': 5898, 'researcher': 5899, 'staff': 5900, 'nuclear': 5901, 'submarine': 5902, 'puzzling': 5903, 'devoured': 5904, 'deliver': 5905, 'prompt': 5906, 'clip': 5907, 'witnessing': 5908, 'unstable': 5909, 'feinstone': 5910, 'yuzna': 5911, 'maintain': 5912, 'sadistic': 5913, 'deranged': 5914, 'immorality': 5915, 'damaged': 5916, 'devoted': 5917, 'negotiation': 5918, 'visceral': 5919, 'breezy': 5920, 'lukas': 5921, 'noon': 5922, 'apposite': 5923, 'riemann': 5924, 'bureaucratic': 5925, 'freed': 5926, 'goebels': 5927, 'cruelty': 5928, 'breathing': 5929, 'bod': 5930, 'owned': 5931, 'freaky': 5932, 'keller': 5933, 'deliciously': 5934, 'portly': 5935, 'junior': 5936, 'alternately': 5937, 'compellingly': 5938, 'pack': 5939, 'asserts': 5940, 'millennium': 5941, 'elf': 5942, 'hinted': 5943, 'anonymous': 5944, 'mega': 5945, 'easter': 5946, 'pink': 5947, 'stalin': 5948, 'claus': 5949, 'uncredited': 5950, 'lyric': 5951, 'meteorite': 5952, 'sized': 5953, 'poke': 5954, 'benson': 5955, 'miller': 5956, 'dramatics': 5957, 'acid': 5958, 'proclaims': 5959, 'bliss': 5960, 'progressed': 5961, 'digart': 5962, 'merchant': 5963, 'repay': 5964, 'debt': 5965, 'rooted': 5966, 'yield': 5967, 'improbable': 5968, 'prevents': 5969, 'impaired': 5970, 'curiosity': 5971, 'slew': 5972, 'altogether': 5973, 'elliott': 5974, 'aristocratic': 5975, 'assembly': 5976, 'undercurrent': 5977, 'illustrated': 5978, 'searched': 5979, 'servant': 5980, 'dressing': 5981, 'monitor': 5982, 'announcing': 5983, 'pj': 5984, 'hairstyle': 5985, 'schwarzeneggar': 5986, 'token': 5987, 'amber': 5988, 'controlling': 5989, 'opponent': 5990, 'dynamo': 5991, 'edged': 5992, 'hockey': 5993, 'obligatory': 5994, 'austrian': 5995, 'recipe': 5996, 'arnie': 5997, 'distinct': 5998, 'technological': 5999, 'relax': 6000, 'stunned': 6001, 'represented': 6002, 'vast': 6003, 'stallone': 6004, 'harlin': 6005, 'requisite': 6006, 'versatile': 6007, 'cliffhanger': 6008, 'heist': 6009, 'altitude': 6010, 'filthy': 6011, 'regarded': 6012, 'temptation': 6013, 'traffic': 6014, 'vague': 6015, 'tangible': 6016, 'unsatisfied': 6017, 'disappoint': 6018, 'cybil': 6019, 'graduate': 6020, 'obsolete': 6021, 'arrogant': 6022, 'slimy': 6023, 'hilt': 6024, 'breed': 6025, 'ragtag': 6026, 'webb': 6027, 'depicts': 6028, 'gusto': 6029, 'brutish': 6030, 'compassionate': 6031, 'joel': 6032, 'orchestral': 6033, 'p': 6034, 'forwarding': 6035, 'seduces': 6036, 'slip': 6037, 'essence': 6038, 'israeli': 6039, 'terminology': 6040, 'investigative': 6041, 'carbon': 6042, 'interacting': 6043, 'unsatisfying': 6044, 'recording': 6045, 'evp': 6046, 'warehouse': 6047, 'apologizing': 6048, 'patten': 6049, 'bartel': 6050, 'lone': 6051, 'infectious': 6052, 'frightened': 6053, 'reciting': 6054, 'shudder': 6055, 'orgy': 6056, 'ham': 6057, 'businessman': 6058, 'angst': 6059, 'oj': 6060, 'arte': 6061, 'lorenzo': 6062, 'kidnapper': 6063, 'crossing': 6064, 'stamp': 6065, 'brunette': 6066, 'charlton': 6067, 'stinker': 6068, 'alistair': 6069, 'yank': 6070, 'braindead': 6071, 'fondly': 6072, 'hilarity': 6073, 'symbolic': 6074, 'thunder': 6075, 'interrupt': 6076, 'facile': 6077, 'refusing': 6078, 'unravel': 6079, 'prophecy': 6080, 'fifth': 6081, 'shiko': 6082, 'funjatta': 6083, 'footstep': 6084, 'smashing': 6085, 'takenaka': 6086, 'bonus': 6087, 'document': 6088, 'transformative': 6089, 'enigma': 6090, 'randell': 6091, 'wage': 6092, 'establishment': 6093, 'wet': 6094, 'brothel': 6095, 'kidnapping': 6096, 'handling': 6097, 'peckinpah': 6098, 'generated': 6099, 'restored': 6100, 'edition': 6101, 'taped': 6102, 'elegiac': 6103, 'strives': 6104, 'modicum': 6105, 'uncommonly': 6106, 'chip': 6107, 'assigned': 6108, 'contributes': 6109, 'participating': 6110, 'olivier': 6111, 'iago': 6112, 'forrest': 6113, 'gump': 6114, 'doubtful': 6115, 'evolved': 6116, 'nuanced': 6117, 'grifter': 6118, 'astonishing': 6119, 'completed': 6120, 'lorne': 6121, 'terry': 6122, 'foul': 6123, 'respective': 6124, 'bjm': 6125, 'alcohol': 6126, 'prolific': 6127, 'label': 6128, 'ioana': 6129, 'tudor': 6130, 'landlady': 6131, 'interlude': 6132, 'gamble': 6133, 'nbc': 6134, 'omnipresent': 6135, 'gambler': 6136, 'tossed': 6137, 'plagiarism': 6138, 'drugged': 6139, 'doped': 6140, 'pointing': 6141, 'reputation': 6142, 'zoom': 6143, 'diet': 6144, 'ugliest': 6145, 'represent': 6146, 'lastly': 6147, 'nostalgia': 6148, 'loveless': 6149, 'ashley': 6150, 'veggie': 6151, 'interestingly': 6152, 'seedy': 6153, 'spread': 6154, 'alicia': 6155, 'hayes': 6156, 'prevented': 6157, 'abysmal': 6158, 'paranoid': 6159, 'southern': 6160, 'cannibalistic': 6161, 'maniac': 6162, 'wallmart': 6163, 'refused': 6164, 'injury': 6165, 'disagreed': 6166, 'disruption': 6167, 'boasted': 6168, 'stripped': 6169, 'flagrantly': 6170, 'pasted': 6171, 'complement': 6172, 'expectedly': 6173, 'extravaganza': 6174, 'loyal': 6175, 'unsophisticated': 6176, 'underworld': 6177, 'celebrates': 6178, 'weep': 6179, 'glisten': 6180, 'disorder': 6181, 'patric': 6182, 'simpler': 6183, 'chinatown': 6184, 'collaboration': 6185, 'parting': 6186, 'belies': 6187, 'unwillingly': 6188, 'mcintire': 6189, 'stealing': 6190, 'prospector': 6191, 'impending': 6192, 'brennan': 6193, 'veers': 6194, 'unnamed': 6195, 'diagnosis': 6196, 'classed': 6197, 'hurry': 6198, 'bookish': 6199, 'curator': 6200, 'ivan': 6201, 'payne': 6202, 'liberty': 6203, 'curiously': 6204, 'nutty': 6205, 'prozac': 6206, 'caricature': 6207, 'hook': 6208, 'vaughn': 6209, 'faris': 6210, 'accomplish': 6211, 'karl': 6212, 'sr': 6213, 'plotting': 6214, 'mahogany': 6215, 'bombastic': 6216, 'chilly': 6217, 'psychologically': 6218, 'grounded': 6219, 'curly': 6220, 'fever': 6221, 'stylized': 6222, 'decorative': 6223, 'chooses': 6224, 'whining': 6225, 'mario': 6226, 'addictive': 6227, 'martinaud': 6228, 'imperfection': 6229, 'coping': 6230, 'goer': 6231, 'characterization': 6232, 'awfulness': 6233, 'experimenting': 6234, 'homicidal': 6235, 'invented': 6236, 'hallway': 6237, 'instruction': 6238, 'manual': 6239, 'tearjerker': 6240, 'kiddie': 6241, 'thesis': 6242, 'sham': 6243, 'apologist': 6244, 'encountered': 6245, 'dukakis': 6246, 'resemble': 6247, 'meandering': 6248, 'bonding': 6249, 'towne': 6250, 'worthless': 6251, 'insulting': 6252, 'resist': 6253, 'efficient': 6254, 'hallorann': 6255, 'axe': 6256, 'assumption': 6257, 'shelley': 6258, 'powerhouse': 6259, 'reflects': 6260, 'masterfully': 6261, 'illegal': 6262, 'racist': 6263, 'steaming': 6264, 'nugget': 6265, 'tunnel': 6266, 'lola': 6267, 'rennt': 6268, 'pleased': 6269, 'supremacy': 6270, 'spotlight': 6271, 'fading': 6272, 'overlay': 6273, 'awry': 6274, 'clad': 6275, 'sherlock': 6276, 'weirdness': 6277, 'restraint': 6278, 'terminal': 6279, 'obscurity': 6280, 'potts': 6281, 'tashlin': 6282, 'heavily': 6283, 'ronald': 6284, 'investigating': 6285, 'paranoia': 6286, 'whit': 6287, 'strained': 6288, 'puzzle': 6289, 'sharp': 6290, 'pet': 6291, 'embarks': 6292, 'gould': 6293, 'jeffery': 6294, 'tomb': 6295, 'kingdom': 6296, 'lobby': 6297, 'lesley': 6298, 'fella': 6299, 'witted': 6300, 'antiquity': 6301, 'prayer': 6302, 'whipping': 6303, 'imply': 6304, 'metaphor': 6305, 'wealth': 6306, 'rotoscoping': 6307, 'gandalf': 6308, 'hobbit': 6309, 'pippin': 6310, 'bard': 6311, 'aragorn': 6312, 'knocked': 6313, 'vaguely': 6314, 'boromir': 6315, 'balrog': 6316, 'slipper': 6317, 'immune': 6318, 'homecoming': 6319, 'yen': 6320, 'shen': 6321, 'east': 6322, 'criticized': 6323, 'furniture': 6324, 'randolph': 6325, 'siskel': 6326, 'duped': 6327, 'connolly': 6328, 'lightning': 6329, 'spall': 6330, 'juliet': 6331, 'catherine': 6332, 'zeta': 6333, 'humdrum': 6334, 'proved': 6335, 'cruel': 6336, 'assaulted': 6337, 'underbelly': 6338, 'outward': 6339, 'entering': 6340, 'gimmick': 6341, 'flip': 6342, 'descent': 6343, 'protestant': 6344, 'fabric': 6345, 'establishes': 6346, 'flimsy': 6347, 'inventing': 6348, 'capitalism': 6349, 'reaching': 6350, 'nigel': 6351, 'metaphorical': 6352, 'undeveloped': 6353, 'grinder': 6354, 'gosh': 6355, 'epiphany': 6356, 'contributing': 6357, 'swedish': 6358, 'advert': 6359, 'contribution': 6360, 'evokes': 6361, 'fide': 6362, 'brand': 6363, 'smack': 6364, 'deliberate': 6365, 'joseph': 6366, 'determination': 6367, 'proverbial': 6368, 'bennett': 6369, 'interviewer': 6370, 'neil': 6371, 'helpless': 6372, 'greener': 6373, 'verne': 6374, 'restroom': 6375, 'krell': 6376, 'shorter': 6377, 'nerdy': 6378, 'enjoys': 6379, 'headline': 6380, 'jill': 6381, 'gielgud': 6382, 'diner': 6383, 'matriarch': 6384, 'guest': 6385, 'rpg': 6386, 'recreate': 6387, 'screwball': 6388, 'rocker': 6389, 'immortal': 6390, 'focusing': 6391, 'smirking': 6392, 'soppy': 6393, 'monotony': 6394, 'contributed': 6395, 'forgets': 6396, 'rebuff': 6397, 'bilge': 6398, 'estranged': 6399, 'boyish': 6400, 'heritage': 6401, 'hajj': 6402, 'rigid': 6403, 'islam': 6404, 'secular': 6405, 'nephew': 6406, 'apocalypse': 6407, 'smartest': 6408, 'swell': 6409, 'existed': 6410, 'outrageously': 6411, 'cowgirl': 6412, 'corner': 6413, 'linked': 6414, 'fired': 6415, 'suffice': 6416, 'equal': 6417, 'witchery': 6418, 'wink': 6419, 'nudge': 6420, 'satanic': 6421, 'omen': 6422, 'click': 6423, 'palm': 6424, 'detailed': 6425, 'fanatic': 6426, 'konchalovsky': 6427, 'association': 6428, 'cuba': 6429, 'siberian': 6430, 'velvet': 6431, 'folly': 6432, 'reverence': 6433, 'cynicism': 6434, 'vanishes': 6435, 'erupts': 6436, 'caroline': 6437, 'craze': 6438, 'uneasy': 6439, 'neon': 6440, 'unrated': 6441, 'watery': 6442, 'rush': 6443, 'exposition': 6444, 'lemmon': 6445, 'dropping': 6446, 'brittany': 6447, 'idris': 6448, 'elba': 6449, 'communism': 6450, 'morgana': 6451, 'daylight': 6452, 'spontaneity': 6453, 'superhuman': 6454, 'crop': 6455, 'vital': 6456, 'notch': 6457, 'heartless': 6458, 'marries': 6459, 'glenn': 6460, 'chested': 6461, 'kudos': 6462, 'brooke': 6463, 'voyeurism': 6464, 'gloomy': 6465, 'striptease': 6466, 'mesmerising': 6467, 'autopsy': 6468, 'isolation': 6469, 'decadent': 6470, 'matlin': 6471, 'piano': 6472, 'disabled': 6473, 'bodied': 6474, 'adverse': 6475, 'suggestion': 6476, 'hawthorne': 6477, 'dublin': 6478, 'sheridan': 6479, 'adversity': 6480, 'christie': 6481, 'eileen': 6482, 'persuades': 6483, 'fringe': 6484, 'upgraded': 6485, 'copter': 6486, 'lasting': 6487, 'playful': 6488, 'himalaya': 6489, 'severe': 6490, 'christina': 6491, 'raimond': 6492, 'marital': 6493, 'turmoil': 6494, 'counteract': 6495, 'adultery': 6496, 'closure': 6497, 'essay': 6498, 'moonwalker': 6499, 'badder': 6500, 'redgrave': 6501, 'toni': 6502, 'collette': 6503, 'richardson': 6504, 'patrick': 6505, 'flavor': 6506, 'keeper': 6507, 'raft': 6508, 'slicker': 6509, 'novelty': 6510, 'appalled': 6511, 'dastardly': 6512, 'marion': 6513, 'haha': 6514, 'glacial': 6515, 'puzzled': 6516, 'sustain': 6517, 'weisz': 6518, 'levinson': 6519, 'mechs': 6520, 'selected': 6521, 'finance': 6522, 'quoted': 6523, 'serb': 6524, 'slovenia': 6525, 'croatia': 6526, 'bosnia': 6527, 'grip': 6528, 'sublime': 6529, 'horn': 6530, 'miserable': 6531, 'toss': 6532, 'forbid': 6533, 'mobster': 6534, 'bearable': 6535, 'alter': 6536, 'gothic': 6537, 'sharing': 6538, 'senator': 6539, 'sen': 6540, 'www': 6541, 'creativity': 6542, 'printed': 6543, 'promo': 6544, 'jeter': 6545, 'rockwell': 6546, 'levin': 6547, 'deathtrap': 6548, 'seductive': 6549, 'quibble': 6550, 'accomplishes': 6551, 'deville': 6552, 'grate': 6553, 'slavoj': 6554, 'lacanian': 6555, 'analysis': 6556, 'imaginary': 6557, 'stimulating': 6558, 'accordingly': 6559, 'shy': 6560, 'stumbled': 6561, 'irritates': 6562, 'ily': 6563, 'overlapping': 6564, 'sadek': 6565, 'renaissance': 6566, 'implausibility': 6567, 'rooting': 6568, 'slavic': 6569, 'educated': 6570, 'uppity': 6571, 'timed': 6572, 'hello': 6573, 'addicted': 6574, 'yup': 6575, 'jaime': 6576, 'crowded': 6577, 'dassin': 6578, 'macdonald': 6579, 'embattled': 6580, 'implication': 6581, 'health': 6582, 'civil': 6583, 'contraband': 6584, 'crawling': 6585, 'palance': 6586, 'grossed': 6587, 'passionate': 6588, 'fascinated': 6589, 'jj': 6590, 'jimmie': 6591, 'pirate': 6592, 'lafitte': 6593, 'unfold': 6594, 'intimidating': 6595, 'posed': 6596, 'prompting': 6597, 'avenge': 6598, 'rogue': 6599, 'tarnished': 6600, 'insightful': 6601, 'weekly': 6602, 'sensitive': 6603, 'perplexed': 6604, 'affinity': 6605, 'tribulation': 6606, 'hbo': 6607, 'recognize': 6608, 'catastrophe': 6609, 'undermined': 6610, 'illustrious': 6611, 'belushi': 6612, 'sue': 6613, 'realist': 6614, 'useless': 6615, 'dispose': 6616, 'texan': 6617, 'spenny': 6618, 'fiasco': 6619, 'cattleman': 6620, 'barrymore': 6621, 'quoting': 6622, 'kurasawa': 6623, 'marvelous': 6624, 'charisma': 6625, 'brat': 6626, 'resonates': 6627, 'glance': 6628, 'stooge': 6629, 'threesome': 6630, 'wowing': 6631, 'medieval': 6632, 'hulk': 6633, 'zealot': 6634, 'marlon': 6635, 'havana': 6636, 'simmons': 6637, 'adelaide': 6638, 'vivian': 6639, 'stubby': 6640, 'kaye': 6641, 'franco': 6642, 'ah': 6643, 'rotten': 6644, 'dnd': 6645, 'dwelling': 6646, 'naudet': 6647, 'collapsed': 6648, 'psychiatrist': 6649, 'drago': 6650, 'rewarding': 6651, 'crust': 6652, 'succeeding': 6653, 'fido': 6654, 'cusack': 6655, 'shalhoub': 6656, 'ouch': 6657, 'enslin': 6658, 'torment': 6659, 'defeated': 6660, 'alleged': 6661, 'error': 6662, 'charlotte': 6663, 'owes': 6664, 'cement': 6665, 'sorvino': 6666, 'hustling': 6667, 'investigator': 6668, 'tiger': 6669, 'bernson': 6670, 'spectator': 6671, 'boerner': 6672, 'malcolm': 6673, 'aweigh': 6674, 'clarence': 6675, 'temptress': 6676, 'marisa': 6677, 'tomei': 6678, 'finney': 6679, 'albeit': 6680, 'sydow': 6681, 'cannes': 6682, 'jeon': 6683, 'yeon': 6684, 'trophy': 6685, 'asia': 6686, 'korea': 6687, 'pray': 6688, 'crazier': 6689, 'milyang': 6690, 'meaninglessness': 6691, 'theology': 6692, 'currie': 6693, 'employee': 6694, 'inder': 6695, 'snehal': 6696, 'beast': 6697, 'tardis': 6698, 'michelle': 6699, 'gym': 6700, 'santiago': 6701, 'athletic': 6702, 'athlete': 6703, 'advantage': 6704, 'anthropologist': 6705, 'rodrigues': 6706, 'crawl': 6707, 'carefully': 6708, 'multi': 6709, 'vance': 6710, 'ethel': 6711, 'storage': 6712, 'mc': 6713, 'carney': 6714, 'reno': 6715, 'quits': 6716, 'fallwell': 6717, 'cookbook': 6718, 'westfront': 6719, 'positively': 6720, 'eskimo': 6721, 'kayak': 6722, 'elsinore': 6723, 'crumbling': 6724, 'diminishing': 6725, 'lampoon': 6726, 'riegert': 6727, 'boon': 6728, 'legacy': 6729, 'corsaire': 6730, 'falcone': 6731, 'nagurski': 6732, 'repeating': 6733, 'yep': 6734, 'exclusive': 6735, 'shallowness': 6736, 'nightlife': 6737, 'false': 6738, 'prairie': 6739, 'offencive': 6740, 'inmate': 6741, 'walton': 6742, 'randy': 6743, 'convenience': 6744, 'hayenga': 6745, 'renegade': 6746, 'oriental': 6747, 'crow': 6748, 'manhattan': 6749, 'pinch': 6750, 'complicating': 6751, 'humanizing': 6752, 'issued': 6753, 'perlman': 6754, 'ang': 6755, 'confederate': 6756, 'jayhawkers': 6757, 'bushwhacker': 6758, 'cagney': 6759, 'ctrl': 6760, 'stood': 6761, 'chamber': 6762, 'liu': 6763, 'hiring': 6764, 'boss': 6765, 'scaffold': 6766, 'buzz': 6767, 'goofy': 6768, 'hanna': 6769, 'barbera': 6770, 'brainiac': 6771, 'metropolis': 6772, 'hatton': 6773, 'drawing': 6774, 'efficiency': 6775, 'lasseter': 6776, 'faerie': 6777, 'dafoe': 6778, 'arrest': 6779, 'mcdermott': 6780, 'composer': 6781, 'temper': 6782, 'cameroon': 6783, 'confess': 6784, 'defelitta': 6785, 'applaud': 6786, 'wah': 6787, 'nandini': 6788, 'increase': 6789, 'grendel': 6790, 'davy': 6791, 'frazetta': 6792, 'preachy': 6793, 'camping': 6794, 'fortunetly': 6795, 'sicken': 6796, 'emilio': 6797, 'madhu': 6798, 'melodious': 6799, 'picturisations': 6800, 'rani': 6801, 'preity': 6802, 'swiztertland': 6803, 'oklahoma': 6804, 'greenlit': 6805, 'slacker': 6806, 'handing': 6807, 'jibe': 6808, 'lore': 6809, 'boil': 6810, 'otis': 6811, 'unconfirmed': 6812, 'newsgroup': 6813, 'mimic': 6814, 'cloven': 6815, 'hoof': 6816, 'sped': 6817, 'uncomfirmed': 6818, 'shon': 6819, 'greenblatt': 6820, 'arriving': 6821, 'lezlie': 6822, 'deane': 6823, 'ricky': 6824, 'logan': 6825, 'talalay': 6826, 'anamorphic': 6827, 'dolby': 6828, 'eighth': 6829, 'resurrected': 6830, 'ceo': 6831, 'roseanne': 6832, 'barr': 6833, 'luca': 6834, 'detached': 6835, 'programme': 6836, 'pretended': 6837, 'scummy': 6838, 'balcony': 6839, 'council': 6840, 'broadcasting': 6841, 'backside': 6842, 'slit': 6843, 'overdose': 6844, 'mama': 6845, 'papa': 6846, 'croc': 6847, 'proceeds': 6848, 'rampage': 6849, 'vacationer': 6850, 'tribesman': 6851, 'underwater': 6852, 'dart': 6853, 'matchbox': 6854, 'cargo': 6855, 'conveyor': 6856, 'sticker': 6857, 'harming': 6858, 'mortally': 6859, 'steamrolled': 6860, 'sensai': 6861, 'homeless': 6862, 'tommy': 6863, 'gill': 6864, 'eyelid': 6865, 'aikido': 6866, 'nico': 6867, 'nit': 6868, 'picker': 6869, 'strand': 6870, 'laryngitis': 6871, 'avenging': 6872, 'niche': 6873, 'altering': 6874, 'resurrecting': 6875, 'hasten': 6876, 'induce': 6877, 'catatonic': 6878, 'luxury': 6879, 'superannuated': 6880, 'colander': 6881, 'dredged': 6882, 'doubling': 6883, 'encompass': 6884, 'fulfil': 6885, 'discarded': 6886, 'disturb': 6887, 'eggbeater': 6888, 'replacing': 6889, 'bookstore': 6890, 'juliette': 6891, 'binoche': 6892, 'ripoff': 6893, 'forgetting': 6894, 'royalty': 6895, 'icky': 6896, 'profuse': 6897, 'obese': 6898, 'shirtless': 6899, 'unattractiveness': 6900, 'finely': 6901, 'coiffed': 6902, 'blunt': 6903, 'sanitized': 6904, 'seamy': 6905, 'grainier': 6906, 'orchestration': 6907, 'glossed': 6908, 'lindsey': 6909, 'dillon': 6910, 'extraordinary': 6911, 'racer': 6912, 'beatle': 6913, 'wastage': 6914, 'trainwrecks': 6915, 'poured': 6916, 'hmmm': 6917, 'groupie': 6918, 'fishbone': 6919, 'comb': 6920, 'trout': 6921, 'dreamt': 6922, 'humourless': 6923, 'dimwitted': 6924, 'exudes': 6925, 'kgb': 6926, 'honcho': 6927, 'nebraska': 6928, 'paramount': 6929, 'stalled': 6930, 'january': 6931, 'reported': 6932, 'unreleasable': 6933, 'revenue': 6934, 'colorado': 6935, 'romola': 6936, 'garia': 6937, 'materializer': 6938, 'magician': 6939, 'tarot': 6940, 'preppy': 6941, 'lyman': 6942, 'sid': 6943, 'pressburger': 6944, 'raf': 6945, 'awol': 6946, 'processed': 6947, 'zira': 6948, 'kathleen': 6949, 'literacy': 6950, 'atomic': 6951, 'particle': 6952, 'heisenberg': 6953, 'uncertainty': 6954, 'intimating': 6955, 'cosmic': 6956, 'covey': 6957, 'robbins': 6958, 'interrupting': 6959, 'depressant': 6960, 'thigh': 6961, 'contradiction': 6962, 'collective': 6963, 'reward': 6964, 'meditate': 6965, 'meditation': 6966, 'hagelin': 6967, 'overweight': 6968, 'betsy': 6969, 'fielded': 6970, 'confirmation': 6971, 'stumped': 6972, 'chiropractor': 6973, 'speculating': 6974, 'descriptor': 6975, 'darn': 6976, 'devastation': 6977, 'pb': 6978, 'bremer': 6979, 'wonk': 6980, 'supporter': 6981, 'poland': 6982, 'deconstruction': 6983, 'renner': 6984, 'languidly': 6985, 'monstrous': 6986, 'psyche': 6987, 'evoke': 6988, 'nebbishy': 6989, 'severely': 6990, 'calculating': 6991, 'madman': 6992, 'sorrier': 6993, 'gacy': 6994, 'bundy': 6995, 'gein': 6996, 'harnell': 6997, 'tress': 6998, 'macneille': 6999, 'patb': 7000, 'instrumental': 7001, 'voyager': 7002, 'delta': 7003, 'quadrant': 7004, 'hierarchy': 7005, 'glow': 7006, 'anakin': 7007, 'skywalker': 7008, 'padmé': 7009, 'fairness': 7010, 'han': 7011, 'safely': 7012, 'forté': 7013, 'endor': 7014, 'bow': 7015, 'arrow': 7016, 'squadron': 7017, 'trooper': 7018, 'laser': 7019, 'marquand': 7020, 'kershner': 7021, 'swashbuckling': 7022, 'slavery': 7023, 'sentimentalizing': 7024, 'childishness': 7025, 'schindler': 7026, 'untrained': 7027, 'unadaptable': 7028, 'roughly': 7029, 'travesty': 7030, 'georgia': 7031, 'akosua': 7032, 'busia': 7033, 'pulse': 7034, 'bashers': 7035, 'tennessee': 7036, 'buford': 7037, 'pusser': 7038, 'bo': 7039, 'svenson': 7040, 'ambling': 7041, 'guitar': 7042, 'jaekel': 7043, 'askew': 7044, 'doqui': 7045, 'transparent': 7046, 'predicament': 7047, 'cheapjack': 7048, 'beckinsale': 7049, 'strict': 7050, 'discipline': 7051, 'daines': 7052, 'unselfishness': 7053, 'unheard': 7054, 'bertrand': 7055, 'intertwined': 7056, 'delicacy': 7057, 'hooligan': 7058, 'dining': 7059, 'jeanne': 7060, 'seaside': 7061, 'gentil': 7062, 'symbolized': 7063, 'camion': 7064, 'carrefour': 7065, 'valseuses': 7066, 'valse': 7067, 'prix': 7068, 'beaute': 7069, 'edith': 7070, 'piaf': 7071, 'mollify': 7072, 'deception': 7073, 'macho': 7074, 'charlia': 7075, 'antonin': 7076, 'augusto': 7077, 'bandini': 7078, 'irksome': 7079, 'applying': 7080, 'ogling': 7081, 'staring': 7082, 'bygone': 7083, 'mesmerised': 7084, 'kino': 7085, 'projection': 7086, 'swallowing': 7087, 'pill': 7088, 'melbourne': 7089, 'unaffecting': 7090, 'intellectualised': 7091, 'kilter': 7092, 'actioner': 7093, 'gregor': 7094, 'dominated': 7095, 'robust': 7096, 'conflicted': 7097, 'bellicose': 7098, 'whisper': 7099, 'soliloquy': 7100, 'berate': 7101, 'sour': 7102, 'conclude': 7103, 'frog': 7104, 'spill': 7105, 'misstep': 7106, 'checker': 7107, 'mart': 7108, 'stile': 7109, 'sirk': 7110, 'affluent': 7111, 'stack': 7112, 'hudson': 7113, 'boyhood': 7114, 'womanizing': 7115, 'marylee': 7116, 'dorothy': 7117, 'nymphomaniac': 7118, 'pretension': 7119, 'rounding': 7120, 'platt': 7121, 'wilke': 7122, 'pursues': 7123, 'boost': 7124, 'manslaughter': 7125, 'burlesque': 7126, 'adequately': 7127, 'rosy': 7128, 'diva': 7129, 'despondent': 7130, 'hopelessly': 7131, 'mushy': 7132, 'sybil': 7133, 'username': 7134, 'grammatical': 7135, 'delve': 7136, 'filmgoing': 7137, 'palatable': 7138, 'volunteer': 7139, 'revel': 7140, 'palpable': 7141, 'ol': 7142, 'bogglingly': 7143, 'slapped': 7144, 'bragging': 7145, 'pegged': 7146, 'stirred': 7147, 'patterned': 7148, 'template': 7149, 'noticeable': 7150, 'eventual': 7151, 'emphasize': 7152, 'eagle': 7153, 'exploded': 7154, 'lamenting': 7155, 'pedestal': 7156, 'derision': 7157, 'proficiency': 7158, 'attractively': 7159, 'virtue': 7160, 'datedness': 7161, 'flared': 7162, 'trouser': 7163, 'moustache': 7164, 'hinting': 7165, 'heartily': 7166, 'rosalind': 7167, 'wholesome': 7168, 'unavoidable': 7169, 'mork': 7170, 'mindy': 7171, 'closet': 7172, 'codename': 7173, 'faye': 7174, 'dunaway': 7175, 'lovey': 7176, 'dovey': 7177, 'squad': 7178, 'butchered': 7179, 'sickened': 7180, 'clive': 7181, 'uninvolved': 7182, 'capshaw': 7183, 'connerey': 7184, 'underwood': 7185, 'lange': 7186, 'lynne': 7187, 'thigpen': 7188, 'psychopathic': 7189, 'arne': 7190, 'glimcher': 7191, 'cr': 7192, 'stanze': 7193, 'rapist': 7194, 'foiled': 7195, 'unlucky': 7196, 'chap': 7197, 'winded': 7198, 'fecal': 7199, 'anal': 7200, 'item': 7201, 'amato': 7202, 'salma': 7203, 'booooooooooooooooooooooooooooooooooooooooooooooo': 7204, 'colin': 7205, 'insecure': 7206, 'afterschool': 7207, 'stairway': 7208, 'survives': 7209, 'june': 7210, 'tribunal': 7211, 'staircase': 7212, 'herding': 7213, 'oozing': 7214, 'danniele': 7215, 'snarling': 7216, 'snapping': 7217, 'jeniffer': 7218, 'aniston': 7219, 'siegel': 7220, 'unorthodox': 7221, 'delightfully': 7222, 'incorrect': 7223, 'outraged': 7224, 'enthused': 7225, 'grittier': 7226, 'nastiest': 7227, 'angering': 7228, 'leisure': 7229, 'dirtier': 7230, 'coolness': 7231, 'leone': 7232, 'vengeful': 7233, 'scumbag': 7234, 'jacket': 7235, 'robber': 7236, 'militant': 7237, 'tame': 7238, 'boogeyman': 7239, 'blackest': 7240, 'babysit': 7241, 'partying': 7242, 'curis': 7243, 'janet': 7244, 'leigh': 7245, 'boundary': 7246, 'lock': 7247, 'bolt': 7248, 'careful': 7249, 'burstyn': 7250, 'coerced': 7251, 'barb': 7252, 'sawed': 7253, 'vertically': 7254, 'presenter': 7255, 'overstay': 7256, 'rewired': 7257, 'frenetic': 7258, 'fiercely': 7259, 'prissies': 7260, 'plotline': 7261, 'viral': 7262, 'democracy': 7263, 'descension': 7264, 'swan': 7265, 'cemetery': 7266, 'dip': 7267, 'taiwanese': 7268, 'miiki': 7269, 'crunching': 7270, 'orthodox': 7271, 'cillian': 7272, 'reisert': 7273, 'ripper': 7274, 'secreteary': 7275, 'homeland': 7276, 'suite': 7277, 'zing': 7278, 'canine': 7279, 'gesturing': 7280, 'feline': 7281, 'broughton': 7282, 'sassy': 7283, 'ameche': 7284, 'modernised': 7285, 'fransisco': 7286, 'furry': 7287, 'footed': 7288, 'antwerp': 7289, 'deus': 7290, 'barman': 7291, 'dished': 7292, 'oberoi': 7293, 'monstrosity': 7294, 'capability': 7295, 'deol': 7296, 'rao': 7297, 'indra': 7298, 'eyesore': 7299, 'hindi': 7300, 'tanked': 7301, 'lonesome': 7302, 'brisk': 7303, 'pipeline': 7304, 'stephanie': 7305, 'labeled': 7306, 'dyslexic': 7307, 'peach': 7308, 'canning': 7309, 'weaving': 7310, 'attractive': 7311, 'overpriced': 7312, 'thornton': 7313, 'chisel': 7314, 'hammering': 7315, 'earhole': 7316, 'waiter': 7317, 'resident': 7318, 'shecker': 7319, 'vomited': 7320, 'understories': 7321, 'endures': 7322, 'scrutiny': 7323, 'adventist': 7324, 'mindset': 7325, 'extracted': 7326, 'defended': 7327, 'endangering': 7328, 'outbreak': 7329, 'censoring': 7330, 'grader': 7331, 'tip': 7332, 'nonflammable': 7333, 'extinguisher': 7334, 'inconsistency': 7335, 'expelled': 7336, 'pawn': 7337, 'legalized': 7338, 'theft': 7339, 'headache': 7340, 'trauma': 7341, 'inhuman': 7342, 'orgasm': 7343, 'hammered': 7344, 'pierced': 7345, 'investigated': 7346, 'bullshit': 7347, 'odin': 7348, 'competently': 7349, 'dribble': 7350, 'raping': 7351, 'pillaging': 7352, 'resonant': 7353, 'cambpell': 7354, 'fractured': 7355, 'pianist': 7356, 'transposition': 7357, 'arkin': 7358, 'supremacist': 7359, 'newsletter': 7360, 'wacko': 7361, 'analyzed': 7362, 'goebbels': 7363, 'select': 7364, 'palmer': 7365, 'stuns': 7366, 'starkness': 7367, 'sickening': 7368, 'rant': 7369, 'argued': 7370, 'elevates': 7371, 'operatic': 7372, 'tinge': 7373, 'subversion': 7374, 'henstridge': 7375, 'awsome': 7376, 'fresher': 7377, 'crowe': 7378, 'nielsen': 7379, 'banderas': 7380, 'delayed': 7381, 'sandal': 7382, 'traded': 7383, 'magically': 7384, 'access': 7385, 'circus': 7386, 'greedy': 7387, 'kadar': 7388, 'kidnaps': 7389, 'canary': 7390, 'continuously': 7391, 'kutchek': 7392, 'muscled': 7393, 'unwarily': 7394, 'feared': 7395, 'crazily': 7396, 'swamp': 7397, 'terrifically': 7398, 'capacity': 7399, 'belching': 7400, 'cara': 7401, 'bryant': 7402, 'bewitching': 7403, 'sheeba': 7404, 'alahani': 7405, 'sorceress': 7406, 'berryman': 7407, 'dirtmaster': 7408, 'gayer': 7409, 'horrifically': 7410, 'hemorrhage': 7411, 'internally': 7412, 'judged': 7413, 'yawn': 7414, 'disregard': 7415, 'sinnui': 7416, 'yauman': 7417, 'songling': 7418, 'pu': 7419, 'siu': 7420, 'tung': 7421, 'ching': 7422, 'leslie': 7423, 'lodging': 7424, 'deserted': 7425, 'acrobatics': 7426, 'leaping': 7427, 'gown': 7428, 'scarf': 7429, 'enchanting': 7430, 'afforded': 7431, 'yearly': 7432, 'broomstick': 7433, 'parenting': 7434, 'mixture': 7435, 'georgian': 7436, 'coastline': 7437, 'admiral': 7438, 'rawlins': 7439, 'caribbean': 7440, 'drum': 7441, 'auxiliary': 7442, 'auntie': 7443, 'gaslight': 7444, 'dorian': 7445, 'gray': 7446, 'harvey': 7447, 'reprise': 7448, 'atchison': 7449, 'topeka': 7450, 'fe': 7451, 'burnside': 7452, 'callaghan': 7453, 'snart': 7454, 'opportunist': 7455, 'blackmailing': 7456, 'roddy': 7457, 'mcdowall': 7458, 'vicar': 7459, 'disapproving': 7460, 'witchcraft': 7461, 'ericson': 7462, 'raid': 7463, 'competitor': 7464, 'wildest': 7465, 'banged': 7466, 'scrimmage': 7467, 'vulgar': 7468, 'uneducated': 7469, 'relish': 7470, 'demonstrative': 7471, 'garcea': 7472, 'vacanta': 7473, 'mare': 7474, 'mugur': 7475, 'mihäescu': 7476, 'doru': 7477, 'octavian': 7478, 'dumitru': 7479, 'artisan': 7480, 'pintilie': 7481, 'duminicä': 7482, 'os': 7483, 'sase': 7484, 'reconstituirea': 7485, 'lenghts': 7486, 'niki': 7487, 'ardelean': 7488, 'junkie': 7489, 'traumatized': 7490, 'ingredient': 7491, 'bottomless': 7492, 'chef': 7493, 'trader': 7494, 'wielding': 7495, 'camille': 7496, 'feminist': 7497, 'cooler': 7498, 'whorehouse': 7499, 'lubricated': 7500, 'korsmo': 7501, 'wardrobe': 7502, 'streetlight': 7503, 'blur': 7504, 'zach': 7505, 'hyman': 7506, 'kriegman': 7507, 'cal': 7508, 'chronicle': 7509, 'cloverfield': 7510, 'firmly': 7511, 'controller': 7512, 'intangible': 7513, 'blurring': 7514, 'merk': 7515, 'hickam': 7516, 'foreman': 7517, 'consternation': 7518, 'misfit': 7519, 'barren': 7520, 'errant': 7521, 'rocketboys': 7522, 'homemade': 7523, 'scholarship': 7524, 'jumanji': 7525, 'jurassic': 7526, 'lift': 7527, 'fiber': 7528, 'dedication': 7529, 'apartheid': 7530, 'videostore': 7531, 'educator': 7532, 'pieced': 7533, 'frankenstein': 7534, 'relativity': 7535, 'embraced': 7536, 'anchorwoman': 7537, 'evolving': 7538, 'robbing': 7539, 'scrapped': 7540, 'bitching': 7541, 'reporting': 7542, 'overlooking': 7543, 'risen': 7544, 'minidv': 7545, 'colgate': 7546, 'whitening': 7547, 'robotic': 7548, 'gingivitis': 7549, 'rash': 7550, 'chunk': 7551, 'tcp': 7552, 'baaaaaad': 7553, 'sulk': 7554, 'hacking': 7555, 'unlock': 7556, 'drip': 7557, 'juice': 7558, 'tractor': 7559, 'weakening': 7560, 'silliest': 7561, 'shaun': 7562, 'altho': 7563, 'fav': 7564, 'xplanation': 7565, 'slappin': 7566, 'pours': 7567, 'endeth': 7568, 'guessed': 7569, 'aiming': 7570, 'testicle': 7571, 'dusk': 7572, 'woulda': 7573, 'cuz': 7574, 'toad': 7575, 'arrangement': 7576, 'foundering': 7577, 'clinging': 7578, 'passe': 7579, 'securing': 7580, 'longevity': 7581, 'frowned': 7582, 'immoral': 7583, 'swimming': 7584, 'underwear': 7585, 'townsend': 7586, 'lester': 7587, 'vail': 7588, 'approval': 7589, 'scranton': 7590, 'cliff': 7591, 'assignment': 7592, 'bootlegging': 7593, 'luva': 7594, 'lively': 7595, 'accordian': 7596, 'tearfully': 7597, 'moorehead': 7598, 'vogue': 7599, 'spineless': 7600, 'shadowed': 7601, 'newcomer': 7602, 'mencia': 7603, 'chapelle': 7604, 'subliminal': 7605, 'posehn': 7606, 'paget': 7607, 'brewster': 7608, 'appetite': 7609, 'wrecked': 7610, 'kimmel': 7611, 'lippo': 7612, 'suction': 7613, 'unfavorably': 7614, 'radically': 7615, 'indemnity': 7616, 'identical': 7617, 'lecherous': 7618, 'leering': 7619, 'neff': 7620, 'crenna': 7621, 'manic': 7622, 'barton': 7623, 'cobb': 7624, 'dietrichson': 7625, 'stanwyck': 7626, 'polite': 7627, 'mannered': 7628, 'gaines': 7629, 'fiedler': 7630, 'recreates': 7631, 'remade': 7632, 'schneider': 7633, 'curling': 7634, 'unclever': 7635, 'resembling': 7636, 'truthfully': 7637, 'sneak': 7638, 'mag': 7639, 'cleverness': 7640, 'cleverless': 7641, 'craparama': 7642, 'nyu': 7643, 'lounge': 7644, 'repetition': 7645, 'summarized': 7646, 'adamant': 7647, 'dismiss': 7648, 'lacrosse': 7649, 'awake': 7650, 'trebek': 7651, 'fascinates': 7652, 'chemist': 7653, 'acquits': 7654, 'hammily': 7655, 'expending': 7656, 'manifesting': 7657, 'agency': 7658, 'consecutive': 7659, 'prominence': 7660, 'hunchback': 7661, 'confirmed': 7662, 'halleck': 7663, 'likeable': 7664, 'knowable': 7665, 'helpfully': 7666, 'enchantment': 7667, 'badness': 7668, 'hammiest': 7669, 'shootem': 7670, 'deck': 7671, 'salish': 7672, 'begining': 7673, 'badguys': 7674, 'badguy': 7675, 'apathetic': 7676, 'videogame': 7677, 'snarl': 7678, 'gunfire': 7679, 'professionally': 7680, 'ramus': 7681, 'phillipe': 7682, 'notre': 7683, 'amalgam': 7684, 'clouseau': 7685, 'chauncey': 7686, 'gardiner': 7687, 'seller': 7688, 'attract': 7689, 'coupledom': 7690, 'jose': 7691, 'garcia': 7692, 'tisserand': 7693, 'transcend': 7694, 'virginhood': 7695, 'rouen': 7696, 'alvarez': 7697, 'wendt': 7698, 'lynde': 7699, 'brigitta': 7700, 'dau': 7701, 'cracked': 7702, 'ursula': 7703, 'merkle': 7704, 'hammed': 7705, 'marc': 7706, 'kudisch': 7707, 'birdie': 7708, 'chynna': 7709, 'smiling': 7710, 'spader': 7711, 'scratch': 7712, 'precipitating': 7713, 'cluelessly': 7714, 'slaughtered': 7715, 'bolger': 7716, 'netting': 7717, 'crossed': 7718, 'fowler': 7719, 'residence': 7720, 'nestled': 7721, 'snuggly': 7722, 'encircled': 7723, 'barbed': 7724, 'weathervane': 7725, 'pitchfork': 7726, 'pterodactyl': 7727, 'annoyingly': 7728, 'intensify': 7729, 'hoist': 7730, 'getaway': 7731, 'battery': 7732, 'foliage': 7733, 'myopic': 7734, 'filmstock': 7735, 'lid': 7736, 'gorylicious': 7737, 'noooo': 7738, 'factly': 7739, 'bulb': 7740, 'chrissakes': 7741, 'blithely': 7742, 'bait': 7743, 'handsaw': 7744, 'anethesia': 7745, 'wreaking': 7746, 'ized': 7747, 'screamer': 7748, 'growl': 7749, 'growling': 7750, 'nicolson': 7751, 'depended': 7752, 'ephron': 7753, 'bernstein': 7754, 'cathartic': 7755, 'bearing': 7756, 'hahaha': 7757, 'pete': 7758, 'tuesday': 7759, 'sumpter': 7760, 'soo': 7761, 'aimee': 7762, 'anglo': 7763, 'honour': 7764, 'tangle': 7765, 'sigmund': 7766, 'freud': 7767, 'stair': 7768, 'goat': 7769, 'warmed': 7770, 'deviated': 7771, 'masked': 7772, 'groom': 7773, 'openly': 7774, 'bark': 7775, 'lighted': 7776, 'discotheque': 7777, 'coms': 7778, 'insomniac': 7779, 'instinctivly': 7780, 'gaurentee': 7781, 'weber': 7782, 'hypocrite': 7783, 'yevgeni': 7784, 'daydream': 7785, 'denmark': 7786, 'dominance': 7787, 'sunset': 7788, 'mobile': 7789, 'angled': 7790, 'musketeer': 7791, 'shake': 7792, 'barker': 7793, 'ince': 7794, 'slum': 7795, 'drape': 7796, 'à': 7797, 'dissolve': 7798, 'iris': 7799, 'disharmoniously': 7800, 'naturalistic': 7801, 'supported': 7802, 'enhanced': 7803, 'disproportionately': 7804, 'corrigan': 7805, 'foreshadowed': 7806, 'campaigning': 7807, 'centrality': 7808, 'medically': 7809, 'naïf': 7810, 'careless': 7811, 'breastfeeding': 7812, 'unwarranted': 7813, 'quietness': 7814, 'clime': 7815, 'majesty': 7816, 'rudyard': 7817, 'kipling': 7818, 'fortunate': 7819, 'regimental': 7820, 'beasty': 7821, 'calvary': 7822, 'contingent': 7823, 'kali': 7824, 'thuggee': 7825, 'debonair': 7826, 'archibald': 7827, 'cutter': 7828, 'macchesney': 7829, 'flamboyant': 7830, 'ballantine': 7831, 'hoard': 7832, 'strangler': 7833, 'fanatical': 7834, 'guru': 7835, 'eduardo': 7836, 'ciannelli': 7837, 'bugle': 7838, 'val': 7839, 'priority': 7840, 'bynes': 7841, 'garth': 7842, 'tarzan': 7843, 'peril': 7844, 'insteresting': 7845, 'swimmer': 7846, 'behaviour': 7847, 'organist': 7848, 'mischief': 7849, 'tissue': 7850, 'teary': 7851, 'current': 7852, 'bassinger': 7853, 'boggles': 7854, 'della': 7855, 'downhill': 7856, 'lobbing': 7857, 'screwdriver': 7858, 'flare': 7859, 'stitch': 7860, 'scrap': 7861, 'brewing': 7862, 'destroys': 7863, 'downed': 7864, 'burgeoning': 7865, 'debating': 7866, 'structurally': 7867, 'awkwardly': 7868, 'contradictorily': 7869, 'industrial': 7870, 'welding': 7871, 'astronaut': 7872, 'militaristic': 7873, 'overblown': 7874, 'artwork': 7875, 'trifle': 7876, 'pessimistic': 7877, 'excised': 7878, 'preclude': 7879, 'indirectly': 7880, 'poisonous': 7881, 'billowing': 7882, 'functioning': 7883, 'midst': 7884, 'contagious': 7885, 'stave': 7886, 'afterthought': 7887, 'lieu': 7888, 'retrospectively': 7889, 'prediction': 7890, 'propulsion': 7891, 'méliès': 7892, 'dans': 7893, 'lune': 7894, 'reprehensible': 7895, 'folksy': 7896, 'smarmy': 7897, 'rosanna': 7898, 'arquette': 7899, 'midwest': 7900, 'videotaped': 7901, 'bisexual': 7902, 'heterosexual': 7903, 'starving': 7904, 'vietcong': 7905, 'technologically': 7906, 'darth': 7907, 'iconic': 7908, 'greek': 7909, 'jabba': 7910, 'prod': 7911, 'tow': 7912, 'ugh': 7913, 'skidoo': 7914, 'apprehension': 7915, 'vermin': 7916, 'tourist': 7917, 'coast': 7918, 'settling': 7919, 'warwick': 7920, 'paratrooper': 7921, 'islander': 7922, 'cartographer': 7923, 'patterson': 7924, 'celia': 7925, 'maliciously': 7926, 'protective': 7927, 'kin': 7928, 'serenity': 7929, 'solitary': 7930, 'headless': 7931, 'brutally': 7932, 'insp': 7933, 'roëves': 7934, 'arranges': 7935, 'gp': 7936, 'inspection': 7937, 'fruitless': 7938, 'dove': 7939, 'cottage': 7940, 'newth': 7941, 'ornithologist': 7942, 'blocked': 7943, 'sighting': 7944, 'camouflaged': 7945, 'compounded': 7946, 'radioactive': 7947, 'doubting': 7948, 'vodyanoi': 7949, 'wiltshire': 7950, 'blake': 7951, 'alongside': 7952, 'remoteness': 7953, 'siege': 7954, 'oomph': 7955, 'impenetrable': 7956, 'hamper': 7957, 'gaelic': 7958, 'pov': 7959, 'overkill': 7960, 'specie': 7961, 'roeves': 7962, 'cosmo': 7963, 'spar': 7964, 'hew': 7965, 'womanly': 7966, 'physique': 7967, 'hammer': 7968, 'outlandish': 7969, 'irk': 7970, 'addendum': 7971, 'ironside': 7972, 'columbian': 7973, 'devout': 7974, 'nitpick': 7975, 'embracing': 7976, 'bowed': 7977, 'margin': 7978, 'lk': 7979, 'voicework': 7980, 'ernie': 7981, 'sabella': 7982, 'marge': 7983, 'safari': 7984, 'brokeback': 7985, 'slows': 7986, 'peeking': 7987, 'photograph': 7988, 'coherency': 7989, 'enhancing': 7990, 'tease': 7991, 'materialized': 7992, 'rot': 7993, 'shamed': 7994, 'myriad': 7995, 'personnel': 7996, 'jargon': 7997, 'rely': 7998, 'underpinned': 7999, 'relay': 8000, 'inflict': 8001, 'azimov': 8002, 'cylons': 8003, 'armageddon': 8004, 'planetary': 8005, 'overcoming': 8006, 'tucked': 8007, 'apathy': 8008, 'treadmill': 8009, 'replenish': 8010, 'priyadarshan': 8011, 'hera': 8012, 'pheri': 8013, 'situational': 8014, 'neha': 8015, 'rawal': 8016, 'rajpal': 8017, 'nargis': 8018, 'daisy': 8019, 'shriek': 8020, 'manoj': 8021, 'joshi': 8022, 'melissa': 8023, 'sagemiller': 8024, 'bentley': 8025, 'dushku': 8026, 'casey': 8027, 'affleck': 8028, 'ominous': 8029, 'twisting': 8030, 'careen': 8031, 'bopper': 8032, 'argentinean': 8033, 'dearable': 8034, 'peretti': 8035, 'luque': 8036, 'daringly': 8037, 'arguing': 8038, 'raye': 8039, 'calhoun': 8040, 'molder': 8041, 'wounderfull': 8042, 'siddons': 8043, 'woolnough': 8044, 'precede': 8045, 'lara': 8046, 'flynn': 8047, 'curve': 8048, 'eyebrow': 8049, 'col': 8050, 'houswives': 8051, 'stepford': 8052, 'archery': 8053, 'conundrum': 8054, 'exploited': 8055, 'bucharest': 8056, 'appeasing': 8057, 'nag': 8058, 'sorority': 8059, 'speeding': 8060, 'rotating': 8061, 'sensurround': 8062, 'cineplex': 8063, 'poetically': 8064, 'serene': 8065, 'integrates': 8066, 'divert': 8067, 'conveyed': 8068, 'burden': 8069, 'artfully': 8070, 'belittle': 8071, 'aesthetic': 8072, 'contemplative': 8073, 'routinely': 8074, 'dismissed': 8075, 'tableau': 8076, 'pantheistic': 8077, 'regeneration': 8078, 'accumulate': 8079, 'tingling': 8080, 'ode': 8081, 'disruptive': 8082, 'lorn': 8083, 'tediously': 8084, 'tuned': 8085, 'gnat': 8086, 'preoccupation': 8087, 'scatological': 8088, 'rarefied': 8089, 'pumba': 8090, 'hakuna': 8091, 'matata': 8092, 'degenerated': 8093, 'bilious': 8094, 'puddle': 8095, 'goo': 8096, 'unrealistically': 8097, 'nickelodeon': 8098, 'ossie': 8099, 'mason': 8100, 'televise': 8101, 'mailed': 8102, 'cautionary': 8103, 'pacula': 8104, 'commercialize': 8105, 'standpoint': 8106, 'heralded': 8107, 'rodgers': 8108, 'hammerstein': 8109, 'upscale': 8110, 'pupil': 8111, 'newest': 8112, 'rita': 8113, 'moreno': 8114, 'mesmerizing': 8115, 'kerr': 8116, 'miniscule': 8117, 'dudikoff': 8118, 'enabled': 8119, 'fleshing': 8120, 'atherton': 8121, 'terrorized': 8122, 'misery': 8123, 'pier': 8124, 'paolo': 8125, 'genitals': 8126, 'thick': 8127, 'schulmaedchenreport': 8128, 'boozed': 8129, 'tarantino': 8130, 'vey': 8131, 'triple': 8132, 'proudly': 8133, 'sloppiness': 8134, 'imperfectionist': 8135, 'eke': 8136, 'synchronization': 8137, 'concerted': 8138, 'elusive': 8139, 'float': 8140, 'titillate': 8141, 'basest': 8142, 'exalted': 8143, 'arranged': 8144, 'bowl': 8145, 'pointlessness': 8146, 'finito': 8147, 'anecdote': 8148, 'philosophized': 8149, 'mused': 8150, 'ye': 8151, 'catholicism': 8152, 'pot': 8153, 'kettle': 8154, 'criticizing': 8155, 'hypocrisy': 8156, 'righteous': 8157, 'substituted': 8158, 'utopia': 8159, 'sophomoric': 8160, 'humpdorama': 8161, 'pretentiously': 8162, 'deluded': 8163, 'dreaming': 8164, 'hailed': 8165, 'deadliest': 8166, 'lodged': 8167, 'pampering': 8168, 'serrault': 8169, 'worryingly': 8170, 'petiot': 8171, 'toxic': 8172, 'prestigious': 8173, 'amsterdam': 8174, 'filmfestival': 8175, 'listened': 8176, 'experimental': 8177, 'compromising': 8178, 'sugar': 8179, 'cooky': 8180, 'herz': 8181, 'woronow': 8182, 'reform': 8183, 'vertigo': 8184, 'grimmer': 8185, 'nicholas': 8186, 'cammell': 8187, 'splendidly': 8188, 'unavailable': 8189, 'fuss': 8190, 'lowry': 8191, 'misinformative': 8192, 'index': 8193, 'vincente': 8194, 'gershwin': 8195, 'panorama': 8196, 'lerner': 8197, 'construct': 8198, 'outbid': 8199, 'mgm': 8200, 'citing': 8201, 'milo': 8202, 'sugared': 8203, 'gigolo': 8204, 'undermine': 8205, 'caron': 8206, 'beholder': 8207, 'loren': 8208, 'symphony': 8209, 'parisian': 8210, 'internet': 8211, 'disclosed': 8212, 'alfred': 8213, 'injured': 8214, 'ute': 8215, 'commissioned': 8216, 'f': 8217, 'detained': 8218, 'deputy': 8219, 'custody': 8220, 'narrowly': 8221, 'fulfill': 8222, 'commission': 8223, 'unstoppable': 8224, 'comfortably': 8225, 'usmc': 8226, 'serendipity': 8227, 'unbowed': 8228, 'mushroom': 8229, 'geoff': 8230, 'bowles': 8231, 'joint': 8232, 'masterstroke': 8233, 'freebird': 8234, 'ealing': 8235, 'weed': 8236, 'welsh': 8237, 'grower': 8238, 'effected': 8239, 'gi': 8240, 'earning': 8241, 'elenore': 8242, 'pearl': 8243, 'harbor': 8244, 'corp': 8245, 'flung': 8246, 'solomon': 8247, 'ilu': 8248, 'banzai': 8249, 'determined': 8250, 'reinforcement': 8251, 'convalescing': 8252, 'battalion': 8253, 'depend': 8254, 'pfeiffer': 8255, 'decamp': 8256, 'blindness': 8257, 'gudalcanal': 8258, 'forsaken': 8259, 'serviceman': 8260, 'adjust': 8261, 'peacetime': 8262, 'battlefield': 8263, 'gregory': 8264, 'peck': 8265, 'mural': 8266, 'flamenco': 8267, 'chock': 8268, 'significance': 8269, 'hitchcockian': 8270, 'nonsensical': 8271, 'filmic': 8272, 'pedro': 8273, 'trickery': 8274, 'homework': 8275, 'grownup': 8276, 'sixtyish': 8277, 'usher': 8278, 'lined': 8279, 'peep': 8280, 'confident': 8281, 'critically': 8282, 'tread': 8283, 'deftly': 8284, 'modernization': 8285, 'emma': 8286, 'flitter': 8287, 'kristen': 8288, 'lineal': 8289, 'descendant': 8290, 'candleshoe': 8291, 'marketplace': 8292, 'segements': 8293, 'palestinian': 8294, 'recount': 8295, 'backed': 8296, 'overthrow': 8297, 'sept': 8298, 'resulted': 8299, 'recounting': 8300, 'trimming': 8301, 'brend': 8302, 'chasity': 8303, 'condo': 8304, 'sensless': 8305, 'fluff': 8306, 'paulson': 8307, 'biopic': 8308, 'posh': 8309, 'excerpt': 8310, 'pornography': 8311, 'fervor': 8312, 'arrested': 8313, 'uproar': 8314, 'fledged': 8315, 'senate': 8316, 'skeptical': 8317, 'aced': 8318, 'distraught': 8319, 'subdued': 8320, 'incomparable': 8321, 'reinvent': 8322, 'dramatize': 8323, 'sobbing': 8324, 'voted': 8325, 'indelible': 8326, 'stain': 8327, 'sacred': 8328, 'revered': 8329, 'tide': 8330, 'cinematically': 8331, 'loathe': 8332, 'fenton': 8333, 'coupled': 8334, 'wane': 8335, 'financed': 8336, 'scrip': 8337, 'woodley': 8338, 'unharmed': 8339, 'furnished': 8340, 'liquor': 8341, 'exhaustion': 8342, 'behalf': 8343, 'wrapping': 8344, 'portion': 8345, 'peice': 8346, 'promised': 8347, 'mo': 8348, 'cocktail': 8349, 'sniffing': 8350, 'presidential': 8351, 'aide': 8352, 'installed': 8353, 'goldie': 8354, 'surroundings': 8355, 'allison': 8356, 'saranadon': 8357, 'sarandon': 8358, 'balsam': 8359, 'josé': 8360, 'ava': 8361, 'gardner': 8362, 'sylvia': 8363, 'raffin': 8364, 'orbach': 8365, 'goldblum': 8366, 'berenger': 8367, 'wallach': 8368, 'wlaken': 8369, 'neglect': 8370, 'unsinkable': 8371, 'fictional': 8372, 'claiming': 8373, 'perished': 8374, 'freeing': 8375, 'leonardo': 8376, 'dicpario': 8377, 'blossom': 8378, 'kathy': 8379, 'awakened': 8380, 'winfrey': 8381, 'avery': 8382, 'pugh': 8383, 'chong': 8384, 'harpo': 8385, 'squeak': 8386, 'beaubian': 8387, 'corrine': 8388, 'juda': 8389, 'vampirism': 8390, 'overdo': 8391, 'exotic': 8392, 'busted': 8393, 'lameness': 8394, 'vomit': 8395, 'utters': 8396, 'bikers': 8397, 'understandably': 8398, 'walt': 8399, 'picher': 8400, 'comeback': 8401, 'retirement': 8402, 'lecture': 8403, 'unconvinced': 8404, 'adhering': 8405, 'attends': 8406, 'tampa': 8407, 'phenomenally': 8408, 'pitcher': 8409, 'agonizing': 8410, 'stint': 8411, 'aa': 8412, 'aaa': 8413, 'exaggerates': 8414, 'fabricates': 8415, 'espn': 8416, 'html': 8417, 'prays': 8418, 'zeal': 8419, 'fabrication': 8420, 'excluded': 8421, 'pitching': 8422, 'mph': 8423, 'inaccuracy': 8424, 'handicap': 8425, 'comparative': 8426, 'novella': 8427, 'fraction': 8428, 'dreamworks': 8429, 'barnyard': 8430, 'foisted': 8431, 'aptitude': 8432, 'assembling': 8433, 'aped': 8434, 'horsell': 8435, 'considerable': 8436, 'economical': 8437, 'aesthetical': 8438, 'yakkity': 8439, 'yak': 8440, 'surfeit': 8441, 'redundancy': 8442, 'ineptitude': 8443, 'wretchedly': 8444, 'shrieking': 8445, 'wailing': 8446, 'illuminate': 8447, 'relies': 8448, 'orson': 8449, 'unquenchable': 8450, 'potent': 8451, 'flourished': 8452, 'baseline': 8453, 'hinge': 8454, 'smelled': 8455, 'gliding': 8456, 'haskins': 8457, 'tripod': 8458, 'cathedral': 8459, 'spire': 8460, 'pogo': 8461, 'linoleum': 8462, 'squidoids': 8463, 'scurry': 8464, 'flit': 8465, 'perceptible': 8466, 'denuded': 8467, 'greenscreens': 8468, 'foreground': 8469, 'flipped': 8470, 'nauseum': 8471, 'stomped': 8472, 'crushed': 8473, 'plum': 8474, 'flyer': 8475, 'queue': 8476, 'quaking': 8477, 'conniption': 8478, 'individually': 8479, 'adept': 8480, 'hamburger': 8481, 'beef': 8482, 'herky': 8483, 'simulate': 8484, 'cranked': 8485, 'cine': 8486, 'bachchan': 8487, 'shashi': 8488, 'waheeda': 8489, 'rehman': 8490, 'ranjit': 8491, 'prakash': 8492, 'smita': 8493, 'patil': 8494, 'megastar': 8495, 'misunderstanding': 8496, 'legiunea': 8497, 'sträinä': 8498, 'parameter': 8499, 'irreversible': 8500, 'faculty': 8501, 'coalesce': 8502, 'maniacally': 8503, 'legitimacy': 8504, 'disordered': 8505, 'cântarea': 8506, 'româniei': 8507, 'glorious': 8508, 'dictated': 8509, 'positivism': 8510, 'festivism': 8511, 'perniciously': 8512, 'negativism': 8513, 'scatology': 8514, 'didactic': 8515, 'tenet': 8516, 'organize': 8517, 'simplest': 8518, 'grammar': 8519, 'phrasing': 8520, 'sheet': 8521, 'nuthin': 8522, 'ere': 8523, 'cursa': 8524, 'proba': 8525, 'microfon': 8526, 'vânätoarea': 8527, 'vulpi': 8528, 'croaziera': 8529, 'glissando': 8530, 'sic': 8531, 'transit': 8532, 'gloria': 8533, 'mundi': 8534, 'gencon': 8535, 'nap': 8536, 'flo': 8537, 'abe': 8538, 'vigoda': 8539, 'autopilot': 8540, 'weeped': 8541, 'lebrock': 8542, 'compulsory': 8543, 'polarizing': 8544, 'politic': 8545, 'predilection': 8546, 'understood': 8547, 'newbie': 8548, 'tsui': 8549, 'additional': 8550, 'wagoneer': 8551, 'pellet': 8552, 'acquitted': 8553, 'existentialism': 8554, 'affirms': 8555, 'mcdonnell': 8556, 'joking': 8557, 'hi': 8558, 'dv': 8559, 'grabbed': 8560, 'mono': 8561, 'speaker': 8562, 'treen': 8563, 'eligible': 8564, 'bachelor': 8565, 'hitched': 8566, 'fiancée': 8567, 'bandit': 8568, 'untidy': 8569, 'mining': 8570, 'swindler': 8571, 'carey': 8572, 'quigley': 8573, 'knight': 8574, 'telecast': 8575, 'patting': 8576, 'eg': 8577, 'diana': 8578, 'babtise': 8579, 'deserving': 8580, 'voter': 8581, 'kidman': 8582, 'sang': 8583, 'prettily': 8584, 'muling': 8585, 'rouge': 8586, 'accommodated': 8587, 'owed': 8588, 'malcomx': 8589, 'stereo': 8590, 'basset': 8591, 'inflicting': 8592, 'lacked': 8593, 'cusak': 8594, 'moodiness': 8595, 'pol': 8596, 'bridget': 8597, 'fonda': 8598, 'rail': 8599, 'snooping': 8600, 'meddling': 8601, 'junkyard': 8602, 'vito': 8603, 'liang': 8604, 'boddhisatva': 8605, 'deplorable': 8606, 'bilitis': 8607, 'connecting': 8608, 'enables': 8609, 'schulmädchen': 8610, 'varies': 8611, 'tent': 8612, 'dared': 8613, 'imp': 8614, 'greatness': 8615, 'bodyguard': 8616, 'huntsbery': 8617, 'pleaseee': 8618, 'maestro': 8619, 'disembodied': 8620, 'schizophrenic': 8621, 'scheming': 8622, 'nutzo': 8623, 'minister': 8624, 'aip': 8625, 'insomnia': 8626, 'audacity': 8627, 'casket': 8628, 'fright': 8629, 'lulled': 8630, 'peggy': 8631, 'cutie': 8632, 'communicate': 8633, 'telegraphed': 8634, 'mime': 8635, 'dissect': 8636, 'devgan': 8637, 'wembley': 8638, 'wasim': 8639, 'debutants': 8640, 'ravishing': 8641, 'impressing': 8642, 'overnight': 8643, 'manjit': 8644, 'khosla': 8645, 'envious': 8646, 'blight': 8647, 'vipul': 8648, 'amritlal': 8649, 'sha': 8650, 'namaste': 8651, 'visualized': 8652, 'glorified': 8653, 'cameraman': 8654, 'suresh': 8655, 'nair': 8656, 'dulls': 8657, 'defined': 8658, 'hummable': 8659, 'noisy': 8660, 'monotonous': 8661, 'irks': 8662, 'brinda': 8663, 'bitch': 8664, 'ompuri': 8665, 'ongoing': 8666, 'noth': 8667, 'recruit': 8668, 'propagandist': 8669, 'conceal': 8670, 'patriot': 8671, 'disdain': 8672, 'affliction': 8673, 'appraise': 8674, 'gilmore': 8675, 'saffron': 8676, 'burroughs': 8677, 'jada': 8678, 'pinkett': 8679, 'doubted': 8680, 'reassurance': 8681, 'cited': 8682, 'susannah': 8683, 'unmoved': 8684, 'ciarán': 8685, 'hind': 8686, 'morton': 8687, 'billing': 8688, 'retreat': 8689, 'surrender': 8690, 'budgeted': 8691, 'credited': 8692, 'kirkin': 8693, 'earthquake': 8694, 'arturo': 8695, 'whichever': 8696, 'vern': 8697, 'tougher': 8698, 'macgyver': 8699, 'resounding': 8700, 'photographing': 8701, 'suggestible': 8702, 'wacky': 8703, 'commits': 8704, 'cv': 8705, 'motive': 8706, 'toll': 8707, 'rosanne': 8708, 'soorya': 8709, 'disinterested': 8710, 'sack': 8711, 'cinemax': 8712, 'cheapie': 8713, 'eerie': 8714, 'farfetched': 8715, 'functional': 8716, 'lab': 8717, 'chimp': 8718, 'rebuttle': 8719, 'afi': 8720, 'comparrison': 8721, 'kalifornia': 8722, 'hollywoodish': 8723, 'wannabee': 8724, 'duchovny': 8725, 'forbes': 8726, 'unproduced': 8727, 'shiri': 8728, 'superheroine': 8729, 'dreck': 8730, 'notably': 8731, 'remo': 8732, 'contrary': 8733, 'remedy': 8734, 'adhd': 8735, 'cafe': 8736, 'latte': 8737, 'assumes': 8738, 'tugging': 8739, 'splash': 8740, 'berg': 8741, 'thankless': 8742, 'improvised': 8743, 'chuckled': 8744, 'streneously': 8745, 'bust': 8746, 'knockoff': 8747, 'specializes': 8748, 'goblet': 8749, 'anthropophagus': 8750, 'ineptness': 8751, 'z': 8752, 'chooper': 8753, 'nikos': 8754, 'impaler': 8755, 'nevermind': 8756, 'styled': 8757, 'neatness': 8758, 'assuaged': 8759, 'undies': 8760, 'preparation': 8761, 'winced': 8762, 'bruise': 8763, 'sustained': 8764, 'caldicott': 8765, 'argumentative': 8766, 'organizer': 8767, 'retrieval': 8768, 'culpable': 8769, 'negligence': 8770, 'toughen': 8771, 'epos': 8772, 'guarantee': 8773, 'pavey': 8774, 'achiever': 8775, 'monumentally': 8776, 'admirable': 8777, 'ketchim': 8778, 'pikachu': 8779, 'celebi': 8780, 'brock': 8781, 'impaled': 8782, 'bratty': 8783, 'trippy': 8784, 'daft': 8785, 'cleaned': 8786, 'wraith': 8787, 'swooping': 8788, 'intrusive': 8789, 'documented': 8790, 'philippa': 8791, 'boyens': 8792, 'deviate': 8793, 'onion': 8794, 'av': 8795, 'humming': 8796, 'supposebly': 8797, 'vocalist': 8798, 'makeing': 8799, 'cemetary': 8800, 'cheezy': 8801, 'embarassing': 8802, 'ballet': 8803, 'moriarity': 8804, 'loveliest': 8805, 'endemic': 8806, 'inferiority': 8807, 'dictate': 8808, 'seattle': 8809, 'embarassed': 8810, 'piffle': 8811, 'sctv': 8812, 'kaufmann': 8813, 'karaoke': 8814, 'patheticness': 8815, 'subjecting': 8816, 'auditioning': 8817, 'talentless': 8818, 'trot': 8819, 'doozies': 8820, 'imaginable': 8821, 'uncreative': 8822, 'emcee': 8823, 'booting': 8824, 'rekindling': 8825, 'oblivion': 8826, 'wahlberg': 8827, 'crashed': 8828, 'aaaahhhhhhh': 8829, 'foole': 8830, 'pestered': 8831, 'unpublished': 8832, 'shady': 8833, 'novice': 8834, 'autumn': 8835, 'consequential': 8836, 'frustration': 8837, 'utilize': 8838, 'bitterly': 8839, 'touchingly': 8840, 'beautify': 8841, 'beijing': 8842, 'pub': 8843, 'innate': 8844, 'dispiritedness': 8845, 'reticence': 8846, 'energetic': 8847, 'underneath': 8848, 'incomprehendably': 8849, 'puppetry': 8850, 'intervention': 8851, 'neecessary': 8852, 'cheesiest': 8853, 'japanamation': 8854, 'lego': 8855, 'outdo': 8856, 'pristine': 8857, 'michelangelo': 8858, 'ewing': 8859, 'superlative': 8860, 'obtaining': 8861, 'spellbound': 8862, 'artisty': 8863, 'panoramic': 8864, 'housed': 8865, 'insititue': 8866, 'university': 8867, 'composition': 8868, 'balancing': 8869, 'choreographic': 8870, 'turbulent': 8871, 'collage': 8872, 'embroider': 8873, 'embellishment': 8874, 'rapt': 8875, 'tangentially': 8876, 'aleination': 8877, 'recurring': 8878, 'appreciative': 8879, 'thunderous': 8880, 'applause': 8881, 'soaper': 8882, 'duckling': 8883, 'shun': 8884, 'premeditated': 8885, 'chalantly': 8886, 'erection': 8887, 'hump': 8888, 'telephone': 8889, 'shyness': 8890, 'prepares': 8891, 'shift': 8892, 'screw': 8893, 'calf': 8894, 'quasimodo': 8895, 'cutish': 8896, 'nepotism': 8897, 'nepotist': 8898, 'cgis': 8899, 'indescribable': 8900, 'bunker': 8901, 'digicorps': 8902, 'data': 8903, 'emphasized': 8904, 'louder': 8905, 'hmm': 8906, 'projector': 8907, 'replica': 8908, 'consisting': 8909, 'superimposed': 8910, 'unfurnished': 8911, 'budgetary': 8912, 'greenhouse': 8913, 'noel': 8914, 'coward': 8915, 'gong': 8916, 'bon': 8917, 'mot': 8918, 'deathless': 8919, 'prose': 8920, 'focal': 8921, 'ounce': 8922, 'individuality': 8923, 'luftwaffe': 8924, 'submission': 8925, 'maltese': 8926, 'recognised': 8927, 'patronising': 8928, 'cobbled': 8929, 'deadline': 8930, 'brotherly': 8931, 'dominick': 8932, 'eugene': 8933, 'baltimore': 8934, 'rivalry': 8935, 'gehrig': 8936, 'sufferer': 8937, 'bonham': 8938, 'quirky': 8939, 'misbehaves': 8940, 'companionship': 8941, 'tha': 8942, 'tedium': 8943, 'grasped': 8944, 'preference': 8945, 'cheerleader': 8946, 'waft': 8947, 'swagger': 8948, 'mortality': 8949, 'chintzy': 8950, 'homicidally': 8951, 'frequent': 8952, 'alerted': 8953, 'pugsley': 8954, 'doughnut': 8955, 'inspire': 8956, 'manly': 8957, 'coastal': 8958, 'lend': 8959, 'archive': 8960, 'trashed': 8961, 'copyright': 8962, 'recordable': 8963, 'pinter': 8964, 'whiteflokati': 8965, 'hotmail': 8966, 'omitted': 8967, 'evacuee': 8968, 'killjoy': 8969, 'sykes': 8970, 'saturate': 8971, 'hopeless': 8972, 'rourke': 8973, 'edgar': 8974, 'ramirez': 8975, 'echoing': 8976, 'straddling': 8977, 'prequels': 8978, 'overwhelmingly': 8979, 'sabre': 8980, 'dooku': 8981, 'binks': 8982, 'chancellor': 8983, 'lava': 8984, 'dominican': 8985, 'republican': 8986, 'npr': 8987, 'unappealing': 8988, 'automobile': 8989, 'smoking': 8990, 'cheapen': 8991, 'estimation': 8992, 'beaty': 8993, 'stray': 8994, 'mikey': 8995, 'indifference': 8996, 'detested': 8997, 'rube': 8998, 'statistic': 8999, 'unscrupulous': 9000, 'honorable': 9001, 'shaky': 9002, 'unscrupulously': 9003, 'sant': 9004, 'noche': 9005, 'rehash': 9006, 'showcasing': 9007, 'thrust': 9008, 'intricate': 9009, 'confined': 9010, 'bloodshed': 9011, 'naysay': 9012, 'blaster': 9013, 'subtitled': 9014, 'spooking': 9015, 'kajawari': 9016, 'yoshiaki': 9017, 'hentai': 9018, 'ecchi': 9019, 'campiness': 9020, 'psychedelic': 9021, 'helumis': 9022, 'worsle': 9023, 'prim': 9024, 'englishman': 9025, 'invade': 9026, 'briny': 9027, 'sherman': 9028, 'outdid': 9029, 'substituting': 9030, 'operating': 9031, 'tattoo': 9032, 'intimated': 9033, 'likelihood': 9034, 'enriched': 9035, 'stupider': 9036, 'register': 9037, 'interracial': 9038, 'multitude': 9039, 'necessity': 9040, 'fonze': 9041, 'winckler': 9042, 'unite': 9043, 'mammarian': 9044, 'natividad': 9045, 'haji': 9046, 'raven': 9047, 'croix': 9048, 'lorna': 9049, 'maitland': 9050, 'tura': 9051, 'satana': 9052, 'babette': 9053, 'bardot': 9054, 'abomination': 9055, 'superpower': 9056, 'cockazilla': 9057, 'cancer': 9058, 'oy': 9059, 'megalunged': 9060, 'trotted': 9061, 'boulder': 9062, 'saggy': 9063, 'sheri': 9064, 'ooga': 9065, 'booby': 9066, 'juvenile': 9067, 'succinct': 9068, 'synonym': 9069, 'canonical': 9070, 'treasure': 9071, 'mum': 9072, 'deformed': 9073, 'reside': 9074, 'awoken': 9075, 'awaits': 9076, 'myth': 9077, 'traditionally': 9078, 'marginally': 9079, 'cory': 9080, 'hounded': 9081, 'bowman': 9082, 'contrasting': 9083, 'stodgy': 9084, 'occurring': 9085, 'repulsive': 9086, 'gruel': 9087, 'gooey': 9088, 'robe': 9089, 'bubbling': 9090, 'carve': 9091, 'atmospherically': 9092, 'eeriness': 9093, 'muñoz': 9094, 'lochlyn': 9095, 'munro': 9096, 'causal': 9097, 'darcey': 9098, 'radiantly': 9099, 'fleming': 9100, 'lodger': 9101, 'superstitious': 9102, 'neighbour': 9103, 'lurks': 9104, 'waster': 9105, 'indicating': 9106, 'spouse': 9107, 'hallmark': 9108, 'decoration': 9109, 'patriarch': 9110, 'snowman': 9111, 'inflating': 9112, 'justins': 9113, 'diligence': 9114, 'jm': 9115, 'coffin': 9116, 'burglar': 9117, 'tinsel': 9118, 'hottest': 9119, 'racy': 9120, 'relegated': 9121, 'mansfield': 9122, 'loan': 9123, 'suzy': 9124, 'agreeing': 9125, 'squealing': 9126, 'boiler': 9127, 'jangle': 9128, 'dross': 9129, 'parading': 9130, 'omar': 9131, 'sharif': 9132, 'fleischer': 9133, 'infuriatingly': 9134, 'sixteenth': 9135, 'explorer': 9136, 'hernando': 9137, 'ziering': 9138, 'rio': 9139, 'marco': 9140, 'sanchez': 9141, 'ulterior': 9142, 'trenchard': 9143, 'coincidently': 9144, 'commonly': 9145, 'conquistador': 9146, 'expedition': 9147, 'accuracy': 9148, 'cutout': 9149, 'backstabbing': 9150, 'bitten': 9151, 'styrofoam': 9152, 'enclosure': 9153, 'waist': 9154, 'stepped': 9155, 'ahu': 9156, 'desirable': 9157, 'outdated': 9158, 'aim': 9159, 'showcase': 9160, 'dehumanizing': 9161, 'obey': 9162, 'threshold': 9163, 'arouses': 9164, 'declamatory': 9165, 'oldie': 9166, 'clockwork': 9167, 'sentimentalism': 9168, 'refinement': 9169, 'horrifyingly': 9170, 'quarter': 9171, 'preached': 9172, 'cumulative': 9173, 'summed': 9174, 'hitcher': 9175, 'transmits': 9176, 'decipher': 9177, 'melting': 9178, 'unnaturally': 9179, 'generates': 9180, 'decodes': 9181, 'breached': 9182, 'dormant': 9183, 'suspiciously': 9184, 'antarctic': 9185, 'woken': 9186, 'pod': 9187, 'transmitting': 9188, 'encoded': 9189, 'diverted': 9190, 'grandfather': 9191, 'attest': 9192, 'cropping': 9193, 'undertaking': 9194, 'decry': 9195, 'comprehensive': 9196, 'reprising': 9197, 'escapism': 9198, 'ridden': 9199, 'vowed': 9200, 'glue': 9201, 'coop': 9202, 'anxiously': 9203, 'await': 9204, 'twaddle': 9205, 'ensures': 9206, 'dispense': 9207, 'sporadic': 9208, 'uninteresting': 9209, 'perfectionist': 9210, 'credibly': 9211, 'foulness': 9212, 'fellatio': 9213, 'marvellous': 9214, 'cleanliness': 9215, 'ruffalo': 9216, 'clone': 9217, 'proficient': 9218, 'pleasurable': 9219, 'grizly': 9220, 'gorehounds': 9221, 'primary': 9222, 'uncommon': 9223, 'intricacy': 9224, 'edison': 9225, 'defied': 9226, 'subverts': 9227, 'distorts': 9228, 'ignorantly': 9229, 'idealized': 9230, 'cambodian': 9231, 'condemning': 9232, 'alienating': 9233, 'artistry': 9234, 'determining': 9235, 'connect': 9236, 'loretta': 9237, 'glenda': 9238, 'hatcheck': 9239, 'ferdinand': 9240, 'gottschalk': 9241, 'diver': 9242, 'freezing': 9243, 'anticipation': 9244, 'heroism': 9245, 'concho': 9246, 'phenomenal': 9247, 'precursor': 9248, 'bullying': 9249, 'liberating': 9250, 'savior': 9251, 'inflicted': 9252, 'schrader': 9253, 'rhythm': 9254, 'rescued': 9255, 'katja': 9256, 'jabber': 9257, 'tormented': 9258, 'rosenstrasse': 9259, 'answered': 9260, 'fischer': 9261, 'guise': 9262, 'spiritually': 9263, 'cleansed': 9264, 'sickest': 9265, 'slimiest': 9266, 'finishing': 9267, 'del': 9268, 'plata': 9269, 'argentina': 9270, 'waaaay': 9271, 'appealingly': 9272, 'spunky': 9273, 'lamm': 9274, 'vicki': 9275, 'bares': 9276, 'tasty': 9277, 'solvang': 9278, 'annual': 9279, 'booked': 9280, 'swanky': 9281, 'ernest': 9282, 'geeky': 9283, 'lassick': 9284, 'meek': 9285, 'lelia': 9286, 'goldoni': 9287, 'residing': 9288, 'dank': 9289, 'diapered': 9290, 'spawned': 9291, 'mongoloid': 9292, 'furst': 9293, 'wreaks': 9294, 'havoc': 9295, 'steinmann': 9296, 'craig': 9297, 'reardon': 9298, 'unjustly': 9299, 'sleeper': 9300, 'morningstar': 9301, 'leadership': 9302, 'trusted': 9303, 'willi': 9304, 'alexandra': 9305, 'staden': 9306, 'oldman': 9307, 'scarface': 9308, 'conceit': 9309, 'repossessing': 9310, 'morph': 9311, 'venting': 9312, 'cohesive': 9313, 'coronary': 9314, 'wuss': 9315, 'saddled': 9316, 'harpy': 9317, 'operation': 9318, 'mall': 9319, 'ditzy': 9320, 'reserved': 9321, 'embodiment': 9322, 'sausage': 9323, 'lash': 9324, 'unwanted': 9325, 'unloved': 9326, 'nimrod': 9327, 'boiled': 9328, 'bah': 9329, 'bacharach': 9330, 'unnerving': 9331, 'aneta': 9332, 'corsaut': 9333, 'howland': 9334, 'howlin': 9335, 'crater': 9336, 'unwisely': 9337, 'laying': 9338, 'jelly': 9339, 'slide': 9340, 'attachés': 9341, 'minding': 9342, 'alden': 9343, 'devouring': 9344, 'rowe': 9345, 'suspecting': 9346, 'franke': 9347, 'mooch': 9348, 'bonnet': 9349, 'yeaworth': 9350, 'doughton': 9351, 'linaker': 9352, 'simonson': 9353, 'yuck': 9354, 'clunky': 9355, 'paton': 9356, 'payton': 9357, 'calmly': 9358, 'sprinting': 9359, 'blink': 9360, 'gabrielle': 9361, 'anwar': 9362, 'adore': 9363, 'unusually': 9364, 'cancelled': 9365, 'rectified': 9366, 'clooney': 9367, 'effortless': 9368, 'gayle': 9369, 'graver': 9370, 'uschi': 9371, 'sits': 9372, 'woke': 9373, 'weirdo': 9374, 'bra': 9375, 'eloquence': 9376, 'garver': 9377, 'gale': 9378, 'distributed': 9379, 'refers': 9380, 'usurer': 9381, 'shylock': 9382, 'characterized': 9383, 'cultivated': 9384, 'unperceived': 9385, 'machination': 9386, 'donating': 9387, 'perceive': 9388, 'programmed': 9389, 'conveying': 9390, 'resolute': 9391, 'expiate': 9392, 'constructive': 9393, 'bible': 9394, 'organ': 9395, 'undeservedly': 9396, 'spelled': 9397, 'culturally': 9398, 'impromptu': 9399, 'platform': 9400, 'knot': 9401, 'lowest': 9402, 'denominator': 9403, 'rohmer': 9404, 'encrusted': 9405, 'misconception': 9406, 'historian': 9407, 'staunch': 9408, 'royalist': 9409, 'elected': 9410, 'masterly': 9411, 'maidservant': 9412, 'meudon': 9413, 'telescope': 9414, 'aristocrat': 9415, 'keenly': 9416, 'insinuated': 9417, 'powerfully': 9418, 'pompous': 9419, 'accounting': 9420, 'existing': 9421, 'pivotal': 9422, 'amply': 9423, 'rewarded': 9424, 'nephilim': 9425, 'archangel': 9426, 'yech': 9427, 'drudgery': 9428, 'assure': 9429, 'uhhh': 9430, 'attended': 9431, 'marla': 9432, 'rosenfield': 9433, 'adequate': 9434, 'dj': 9435, 'steele': 9436, 'escapee': 9437, 'totalitarian': 9438, 'convict': 9439, 'buzzsaw': 9440, 'chainsaw': 9441, 'fireball': 9442, 'prefers': 9443, 'flamethrower': 9444, 'fittingly': 9445, 'witticism': 9446, 'killian': 9447, 'legion': 9448, 'equalled': 9449, 'faithfully': 9450, 'lapped': 9451, 'det': 9452, 'nom': 9453, 'plume': 9454, 'bachman': 9455, 'tat': 9456, 'shoddiness': 9457, 'cache': 9458, 'billboard': 9459, 'advancement': 9460, 'recommending': 9461, 'shepis': 9462, 'refreshment': 9463, 'snack': 9464, 'cap': 9465, 'reece': 9466, 'witherspoon': 9467, 'sammo': 9468, 'hung': 9469, 'warrios': 9470, 'wuxia': 9471, 'ancient': 9472, 'therefor': 9473, 'sylvester': 9474, 'renny': 9475, 'commendable': 9476, 'craggy': 9477, 'audaciously': 9478, 'balbao': 9479, 'engulf': 9480, 'biting': 9481, 'capped': 9482, 'alp': 9483, 'unfolding': 9484, 'deceit': 9485, 'treachery': 9486, 'antagonist': 9487, 'trepidation': 9488, 'parlance': 9489, 'endows': 9490, 'brazen': 9491, 'paradise': 9492, 'debauchery': 9493, 'melrose': 9494, 'manipulating': 9495, 'slowing': 9496, 'kiefer': 9497, 'suderland': 9498, 'somesuch': 9499, 'dotted': 9500, 'poe': 9501, 'bogdonovitch': 9502, 'bogdonovich': 9503, 'moonlighting': 9504, 'overseas': 9505, 'stoic': 9506, 'laconic': 9507, 'desolate': 9508, 'mekum': 9509, 'isaac': 9510, 'genetically': 9511, 'engineered': 9512, 'combatant': 9513, 'reliant': 9514, 'provocative': 9515, 'maintaining': 9516, 'repressed': 9517, 'stirring': 9518, 'pantomime': 9519, 'conveys': 9520, 'nielson': 9521, 'mace': 9522, 'jared': 9523, 'thorne': 9524, 'seasoned': 9525, 'chiklis': 9526, 'wehle': 9527, 'sensible': 9528, 'merciless': 9529, 'tattersall': 9530, 'mcneely': 9531, 'bawling': 9532, 'ferdie': 9533, 'lap': 9534, 'lick': 9535, 'overjoyed': 9536, 'cripes': 9537, 'estimating': 9538, 'loin': 9539, 'lingerie': 9540, 'exceedingly': 9541, 'gc': 9542, 'dune': 9543, 'attorney': 9544, 'cricket': 9545, 'shortened': 9546, 'haim': 9547, 'skilled': 9548, 'distorted': 9549, 'controlled': 9550, 'concrete': 9551, 'bastard': 9552, 'localize': 9553, 'someway': 9554, 'amplified': 9555, 'dismantles': 9556, 'synecdoche': 9557, 'melange': 9558, 'rhetorical': 9559, 'shade': 9560, 'suicidal': 9561, 'temporal': 9562, 'irritatingly': 9563, 'convertible': 9564, 'vw': 9565, 'grief': 9566, 'mhmmm': 9567, 'indiscriminately': 9568, 'pictograms': 9569, 'mn': 9570, 'electronics': 9571, 'mned': 9572, 'bemused': 9573, 'agreement': 9574, 'swoop': 9575, 'rang': 9576, 'yelled': 9577, 'pistol': 9578, 'monters': 9579, 'horde': 9580, 'bloodthirsty': 9581, 'freaking': 9582, 'ravensback': 9583, 'casio': 9584, 'keyboard': 9585, 'gorefests': 9586, 'rib': 9587, 'mockery': 9588, 'bytch': 9589, 'slapping': 9590, 'hitch': 9591, 'hiker': 9592, 'skewer': 9593, 'mercilessly': 9594, 'dishing': 9595, 'captor': 9596, 'shtick': 9597, 'abound': 9598, 'sammy': 9599, 'raul': 9600, 'sonia': 9601, 'braga': 9602, 'engrossing': 9603, 'davison': 9604, 'inferno': 9605, 'priceless': 9606, 'nostalgic': 9607, 'wondrous': 9608, 'annabel': 9609, 'schofield': 9610, 'cuter': 9611, 'resolving': 9612, 'leaden': 9613, 'undergoes': 9614, 'metamorphosis': 9615, 'muppets': 9616, 'unusal': 9617, 'quiz': 9618, 'poach': 9619, 'pap': 9620, 'savvy': 9621, 'fawlty': 9622, 'jo': 9623, 'roper': 9624, 'wilde': 9625, 'chrissy': 9626, 'unwell': 9627, 'nuff': 9628, 'chamberlain': 9629, 'defending': 9630, 'aboriginal': 9631, 'murdering': 9632, 'picnic': 9633, 'gulf': 9634, 'superstition': 9635, 'domesticated': 9636, 'evaporates': 9637, 'hailstorm': 9638, 'bathtub': 9639, 'overflowing': 9640, 'pouring': 9641, 'mud': 9642, 'intuitive': 9643, 'hamnet': 9644, 'gulpilil': 9645, 'inquiry': 9646, 'nadjiwarra': 9647, 'amagula': 9648, 'sorcerer': 9649, 'defendant': 9650, 'disclose': 9651, 'stepfather': 9652, 'reverend': 9653, 'deepest': 9654, 'pondering': 9655, 'wee': 9656, 'hopi': 9657, 'mayan': 9658, 'purification': 9659, 'vibrant': 9660, 'subjugated': 9661, 'gnawing': 9662, 'consensual': 9663, 'perpetuates': 9664, 'orientation': 9665, 'uncontrollable': 9666, 'masayuki': 9667, 'fancy': 9668, 'sumo': 9669, 'naoto': 9670, 'knack': 9671, 'aspire': 9672, 'transcendence': 9673, 'dmd': 9674, 'adventurous': 9675, 'cypher': 9676, 'illusive': 9677, 'northam': 9678, 'immerse': 9679, 'espionage': 9680, 'latecomer': 9681, 'patti': 9682, 'lombardi': 9683, 'repressive': 9684, 'peary': 9685, 'arden': 9686, 'beefed': 9687, 'absurdist': 9688, 'exploding': 9689, 'hansel': 9690, 'gretel': 9691, 'furiously': 9692, 'lobotomy': 9693, 'blowout': 9694, 'marky': 9695, 'ramonesmobile': 9696, 'slinking': 9697, 'exhilarating': 9698, 'explosive': 9699, 'loudest': 9700, 'optional': 9701, 'addressed': 9702, 'greed': 9703, 'cinemagraphic': 9704, 'utmost': 9705, 'piédras': 9706, 'fetischist': 9707, 'madame': 9708, 'moviemakers': 9709, 'unsatisfactory': 9710, 'outwits': 9711, 'lawman': 9712, 'greenhorn': 9713, 'follower': 9714, 'customary': 9715, 'fordian': 9716, 'repellent': 9717, 'lusty': 9718, 'dundee': 9719, 'tcm': 9720, 'valediction': 9721, 'penny': 9722, 'garrett': 9723, 'ageing': 9724, 'relishing': 9725, 'sadistically': 9726, 'el': 9727, 'cid': 9728, 'villainous': 9729, 'bushfire': 9730, 'ignited': 9731, 'practiced': 9732, 'ineffectual': 9733, 'jorge': 9734, 'rivero': 9735, 'wilcox': 9736, 'drooling': 9737, 'goldsmith': 9738, 'flavorful': 9739, 'structured': 9740, 'polluted': 9741, 'shelby': 9742, 'angelina': 9743, 'bg': 9744, 'shakespearean': 9745, 'irishman': 9746, 'cleanly': 9747, 'upstage': 9748, 'katie': 9749, 'altamont': 9750, 'unbelievably': 9751, 'spinning': 9752, 'platonic': 9753, 'escort': 9754, 'withstanding': 9755, 'apropos': 9756, 'subversive': 9757, 'h': 9758, 'reared': 9759, 'characteristic': 9760, 'umber': 9761, 'prevails': 9762, 'brightness': 9763, 'saturation': 9764, 'theatrically': 9765, 'stoltz': 9766, 'paula': 9767, 'malcomson': 9768, 'deadwood': 9769, 'zoe': 9770, 'alessandra': 9771, 'torresani': 9772, 'esai': 9773, 'morale': 9774, 'adama': 9775, 'permeate': 9776, 'humanoid': 9777, 'typed': 9778, 'trunk': 9779, 'goodfellas': 9780, 'ratio': 9781, 'transfered': 9782, 'improves': 9783, 'spider': 9784, 'shield': 9785, 'spidey': 9786, 'venom': 9787, 'rhino': 9788, 'mysterio': 9789, 'octopus': 9790, 'require': 9791, 'evaluation': 9792, 'pegasus': 9793, 'hatch': 9794, 'dirk': 9795, 'benedict': 9796, 'herb': 9797, 'jefferson': 9798, 'swartz': 9799, 'stauffer': 9800, 'belinda': 9801, 'pickard': 9802, 'preformed': 9803, 'celled': 9804, 'beset': 9805, 'excitied': 9806, 'newcombe': 9807, 'jonestown': 9808, 'praising': 9809, 'complaining': 9810, 'bash': 9811, 'consume': 9812, 'messiah': 9813, 'musically': 9814, 'ondi': 9815, 'timoner': 9816, 'piecing': 9817, 'transcends': 9818, 'insufficiently': 9819, 'explored': 9820, 'artificially': 9821, 'evolve': 9822, 'kiki': 9823, 'falter': 9824, 'chirila': 9825, 'puya': 9826, 'harmonica': 9827, 'gunslinging': 9828, 'addict': 9829, 'craptastic': 9830, 'poker': 9831, 'reeking': 9832, 'containing': 9833, 'predictability': 9834, 'reevaluate': 9835, 'youngster': 9836, 'centred': 9837, 'syringe': 9838, 'realised': 9839, 'cartilage': 9840, 'seizing': 9841, 'witcheepoo': 9842, 'decidedly': 9843, 'precedent': 9844, 'mccheese': 9845, 'googly': 9846, 'stream': 9847, 'witchypoo': 9848, 'flavour': 9849, 'animating': 9850, 'flea': 9851, 'groening': 9852, 'crummy': 9853, 'airtime': 9854, 'irrational': 9855, 'dexter': 9856, 'laboratory': 9857, 'powerpuff': 9858, 'consummated': 9859, 'dipping': 9860, 'engineer': 9861, 'retrieves': 9862, 'eyeful': 9863, 'zen': 9864, 'honeymoon': 9865, 'denied': 9866, 'undressed': 9867, 'gustav': 9868, 'machatý': 9869, 'propose': 9870, 'resolve': 9871, 'spelling': 9872, 'muppet': 9873, 'grover': 9874, 'hooper': 9875, 'adoptive': 9876, 'elmo': 9877, 'hr': 9878, 'geared': 9879, 'prided': 9880, 'neighborhood': 9881, 'counting': 9882, 'complimented': 9883, 'veering': 9884, 'slope': 9885, 'tamer': 9886, 'deplore': 9887, 'cynically': 9888, 'bordered': 9889, 'poison': 9890, 'tending': 9891, 'hokeyness': 9892, 'gooders': 9893, 'novak': 9894, 'gen': 9895, 'er': 9896, 'kraft': 9897, 'submitted': 9898, 'satirize': 9899, 'arielle': 9900, 'dombasle': 9901, 'disrobing': 9902, 'instic': 9903, 'reble': 9904, 'deanna': 9905, 'erkia': 9906, 'qualm': 9907, 'viel': 9908, 'reinvigorated': 9909, 'plagued': 9910, 'exposure': 9911, 'peerlessly': 9912, 'polluting': 9913, 'unleashing': 9914, 'granny': 9915, 'bleed': 9916, 'ammunition': 9917, 'contemptible': 9918, 'catalogue': 9919, 'arrival': 9920, 'roamed': 9921, 'burnt': 9922, 'woodland': 9923, 'refuge': 9924, 'fodder': 9925, 'spooked': 9926, 'creeping': 9927, 'jinxed': 9928, 'characteristically': 9929, 'primadonna': 9930, 'removing': 9931, 'trim': 9932, 'boosted': 9933, 'parted': 9934, 'vault': 9935, 'screener': 9936, 'goriest': 9937, 'disemboweled': 9938, 'rectum': 9939, 'strangled': 9940, 'unflinching': 9941, 'grieco': 9942, 'thinly': 9943, 'downfall': 9944, 'inclusion': 9945, 'watering': 9946, 'whip': 9947, 'sticking': 9948, 'xxx': 9949, 'oirish': 9950, 'hulking': 9951, 'chou': 9952, 'injection': 9953, 'net': 9954, 'hound': 9955, 'rumor': 9956, 'drafted': 9957, 'intact': 9958, 'distribution': 9959, 'destination': 9960, 'recommendation': 9961, 'matinee': 9962, 'meticulously': 9963, 'metaphysical': 9964, 'reservation': 9965, 'sided': 9966, 'integration': 9967, 'ambiguity': 9968, 'maintained': 9969, 'catalyst': 9970, 'swoon': 9971, 'hooooottttttttttt': 9972, 'clammy': 9973, 'refer': 9974, 'broadly': 9975, 'bogart': 9976, 'sas': 9977, 'outline': 9978, 'elicit': 9979, 'eschewed': 9980, 'labyrinthine': 9981, 'hammett': 9982, 'chandler': 9983, 'angelica': 9984, 'huston': 9985, 'anette': 9986, 'benning': 9987, 'penultimate': 9988, 'excluding': 9989, 'amicable': 9990, 'embittered': 9991, 'labour': 9992, 'troublesome': 9993, 'cowhand': 9994, 'confiscated': 9995, 'larcenous': 9996, 'callous': 9997, 'critter': 9998, 'breadth': 9999, 'recognises': 10000, 'revelling': 10001, 'kindred': 10002, 'genially': 10003, 'recognise': 10004, 'unspoken': 10005, 'acknowledgement': 10006, 'roman': 10007, 'corinne': 10008, 'calvert': 10009, 'rockies': 10010, 'distinctly': 10011, 'evicted': 10012, 'butch': 10013, 'mammy': 10014, 'competing': 10015, 'equation': 10016, 'shoved': 10017, 'obscure': 10018, 'tackled': 10019, 'diverse': 10020, 'adoption': 10021, 'ntsc': 10022, 'rebound': 10023, 'fatally': 10024, 'miscalculate': 10025, 'saunders': 10026, 'reversal': 10027, 'quirk': 10028, 'squanders': 10029, 'izzard': 10030, 'lite': 10031, 'domination': 10032, 'grudge': 10033, 'confides': 10034, 'rainn': 10035, 'whacked': 10036, 'dilutes': 10037, 'perky': 10038, 'inherently': 10039, 'sufficient': 10040, 'malden': 10041, 'maggie': 10042, 'informs': 10043, 'invested': 10044, 'laundering': 10045, 'eyeball': 10046, 'optical': 10047, 'bombard': 10048, 'fanboy': 10049, 'tender': 10050, 'puh': 10051, 'lease': 10052, 'superheros': 10053, 'silently': 10054, 'mi': 10055, 'landmass': 10056, 'routh': 10057, 'bosworth': 10058, 'pulitzer': 10059, 'marsden': 10060, 'acquire': 10061, 'capsule': 10062, 'sans': 10063, 'sweater': 10064, 'taint': 10065, 'dishonest': 10066, 'wesley': 10067, 'snipe': 10068, 'annabella': 10069, 'sciorra': 10070, 'flag': 10071, 'undoubtedly': 10072, 'addicting': 10073, 'officially': 10074, 'erasing': 10075, 'bowser': 10076, 'wii': 10077, 'spoiling': 10078, 'herring': 10079, 'sympathize': 10080, 'pedophiliac': 10081, 'predisposed': 10082, 'cope': 10083, 'heckling': 10084, 'partial': 10085, 'travelling': 10086, 'gallien': 10087, 'inquisitor': 10088, 'insignificance': 10089, 'nic': 10090, 'dawned': 10091, 'vietnam': 10092, 'vet': 10093, 'tendency': 10094, 'badie': 10095, 'communion': 10096, 'empowered': 10097, 'swat': 10098, 'secure': 10099, 'irate': 10100, 'scramble': 10101, 'decapitation': 10102, 'electrocution': 10103, 'rasta': 10104, 'route': 10105, 'gracing': 10106, 'munching': 10107, 'freshly': 10108, 'researching': 10109, 'darkheart': 10110, 'voicing': 10111, 'adorable': 10112, 'bethany': 10113, 'theoretical': 10114, 'gospel': 10115, 'resolutely': 10116, 'dishonesty': 10117, 'manipulation': 10118, 'parking': 10119, 'damning': 10120, 'fraudulence': 10121, 'disproved': 10122, 'snarky': 10123, 'conflated': 10124, 'falwell': 10125, 'branch': 10126, 'davidians': 10127, 'lashing': 10128, 'misplaced': 10129, 'historicity': 10130, 'congratulatory': 10131, 'deflate': 10132, 'acumen': 10133, 'dawkins': 10134, 'rigor': 10135, 'attribute': 10136, 'banger': 10137, 'ether': 10138, 'mcbeal': 10139, 'preservation': 10140, 'rwint': 10141, 'soaring': 10142, 'breaker': 10143, 'frisky': 10144, 'tepper': 10145, 'omitting': 10146, 'ogend': 10147, 'stiers': 10148, 'powder': 10149, 'ucla': 10150, 'readying': 10151, 'gittes': 10152, 'jakes': 10153, 'checkout': 10154, 'expense': 10155, 'baffling': 10156, 'paraded': 10157, 'clerk': 10158, 'uninitiated': 10159, 'barring': 10160, 'pained': 10161, 'cringing': 10162, 'groan': 10163, 'heretofore': 10164, 'monotone': 10165, 'ummm': 10166, 'squirm': 10167, 'worm': 10168, 'overtakes': 10169, 'scarier': 10170, 'banking': 10171, 'torrence': 10172, 'complained': 10173, 'furthers': 10174, 'engages': 10175, 'irritable': 10176, 'typing': 10177, 'connects': 10178, 'warns': 10179, 'duvall': 10180, 'contribute': 10181, 'strangeness': 10182, 'input': 10183, 'brag': 10184, 'unnoticed': 10185, 'reassuring': 10186, 'alters': 10187, 'terrify': 10188, 'asylum': 10189, 'seeker': 10190, 'stuttgart': 10191, 'welcoming': 10192, 'prequel': 10193, 'obtain': 10194, 'mesh': 10195, 'intel': 10196, 'comparing': 10197, 'sterotypes': 10198, 'mantegna': 10199, 'prevailed': 10200, 'healer': 10201, 'placing': 10202, 'manipulated': 10203, 'idioterne': 10204, 'dogme': 10205, 'idealist': 10206, 'mankind': 10207, 'purity': 10208, 'undertone': 10209, 'washed': 10210, 'domestic': 10211, 'import': 10212, 'alla': 10213, 'korot': 10214, 'dorf': 10215, 'hesseman': 10216, 'doddsville': 10217, 'punished': 10218, 'disfigured': 10219, 'thorough': 10220, 'clique': 10221, 'attendee': 10222, 'jester': 10223, 'scarred': 10224, 'intellect': 10225, 'engineering': 10226, 'rig': 10227, 'exacting': 10228, 'tormentor': 10229, 'crescendo': 10230, 'disfigures': 10231, 'tacked': 10232, 'mush': 10233, 'unobtrusive': 10234, 'validates': 10235, 'buh': 10236, 'texasville': 10237, 'instructional': 10238, 'inadvisable': 10239, 'risqué': 10240, 'stripper': 10241, 'scantily': 10242, 'artefact': 10243, 'chiefly': 10244, 'overtake': 10245, 'othello': 10246, 'edmond': 10247, 'brien': 10248, 'besotted': 10249, 'signe': 10250, 'hasso': 10251, 'desdemona': 10252, 'vividly': 10253, 'garson': 10254, 'kanin': 10255, 'cukor': 10256, 'nabbed': 10257, 'miklos': 10258, 'rozsa': 10259, 'eclectic': 10260, 'suave': 10261, 'velvety': 10262, 'farther': 10263, 'jealousy': 10264, 'millard': 10265, 'sawyer': 10266, 'coroner': 10267, 'bissell': 10268, 'expressionist': 10269, 'doings': 10270, 'recover': 10271, 'liveliness': 10272, 'eleanor': 10273, 'geena': 10274, 'orphanage': 10275, 'johnathan': 10276, 'lipnicki': 10277, 'belonging': 10278, 'snowbell': 10279, 'sweeney': 10280, 'estelle': 10281, 'getty': 10282, 'chaz': 10283, 'kirby': 10284, 'tilly': 10285, 'sphinx': 10286, 'concealed': 10287, 'pharaoh': 10288, 'dynasty': 10289, 'luxor': 10290, 'langella': 10291, 'egyptian': 10292, 'refracting': 10293, 'epitomises': 10294, 'inanity': 10295, 'shaffner': 10296, 'whimper': 10297, 'simper': 10298, 'hurricane': 10299, 'egyptologist': 10300, 'giza': 10301, 'pyramid': 10302, 'gush': 10303, 'barf': 10304, 'banality': 10305, 'cyril': 10306, 'swern': 10307, 'recordist': 10308, 'katharina': 10309, 'draughtswoman': 10310, 'tutankhamun': 10311, 'cacophony': 10312, 'nervously': 10313, 'loudspeaker': 10314, 'sophomore': 10315, 'seated': 10316, 'eyesight': 10317, 'fellowship': 10318, 'mote': 10319, 'outlined': 10320, 'chronological': 10321, 'overwhelmed': 10322, 'mediocrity': 10323, 'wizard': 10324, 'flailing': 10325, 'prophet': 10326, 'inexplicably': 10327, 'saruman': 10328, 'aruman': 10329, 'childlike': 10330, 'merrily': 10331, 'procures': 10332, 'lute': 10333, 'visible': 10334, 'strumming': 10335, 'tunic': 10336, 'pilgrim': 10337, 'buckle': 10338, 'swordsman': 10339, 'oftentimes': 10340, 'wobbly': 10341, 'leper': 10342, 'limp': 10343, 'bruinen': 10344, 'horseback': 10345, 'illustrate': 10346, 'hallucinatory': 10347, 'decline': 10348, 'gimli': 10349, 'legolas': 10350, 'bastardized': 10351, 'gnome': 10352, 'pilfered': 10353, 'elmer': 10354, 'fudd': 10355, 'illustration': 10356, 'howl': 10357, 'taller': 10358, 'competency': 10359, 'armament': 10360, 'treebeard': 10361, 'bombadil': 10362, 'whispered': 10363, 'orcs': 10364, 'ravaged': 10365, 'magnitude': 10366, 'blasphemous': 10367, 'visualization': 10368, 'glean': 10369, 'wu': 10370, 'temporarily': 10371, 'striving': 10372, 'buddhist': 10373, 'dcom': 10374, 'soulseek': 10375, 'download': 10376, 'worshiper': 10377, 'raising': 10378, 'crossword': 10379, 'taco': 10380, 'corona': 10381, 'zillion': 10382, 'clinton': 10383, 'presbyterian': 10384, 'snooze': 10385, 'locale': 10386, 'bronx': 10387, 'yorker': 10388, 'insulated': 10389, 'enclave': 10390, 'indoor': 10391, 'tenement': 10392, 'landlord': 10393, 'squeeze': 10394, 'jerking': 10395, 'unspectacular': 10396, 'romancing': 10397, 'ozzie': 10398, 'boomer': 10399, 'librarian': 10400, 'unmistakable': 10401, 'separately': 10402, 'lethargic': 10403, 'vivacious': 10404, 'youthful': 10405, 'achingly': 10406, 'epitomize': 10407, 'treasured': 10408, 'profusely': 10409, 'hughie': 10410, 'roadie': 10411, 'antidote': 10412, 'misogynistic': 10413, 'glam': 10414, 'affectionate': 10415, 'clement': 10416, 'frenais': 10417, 'nye': 10418, 'evita': 10419, 'behaved': 10420, 'aubrey': 10421, 'beached': 10422, 'chloe': 10423, 'dissipates': 10424, 'disconnected': 10425, 'mcgregor': 10426, 'peculiar': 10427, 'gunn': 10428, 'corpulent': 10429, 'continual': 10430, 'bummer': 10431, 'diluted': 10432, 'naïve': 10433, 'southerner': 10434, 'hazy': 10435, 'naiveté': 10436, 'squalor': 10437, 'subconscious': 10438, 'panning': 10439, 'foil': 10440, 'coated': 10441, 'unforgiving': 10442, 'ideal': 10443, 'alienated': 10444, 'tire': 10445, 'hustler': 10446, 'thoughtful': 10447, 'stadling': 10448, 'mommy': 10449, 'viciously': 10450, 'deems': 10451, 'documenting': 10452, 'breakdown': 10453, 'giddily': 10454, 'heaping': 10455, 'insecurity': 10456, 'religiously': 10457, 'prejudiced': 10458, 'friendliest': 10459, 'admission': 10460, 'fethard': 10461, 'insist': 10462, 'unpopular': 10463, 'organise': 10464, 'veto': 10465, 'groping': 10466, 'feely': 10467, 'rondo': 10468, 'ore': 10469, 'textile': 10470, 'degrade': 10471, 'noodling': 10472, 'preamble': 10473, 'figuring': 10474, 'rapidly': 10475, 'bigwig': 10476, 'invention': 10477, 'squelched': 10478, 'oppressor': 10479, 'warp': 10480, 'innovation': 10481, 'improving': 10482, 'toying': 10483, 'gabriele': 10484, 'muccino': 10485, 'alejandro': 10486, 'gonzález': 10487, 'iñárritu': 10488, 'gram': 10489, 'connecticut': 10490, 'deedee': 10491, 'chad': 10492, 'homosexuality': 10493, 'stew': 10494, 'exotically': 10495, 'depresses': 10496, 'shit': 10497, 'storywriting': 10498, 'criticize': 10499, 'turd': 10500, 'yearn': 10501, 'flush': 10502, 'fearful': 10503, 'pollute': 10504, 'mikels': 10505, 'grateful': 10506, 'grail': 10507, 'touchstone': 10508, 'fizzle': 10509, 'evel': 10510, 'address': 10511, 'chauffeur': 10512, 'clipping': 10513, 'esl': 10514, 'detect': 10515, 'så': 10516, 'som': 10517, 'himmelen': 10518, 'detracted': 10519, 'dearest': 10520, 'anders': 10521, 'nyberg': 10522, 'magnificence': 10523, 'pollak': 10524, 'exiting': 10525, 'sweden': 10526, 'beingness': 10527, 'blessing': 10528, 'gratitude': 10529, 'berkovits': 10530, 'soulhealer': 10531, 'johannesburg': 10532, 'helsinki': 10533, 'diy': 10534, 'accustomed': 10535, 'dominating': 10536, 'stellan': 10537, 'stargaard': 10538, 'puff': 10539, 'inasmuch': 10540, 'meting': 10541, 'pursuing': 10542, 'derived': 10543, 'bona': 10544, 'inimitable': 10545, 'dab': 10546, 'employed': 10547, 'perpetrator': 10548, 'unaccountably': 10549, 'jannings': 10550, 'advises': 10551, 'deterred': 10552, 'facility': 10553, 'vigor': 10554, 'recapture': 10555, 'stinson': 10556, 'formulated': 10557, 'conceived': 10558, 'embodies': 10559, 'pioneer': 10560, 'personifies': 10561, 'basil': 10562, 'rathbone': 10563, 'vulnerability': 10564, 'introspective': 10565, 'traumatic': 10566, 'disconcerting': 10567, 'parkins': 10568, 'horace': 10569, 'kevloun': 10570, 'parson': 10571, 'kruger': 10572, 'blend': 10573, 'dispenses': 10574, 'respite': 10575, 'mislead': 10576, 'jackass': 10577, 'erratic': 10578, 'virginity': 10579, 'swearing': 10580, 'zumhofe': 10581, 'okerland': 10582, 'resneck': 10583, 'soup': 10584, 'georgeous': 10585, 'doug': 10586, 'mcleod': 10587, 'announcer': 10588, 'minnesota': 10589, 'ringside': 10590, 'mispronouncing': 10591, 'punched': 10592, 'gusset': 10593, 'punted': 10594, 'piledriver': 10595, 'banned': 10596, 'bockwinkle': 10597, 'rod': 10598, 'trongard': 10599, 'scraped': 10600, 'forehead': 10601, 'lobe': 10602, 'baddest': 10603, 'wwe': 10604, 'wisely': 10605, 'nearest': 10606, 'jumpin': 10607, 'brunzell': 10608, 'dropkick': 10609, 'blackwell': 10610, 'puhleeeeze': 10611, 'mcmahon': 10612, 'gagnes': 10613, 'jobber': 10614, 'wrestle': 10615, 'squash': 10616, 'raging': 10617, 'panting': 10618, 'howling': 10619, 'permeates': 10620, 'robbie': 10621, 'scratching': 10622, 'deservedly': 10623, 'unseen': 10624, 'parter': 10625, 'woolworth': 10626, 'ordering': 10627, 'needing': 10628, 'shopping': 10629, 'airwolfs': 10630, 'org': 10631, 'mod': 10632, 'flashpoint': 10633, 'seam': 10634, 'lensed': 10635, 'cundy': 10636, 'ensue': 10637, 'rambeau': 10638, 'rimmed': 10639, 'eaglebauer': 10640, 'supplier': 10641, 'raucous': 10642, 'normalcy': 10643, 'anarchy': 10644, 'lovingly': 10645, 'adoring': 10646, 'frenzy': 10647, 'dominate': 10648, 'tiring': 10649, 'dudley': 10650, 'cbe': 10651, 'eikenberry': 10652, 'cabaret': 10653, 'geraldine': 10654, 'fitzgerald': 10655, 'barney': 10656, 'seinfeld': 10657, 'upstaged': 10658, 'jab': 10659, 'gamers': 10660, 'waisted': 10661, 'posting': 10662, 'wallpaper': 10663, 'vacuous': 10664, 'katherine': 10665, 'hepburn': 10666, 'receptive': 10667, 'muck': 10668, 'trivial': 10669, 'attain': 10670, 'gere': 10671, 'runaway': 10672, 'mallepa': 10673, 'shinji': 10674, 'toshi': 10675, 'coarse': 10676, 'shuns': 10677, 'yi': 10678, 'che': 10679, 'explains': 10680, 'enemy': 10681, 'hardship': 10682, 'corporate': 10683, 'mainframe': 10684, 'defrauds': 10685, 'tapping': 10686, 'pc': 10687, 'socket': 10688, 'chanting': 10689, 'tonelessly': 10690, 'napoleon': 10691, 'dynamite': 10692, 'cracker': 10693, 'stooping': 10694, 'achilles': 10695, 'glendyn': 10696, 'ivin': 10697, 'difficut': 10698, 'shark': 10699, 'bludge': 10700, 'chorus': 10701, 'oceanic': 10702, 'glittering': 10703, 'optimistic': 10704, 'outlook': 10705, 'draining': 10706, 'substitute': 10707, 'catchy': 10708, 'lightweight': 10709, 'rejected': 10710, 'proposal': 10711, 'hostess': 10712, 'ballroom': 10713, 'woo': 10714, 'makeover': 10715, 'bilgey': 10716, 'unluckily': 10717, 'bicarbonate': 10718, 'soda': 10719, 'irving': 10720, 'enjoyably': 10721, 'accompany': 10722, 'clashing': 10723, 'frenchman': 10724, 'moroccan': 10725, 'announces': 10726, 'pilgrimage': 10727, 'mecca': 10728, 'obligation': 10729, 'misgiving': 10730, 'inflexible': 10731, 'ironic': 10732, 'stubborn': 10733, 'repression': 10734, 'annoy': 10735, 'mancini': 10736, 'illegitimate': 10737, 'feud': 10738, 'brush': 10739, 'criminality': 10740, 'sophistication': 10741, 'sop': 10742, 'pretentiousness': 10743, 'incongruous': 10744, 'diabetes': 10745, 'abundantly': 10746, 'aborted': 10747, 'sicilian': 10748, 'upbringing': 10749, 'despise': 10750, 'shockingly': 10751, 'unengaging': 10752, 'memorized': 10753, 'rested': 10754, 'happenstance': 10755, 'assassinate': 10756, 'switch': 10757, 'ditched': 10758, 'soggy': 10759, 'rewatching': 10760, 'pun': 10761, 'screwer': 10762, 'screwee': 10763, 'pang': 10764, 'juncture': 10765, 'reminiscant': 10766, 'hellraiser': 10767, 'appologize': 10768, 'confound': 10769, 'aimless': 10770, 'bracco': 10771, 'enthusiastic': 10772, 'unwashed': 10773, 'ahem': 10774, 'chortle': 10775, 'acheived': 10776, 'ernst': 10777, 'lubitsch': 10778, 'sullavan': 10779, 'felix': 10780, 'bressart': 10781, 'inflated': 10782, 'accusation': 10783, 'humourous': 10784, 'unban': 10785, 'hurl': 10786, 'checked': 10787, 'defence': 10788, 'stealth': 10789, 'hefty': 10790, 'topping': 10791, 'titilation': 10792, 'titilating': 10793, 'ardent': 10794, 'confirm': 10795, 'gettin': 10796, 'compost': 10797, 'effervescent': 10798, 'hildegard': 10799, 'knef': 10800, 'dunno': 10801, 'sculpture': 10802, 'rainstorm': 10803, 'seaboard': 10804, 'offed': 10805, 'tortuous': 10806, 'worshipper': 10807, 'amok': 10808, 'paycheck': 10809, 'beack': 10810, 'peta': 10811, 'ecchhhh': 10812, 'sewn': 10813, 'dangled': 10814, 'fireplace': 10815, 'vessel': 10816, 'bursting': 10817, 'sheesh': 10818, 'marching': 10819, 'itch': 10820, 'einstein': 10821, 'justify': 10822, 'kitsch': 10823, 'gloriously': 10824, 'speechless': 10825, 'gasping': 10826, 'hysteric': 10827, 'crayon': 10828, 'possession': 10829, 'measly': 10830, 'bleached': 10831, 'weho': 10832, 'joplin': 10833, 'pachebel': 10834, 'canon': 10835, 'andrei': 10836, 'siberia': 10837, 'roundabout': 10838, 'exploration': 10839, 'compose': 10840, 'imbued': 10841, 'fierce': 10842, 'tireless': 10843, 'characterizes': 10844, 'collectivity': 10845, 'revisionist': 10846, 'paean': 10847, 'soy': 10848, 'reflective': 10849, 'grapevine': 10850, 'enlist': 10851, 'examine': 10852, 'barmaid': 10853, 'irreverent': 10854, 'drill': 10855, 'motherland': 10856, 'resignation': 10857, 'regional': 10858, 'blotting': 10859, 'map': 10860, 'segue': 10861, 'newsreel': 10862, 'trailing': 10863, 'famine': 10864, 'kinetic': 10865, 'flickering': 10866, 'fulfillment': 10867, 'hover': 10868, 'substanceless': 10869, 'hermit': 10870, 'repudiate': 10871, 'spectactor': 10872, 'sage': 10873, 'affirmation': 10874, 'invisible': 10875, 'lurk': 10876, 'sepia': 10877, 'gleaming': 10878, 'nightsky': 10879, 'mystical': 10880, 'override': 10881, 'humanism': 10882, 'shohei': 10883, 'imamura': 10884, 'alexei': 10885, 'plastered': 10886, 'naturalist': 10887, 'derric': 10888, 'schappert': 10889, 'taayla': 10890, 'markell': 10891, 'chojnacki': 10892, 'tichon': 10893, 'darren': 10894, 'scattergood': 10895, 'scuffle': 10896, 'kevan': 10897, 'ohtsji': 10898, 'notoriety': 10899, 'trivia': 10900, 'lurking': 10901, 'snuff': 10902, 'misjudged': 10903, 'lessens': 10904, 'gorier': 10905, 'bathed': 10906, 'submerging': 10907, 'airliner': 10908, 'thief': 10909, 'bermuda': 10910, 'blindly': 10911, 'plugging': 10912, 'waterlogged': 10913, 'injected': 10914, 'gilligan': 10915, 'vaccaro': 10916, 'stewardess': 10917, 'cotten': 10918, 'havilland': 10919, 'oldster': 10920, 'prom': 10921, 'unoriginals': 10922, 'spontaneous': 10923, 'bouncier': 10924, 'tentacle': 10925, 'restricting': 10926, 'triton': 10927, 'restricted': 10928, 'orchestra': 10929, 'tera': 10930, 'jadoo': 10931, 'chal': 10932, 'gaya': 10933, 'haphazard': 10934, 'stitched': 10935, 'hustle': 10936, 'exasperating': 10937, 'anorexic': 10938, 'kareena': 10939, 'flooding': 10940, 'tuna': 10941, 'salad': 10942, 'truer': 10943, 'honky': 10944, 'tonk': 10945, 'whirlwind': 10946, 'challenged': 10947, 'micky': 10948, 'expressive': 10949, 'barbirino': 10950, 'goosebump': 10951, 'deb': 10952, 'sympathizing': 10953, 'sneaking': 10954, 'madolyn': 10955, 'osborne': 10956, 'prayed': 10957, 'donned': 10958, 'lifelike': 10959, 'parton': 10960, 'touted': 10961, 'montreal': 10962, 'austria': 10963, 'suburban': 10964, 'divorcee': 10965, 'untouched': 10966, 'über': 10967, 'hitchhiker': 10968, 'recites': 10969, 'interact': 10970, 'equivalent': 10971, 'gummo': 10972, 'dwell': 10973, 'policy': 10974, 'appetizing': 10975, 'flabby': 10976, 'shockless': 10977, 'montrealers': 10978, 'pullman': 10979, 'seeley': 10980, 'birman': 10981, 'assailant': 10982, 'cordell': 10983, 'cassavetes': 10984, 'erin': 10985, 'flannery': 10986, 'walden': 10987, 'carolyn': 10988, 'furgusson': 10989, 'kincaid': 10990, 'kerrie': 10991, 'keane': 10992, 'occurred': 10993, 'occur': 10994, 'macintosh': 10995, 'digging': 10996, 'incubus': 10997, 'hough': 10998, 'frustratingly': 10999, 'plod': 11000, 'ranger': 11001, 'enchanted': 11002, 'earthy': 11003, 'prejudice': 11004, 'constricting': 11005, 'loosen': 11006, 'victorian': 11007, 'corset': 11008, 'rebuilt': 11009, 'marlee': 11010, 'fewer': 11011, 'scent': 11012, 'geoffrey': 11013, 'aroused': 11014, 'backlash': 11015, 'downey': 11016, 'autobiography': 11017, 'thirteen': 11018, 'palsy': 11019, 'chalk': 11020, 'published': 11021, 'dubliner': 11022, 'cheerless': 11023, 'emerald': 11024, 'isle': 11025, 'collaborate': 11026, 'cheerfulness': 11027, 'institutionalised': 11028, 'exterior': 11029, 'cart': 11030, 'bricklayer': 11031, 'slid': 11032, 'principally': 11033, 'persuade': 11034, 'conor': 11035, 'fricker': 11036, 'sentimentalise': 11037, 'wart': 11038, 'drinker': 11039, 'prone': 11040, 'outburst': 11041, 'facet': 11042, 'opposition': 11043, 'cringed': 11044, 'yearns': 11045, 'fraught': 11046, 'costuming': 11047, 'earned': 11048, 'walmart': 11049, 'sniper': 11050, 'developer': 11051, 'luscious': 11052, 'proft': 11053, 'alaskey': 11054, 'donna': 11055, 'dixon': 11056, 'quickie': 11057, 'throwaway': 11058, 'norman': 11059, 'raoul': 11060, 'sucking': 11061, 'milk': 11062, 'kink': 11063, 'fartman': 11064, 'farting': 11065, 'abominable': 11066, 'impressively': 11067, 'worldly': 11068, 'caucasian': 11069, 'wishmaster': 11070, 'vista': 11071, 'uber': 11072, 'coldness': 11073, 'subsequent': 11074, 'rotates': 11075, 'wushu': 11076, 'cadaver': 11077, 'succumb': 11078, 'banished': 11079, 'ya': 11080, 'unmated': 11081, 'rebanished': 11082, 'dahlink': 11083, 'spotlessly': 11084, 'fastidiously': 11085, 'superhu': 11086, 'gravel': 11087, 'autobiographical': 11088, 'bana': 11089, 'munich': 11090, 'impoverished': 11091, 'émigré': 11092, 'kodi': 11093, 'smit': 11094, 'mcphee': 11095, 'stability': 11096, 'franka': 11097, 'potente': 11098, 'violates': 11099, 'vow': 11100, 'shacking': 11101, 'masochistically': 11102, 'gaita': 11103, 'dour': 11104, 'funereal': 11105, 'despairing': 11106, 'unremittingly': 11107, 'downbeat': 11108, 'wallow': 11109, 'hewlett': 11110, 'pickle': 11111, 'embezzlement': 11112, 'vincenzo': 11113, 'natali': 11114, 'calvin': 11115, 'resentment': 11116, 'specified': 11117, 'columbine': 11118, 'seriousness': 11119, 'reccomened': 11120, 'coincide': 11121, 'potboiler': 11122, 'clare': 11123, 'atkins': 11124, 'weepy': 11125, 'harlequin': 11126, 'businesslike': 11127, 'sociopath': 11128, 'hesitant': 11129, 'tying': 11130, 'esp': 11131, 'ambiguous': 11132, 'stared': 11133, 'ceiling': 11134, 'zoolander': 11135, 'dodgeball': 11136, 'pooh': 11137, 'obviosly': 11138, 'culled': 11139, 'exploit': 11140, 'bowery': 11141, 'epithet': 11142, 'brigade': 11143, 'ornery': 11144, 'debated': 11145, 'gruff': 11146, 'distress': 11147, 'boisterous': 11148, 'wray': 11149, 'barred': 11150, 'fistfight': 11151, 'closeup': 11152, 'brawl': 11153, 'bruised': 11154, 'overtaken': 11155, 'faultless': 11156, 'fightclub': 11157, 'mashed': 11158, 'revolver': 11159, 'ua': 11160, 'dw': 11161, 'theo': 11162, 'seuss': 11163, 'capitalize': 11164, 'donate': 11165, 'tot': 11166, 'patty': 11167, 'stuttering': 11168, 'ubba': 11169, 'bubba': 11170, 'bewitched': 11171, 'matthau': 11172, 'verify': 11173, 'rhapsody': 11174, 'alfven': 11175, 'classical': 11176, 'peeper': 11177, 'styling': 11178, 'confronting': 11179, 'slept': 11180, 'watson': 11181, 'burglary': 11182, 'tool': 11183, 'preventing': 11184, 'glint': 11185, 'statute': 11186, 'frat': 11187, 'ferrell': 11188, 'disposed': 11189, 'aerosol': 11190, 'poop': 11191, 'writhes': 11192, 'vapoorize': 11193, 'license': 11194, 'plate': 11195, 'caca': 11196, 'dialed': 11197, 'hippie': 11198, 'dippie': 11199, 'modulated': 11200, 'nutcase': 11201, 'unmistakably': 11202, 'dominates': 11203, 'stallion': 11204, 'fearing': 11205, 'null': 11206, 'discount': 11207, 'filler': 11208, 'invent': 11209, 'lyn': 11210, 'minmay': 11211, 'kasdan': 11212, 'divide': 11213, 'insulate': 11214, 'bigotry': 11215, 'extension': 11216, 'generality': 11217, 'thrive': 11218, 'dismisses': 11219, 'subordinate': 11220, 'participated': 11221, 'preceding': 11222, 'sparkle': 11223, 'serbia': 11224, 'nationalist': 11225, 'yugoslavian': 11226, 'bogdanovich': 11227, 'milosevic': 11228, 'hague': 11229, 'genocide': 11230, 'bosnians': 11231, 'avoidable': 11232, 'nationalism': 11233, 'federal': 11234, 'yugoslav': 11235, 'macedonia': 11236, 'horribleness': 11237, 'hobart': 11238, 'jekyll': 11239, 'sicker': 11240, 'redeems': 11241, 'unborn': 11242, 'cajole': 11243, 'afterlife': 11244, 'blech': 11245, 'bump': 11246, 'cancel': 11247, 'unended': 11248, 'transcendental': 11249, 'carousel': 11250, 'riddled': 11251, 'verge': 11252, 'queasy': 11253, 'expects': 11254, 'flipping': 11255, 'gotcha': 11256, 'gps': 11257, 'sod': 11258, 'lob': 11259, 'incendiary': 11260, 'limousine': 11261, 'intersection': 11262, 'pleeease': 11263, 'commodus': 11264, 'demeaning': 11265, 'degrading': 11266, 'abundance': 11267, 'pimp': 11268, 'outshines': 11269, 'foxy': 11270, 'sleaze': 11271, 'degrades': 11272, 'midway': 11273, 'climatic': 11274, 'sleek': 11275, 'diverting': 11276, 'bane': 11277, 'tripping': 11278, 'electricuted': 11279, 'spilled': 11280, 'gordan': 11281, 'savagery': 11282, 'indulging': 11283, 'enthralled': 11284, 'goodnight': 11285, 'maudlin': 11286, 'sickly': 11287, 'evacuation': 11288, 'doubly': 11289, 'capital': 11290, 'drifted': 11291, 'lumping': 11292, 'eyed': 11293, 'gamut': 11294, 'cum': 11295, 'kkk': 11296, 'honored': 11297, 'monies': 11298, 'mystifies': 11299, 'effusively': 11300, 'buoyant': 11301, 'untainted': 11302, 'reflection': 11303, 'stylistically': 11304, 'arch': 11305, 'ennui': 11306, 'grading': 11307, 'plimpton': 11308, 'furlong': 11309, 'bagging': 11310, 'trainor': 11311, 'clause': 11312, 'threatens': 11313, 'warmly': 11314, 'casually': 11315, 'acquainted': 11316, 'escalating': 11317, 'houst': 11318, 'sparker': 11319, 'contention': 11320, 'shameless': 11321, 'scam': 11322, 'leninists': 11323, 'vindicated': 11324, 'cohort': 11325, 'coulter': 11326, 'treason': 11327, 'thenewamerican': 11328, 'tna': 11329, 'htm': 11330, 'carlyle': 11331, 'yankee': 11332, 'dawnfall': 11333, 'tt': 11334, 'royston': 11335, 'vasey': 11336, 'fantastically': 11337, 'tubbs': 11338, 'pauline': 11339, 'dole': 11340, 'wicker': 11341, 'bonkers': 11342, 'straightened': 11343, 'demonstrated': 11344, 'bravo': 11345, 'unbeatable': 11346, 'chased': 11347, 'underdeveloped': 11348, 'fruition': 11349, 'macy': 11350, 'luis': 11351, 'guzman': 11352, 'lebowski': 11353, 'barricade': 11354, 'ira': 11355, 'sleuth': 11356, 'examination': 11357, 'sexier': 11358, 'irene': 11359, 'dyan': 11360, 'packaged': 11361, 'posterior': 11362, 'snuggest': 11363, 'glaring': 11364, 'verbiage': 11365, 'ensnare': 11366, 'captive': 11367, 'wrongheaded': 11368, 'mouton': 11369, 'enrage': 11370, 'rabid': 11371, 'ditto': 11372, 'delicious': 11373, 'enrapt': 11374, 'generate': 11375, 'proportional': 11376, 'congrats': 11377, 'cinmea': 11378, 'mclouds': 11379, 'fiennes': 11380, 'slovene': 11381, 'philosopher': 11382, 'specif': 11383, 'selects': 11384, 'familiarity': 11385, 'clearer': 11386, 'lacan': 11387, 'default': 11388, 'fascistic': 11389, 'resurrection': 11390, 'solaris': 11391, 'marx': 11392, 'excorcist': 11393, 'lucid': 11394, 'subjectivity': 11395, 'vagina': 11396, 'dentatta': 11397, 'jokingly': 11398, 'articulated': 11399, 'buffoon': 11400, 'warranted': 11401, 'derive': 11402, 'scrape': 11403, 'negativity': 11404, 'inconceivable': 11405, 'hater': 11406, 'patiently': 11407, 'inclined': 11408, 'curb': 11409, 'compleat': 11410, 'vignette': 11411, 'highlighting': 11412, 'parodist': 11413, 'lightly': 11414, 'promos': 11415, 'prolonged': 11416, 'disappoints': 11417, 'bahot': 11418, 'khoobsurat': 11419, 'overdoes': 11420, 'nirmal': 11421, 'pandey': 11422, 'monday': 11423, 'beatrice': 11424, 'fave': 11425, 'xanadu': 11426, 'shaking': 11427, 'heh': 11428, 'mechanical': 11429, 'jerker': 11430, 'rosario': 11431, 'demonstrates': 11432, 'whoopie': 11433, 'crudely': 11434, 'harped': 11435, 'macabre': 11436, 'looney': 11437, 'absurdity': 11438, 'overwhelming': 11439, 'elaborating': 11440, 'shortcoming': 11441, 'segmented': 11442, 'seamlessness': 11443, 'flowed': 11444, 'gimmicky': 11445, 'wistful': 11446, 'unused': 11447, 'shunji': 11448, 'iwai': 11449, 'ricci': 11450, 'portman': 11451, 'carlos': 11452, 'acosta': 11453, 'geare': 11454, 'brett': 11455, 'ratner': 11456, 'yelchin': 11457, 'thirlby': 11458, 'shekhar': 11459, 'kapur': 11460, 'shia': 11461, 'labeouf': 11462, 'emilie': 11463, 'ohana': 11464, 'café': 11465, 'conception': 11466, 'tug': 11467, 'heartstrings': 11468, 'redline': 11469, 'flaming': 11470, 'automotive': 11471, 'showgirl': 11472, 'offends': 11473, 'frontal': 11474, 'meander': 11475, 'afterwords': 11476, 'prowled': 11477, 'gunpowder': 11478, 'duh': 11479, 'chicago': 11480, 'repair': 11481, 'marksman': 11482, 'communicating': 11483, 'rewrite': 11484, 'lazarus': 11485, 'teaser': 11486, 'abducted': 11487, 'impregnated': 11488, 'whaaa': 11489, 'frustrating': 11490, 'pumpkin': 11491, 'enduring': 11492, 'grimm': 11493, 'bibbidi': 11494, 'bobbidi': 11495, 'endearingly': 11496, 'stepsister': 11497, 'sweetheart': 11498, 'perseverance': 11499, 'godmother': 11500, 'evocative': 11501, 'padded': 11502, 'agreeably': 11503, 'rodent': 11504, 'conspicuously': 11505, 'lucifer': 11506, 'harrumphing': 11507, 'graceful': 11508, 'frenetically': 11509, 'quaint': 11510, 'gratifying': 11511, 'alanrickmaniac': 11512, 'holic': 11513, 'partly': 11514, 'decay': 11515, 'melancholic': 11516, 'spinal': 11517, 'tap': 11518, 'bass': 11519, 'wickes': 11520, 'egocentric': 11521, 'simms': 11522, 'lung': 11523, 'celebrate': 11524, 'wisbech': 11525, 'allot': 11526, 'mummy': 11527, 'grandpa': 11528, 'grandma': 11529, 'rv': 11530, 'flocker': 11531, 'fictionalized': 11532, 'mug': 11533, 'hagan': 11534, 'pressly': 11535, 'breakthrough': 11536, 'rusted': 11537, 'pickup': 11538, 'shannon': 11539, 'corey': 11540, 'yuen': 11541, 'dearly': 11542, 'bravado': 11543, 'permeated': 11544, 'royale': 11545, 'knocking': 11546, 'regulated': 11547, 'blemish': 11548, 'upwards': 11549, 'flourish': 11550, 'anticipates': 11551, 'serving': 11552, 'mortuary': 11553, 'shipping': 11554, 'amidst': 11555, 'peeling': 11556, 'groundbreaking': 11557, 'cycle': 11558, 'finer': 11559, 'prevalent': 11560, 'pinky': 11561, 'viva': 11562, 'fuller': 11563, 'increased': 11564, 'vigilance': 11565, 'anxiousness': 11566, 'confines': 11567, 'bosom': 11568, 'professionalism': 11569, 'curative': 11570, 'imbalance': 11571, 'cruder': 11572, 'analogy': 11573, 'uncomfortably': 11574, 'reductionism': 11575, 'flee': 11576, 'aboard': 11577, 'posing': 11578, 'prowl': 11579, 'crony': 11580, 'resonate': 11581, 'hunch': 11582, 'testified': 11583, 'infamous': 11584, 'huac': 11585, 'suspected': 11586, 'traveller': 11587, 'hauled': 11588, 'manhandling': 11589, 'accepting': 11590, 'mccarthyite': 11591, 'suppression': 11592, 'entailed': 11593, 'infiltration': 11594, 'strikingly': 11595, 'interrogates': 11596, 'precise': 11597, 'preying': 11598, 'doomed': 11599, 'feverish': 11600, 'cradling': 11601, 'emphasising': 11602, 'intimate': 11603, 'wharf': 11604, 'scrambling': 11605, 'timber': 11606, 'immediacy': 11607, 'emergency': 11608, 'astonishingly': 11609, 'inoculates': 11610, 'inviting': 11611, 'materialises': 11612, 'halted': 11613, 'contactees': 11614, 'outweighed': 11615, 'compulsive': 11616, 'romeo': 11617, 'julius': 11618, 'caesar': 11619, 'macbeth': 11620, 'arthouse': 11621, 'fellini': 11622, 'overzealous': 11623, 'tempest': 11624, 'surpassed': 11625, 'scroll': 11626, 'zeffirelli': 11627, 'distributor': 11628, 'pledge': 11629, 'hilton': 11630, 'mln': 11631, 'banner': 11632, 'jessica': 11633, 'revolve': 11634, 'transvestite': 11635, 'mastered': 11636, 'lotr': 11637, 'mathews': 11638, 'butter': 11639, 'validated': 11640, 'lemongelli': 11641, 'uplifter': 11642, 'realllllllllly': 11643, 'hideos': 11644, 'disobedient': 11645, 'cryptic': 11646, 'scribble': 11647, 'notebook': 11648, 'backwards': 11649, 'update': 11650, 'fireman': 11651, 'ing': 11652, 'disneyworld': 11653, 'filmakers': 11654, 'monte': 11655, 'esther': 11656, 'rolle': 11657, 'amos': 11658, 'popularity': 11659, 'austin': 11660, 'lacklustre': 11661, 'privateer': 11662, 'respectable': 11663, 'toccata': 11664, 'compositional': 11665, 'listener': 11666, 'mutual': 11667, 'tenderness': 11668, 'stating': 11669, 'victimizer': 11670, 'forewarned': 11671, 'chasm': 11672, 'clueless': 11673, 'whoo': 11674, 'tomboy': 11675, 'viscerally': 11676, 'scorpio': 11677, 'wearier': 11678, 'compatible': 11679, 'incompatibility': 11680, 'outweigh': 11681, 'vigilantism': 11682, 'personification': 11683, 'protector': 11684, 'defenseless': 11685, 'incapacitated': 11686, 'ritualistically': 11687, 'executing': 11688, 'sprinkle': 11689, 'intentional': 11690, 'justifiably': 11691, 'exchange': 11692, 'poetic': 11693, 'ilk': 11694, 'cohen': 11695, 'confer': 11696, 'woe': 11697, 'zeek': 11698, 'masturbation': 11699, 'cherishes': 11700, 'enlightenment': 11701, 'amusingly': 11702, 'mirroring': 11703, 'astute': 11704, 'scamming': 11705, 'singleton': 11706, 'mia': 11707, 'wittily': 11708, 'peet': 11709, 'uncanny': 11710, 'conform': 11711, 'exhibit': 11712, 'whipped': 11713, 'humility': 11714, 'disparagement': 11715, 'zealander': 11716, 'caffeine': 11717, 'boosting': 11718, 'beverage': 11719, 'clunk': 11720, 'ropey': 11721, 'littered': 11722, 'dreg': 11723, 'lingering': 11724, 'aftertaste': 11725, 'sporadically': 11726, 'pimpin': 11727, 'socio': 11728, 'crusade': 11729, 'parasite': 11730, 'afro': 11731, 'shotgun': 11732, 'waver': 11733, 'squeezing': 11734, 'skewered': 11735, 'dullness': 11736, 'misdirection': 11737, 'workmanlike': 11738, 'ascends': 11739, 'lukewarm': 11740, 'sniff': 11741, 'lászló': 11742, 'kardos': 11743, 'sundance': 11744, 'wacthing': 11745, 'iran': 11746, 'angrily': 11747, 'unaware': 11748, 'bolivia': 11749, 'march': 11750, 'ladin': 11751, 'masquerading': 11752, 'salacious': 11753, 'simulated': 11754, 'alisan': 11755, 'tupac': 11756, 'forerunner': 11757, 'pervading': 11758, 'societal': 11759, 'oppression': 11760, 'resorting': 11761, 'stowing': 11762, 'conning': 11763, 'threadbare': 11764, 'trattoria': 11765, 'slaving': 11766, 'giuseppe': 11767, 'juan': 11768, 'landa': 11769, 'pretext': 11770, 'pocketed': 11771, 'pump': 11772, 'symbolizing': 11773, 'heated': 11774, 'volatile': 11775, 'stifled': 11776, 'proposes': 11777, 'gypsy': 11778, 'symbolizes': 11779, 'employment': 11780, 'handy': 11781, 'willed': 11782, 'gina': 11783, 'hurting': 11784, 'inextricably': 11785, 'misdeed': 11786, 'quagmire': 11787, 'peripheral': 11788, 'ossessione': 11789, 'potency': 11790, 'reinforcing': 11791, 'helplessness': 11792, 'elapses': 11793, 'undying': 11794, 'pronounced': 11795, 'botched': 11796, 'escalate': 11797, 'profess': 11798, 'disrespect': 11799, 'miscastings': 11800, 'misreading': 11801, 'obeisance': 11802, 'bankable': 11803, 'cropper': 11804, 'gigantismoses': 11805, 'liz': 11806, 'televised': 11807, 'dallas': 11808, 'contemp': 11809, 'tuous': 11810, 'latterday': 11811, 'delay': 11812, 'putative': 11813, 'yewbenighted': 11814, 'amurrika': 11815, 'upsmanship': 11816, 'edna': 11817, 'ferber': 11818, 'midget': 11819, 'scant': 11820, 'haircut': 11821, 'sunglass': 11822, 'provincial': 11823, 'backwater': 11824, 'aspiration': 11825, 'trampled': 11826, 'exec': 11827, 'transient': 11828, 'chore': 11829, 'replete': 11830, 'saucer': 11831, 'spotted': 11832, 'ufologist': 11833, 'modeled': 11834, 'unraveling': 11835, 'commended': 11836, 'squeezed': 11837, 'impressionable': 11838, 'sy': 11839, 'forlorn': 11840, 'beg': 11841, 'egomaniac': 11842, 'retail': 11843, 'customer': 11844, 'artistically': 11845, 'prettier': 11846, 'akira': 11847, 'uninvolving': 11848, 'prostitution': 11849, 'sought': 11850, 'keen': 11851, 'dialect': 11852, 'injustice': 11853, 'protecting': 11854, 'liam': 11855, 'begats': 11856, 'gangland': 11857, 'valued': 11858, 'asset': 11859, 'boiling': 11860, 'linearly': 11861, 'impacted': 11862, 'orbit': 11863, 'organized': 11864, 'asynchronous': 11865, 'fragment': 11866, 'sequential': 11867, 'compels': 11868, 'startlingly': 11869, 'insensitive': 11870, 'smitten': 11871, 'encourages': 11872, 'blurts': 11873, 'chiseled': 11874, 'stride': 11875, 'hospice': 11876, 'bejeweled': 11877, 'ribbon': 11878, 'florence': 11879, 'nightingale': 11880, 'ratchet': 11881, 'bruising': 11882, 'flattened': 11883, 'needy': 11884, 'dweeb': 11885, 'caustic': 11886, 'patter': 11887, 'ungraced': 11888, 'tether': 11889, 'perimeter': 11890, 'explore': 11891, 'courting': 11892, 'coupling': 11893, 'nesting': 11894, 'friction': 11895, 'fracturing': 11896, 'rapprochement': 11897, 'illness': 11898, 'phelan': 11899, 'spirtas': 11900, 'fetching': 11901, 'insensitivity': 11902, 'selfishness': 11903, 'tidbit': 11904, 'evident': 11905, 'utility': 11906, 'stickler': 11907, 'catharsis': 11908, 'philadelphia': 11909, 'longtime': 11910, 'frost': 11911, 'valour': 11912, 'excludes': 11913, 'vaudeville': 11914, 'snapshot': 11915, 'moe': 11916, 'exclamation': 11917, 'emil': 11918, 'sitka': 11919, 'goofiest': 11920, 'aficionado': 11921, 'yack': 11922, 'withstand': 11923, 'dreary': 11924, 'disobeys': 11925, 'mumbo': 11926, 'jumbo': 11927, 'tenant': 11928, 'equate': 11929, 'thinner': 11930, 'intends': 11931, 'restriction': 11932, 'necrophiliac': 11933, 'monty': 11934, 'python': 11935, 'videotaping': 11936, 'mutiny': 11937, 'troll': 11938, 'bloodlust': 11939, 'masterson': 11940, 'detroit': 11941, 'accuses': 11942, 'disapproves': 11943, 'delirious': 11944, 'lsd': 11945, 'sm': 11946, 'imaginings': 11947, 'leisurely': 11948, 'richness': 11949, 'languish': 11950, 'indomitable': 11951, 'vernon': 11952, 'faint': 11953, 'ecology': 11954, 'mocking': 11955, 'propelling': 11956, 'fridge': 11957, 'incubation': 11958, 'fluctuating': 11959, 'framework': 11960, 'slapdash': 11961, 'mangle': 11962, 'infestation': 11963, 'topped': 11964, 'synth': 11965, 'gamer': 11966, 'tabletop': 11967, 'segal': 11968, 'intented': 11969, 'sofa': 11970, 'terrorism': 11971, 'gédéon': 11972, 'handpicked': 11973, 'proby': 11974, 'firehouse': 11975, 'slamming': 11976, 'lan': 11977, 'gaming': 11978, 'pm': 11979, 'informed': 11980, 'ablaze': 11981, 'raced': 11982, 'responder': 11983, 'paramedic': 11984, 'manhatten': 11985, 'peppered': 11986, 'casualty': 11987, 'camaraderie': 11988, 'swung': 11989, 'rubble': 11990, 'fabricated': 11991, 'recreated': 11992, 'belzer': 11993, 'excellance': 11994, 'darlanne': 11995, 'fluegel': 11996, 'bounty': 11997, 'commanding': 11998, 'prowling': 11999, 'sedan': 12000, 'underscore': 12001, 'stroke': 12002, 'upsetting': 12003, 'restores': 12004, 'brannagh': 12005, 'brightest': 12006, 'defines': 12007, 'sumptuous': 12008, 'bachmann': 12009, 'provokes': 12010, 'alibi': 12011, 'speculative': 12012, 'criticising': 12013, 'suburbia': 12014, 'retro': 12015, 'moss': 12016, 'debutante': 12017, 'wanton': 12018, 'criminally': 12019, 'conspiratorial': 12020, 'photogenic': 12021, 'czerny': 12022, 'squeamishness': 12023, 'contained': 12024, 'satiric': 12025, 'pinning': 12026, 'growth': 12027, 'uncertain': 12028, 'compensatory': 12029, 'adjustment': 12030, 'compensates': 12031, 'scripting': 12032, 'elia': 12033, 'underwritten': 12034, 'standouts': 12035, 'mostel': 12036, 'toady': 12037, 'fond': 12038, 'muddied': 12039, 'connectivity': 12040, 'eislin': 12041, 'commenter': 12042, 'playfully': 12043, 'upping': 12044, 'ante': 12045, 'titular': 12046, 'fourteen': 12047, 'clutching': 12048, 'relive': 12049, 'mindgaming': 12050, 'animate': 12051, 'matinée': 12052, 'shortchanged': 12053, 'animatics': 12054, 'smoother': 12055, 'dichen': 12056, 'lachman': 12057, 'ayacoatl': 12058, 'ramped': 12059, 'baffled': 12060, 'foolishly': 12061, 'natale': 12062, 'nasties': 12063, 'pumped': 12064, 'beggar': 12065, 'compile': 12066, 'trigger': 12067, 'pavement': 12068, 'soni': 12069, 'razdan': 12070, 'vrajesh': 12071, 'hirjee': 12072, 'saurabh': 12073, 'kurush': 12074, 'deboo': 12075, 'tehmul': 12076, 'bombay': 12077, 'tranquility': 12078, 'gustad': 12079, 'shrine': 12080, 'philosophical': 12081, 'ahoy': 12082, 'journo': 12083, 'classify': 12084, 'wiser': 12085, 'unrelentingly': 12086, 'gushing': 12087, 'saccharine': 12088, 'heartache': 12089, 'fragile': 12090, 'sensitivity': 12091, 'burke': 12092, 'spiers': 12093, 'melancholy': 12094, 'seamless': 12095, 'slipped': 12096, 'grasp': 12097, 'faded': 12098, 'bernard': 12099, 'inkling': 12100, 'literate': 12101, 'iconoclast': 12102, 'radical': 12103, 'pretense': 12104, 'hamming': 12105, 'eliminate': 12106, 'manlis': 12107, 'valentine': 12108, 'fitted': 12109, 'overcoat': 12110, 'meantime': 12111, 'topple': 12112, 'thicket': 12113, 'forsythe': 12114, 'indulge': 12115, 'carving': 12116, 'sooner': 12117, 'heavyweight': 12118, 'mahoney': 12119, 'consigned': 12120, 'armed': 12121, 'vinyl': 12122, 'bing': 12123, 'crosby': 12124, 'dinah': 12125, 'shore': 12126, 'durante': 12127, 'garland': 12128, 'hop': 12129, 'landau': 12130, 'yoga': 12131, 'lena': 12132, 'ia': 12133, 'gist': 12134, 'rediscovers': 12135, 'chatter': 12136, 'guinea': 12137, 'pigeon': 12138, 'reni': 12139, 'santoni': 12140, 'leguizamo': 12141, 'garry': 12142, 'shandling': 12143, 'degeneres': 12144, 'reuben': 12145, 'murray': 12146, 'unimaginative': 12147, 'charmless': 12148, 'depressingly': 12149, 'rattle': 12150, 'chute': 12151, 'loony': 12152, 'practitioner': 12153, 'tryst': 12154, 'virginya': 12155, 'keehne': 12156, 'hog': 12157, 'limelight': 12158, 'brace': 12159, 'ambient': 12160, 'atalante': 12161, 'lottery': 12162, 'jaunty': 12163, 'electrifying': 12164, 'capote': 12165, 'educational': 12166, 'cipher': 12167, 'sulphurous': 12168, 'lingers': 12169, 'silverman': 12170, 'tasteful': 12171, 'n': 12172, 'frankfurt': 12173, 'moritz': 12174, 'underlined': 12175, 'mortitz': 12176, 'therapist': 12177, 'homepage': 12178, 'sceptical': 12179, 'plently': 12180, 'adulthood': 12181, 'antwone': 12182, 'begs': 12183, 'dame': 12184, 'susie': 12185, 'jezebel': 12186, 'trumpet': 12187, 'kathryn': 12188, 'grayson': 12189, 'sickeningly': 12190, 'incoherent': 12191, 'crummier': 12192, 'beastmaster': 12193, 'tepid': 12194, 'hunky': 12195, 'dory': 12196, 'jewelry': 12197, 'heroin': 12198, 'habituation': 12199, 'dinero': 12200, 'improbability': 12201, 'honor': 12202, 'marquee': 12203, 'workmanship': 12204, 'concentration': 12205, 'incompetence': 12206, 'steely': 12207, 'sexiness': 12208, 'sacrilege': 12209, 'advised': 12210, 'summation': 12211, 'fidelity': 12212, 'cab': 12213, 'blip': 12214, 'shrunken': 12215, 'pawnbroker': 12216, 'serpico': 12217, 'lai': 12218, 'cannabis': 12219, 'innocently': 12220, 'intelligently': 12221, 'chicatillo': 12222, 'prosecuted': 12223, 'ster': 12224, 'kinekor': 12225, 'duly': 12226, 'magnolia': 12227, 'fried': 12228, 'tomato': 12229, 'demunn': 12230, 'downtrodden': 12231, 'ridicule': 12232, 'pathologist': 12233, 'bureaucracy': 12234, 'disposal': 12235, 'refusal': 12236, 'ussr': 12237, 'joss': 12238, 'ackland': 12239, 'profile': 12240, 'imelda': 12241, 'staunton': 12242, 'uniquely': 12243, 'acknowledged': 12244, 'jun': 12245, 'presumes': 12246, 'sorrow': 12247, 'pastor': 12248, 'snare': 12249, 'discharged': 12250, 'frivolous': 12251, 'joked': 12252, 'accompanies': 12253, 'overpowered': 12254, 'cruelly': 12255, 'hometown': 12256, 'messiness': 12257, 'misunderstand': 12258, 'worship': 12259, 'responds': 12260, 'interpret': 12261, 'roving': 12262, 'uncovers': 12263, 'onslaught': 12264, 'globe': 12265, 'invader': 12266, 'videotape': 12267, 'reloaded': 12268, 'regina': 12269, 'latifah': 12270, 'camryn': 12271, 'manheim': 12272, 'zucker': 12273, 'weaken': 12274, 'independently': 12275, 'detraction': 12276, 'woefully': 12277, 'nicolie': 12278, 'carpathia': 12279, 'nc': 12280, 'brosnan': 12281, 'clay': 12282, 'pencil': 12283, 'squirmer': 12284, 'kirk': 12285, 'praying': 12286, 'masti': 12287, 'pyaare': 12288, 'mohan': 12289, 'hum': 12290, 'hai': 12291, 'kamaal': 12292, 'ke': 12293, 'kader': 12294, 'anupam': 12295, 'dabi': 12296, 'dabbi': 12297, 'whoop': 12298, 'imprisoning': 12299, 'distinction': 12300, 'commentator': 12301, 'perspicacious': 12302, 'bifurcation': 12303, 'olympics': 12304, 'paypal': 12305, 'boxer': 12306, 'zenith': 12307, 'roundhouse': 12308, 'patronizing': 12309, 'auger': 12310, 'weeper': 12311, 'bathos': 12312, 'mouthed': 12313, 'boxing': 12314, 'frayed': 12315, 'rope': 12316, 'swollen': 12317, 'onlooker': 12318, 'shouting': 12319, 'landing': 12320, 'glove': 12321, 'mauled': 12322, 'signaling': 12323, 'awaited': 12324, 'apotheosis': 12325, 'outlet': 12326, 'observant': 12327, 'yell': 12328, 'muscular': 12329, 'glowing': 12330, 'lowered': 12331, 'anytime': 12332, 'contour': 12333, 'supersegmentals': 12334, 'overdoing': 12335, 'karyn': 12336, 'kusama': 12337, 'generosity': 12338, 'fury': 12339, 'colbert': 12340, 'conquers': 12341, 'blowsy': 12342, 'leah': 12343, 'mertz': 12344, 'understudied': 12345, 'merman': 12346, 'chambermaid': 12347, 'suborned': 12348, 'heartedly': 12349, 'puffing': 12350, 'furtive': 12351, 'linen': 12352, 'transgression': 12353, 'penalty': 12354, 'vigalondo': 12355, 'showman': 12356, 'madrid': 12357, 'kodak': 12358, 'absurdness': 12359, 'funes': 12360, 'absurder': 12361, 'emptied': 12362, 'helper': 12363, 'insists': 12364, 'signorelli': 12365, 'edie': 12366, 'mcclurg': 12367, 'massachusettes': 12368, 'collect': 12369, 'inheritance': 12370, 'poodle': 12371, 'knocker': 12372, 'enormous': 12373, 'nemesis': 12374, 'yorick': 12375, 'horatio': 12376, 'upcoming': 12377, 'duel': 12378, 'pabst': 12379, 'intensely': 12380, 'unemployment': 12381, 'conspire': 12382, 'rift': 12383, 'faction': 12384, 'xenophobia': 12385, 'futility': 12386, 'jáaccuse': 12387, 'gance': 12388, 'milestone': 12389, 'harmony': 12390, 'swaying': 12391, 'relic': 12392, 'nanook': 12393, 'archaic': 12394, 'kayaker': 12395, 'umiak': 12396, 'skers': 12397, 'paddle': 12398, 'fakey': 12399, 'annoyance': 12400, 'louie': 12401, 'mayer': 12402, 'inuit': 12403, 'infused': 12404, 'whacking': 12405, 'polar': 12406, 'whale': 12407, 'caribou': 12408, 'gum': 12409, 'geograpically': 12410, 'unsuspecting': 12411, 'groundhog': 12412, 'coalition': 12413, 'silverstonesque': 12414, 'séance': 12415, 'donnie': 12416, 'darko': 12417, 'canoe': 12418, 'padding': 12419, 'maureen': 12420, 'olander': 12421, 'visited': 12422, 'glider': 12423, 'port': 12424, 'flew': 12425, 'pratt': 12426, 'ivans': 12427, 'ejection': 12428, 'lakin': 12429, 'defunct': 12430, 'tgif': 12431, 'biological': 12432, 'contend': 12433, 'shifty': 12434, 'arn': 12435, 'esquire': 12436, 'bop': 12437, 'newton': 12438, 'lin': 12439, 'starr': 12440, 'berfield': 12441, 'starz': 12442, 'sandcastles': 12443, 'reconnect': 12444, 'empathized': 12445, 'unrooted': 12446, 'gallery': 12447, 'installation': 12448, 'riedelsheimer': 12449, 'unfrozen': 12450, 'swirling': 12451, 'dissolving': 12452, 'crashing': 12453, 'disappearing': 12454, 'shamanic': 12455, 'verging': 12456, 'lifeforce': 12457, 'perish': 12458, 'communication': 12459, 'cairn': 12460, 'armando': 12461, 'maradona': 12462, 'documetary': 12463, 'scored': 12464, 'undersand': 12465, 'argentine': 12466, 'comprehend': 12467, 'bronte': 12468, 'meddle': 12469, 'lifeblood': 12470, 'faithfulness': 12471, 'spectacularly': 12472, 'sweetness': 12473, 'calvinist': 12474, 'lowood': 12475, 'helen': 12476, 'martyred': 12477, 'cheek': 12478, 'depict': 12479, 'chronologically': 12480, 'ppy': 12481, 'diane': 12482, 'dominique': 12483, 'slut': 12484, 'ooops': 12485, 'dusenberry': 12486, 'brent': 12487, 'robby': 12488, 'intervenes': 12489, 'lawless': 12490, 'sued': 12491, 'bless': 12492, 'jaglom': 12493, 'giraldi': 12494, 'iranian': 12495, 'hostage': 12496, 'disco': 12497, 'overindulgence': 12498, 'absorption': 12499, 'spawn': 12500, 'bartender': 12501, 'phillippe': 12502, 'busboy': 12503, 'anita': 12504, 'selma': 12505, 'spurt': 12506, 'errol': 12507, 'flynt': 12508, 'wax': 12509, 'underling': 12510, 'mingle': 12511, 'gloved': 12512, 'electrified': 12513, 'spectacle': 12514, 'rampant': 12515, 'abuser': 12516, 'promiscuous': 12517, 'pilloried': 12518, 'gaze': 12519, 'paternally': 12520, 'patently': 12521, 'philippe': 12522, 'hamstrung': 12523, 'deer': 12524, 'sullen': 12525, 'uncomprehending': 12526, 'frown': 12527, 'undercut': 12528, 'neve': 12529, 'prominently': 12530, 'predisposition': 12531, 'misnomered': 12532, 'nourishment': 12533, 'greenlight': 12534, 'lump': 12535, 'breeding': 12536, 'bent': 12537, 'maturation': 12538, 'dine': 12539, 'kernel': 12540, 'luminescent': 12541, 'drilling': 12542, 'storyteller': 12543, 'payoff': 12544, 'exceeds': 12545, 'math': 12546, 'oops': 12547, 'proclaimed': 12548, 'defender': 12549, 'duck': 12550, 'mercer': 12551, 'squandering': 12552, 'farley': 12553, 'hartman': 12554, 'loot': 12555, 'sputter': 12556, 'stall': 12557, 'kirstie': 12558, 'gilbert': 12559, 'gottfried': 12560, 'begley': 12561, 'yeardley': 12562, 'heiress': 12563, 'ensemble': 12564, 'scissors': 12565, 'slightest': 12566, 'batch': 12567, 'wally': 12568, 'godson': 12569, 'childless': 12570, 'conceive': 12571, 'screamingly': 12572, 'shabby': 12573, 'derails': 12574, 'dolph': 12575, 'chucked': 12576, 'tia': 12577, 'carrera': 12578, 'lundgrens': 12579, 'parentage': 12580, 'desilva': 12581, 'pique': 12582, 'nj': 12583, 'guffawing': 12584, 'strident': 12585, 'grabber': 12586, 'halt': 12587, 'egregious': 12588, 'exploitative': 12589, 'exhausting': 12590, 'belong': 12591, 'erase': 12592, 'ethnical': 12593, 'kunefe': 12594, 'lebanese': 12595, 'arabic': 12596, 'ethnocentrism': 12597, 'awakening': 12598, 'strangelove': 12599, 'scheider': 12600, 'frankenheimer': 12601, 'raindeer': 12602, 'rey': 12603, 'nypd': 12604, 'marseille': 12605, 'overplayed': 12606, 'whiter': 12607, 'rebellious': 12608, 'ida': 12609, 'compromised': 12610, 'anxiety': 12611, 'incurious': 12612, 'honking': 12613, 'sentimentalized': 12614, 'rev': 12615, 'tod': 12616, 'emphasizing': 12617, 'certainty': 12618, 'watchdog': 12619, 'iraq': 12620, 'trade': 12621, 'slammed': 12622, 'pegg': 12623, 'serafinowicz': 12624, 'rhind': 12625, 'tutt': 12626, 'graham': 12627, 'linehan': 12628, 'matthew': 12629, 'squat': 12630, 'proclaim': 12631, 'masterwork': 12632, 'blanket': 12633, 'debate': 12634, 'abortionist': 12635, 'unscathed': 12636, 'outerspace': 12637, 'soil': 12638, 'implode': 12639, 'missouri': 12640, 'feral': 12641, 'bushwackers': 12642, 'sympathizer': 12643, 'geurilla': 12644, 'ulrich': 12645, 'raiding': 12646, 'widow': 12647, 'agitation': 12648, 'propriety': 12649, 'villian': 12650, 'embrace': 12651, 'housing': 12652, 'tenor': 12653, 'keeler': 12654, 'thorn': 12655, 'prologue': 12656, 'blondell': 12657, 'nan': 12658, 'prescott': 12659, 'scifi': 12660, 'moderately': 12661, 'parry': 12662, 'inundated': 12663, 'copied': 12664, 'similiar': 12665, 'zentropa': 12666, 'enthralling': 12667, 'spellbounding': 12668, 'engrosses': 12669, 'sensuous': 12670, 'universally': 12671, 'spews': 12672, 'scumbags': 12673, 'profane': 12674, 'oates': 12675, 'gena': 12676, 'rowlands': 12677, 'friedkin': 12678, 'audibly': 12679, 'lighter': 12680, 'dye': 12681, 'manchurian': 12682, 'possessing': 12683, 'exposed': 12684, 'fraud': 12685, 'bungling': 12686, 'continuing': 12687, 'supremely': 12688, 'bench': 12689, 'blending': 12690, 'restoration': 12691, 'lau': 12692, 'kar': 12693, 'leung': 12694, 'exclusively': 12695, 'clamp': 12696, 'dust': 12697, 'abbot': 12698, 'array': 12699, 'pole': 12700, 'beckham': 12701, 'exuberance': 12702, 'grin': 12703, 'parminder': 12704, 'nagra': 12705, 'r': 12706, 'snatched': 12707, 'dazzlingly': 12708, 'deciphering': 12709, 'feminism': 12710, 'empowering': 12711, 'sixteen': 12712, 'niece': 12713, 'scooby': 12714, 'doo': 12715, 'airwave': 12716, 'tuning': 12717, 'ghostbusters': 12718, 'flintstone': 12719, 'galactic': 12720, 'beau': 12721, 'weaver': 12722, 'ginny': 12723, 'mcswain': 12724, 'lingered': 12725, 'firestorm': 12726, 'perry': 12727, 'ralph': 12728, 'gorilla': 12729, 'grodd': 12730, 'cracking': 12731, 'alum': 12732, 'zan': 12733, 'riddler': 12734, 'byrne': 12735, 'timm': 12736, 'bizarro': 12737, 'toyman': 12738, 'metallo': 12739, 'darkseid': 12740, 'zod': 12741, 'bj': 12742, 'adolescence': 12743, 'pitted': 12744, 'gotham': 12745, 'goliath': 12746, 'filmation': 12747, 'batmite': 12748, 'rarest': 12749, 'advertised': 12750, 'scavenger': 12751, 'stacy': 12752, 'goth': 12753, 'maman': 12754, 'putain': 12755, 'françoise': 12756, 'lebrun': 12757, 'womanhood': 12758, 'manhood': 12759, 'pierre': 12760, 'léaud': 12761, 'july': 12762, 'austreim': 12763, 'destin': 12764, 'destins': 12765, 'triangled': 12766, 'propagandistically': 12767, 'torpedoing': 12768, 'occupy': 12769, 'ancestral': 12770, 'deny': 12771, 'ramon': 12772, 'exhibiting': 12773, 'saluting': 12774, 'stretcher': 12775, 'dependable': 12776, 'dragnet': 12777, 'nightstalker': 12778, 'property': 12779, 'ery': 12780, 'creek': 12781, 'manor': 12782, 'greenback': 12783, 'despaired': 12784, 'emptiness': 12785, 'heal': 12786, 'synthetic': 12787, 'conducting': 12788, 'pocahontas': 12789, 'bambi': 12790, 'pattes': 12791, 'cinemaniaks': 12792, 'awaken': 12793, 'backbone': 12794, 'thickness': 12795, 'chevy': 12796, 'amigo': 12797, 'gunman': 12798, 'colony': 12799, 'ant': 12800, 'wrath': 12801, 'microcosmos': 12802, 'humanisation': 12803, 'captivated': 12804, 'flik': 12805, 'congratulation': 12806, 'synchro': 12807, 'privilege': 12808, 'vagabond': 12809, 'rude': 12810, 'nailed': 12811, 'junky': 12812, 'wino': 12813, 'assuming': 12814, 'chachi': 12815, 'baio': 12816, 'skateboard': 12817, 'olen': 12818, 'tamblyn': 12819, 'honey': 12820, 'yo': 12821, 'belgium': 12822, 'grit': 12823, 'quiver': 12824, 'immersion': 12825, 'hacker': 12826, 'entirety': 12827, 'heed': 12828, 'drying': 12829, 'totality': 12830, 'garment': 12831, 'articulate': 12832, 'retrieved': 12833, 'supervisor': 12834, 'constitute': 12835, 'dispatching': 12836, 'dispatcher': 12837, 'printout': 12838, 'claimer': 12839, 'monopolized': 12840, 'oversight': 12841, 'output': 12842, 'curitz': 12843, 'quintessential': 12844, 'economy': 12845, 'requirement': 12846, 'embedded': 12847, 'targeting': 12848, 'columbia': 12849, 'cheaply': 12850, 'curtiz': 12851, 'thematic': 12852, 'staple': 12853, 'wile': 12854, 'entice': 12855, 'susceptible': 12856, 'incertitude': 12857, 'medicine': 12858, 'siren': 12859, 'pedigree': 12860, 'inconstant': 12861, 'capitalist': 12862, 'salesman': 12863, 'casnoff': 12864, 'bagatelle': 12865, 'mesmerized': 12866, 'ardour': 12867, 'guileful': 12868, 'administered': 12869, 'rudimentary': 12870, 'allegedly': 12871, 'grifasi': 12872, 'enraptured': 12873, 'inamorata': 12874, 'maneuvering': 12875, 'kasnoff': 12876, 'viable': 12877, 'conspirator': 12878, 'lovebird': 12879, 'uninventive': 12880, 'fremantle': 12881, 'lustreless': 12882, 'neath': 12883, 'spell': 12884, 'enhances': 12885, 'watchman': 12886, 'bearer': 12887, 'peer': 12888, 'piercing': 12889, 'wolverinish': 12890, 'bloodied': 12891, 'overtone': 12892, 'mash': 12893, 'dalens': 12894, 'colonial': 12895, 'colonist': 12896, 'nirgendwo': 12897, 'afrika': 12898, 'understated': 12899, 'barnes': 12900, 'newell': 12901, 'maidment': 12902, 'josie': 12903, 'lawrence': 12904, 'transformed': 12905, 'plowright': 12906, 'bennet': 12907, 'landmark': 12908, 'souffle': 12909, 'imperialism': 12910, 'consisted': 12911, 'zukovic': 12912, 'consumption': 12913, 'neophyte': 12914, 'zine': 12915, 'verbally': 12916, 'mobocracy': 12917, 'untraditional': 12918, 'sombre': 12919, 'newman': 12920, 'hopeful': 12921, 'reinforced': 12922, 'torrential': 12923, 'rainfall': 12924, 'steart': 12925, 'northwest': 12926, 'splendor': 12927, 'afoul': 12928, 'crooked': 12929, 'nothwest': 12930, 'likability': 12931, 'piggish': 12932, 'dano': 12933, 'crouching': 12934, 'zhang': 12935, 'ziyi': 12936, 'cecilia': 12937, 'mythical': 12938, 'stature': 12939, 'reckoned': 12940, 'projected': 12941, 'aloof': 12942, 'inseparable': 12943, 'sacrificed': 12944, 'olympia': 12945, 'gillham': 12946, 'argila': 12947, 'squalid': 12948, 'caper': 12949, 'renter': 12950, 'ticking': 12951, 'excersize': 12952, 'spotting': 12953, 'mic': 12954, 'eyebrowed': 12955, 'lug': 12956, 'gland': 12957, 'fetish': 12958, 'comparitive': 12959, 'inflation': 12960, 'dedicates': 12961, 'pectoral': 12962, 'massaging': 12963, 'alignment': 12964, 'amatuer': 12965, 'wobbled': 12966, 'endurance': 12967, 'marshall': 12968, 'lawson': 12969, 'bordering': 12970, 'mutate': 12971, 'superhumans': 12972, 'disgrace': 12973, 'dub': 12974, 'tights': 12975, 'hungering': 12976, 'borrow': 12977, 'brandi': 12978, 'puked': 12979, 'tirade': 12980, 'hobble': 12981, 'spewing': 12982, 'obscenity': 12983, 'tantrum': 12984, 'brandie': 12985, 'exit': 12986, 'manipulate': 12987, 'retiring': 12988, 'nada': 12989, 'zilcho': 12990, 'madeline': 12991, 'stowe': 12992, 'whore': 12993, 'convent': 12994, 'blasted': 12995, 'laurel': 12996, 'hardy': 12997, 'rejuvenation': 12998, 'proceed': 12999, 'spreading': 13000, 'potion': 13001, 'abrupt': 13002, 'modus': 13003, 'operandi': 13004, 'wore': 13005, 'compete': 13006, 'throwback': 13007, 'mstifyed': 13008, 'definately': 13009, 'gremlin': 13010, 'lecturing': 13011, 'hobgoblin': 13012, 'betraying': 13013, 'msties': 13014, 'shakti': 13015, 'warmth': 13016, 'shah': 13017, 'rukh': 13018, 'heaving': 13019, 'giddeon': 13020, 'hanlon': 13021, 'shone': 13022, 'darkest': 13023, 'expanded': 13024, 'admiration': 13025, 'freshman': 13026, 'stifler': 13027, 'booze': 13028, 'apple': 13029, 'brainless': 13030, 'evan': 13031, 'sucky': 13032, 'origional': 13033, 'interpreted': 13034, 'scoped': 13035, 'crossbow': 13036, 'aaaaaaah': 13037, 'columbus': 13038, 'sailed': 13039, 'norse': 13040, 'mead': 13041, 'baldwin': 13042, 'backstage': 13043, 'keystone': 13044, 'medal': 13045, 'insipid': 13046, 'thon': 13047, 'cleese': 13048, 'defamation': 13049, 'sandy': 13050, 'crutch': 13051, 'animator': 13052, 'dangling': 13053, 'carrot': 13054, 'enticing': 13055, 'babble': 13056, 'slogan': 13057, 'swashbuckler': 13058, 'rhys': 13059, 'burbridge': 13060, 'laughfest': 13061, 'ackroyd': 13062, 'dodgy': 13063, 'courtyard': 13064, 'mjh': 13065, 'sabrina': 13066, 'haggard': 13067, 'downward': 13068, 'lodge': 13069, 'swinging': 13070, 'contradicted': 13071, 'pseudonym': 13072, 'brody': 13073, 'camper': 13074, 'backpacking': 13075, 'batis': 13076, 'tomi': 13077, 'barrett': 13078, 'wilkinson': 13079, 'surviving': 13080, 'prey': 13081, 'overheating': 13082, 'assistance': 13083, 'apparition': 13084, 'pour': 13085, 'cooking': 13086, 'simmering': 13087, 'unknowingly': 13088, 'compound': 13089, 'fracture': 13090, 'stumbling': 13091, 'flowing': 13092, 'increasing': 13093, 'sequoia': 13094, 'gargantuan': 13095, 'dread': 13096, 'preyed': 13097, 'reacting': 13098, 'punish': 13099, 'refrigerator': 13100, 'repairman': 13101, 'pa': 13102, 'uncontrollably': 13103, 'hostile': 13104, 'tattered': 13105, 'grisly': 13106, 'penetration': 13107, 'unsettled': 13108, 'silhouetted': 13109, 'skinning': 13110, 'aways': 13111}\n"
          ]
        }
      ],
      "source": [
        "word_index = tokenizer.word_index\n",
        "print('Found {} unique tokens.\\n'.format(len(word_index)))\n",
        "\n",
        "print(word_index) "
      ]
    },
    {
      "cell_type": "code",
      "execution_count": null,
      "metadata": {
        "id": "Qppomu5NFaAb"
      },
      "outputs": [],
      "source": []
    },
    {
      "cell_type": "code",
      "execution_count": null,
      "metadata": {
        "id": "eTw8rWqrGhYH"
      },
      "outputs": [],
      "source": []
    },
    {
      "cell_type": "code",
      "execution_count": null,
      "metadata": {
        "id": "-5Bfk2p2GHOg"
      },
      "outputs": [],
      "source": []
    },
    {
      "cell_type": "code",
      "execution_count": null,
      "metadata": {
        "colab": {
          "base_uri": "https://localhost:8080/"
        },
        "id": "yWbhB66BNECm",
        "outputId": "810392d4-664b-440b-fc0b-a135d573a9d8"
      },
      "outputs": [
        {
          "name": "stdout",
          "output_type": "stream",
          "text": [
            "[[ 0.      0.      0.     ...  0.      0.      0.    ]\n",
            " [ 0.      0.      0.     ...  0.      0.      0.    ]\n",
            " [-0.0058  0.0974  0.0105 ...  0.1226 -0.0888 -0.1918]\n",
            " ...\n",
            " [-0.0305 -0.0284 -0.0198 ...  0.077   0.0079  0.0555]\n",
            " [-0.0394 -0.0197 -0.0269 ...  0.0852  0.0593 -0.0074]\n",
            " [ 0.      0.      0.     ...  0.      0.      0.    ]]\n"
          ]
        }
      ],
      "source": [
        "# Previously, we saved all fasttext embeddings to a NumPy array for quick access\n",
        "# Now, we save the fasttext embeddings for the words that we only need, based on the tokenizer\n",
        "\n",
        "embedding_matrix = np.zeros((MAX_WORDS+2, EMBEDDING_DIM))  # +2 (pad, unkown)\n",
        "\n",
        "for word, i in word_index.items():\n",
        "    if i > MAX_WORDS:\n",
        "            continue\n",
        "    try:\n",
        "        embedding_vector = fasttext_embed[fasttext_word_to_index[word],:]\n",
        "        embedding_matrix[i] = embedding_vector\n",
        "    except:\n",
        "        pass\n",
        "\n",
        "print(embedding_matrix)"
      ]
    },
    {
      "cell_type": "code",
      "execution_count": null,
      "metadata": {
        "id": "RGlKpDNTmZsk"
      },
      "outputs": [],
      "source": [
        "# make lists to arrays\n",
        "y_train = np.array(y_train)\n",
        "y_dev = np.array(y_dev)\n",
        "y_test = np.array(y_test) "
      ]
    },
    {
      "cell_type": "code",
      "execution_count": null,
      "metadata": {
        "id": "Hv7jBOS8mjb_"
      },
      "outputs": [],
      "source": [
        "#Runs in approx 5 minutes\n",
        "\n",
        "from gensim.models import KeyedVectors\n",
        "\n",
        "fasttext = KeyedVectors.load_word2vec_format('cc.en.300.vec')"
      ]
    },
    {
      "cell_type": "code",
      "execution_count": null,
      "metadata": {
        "id": "P3VFY3xnmoIo"
      },
      "outputs": [],
      "source": [
        "#Calculate centroid function\n",
        "\n",
        "import numpy as np\n",
        "from spacy.lang.en.stop_words import STOP_WORDS\n",
        "\n",
        "\n",
        "def text_centroid(text, model):\n",
        "    \n",
        "    text_vec =[]\n",
        "    counter = 0\n",
        "    for word in text:\n",
        "        if word in STOP_WORDS:\n",
        "          continue         \n",
        "        try:\n",
        "            if counter == 0:\n",
        "                text_vec = model[word.lower()]\n",
        "            else:\n",
        "                text_vec = np.add(text_vec, model[word.lower()])\n",
        "            counter+=1\n",
        "        except:\n",
        "            pass\n",
        "    \n",
        "    return np.asarray(text_vec) / counter\n",
        " "
      ]
    },
    {
      "cell_type": "code",
      "execution_count": null,
      "metadata": {
        "id": "1z0gx9Gemqh4"
      },
      "outputs": [],
      "source": [
        "X_train_centroids = []\n",
        "for sentence in X_train_tokenized:\n",
        "    X_train_centroids.append(text_centroid(sentence,fasttext))   \n",
        "X_train_centroids = np.stack(X_train_centroids, axis=0)\n",
        "\n",
        "X_dev_centroids = []\n",
        "for sentence in X_dev_tokenized:\n",
        "    X_dev_centroids.append(text_centroid(sentence,fasttext))   \n",
        "X_dev_centroids = np.stack(X_dev_centroids, axis=0)\n",
        "\n",
        "X_test_centroids = []\n",
        "for sentence in X_test_tokenized:\n",
        "    X_test_centroids.append(text_centroid(sentence,fasttext))   \n",
        "X_test_centroids = np.stack(X_test_centroids, axis=0)\n",
        "\n",
        "X_param_centroids = []\n",
        "for sentence in param_tokenized:\n",
        "    X_param_centroids.append(text_centroid(sentence,fasttext))   \n",
        "X_param_centroids = np.stack(X_param_centroids, axis=0) "
      ]
    },
    {
      "cell_type": "code",
      "execution_count": null,
      "metadata": {
        "id": "9VgdautMYK9v"
      },
      "outputs": [],
      "source": [
        "# #Init TFIDF\n",
        "# vectorizer = TfidfVectorizer(\n",
        "#     ngram_range = (1, 2), \n",
        "#     max_features = 7500,\n",
        "#     sublinear_tf = True, \n",
        "#     stop_words = stopwords.words('english'))"
      ]
    },
    {
      "cell_type": "code",
      "execution_count": null,
      "metadata": {
        "id": "zH4BEGB6YMi4"
      },
      "outputs": [],
      "source": [
        "# #Vocabulary Size\n",
        "# VocabSize = TfidfVectorizer( \n",
        "#     sublinear_tf = True, \n",
        "#     stop_words = stopwords.words('english'))\n",
        "# vocabsize = VocabSize.fit_transform(train_data.text)\n",
        "# print(\"Train dataset's vocabulary size is\",vocabsize.shape[1],\"words long.\")"
      ]
    },
    {
      "cell_type": "code",
      "execution_count": null,
      "metadata": {
        "id": "2GyMKGO-YPfr"
      },
      "outputs": [],
      "source": [
        "# #Transforming all text datasets\n",
        "# x_train_tfidf = vectorizer.fit_transform(train_data.text)\n",
        "# x_test_tfidf = vectorizer.transform(test_data.text)\n",
        "# x_dev_tfidf = vectorizer.transform(dev_data.text)\n",
        "# x_param_tfidf=vectorizer.transform(param.text)\n",
        "\n",
        "# # get_feauture_names() for a more thorough view\n",
        "# print(vectorizer.get_feature_names()) "
      ]
    },
    {
      "cell_type": "code",
      "execution_count": null,
      "metadata": {
        "id": "n-UhxKXhYRK2"
      },
      "outputs": [],
      "source": [
        "# print('Shape of training data: {}\\n'.format(x_train_tfidf.shape))\n",
        "# print('Shape of test data: {}\\n'.format(x_test_tfidf.shape))\n",
        "# print('Shape of dev data: {}\\n'.format(x_dev_tfidf.shape))\n",
        "# print('Shape of param data: {}\\n'.format(x_param_tfidf.shape))\n",
        "\n",
        "# #print(x_test_tfidf[0, :])  # Sparce matrix --> Saves only the cells which are not zero"
      ]
    },
    {
      "cell_type": "code",
      "execution_count": null,
      "metadata": {
        "id": "LFcPV4KaYSnN"
      },
      "outputs": [],
      "source": [
        "# # Number of features to keep\n",
        "# k = 2500 # we tested for k= (500,1000,1500,2000,2500,3000,3750) with 1/3 of the total features we managed to get the same scores +- 1%\n",
        "\n",
        "# # Convert sparse matrix to np.array --> Slow\n",
        "# x_train_tfidf_array = x_train_tfidf.toarray()  \n",
        "\n",
        "# # The function relies on nonparametric methods \n",
        "# # based on entropy estimation from k-nearest neighbors distances\n",
        "# mutual_information = mutual_info_classif(x_train_tfidf_array,train_data.sentiment, n_neighbors=5, \n",
        "#                                          discrete_features=True,\n",
        "#                                          random_state=4321)\n",
        "\n",
        "# # Indexes of the feature columns\n",
        "# indexes = np.arange(len(mutual_information))\n",
        "\n",
        "# # Sort by mutual information values --> (value, idx)\n",
        "# sorted_indexes = sorted(zip(mutual_information, indexes), reverse=True)\n",
        "# print('Sorted indexes: {}'.format(sorted_indexes[:4]))\n",
        "\n",
        "# # keep the indexes of the best k features\n",
        "# best_idxs = [idx for val, idx in sorted_indexes[:k]]\n",
        "# print('Best indexes: {}\\n'.format(best_idxs[:4]))\n",
        "\n",
        "# # Keep only the colums of the best features\n",
        "# x_train_best_tfidf = x_train_tfidf_array[:, best_idxs]\n",
        "# x_test_best_tfidf = x_test_tfidf[:, best_idxs]\n",
        "# x_dev_best_tfidf = x_dev_tfidf[:, best_idxs]\n",
        "# print('Shape of training data: {} --> {}'.format(x_train_tfidf.shape, x_train_best_tfidf.shape))\n",
        "# print('Shape of test data: {} --> {}\\n'.format(x_test_tfidf.shape, x_test_best_tfidf.shape))"
      ]
    },
    {
      "cell_type": "code",
      "execution_count": null,
      "metadata": {
        "id": "XGL0HnxrYYH5"
      },
      "outputs": [],
      "source": [
        "# #Replacing tfidf with the one above(k best features)\n",
        "# x_train_tfidf = x_train_best_tfidf\n",
        "# x_test_tfidf = x_test_best_tfidf\n",
        "# x_dev_tfidf = x_dev_best_tfidf"
      ]
    },
    {
      "cell_type": "code",
      "execution_count": null,
      "metadata": {
        "id": "GZo-T5WHYYQs"
      },
      "outputs": [],
      "source": [
        "#Learning Curves Init\n",
        "def F1_Curves(function,title):\n",
        "  #Split into 5 parts/Round numbers\n",
        "  parts = np.linspace(0.20,1,5)*X_train_centroids.shape[0]\n",
        "  #Init lists\n",
        "  trainlist = []\n",
        "  testlist = []\n",
        "  devlist = []\n",
        "  for p in parts:\n",
        "    estimator = function\n",
        "    #Fit with part of the data / Increases for every loop\n",
        "    estimator.fit(X_train_centroids[:int(p)],y_train[:int(p)])\n",
        "    #Saving scores\n",
        "    trainlist.append(f1_score(y_train[:int(p)],estimator.predict(X_train_centroids[:int(p)]),average='macro'))\n",
        "    testlist.append(f1_score(y_test,estimator.predict(X_test_centroids),average='macro'))\n",
        "    devlist.append(f1_score(y_dev,estimator.predict(X_dev_centroids),average='macro'))\n",
        "  #Plotting lines\n",
        "  plt.plot(parts,trainlist,label='Train Score')\n",
        "  plt.plot(parts,testlist,label='Test Score')\n",
        "  plt.plot(parts,devlist,label='Dev Score')\n",
        "  plt.xlabel('Training Examples')\n",
        "  plt.ylabel('F1 Score')\n",
        "  plt.legend(loc='lower right')\n",
        "  plt.title('Learning Curves for '+title)\n",
        "  plt.show()"
      ]
    },
    {
      "cell_type": "code",
      "execution_count": null,
      "metadata": {
        "id": "izkW1LXMYYYM"
      },
      "outputs": [],
      "source": [
        "#Predefined Split\n",
        "split_index =( [-1]*len(train_data))+([0]*len(dev_data))\n",
        "pds = PredefinedSplit(test_fold = split_index)\n",
        "\n",
        "from sklearn.metrics import f1_score, make_scorer\n",
        "f1 = make_scorer(f1_score , average='macro')"
      ]
    },
    {
      "cell_type": "markdown",
      "metadata": {
        "id": "sCQNd3WNiZBc"
      },
      "source": [
        "##### Most frequent Classifier (1st Baseline)"
      ]
    },
    {
      "cell_type": "code",
      "execution_count": null,
      "metadata": {
        "colab": {
          "base_uri": "https://localhost:8080/"
        },
        "id": "ob2dtOgKYYa2",
        "outputId": "578106c0-34f3-4ea3-f945-973bc5e51327"
      },
      "outputs": [
        {
          "name": "stdout",
          "output_type": "stream",
          "text": [
            "Training took: 0.0023779869079589844 seconds \n",
            "\n",
            "Train accuracy: 50.00% \n",
            "\n",
            "Dev accuracy: 51.67% \n",
            "\n",
            "Test accuracy: 51.67% \n",
            "\n",
            "#Class 0 in Train dataset: (350,)\n",
            "#Class 1 in Train dataset: (350,)\n",
            "\n",
            "Confusion Matrix for test data:\n"
          ]
        },
        {
          "data": {
            "image/png": "[encoded data removed]",
            "text/plain": [
              "<Figure size 432x288 with 2 Axes>"
            ]
          },
          "metadata": {
            "needs_background": "light"
          },
          "output_type": "display_data"
        }
      ],
      "source": [
        "# Train\n",
        "# The dummy classifier always predicts the 'most frequent' class\n",
        "baseline = DummyClassifier(strategy='most_frequent')\n",
        "start_time = time.time()\n",
        "baseline.fit(X_train_centroids, y_train)\n",
        "print(\"Training took: {} seconds \\n\".format(time.time() - start_time))\n",
        "\n",
        "# Evaluate on train,dev, and test subsets\n",
        "predictions_train = baseline.predict(X_train_centroids)\n",
        "score = accuracy_score(y_train, predictions_train)\n",
        "print(\"Train accuracy: {:.2f}% \\n\".format(score*100))\n",
        "\n",
        "predictions_dev = baseline.predict(X_dev_centroids)\n",
        "score = accuracy_score(y_dev, predictions_dev)\n",
        "print(\"Dev accuracy: {:.2f}% \\n\".format(score*100))\n",
        "\n",
        "predictions_test = baseline.predict(X_test_centroids)\n",
        "score = accuracy_score(y_test, predictions_test)\n",
        "print(\"Test accuracy: {:.2f}% \\n\".format(score*100))\n",
        "\n",
        "print('#Class 0 in Train dataset:', np.where(y_train == 0)[0].shape)\n",
        "print('#Class 1 in Train dataset:', np.where(y_train == 1)[0].shape)\n",
        "\n",
        "print(\"\\nConfusion Matrix for test data:\")\n",
        "plot_confusion_matrix(estimator=baseline, X=X_test_centroids, y_true=y_test, values_format = '.0f');"
      ]
    },
    {
      "cell_type": "code",
      "execution_count": null,
      "metadata": {
        "colab": {
          "base_uri": "https://localhost:8080/"
        },
        "id": "RX7qbsOvYYdV",
        "outputId": "30f8b1e3-3a0e-479c-ef54-db1b720f0d5b"
      },
      "outputs": [
        {
          "name": "stdout",
          "output_type": "stream",
          "text": [
            "Dummy Classifier\n",
            "\n",
            "Train\n",
            "              precision    recall  f1-score   support\n",
            "\n",
            "           0       0.50      1.00      0.67       350\n",
            "           1       0.00      0.00      0.00       350\n",
            "\n",
            "    accuracy                           0.50       700\n",
            "   macro avg       0.25      0.50      0.33       700\n",
            "weighted avg       0.25      0.50      0.33       700\n",
            "\n",
            "\n",
            "Dev\n",
            "              precision    recall  f1-score   support\n",
            "\n",
            "           0       0.52      1.00      0.68        62\n",
            "           1       0.00      0.00      0.00        58\n",
            "\n",
            "    accuracy                           0.52       120\n",
            "   macro avg       0.26      0.50      0.34       120\n",
            "weighted avg       0.27      0.52      0.35       120\n",
            "\n",
            "\n",
            "Test\n",
            "              precision    recall  f1-score   support\n",
            "\n",
            "           0       0.52      1.00      0.68        93\n",
            "           1       0.00      0.00      0.00        87\n",
            "\n",
            "    accuracy                           0.52       180\n",
            "   macro avg       0.26      0.50      0.34       180\n",
            "weighted avg       0.27      0.52      0.35       180\n",
            "\n"
          ]
        }
      ],
      "source": [
        "#Classification Report on train,dev,test datasets.\n",
        "\n",
        "print('Dummy Classifier')\n",
        "print('')\n",
        "print('Train')\n",
        "print(classification_report(y_train,predictions_train))\n",
        "print('')\n",
        "print('Dev')\n",
        "print(classification_report(y_dev,predictions_dev))\n",
        "print('')\n",
        "print('Test')\n",
        "print(classification_report(y_test,predictions_test))"
      ]
    },
    {
      "cell_type": "code",
      "execution_count": null,
      "metadata": {
        "colab": {
          "base_uri": "https://localhost:8080/"
        },
        "id": "jW_Ba2Y3YwQM",
        "outputId": "e23ef0c4-be59-420a-ebd2-23a8d519f7e2"
      },
      "outputs": [
        {
          "data": {
            "image/png": "[encoded data removed]",
            "text/plain": [
              "<Figure size 432x288 with 1 Axes>"
            ]
          },
          "metadata": {
            "needs_background": "light"
          },
          "output_type": "display_data"
        }
      ],
      "source": [
        "F1_Curves(DummyClassifier(),'Dummy Classifier')"
      ]
    },
    {
      "cell_type": "markdown",
      "metadata": {
        "id": "ZYzZp8OEihF5"
      },
      "source": [
        "##### Logistic Regression (2nd Baseline)"
      ]
    },
    {
      "cell_type": "code",
      "execution_count": null,
      "metadata": {
        "colab": {
          "base_uri": "https://localhost:8080/"
        },
        "id": "zmkPx5M9YwSp",
        "outputId": "5c5785fb-3467-4c8f-889d-90c869ae12cc"
      },
      "outputs": [
        {
          "name": "stdout",
          "output_type": "stream",
          "text": [
            "tuned hyperparameters :(best parameters)  {'C': 1000.0, 'penalty': 'l1'}\n",
            "accuracy : 0.7999999999999999\n",
            "Training took: 4.415596961975098 seconds \n",
            "\n"
          ]
        }
      ],
      "source": [
        "# Train // Approx 5 minutes\n",
        "#Grid for Grid Search\n",
        "grid={\"C\":np.logspace(-3,3,7), \"penalty\":[\"l1\",\"l2\"]}# l1 lasso l2 ridge\n",
        "\n",
        "clf = LogisticRegression(solver=\"saga\")\n",
        "clf_cv=GridSearchCV(clf,grid,cv=pds,scoring=f1)\n",
        "start_time = time.time()\n",
        "clf_cv.fit(X_param_centroids,y_param)\n",
        "print(\"tuned hyperparameters :(best parameters) \",clf_cv.best_params_)\n",
        "print(\"accuracy :\",clf_cv.best_score_)\n",
        "print(\"Training took: {} seconds \\n\".format(time.time() - start_time)) "
      ]
    },
    {
      "cell_type": "code",
      "execution_count": null,
      "metadata": {
        "colab": {
          "base_uri": "https://localhost:8080/",
          "height": 418
        },
        "id": "_hSPvW8hYwU1",
        "outputId": "356e0149-3991-493e-ff11-1d6bf3e946bc"
      },
      "outputs": [
        {
          "name": "stdout",
          "output_type": "stream",
          "text": [
            "Train f1-score: 78.45%\n",
            "\n",
            "Dev f1-score: 69.42% \n",
            "\n",
            "Test f1-score: 70.33%\n",
            "\n",
            "\n",
            "Confusion Matrix for test data:\n"
          ]
        },
        {
          "data": {
            "image/png": "[encoded data removed]",
            "text/plain": [
              "<Figure size 432x288 with 2 Axes>"
            ]
          },
          "metadata": {
            "needs_background": "light"
          },
          "output_type": "display_data"
        }
      ],
      "source": [
        "# Train using the best parameters from Grid Search\n",
        "clf = LogisticRegression()\n",
        "clf.fit(X_train_centroids, y_train)\n",
        "\n",
        "#  Evaluate on train,dev, and test subsets \n",
        "predictions_train = clf.predict(X_train_centroids)\n",
        "predictions_proba_train=clf.predict_proba(X_train_centroids)\n",
        "score = f1_score(y_train,predictions_train)\n",
        "print(\"Train f1-score: {:.2f}%\\n\".format(score*100))\n",
        "\n",
        "predictions_dev = clf.predict(X_dev_centroids)\n",
        "predictions_proba_dev=clf.predict_proba(X_dev_centroids)\n",
        "score = f1_score(y_dev, predictions_dev)\n",
        "print(\"Dev f1-score: {:.2f}% \\n\".format(score*100))\n",
        "\n",
        "predictions_test = clf.predict(X_test_centroids)\n",
        "predictions_proba_test=clf.predict_proba(X_test_centroids)\n",
        "score = f1_score(y_test,predictions_test)\n",
        "print(\"Test f1-score: {:.2f}%\\n\".format(score*100))\n",
        "\n",
        "print(\"\\nConfusion Matrix for test data:\")\n",
        "plot_confusion_matrix(estimator=clf, X=X_test_centroids, y_true=y_test, values_format = '.0f');"
      ]
    },
    {
      "cell_type": "code",
      "execution_count": null,
      "metadata": {
        "colab": {
          "base_uri": "https://localhost:8080/"
        },
        "id": "RXXEbkLbYwXO",
        "outputId": "615cda5b-2f96-4289-bd3b-c8407d456e63"
      },
      "outputs": [
        {
          "name": "stdout",
          "output_type": "stream",
          "text": [
            "Logistic Regression\n",
            "\n",
            "Train\n",
            "              precision    recall  f1-score   support\n",
            "\n",
            "           0       0.80      0.74      0.77       350\n",
            "           1       0.76      0.81      0.78       350\n",
            "\n",
            "    accuracy                           0.78       700\n",
            "   macro avg       0.78      0.78      0.78       700\n",
            "weighted avg       0.78      0.78      0.78       700\n",
            "\n",
            "\n",
            "Dev\n",
            "              precision    recall  f1-score   support\n",
            "\n",
            "           0       0.72      0.66      0.69        62\n",
            "           1       0.67      0.72      0.69        58\n",
            "\n",
            "    accuracy                           0.69       120\n",
            "   macro avg       0.69      0.69      0.69       120\n",
            "weighted avg       0.69      0.69      0.69       120\n",
            "\n",
            "\n",
            "Test\n",
            "              precision    recall  f1-score   support\n",
            "\n",
            "           0       0.73      0.67      0.70        93\n",
            "           1       0.67      0.74      0.70        87\n",
            "\n",
            "    accuracy                           0.70       180\n",
            "   macro avg       0.70      0.70      0.70       180\n",
            "weighted avg       0.70      0.70      0.70       180\n",
            "\n"
          ]
        }
      ],
      "source": [
        "# #Classification Report on train,dev,test datasets.\n",
        "\n",
        "print('Logistic Regression')\n",
        "print('')\n",
        "print('Train')\n",
        "print(classification_report(y_train,predictions_train))\n",
        "print('')\n",
        "print('Dev')\n",
        "print(classification_report(y_dev,predictions_dev))\n",
        "print('')\n",
        "print('Test')\n",
        "print(classification_report(y_test,predictions_test))"
      ]
    },
    {
      "cell_type": "code",
      "execution_count": null,
      "metadata": {
        "id": "fZSuCy5qYwbs"
      },
      "outputs": [],
      "source": [
        "#Setting up seaborne pallete\n",
        "sns.set(rc={'figure.figsize':(11.7,8.27)})\n",
        "palette = sns.color_palette(\"bright\", 2)"
      ]
    },
    {
      "cell_type": "code",
      "execution_count": null,
      "metadata": {
        "colab": {
          "base_uri": "https://localhost:8080/",
          "height": 533
        },
        "id": "Q6zVpi3EYweA",
        "outputId": "d70acbd7-6b06-4013-a4c3-55ae088e4f00"
      },
      "outputs": [
        {
          "data": {
            "image/png": "[encoded data removed]",
            "text/plain": [
              "<Figure size 842.4x595.44 with 1 Axes>"
            ]
          },
          "metadata": {},
          "output_type": "display_data"
        }
      ],
      "source": [
        "F1_Curves(LogisticRegression(C=clf_cv.best_params_['C'],penalty=clf_cv.best_params_['penalty'], solver='saga'),\"Logistic Regression\")"
      ]
    },
    {
      "cell_type": "code",
      "execution_count": null,
      "metadata": {
        "colab": {
          "base_uri": "https://localhost:8080/"
        },
        "id": "EBYmOYXkYwgg",
        "outputId": "c7c907f3-46c4-45cc-b5c7-812677f1d804"
      },
      "outputs": [
        {
          "name": "stdout",
          "output_type": "stream",
          "text": [
            "0.8251495996015019\n",
            "0.8434290730131861\n",
            "0.6789233860379345\n",
            "0.7544816782219214\n",
            "0.7315830063277671\n",
            "0.7348789291786784\n"
          ]
        }
      ],
      "source": [
        "from sklearn.metrics import precision_recall_curve\n",
        "\n",
        "\n",
        "#Training AUC for the 2 Classes\n",
        "p,r,t = precision_recall_curve(y_train,predictions_proba_train[:,1])\n",
        "positive_area=auc(r,p)\n",
        "print(positive_area)\n",
        "\n",
        "p2,r2,t2 = precision_recall_curve(1-y_train,predictions_proba_train[:,0])\n",
        "negative_area=auc(r2,p2)\n",
        "print(negative_area)\n",
        "\n",
        "#Dev AUC for the 2 Classes\n",
        "p3,r3,t3 = precision_recall_curve(y_dev,predictions_proba_dev[:,1])\n",
        "positive_area2=auc(r3,p3)\n",
        "print(positive_area2)\n",
        "\n",
        "p4,r4,t4 = precision_recall_curve(1-y_dev,predictions_proba_dev[:,0])\n",
        "negative_area2=auc(r4,p4)\n",
        "print(negative_area2)\n",
        "\n",
        "\n",
        "#Test AUC for the 2 Classes\n",
        "p5,r5,t5 = precision_recall_curve(y_test,predictions_proba_test[:,1])\n",
        "positive_area3=auc(r5,p5)\n",
        "print(positive_area3)\n",
        "\n",
        "p6,r6,t6 = precision_recall_curve(1-y_test,predictions_proba_test[:,0])\n",
        "negative_area3=auc(r6,p6)\n",
        "print(negative_area3)"
      ]
    },
    {
      "cell_type": "markdown",
      "metadata": {
        "id": "AiS7ml-Fiv1R"
      },
      "source": [
        "##### Neural Network (3rd Baseline)"
      ]
    },
    {
      "cell_type": "code",
      "execution_count": null,
      "metadata": {
        "id": "70cZ39gOpe7z"
      },
      "outputs": [],
      "source": [
        "#Initializing early-stopping\n",
        "stop_early = tf.keras.callbacks.EarlyStopping(monitor='val_loss', patience=5) "
      ]
    },
    {
      "cell_type": "code",
      "execution_count": null,
      "metadata": {
        "id": "je-GrD28Ywiq"
      },
      "outputs": [],
      "source": [
        "# def build_model(hp):\n",
        "#     \"\"\"\n",
        "#     Builds model and sets up hyperparameter space to search.\n",
        "    \n",
        "#     Parameters\n",
        "#     ----------\n",
        "#     hp : HyperParameter object\n",
        "#         Configures hyperparameters to tune.\n",
        "        \n",
        "#     Returns\n",
        "#     -------\n",
        "#     model : keras model\n",
        "#         Compiled model with hyperparameters to tune.\n",
        "#     \"\"\"\n",
        "#     # Initialize sequential API and start building model.\n",
        "#     model = keras.Sequential()\n",
        "#     model.add(keras.layers.Flatten(input_shape=(2500,)))\n",
        "    \n",
        "#     # Tune the number of hidden layers and units in each.\n",
        "#     # Number of hidden layers: 1 - 3\n",
        "#     # Number of Units: 32 - 512 with stepsize of 32\n",
        "#     for i in range(1, hp.Int(\"num_layers\", 1, 3)):\n",
        "#         model.add(\n",
        "#             keras.layers.Dense(\n",
        "#                 units=hp.Int(\"units_\" + str(i), min_value=32, max_value=512, step=32),\n",
        "#                 activation=\"relu\")\n",
        "#             )\n",
        "        \n",
        "#         # Tune dropout layer with values from 0 - 0.5 with stepsize of 0.1.\n",
        "#         model.add(keras.layers.Dropout(hp.Float(\"dropout_\" + str(i), 0.1, 0.5, step=0.1)))\n",
        "    \n",
        "#     # Add output layer.\n",
        "#     model.add(keras.layers.Dense(units=1, activation=\"sigmoid\"))\n",
        "    \n",
        "#     # Tune learning rate for Adam optimizer with values from  0.001, or 0.0001/We run the loop for bigger learning rate values but it was too time consuming\n",
        "#     #and we only kept the 2 best learning values for further development of our model.\n",
        "#     hp_learning_rate = hp.Choice(\"learning_rate\", values=[1e-3, 1e-4])\n",
        "    \n",
        "#     # Define optimizer, loss, and metrics\n",
        "#     model.compile(optimizer=keras.optimizers.Adam(learning_rate=hp_learning_rate),\n",
        "#                   loss=keras.losses.BinaryCrossentropy(),\n",
        "#                   metrics=[\"accuracy\"])\n",
        "    \n",
        "#     return model"
      ]
    },
    {
      "cell_type": "code",
      "execution_count": null,
      "metadata": {
        "id": "55enLZn-YwlF"
      },
      "outputs": [],
      "source": [
        "# # Instantiate the tuner\n",
        "# #The Hyperband tuning algorithm uses adaptive resource allocation and early-stopping to quickly converge on a high-performing model\n",
        "# tuner = kt.Hyperband(build_model,\n",
        "#                      #Metric which will be used for the hyperparameter tuning\n",
        "#                      objective=\"val_accuracy\",\n",
        "#                      max_epochs=20,\n",
        "#                      #Reduction factor for the number of epochs and number of models for each bracket.\n",
        "#                      factor=3,\n",
        "#                      hyperband_iterations=10,\n",
        "#                      directory=\"kt_dir\",\n",
        "#                      project_name=\"kt_hyperband3\",)"
      ]
    },
    {
      "cell_type": "code",
      "execution_count": null,
      "metadata": {
        "id": "N7mE8KDtYwnb"
      },
      "outputs": [],
      "source": [
        "# NUM_EPOCHS=20\n",
        "# # tuner.search_space_summary()"
      ]
    },
    {
      "cell_type": "code",
      "execution_count": null,
      "metadata": {
        "id": "se8TyhWgYwqI"
      },
      "outputs": [],
      "source": [
        "# # #Tuning\n",
        "# # tuner.search(X_train_centroids, y_train, epochs=NUM_EPOCHS, validation_data=(X_dev,y_dev), callbacks=[stop_early], verbose=2)"
      ]
    },
    {
      "cell_type": "code",
      "execution_count": null,
      "metadata": {
        "id": "fgZSR09lZFlL"
      },
      "outputs": [],
      "source": [
        "# # Get the optimal hyperparameters from the results\n",
        "# best_hps=tuner.get_best_hyperparameters()[0]\n",
        "\n",
        "# # Build model\n",
        "# h_model = tuner.hypermodel.build(best_hps)\n",
        "\n",
        "# # Train the hypertuned model\n",
        "# h_model.fit(X_train_centroids, y_train, epochs=NUM_EPOCHS, validation_split=0.2, callbacks=[stop_early], verbose=2)"
      ]
    },
    {
      "cell_type": "code",
      "execution_count": null,
      "metadata": {
        "id": "Rm5zR968ZFn1"
      },
      "outputs": [],
      "source": [
        "# #Checking model summary\n",
        "# h_model.summary()"
      ]
    },
    {
      "cell_type": "code",
      "execution_count": null,
      "metadata": {
        "id": "6dNC368hZFqL"
      },
      "outputs": [],
      "source": [
        "# #Classifying with our model\n",
        "# predictions_test = h_model.predict(x_test_tfidf.todense())\n",
        "# #Calculating F1 score\n",
        "# score = f1_score(y_test, np.round(predictions_test))\n",
        "\n",
        "# print(\"Test f1-score: {:.2f}% \\n\".format(score*100))\n",
        "# print(confusion_matrix(y_test, np.round(predictions_test)))"
      ]
    },
    {
      "cell_type": "code",
      "execution_count": null,
      "metadata": {
        "id": "2lHqB7jJZFst"
      },
      "outputs": [],
      "source": [
        "# #Plotting confusion matrix\n",
        "# cm = confusion_matrix(y_test, np.round(predictions_test))\n",
        "# f = sns.heatmap(cm, annot=True, fmt='d')"
      ]
    },
    {
      "cell_type": "code",
      "execution_count": null,
      "metadata": {
        "colab": {
          "base_uri": "https://localhost:8080/"
        },
        "id": "09NT7EQYZFu-",
        "outputId": "40d68bbd-ba6b-4913-bc90-5ac0d817e977"
      },
      "outputs": [
        {
          "name": "stdout",
          "output_type": "stream",
          "text": [
            "Epoch 1/30\n",
            "22/22 - 8s - loss: 0.6935 - accuracy: 0.5043 - val_loss: 0.6926 - val_accuracy: 0.4833 - 8s/epoch - 345ms/step\n",
            "Epoch 2/30\n",
            "22/22 - 0s - loss: 0.6915 - accuracy: 0.5557 - val_loss: 0.6911 - val_accuracy: 0.6000 - 261ms/epoch - 12ms/step\n",
            "Epoch 3/30\n",
            "22/22 - 0s - loss: 0.6899 - accuracy: 0.6029 - val_loss: 0.6895 - val_accuracy: 0.6750 - 266ms/epoch - 12ms/step\n",
            "Epoch 4/30\n",
            "22/22 - 0s - loss: 0.6870 - accuracy: 0.6271 - val_loss: 0.6876 - val_accuracy: 0.6667 - 314ms/epoch - 14ms/step\n",
            "Epoch 5/30\n",
            "22/22 - 0s - loss: 0.6852 - accuracy: 0.6271 - val_loss: 0.6852 - val_accuracy: 0.6667 - 405ms/epoch - 18ms/step\n",
            "Epoch 6/30\n",
            "22/22 - 0s - loss: 0.6810 - accuracy: 0.6900 - val_loss: 0.6827 - val_accuracy: 0.6583 - 277ms/epoch - 13ms/step\n",
            "Epoch 7/30\n",
            "22/22 - 0s - loss: 0.6778 - accuracy: 0.7171 - val_loss: 0.6793 - val_accuracy: 0.6583 - 315ms/epoch - 14ms/step\n",
            "Epoch 8/30\n",
            "22/22 - 0s - loss: 0.6720 - accuracy: 0.7314 - val_loss: 0.6747 - val_accuracy: 0.6917 - 320ms/epoch - 15ms/step\n",
            "Epoch 9/30\n",
            "22/22 - 0s - loss: 0.6659 - accuracy: 0.7329 - val_loss: 0.6697 - val_accuracy: 0.6917 - 288ms/epoch - 13ms/step\n",
            "Epoch 10/30\n",
            "22/22 - 0s - loss: 0.6566 - accuracy: 0.7471 - val_loss: 0.6632 - val_accuracy: 0.7000 - 290ms/epoch - 13ms/step\n",
            "Epoch 11/30\n",
            "22/22 - 0s - loss: 0.6504 - accuracy: 0.7286 - val_loss: 0.6566 - val_accuracy: 0.6417 - 383ms/epoch - 17ms/step\n",
            "Epoch 12/30\n",
            "22/22 - 0s - loss: 0.6351 - accuracy: 0.7671 - val_loss: 0.6477 - val_accuracy: 0.6917 - 277ms/epoch - 13ms/step\n",
            "Epoch 13/30\n",
            "22/22 - 0s - loss: 0.6232 - accuracy: 0.7643 - val_loss: 0.6387 - val_accuracy: 0.7083 - 307ms/epoch - 14ms/step\n",
            "Epoch 14/30\n",
            "22/22 - 0s - loss: 0.6114 - accuracy: 0.7757 - val_loss: 0.6288 - val_accuracy: 0.7167 - 467ms/epoch - 21ms/step\n",
            "Epoch 15/30\n",
            "22/22 - 0s - loss: 0.5975 - accuracy: 0.7800 - val_loss: 0.6184 - val_accuracy: 0.7167 - 316ms/epoch - 14ms/step\n",
            "Epoch 16/30\n",
            "22/22 - 0s - loss: 0.5817 - accuracy: 0.7686 - val_loss: 0.6096 - val_accuracy: 0.7167 - 314ms/epoch - 14ms/step\n",
            "Epoch 17/30\n",
            "22/22 - 0s - loss: 0.5634 - accuracy: 0.7686 - val_loss: 0.5987 - val_accuracy: 0.7250 - 288ms/epoch - 13ms/step\n",
            "Epoch 18/30\n",
            "22/22 - 0s - loss: 0.5476 - accuracy: 0.7829 - val_loss: 0.5886 - val_accuracy: 0.7250 - 260ms/epoch - 12ms/step\n",
            "Epoch 19/30\n",
            "22/22 - 0s - loss: 0.5412 - accuracy: 0.7729 - val_loss: 0.5804 - val_accuracy: 0.7417 - 344ms/epoch - 16ms/step\n",
            "Epoch 20/30\n",
            "22/22 - 0s - loss: 0.5262 - accuracy: 0.7886 - val_loss: 0.5703 - val_accuracy: 0.7417 - 334ms/epoch - 15ms/step\n",
            "Epoch 21/30\n",
            "22/22 - 0s - loss: 0.5100 - accuracy: 0.7886 - val_loss: 0.5611 - val_accuracy: 0.7500 - 316ms/epoch - 14ms/step\n",
            "Epoch 22/30\n",
            "22/22 - 0s - loss: 0.4935 - accuracy: 0.8043 - val_loss: 0.5534 - val_accuracy: 0.7500 - 300ms/epoch - 14ms/step\n",
            "Epoch 23/30\n",
            "22/22 - 0s - loss: 0.4867 - accuracy: 0.8100 - val_loss: 0.5439 - val_accuracy: 0.7167 - 242ms/epoch - 11ms/step\n",
            "Epoch 24/30\n",
            "22/22 - 0s - loss: 0.4752 - accuracy: 0.7971 - val_loss: 0.5389 - val_accuracy: 0.7583 - 299ms/epoch - 14ms/step\n",
            "Epoch 25/30\n",
            "22/22 - 0s - loss: 0.4580 - accuracy: 0.8214 - val_loss: 0.5290 - val_accuracy: 0.7250 - 350ms/epoch - 16ms/step\n",
            "Epoch 26/30\n",
            "22/22 - 0s - loss: 0.4534 - accuracy: 0.8029 - val_loss: 0.5312 - val_accuracy: 0.7583 - 314ms/epoch - 14ms/step\n",
            "Epoch 27/30\n",
            "22/22 - 0s - loss: 0.4438 - accuracy: 0.8214 - val_loss: 0.5169 - val_accuracy: 0.7667 - 324ms/epoch - 15ms/step\n",
            "Epoch 28/30\n",
            "22/22 - 0s - loss: 0.4296 - accuracy: 0.8057 - val_loss: 0.5139 - val_accuracy: 0.7667 - 286ms/epoch - 13ms/step\n",
            "Epoch 29/30\n",
            "22/22 - 0s - loss: 0.4281 - accuracy: 0.8171 - val_loss: 0.5066 - val_accuracy: 0.7667 - 297ms/epoch - 13ms/step\n",
            "Epoch 30/30\n",
            "22/22 - 0s - loss: 0.4106 - accuracy: 0.8329 - val_loss: 0.5022 - val_accuracy: 0.7667 - 289ms/epoch - 13ms/step\n"
          ]
        }
      ],
      "source": [
        "#As we are not able to run the tuning process everytime because it is too time consuming,we've stored the keras model information so as to build it from scratch.\n",
        "#Define the keras model\n",
        "NUM_EPOCHS = 30\n",
        "model = Sequential()\n",
        "model.add(keras.layers.Flatten(input_shape=(300,)))\n",
        "model.add(Dense(224, activation='relu'))\n",
        "model.add(Dropout(0.3))\n",
        "model.add(Dense(320, activation='relu'))\n",
        "model.add(Dropout(0.3))\n",
        "model.add(Dense(1, activation='sigmoid'))\n",
        "#Compiling the keras model\n",
        "model.compile(loss='binary_crossentropy', optimizer= Adam(learning_rate=1e-4), metrics=['accuracy'])\n",
        "#Fitting the keras model on the dataset\n",
        "history = model.fit(X_train_centroids, y_train, epochs=NUM_EPOCHS, validation_data=(X_dev_centroids,y_dev), callbacks=[stop_early], verbose=2) "
      ]
    },
    {
      "cell_type": "code",
      "execution_count": null,
      "metadata": {
        "colab": {
          "base_uri": "https://localhost:8080/"
        },
        "id": "wASKvF1SZFxA",
        "outputId": "7a87a169-63ce-4d4c-ce37-9dc15980bd9e"
      },
      "outputs": [
        {
          "name": "stdout",
          "output_type": "stream",
          "text": [
            "Test f1-score: 77.01% \n",
            "\n"
          ]
        }
      ],
      "source": [
        "#Classifying with our model\n",
        "predictions_test = model.predict(X_test_centroids)\n",
        "\n",
        "#Calculating F1 score\n",
        "score = f1_score(y_test, np.round(predictions_test))\n",
        "\n",
        "print(\"Test f1-score: {:.2f}% \\n\".format(score*100)) "
      ]
    },
    {
      "cell_type": "code",
      "execution_count": null,
      "metadata": {
        "colab": {
          "base_uri": "https://localhost:8080/",
          "height": 500
        },
        "id": "TLBbAiprZFzl",
        "outputId": "63f15e49-7ad4-4a49-be56-086f600ac5af"
      },
      "outputs": [
        {
          "data": {
            "image/png": "[encoded data removed]",
            "text/plain": [
              "<Figure size 842.4x595.44 with 2 Axes>"
            ]
          },
          "metadata": {},
          "output_type": "display_data"
        }
      ],
      "source": [
        "#Plotting confusion matrix\n",
        "cm = confusion_matrix(y_test, np.round(predictions_test))\n",
        "f = sns.heatmap(cm, annot=True, fmt='d')"
      ]
    },
    {
      "cell_type": "code",
      "execution_count": null,
      "metadata": {
        "colab": {
          "base_uri": "https://localhost:8080/",
          "height": 288
        },
        "id": "txoWlEF7ZQNW",
        "outputId": "7c3b29a3-73e8-4d37-f572-f926a7f2477a"
      },
      "outputs": [
        {
          "data": {
            "image/png": "[encoded data removed]",
            "text/plain": [
              "<Figure size 842.4x595.44 with 1 Axes>"
            ]
          },
          "metadata": {},
          "output_type": "display_data"
        }
      ],
      "source": [
        "import matplotlib.pyplot as pyplot\n",
        "#Plot loss during training/Manually adjusted patience to stop at 4 epochs\n",
        "pyplot.subplot(211)\n",
        "plt.ylim((0.4,0.8))\n",
        "plt.title('Loss during Epochs')\n",
        "plt.ylabel('Loss')\n",
        "plt.xlabel('Number of Epochs')\n",
        "pyplot.plot(history.history['loss'], label='train')\n",
        "pyplot.plot(history.history['val_loss'], label='dev')\n",
        "pyplot.legend();"
      ]
    },
    {
      "cell_type": "code",
      "execution_count": null,
      "metadata": {
        "colab": {
          "base_uri": "https://localhost:8080/"
        },
        "id": "d-Td34GjZQPx",
        "outputId": "489754aa-26ed-499a-c433-e7f21f1cc497"
      },
      "outputs": [
        {
          "name": "stdout",
          "output_type": "stream",
          "text": [
            "Neural Network\n",
            "\n",
            "Train\n",
            "              precision    recall  f1-score   support\n",
            "\n",
            "           0       0.84      0.80      0.82       350\n",
            "           1       0.81      0.85      0.83       350\n",
            "\n",
            "    accuracy                           0.82       700\n",
            "   macro avg       0.83      0.82      0.82       700\n",
            "weighted avg       0.83      0.82      0.82       700\n",
            "\n",
            "\n",
            "Dev\n",
            "              precision    recall  f1-score   support\n",
            "\n",
            "           0       0.81      0.71      0.76        62\n",
            "           1       0.73      0.83      0.77        58\n",
            "\n",
            "    accuracy                           0.77       120\n",
            "   macro avg       0.77      0.77      0.77       120\n",
            "weighted avg       0.77      0.77      0.77       120\n",
            "\n",
            "\n",
            "Test\n",
            "              precision    recall  f1-score   support\n",
            "\n",
            "           0       0.78      0.78      0.78        93\n",
            "           1       0.77      0.77      0.77        87\n",
            "\n",
            "    accuracy                           0.78       180\n",
            "   macro avg       0.78      0.78      0.78       180\n",
            "weighted avg       0.78      0.78      0.78       180\n",
            "\n"
          ]
        }
      ],
      "source": [
        "#Classification Report on train,dev,test datasets.\n",
        "\n",
        "print('Neural Network')\n",
        "print('')\n",
        "print('Train')\n",
        "print(classification_report(y_train,np.round(model.predict(X_train_centroids))))\n",
        "print('')\n",
        "print('Dev')\n",
        "print(classification_report(y_dev,np.round(model.predict(X_dev_centroids))))\n",
        "print('')\n",
        "print('Test')\n",
        "print(classification_report(y_test,np.round(predictions_test)))"
      ]
    },
    {
      "cell_type": "code",
      "execution_count": null,
      "metadata": {
        "colab": {
          "base_uri": "https://localhost:8080/"
        },
        "id": "c68qkAiLZQR5",
        "outputId": "7605edbc-061a-48be-f9cb-a6b166531a8c"
      },
      "outputs": [
        {
          "name": "stdout",
          "output_type": "stream",
          "text": [
            "Train Positive 0.9059954871157168\n",
            "Train Negative 0.9205073796783176\n",
            "Dev Positive 0.8166098982782634\n",
            "Dev Negative 0.8576591468679888\n",
            "Test Positive 0.8096734514172064\n",
            "Test Negative 0.82552294642149\n"
          ]
        }
      ],
      "source": [
        "\n",
        "#Training AUC for the 2 Classes\n",
        "p,r,t = precision_recall_curve(y_train,model.predict(X_train_centroids))\n",
        "positive_area=auc(r,p)\n",
        "print('Train Positive',positive_area)\n",
        "\n",
        "p2,r2,t2 = precision_recall_curve(1-y_train,1-model.predict(X_train_centroids))\n",
        "negative_area=auc(r2,p2)\n",
        "print('Train Negative',negative_area)\n",
        "\n",
        "#Dev AUC for the 2 Classes\n",
        "p3,r3,t3 = precision_recall_curve(y_dev,model.predict(X_dev_centroids))\n",
        "positive_area2=auc(r3,p3)\n",
        "print('Dev Positive',positive_area2)\n",
        "\n",
        "p4,r4,t4 = precision_recall_curve(1-y_dev,1-model.predict(X_dev_centroids))\n",
        "negative_area2=auc(r4,p4)\n",
        "print('Dev Negative',negative_area2)\n",
        "\n",
        "\n",
        "#Test AUC for the 2 Classes\n",
        "p5,r5,t5 = precision_recall_curve(y_test,model.predict(X_test_centroids))\n",
        "positive_area3=auc(r5,p5)\n",
        "print('Test Positive',positive_area3)\n",
        "\n",
        "p6,r6,t6 = precision_recall_curve(1-y_test,1-model.predict(X_test_centroids))\n",
        "negative_area3=auc(r6,p6)\n",
        "print('Test Negative',negative_area3)"
      ]
    },
    {
      "cell_type": "markdown",
      "metadata": {
        "id": "TugUltEumjO8"
      },
      "source": [
        "##### RNN"
      ]
    },
    {
      "cell_type": "code",
      "execution_count": null,
      "metadata": {
        "id": "h0LKn_sVx0KG"
      },
      "outputs": [],
      "source": [
        "#Initializing early-stopping\n",
        "stop_early = tf.keras.callbacks.EarlyStopping(monitor='val_loss', patience=8) "
      ]
    },
    {
      "cell_type": "code",
      "execution_count": null,
      "metadata": {
        "id": "4r03myKMxxzI"
      },
      "outputs": [],
      "source": [
        "import tensorflow as tf\n",
        "from sklearn.metrics import f1_score, recall_score, precision_score\n",
        "import numpy as np\n",
        "import os\n",
        "\n",
        "\n",
        "class Metrics(tf.keras.callbacks.Callback):\n",
        "    def __init__(self, valid_data):\n",
        "        super(Metrics, self).__init__()\n",
        "        self.validation_data = valid_data\n",
        "\n",
        "    def on_epoch_end(self, epoch, logs=None):\n",
        "        logs = logs or {}\n",
        "        val_predict = np.argmax(self.model.predict(self.validation_data[0]), -1)\n",
        "        val_targ = self.validation_data[1]\n",
        "        if len(val_targ.shape) == 2 and val_targ.shape[1] != 1:\n",
        "            val_targ = np.argmax(val_targ, -1)\n",
        "        val_targ = tf.cast(val_targ,dtype=tf.float32)\n",
        "        \n",
        "\n",
        "        _val_f1 = f1_score(val_targ, val_predict,average=\"weighted\")\n",
        "        _val_recall = recall_score(val_targ, val_predict,average=\"weighted\")\n",
        "        _val_precision = precision_score(val_targ, val_predict,average=\"weighted\")\n",
        "\n",
        "        logs['val_f1'] = _val_f1\n",
        "        logs['val_recall'] = _val_recall\n",
        "        logs['val_precision'] = _val_precision\n",
        "        print(\" — val_f1: %f — val_precision: %f — val_recall: %f\" % (_val_f1, _val_precision, _val_recall))\n",
        "        return "
      ]
    },
    {
      "cell_type": "code",
      "execution_count": null,
      "metadata": {
        "id": "yD5lBDA6ZQWa"
      },
      "outputs": [],
      "source": [
        "import os\n",
        "os.environ['TF_CPP_MIN_LOG_LEVEL'] = '3'\n",
        "import tensorflow as tf\n",
        "import tensorflow.keras.backend as K\n",
        "from tensorflow.keras import initializers, regularizers, constraints\n",
        "from tensorflow.keras.layers import Layer\n",
        "import numpy as np\n",
        "\n",
        "\n",
        "def dot_product(x, kernel):\n",
        "    \"\"\"\n",
        "    Wrapper for dot product operation, in order to be compatible with both\n",
        "    Theano and Tensorflow\n",
        "    Args:\n",
        "        x (): input\n",
        "        kernel (): weights\n",
        "    Returns:\n",
        "    \"\"\"\n",
        "    if K.backend() == 'tensorflow':\n",
        "      return K.squeeze(K.dot(x, K.expand_dims(kernel)), axis=-1)\n",
        "    else:\n",
        "      return K.dot(x, kernel)\n",
        "\n",
        "\n",
        "# class LinearAttention(Layer):\n",
        "#     def __init__(self,\n",
        "#                  kernel_regularizer=None, bias_regularizer=None,\n",
        "#                  W_constraint=None, b_constraint=None,\n",
        "#                  bias=True,\n",
        "#                  return_attention=False,\n",
        "#                  **kwargs):\n",
        "        \n",
        "#         self.supports_masking = True\n",
        "#         self.init = initializers.get('glorot_uniform')\n",
        "\n",
        "#         self.W_regularizer = regularizers.get(kernel_regularizer)\n",
        "#         self.b_regularizer = regularizers.get(bias_regularizer)\n",
        "\n",
        "#         self.W_constraint = constraints.get(W_constraint)\n",
        "#         self.b_constraint = constraints.get(b_constraint)\n",
        "\n",
        "#         self.bias = bias\n",
        "#         self.return_attention = return_attention\n",
        "#         super(LinearAttention, self).__init__(**kwargs)\n",
        "\n",
        "#     def build(self, input_shape):\n",
        "#         assert len(input_shape) == 3\n",
        "\n",
        "#         self.W = self.add_weight(shape=(input_shape[-1],),\n",
        "#                                  initializer=self.init,\n",
        "#                                  name='{}_W'.format(self.name),\n",
        "#                                  regularizer=self.W_regularizer,\n",
        "#                                  constraint=self.W_constraint)\n",
        "#         if self.bias:\n",
        "#             self.b = self.add_weight(shape=(1,),\n",
        "#                                      initializer='zero',\n",
        "#                                      name='{}_b'.format(self.name),\n",
        "#                                      regularizer=self.b_regularizer,\n",
        "#                                      constraint=self.b_constraint)\n",
        "#         else:\n",
        "#             self.b = None\n",
        "\n",
        "#         self.built = True\n",
        "\n",
        "#     def compute_mask(self, inputs, mask=None):\n",
        "#         # do not pass the mask to the next layers\n",
        "#         if self.return_attention:\n",
        "#             return [None, None]\n",
        "#         return None\n",
        "\n",
        "#     def call(self, x, mask=None):\n",
        "        \n",
        "#         # eij = Wx + b\n",
        "#         eij = dot_product(x, self.W)\n",
        "\n",
        "#         if self.bias:\n",
        "#             eij += self.b\n",
        "\n",
        "#         # Apply mask\n",
        "#         if mask is not None:\n",
        "#             eij *= K.cast(mask, K.floatx())\n",
        "\n",
        "#         # a = softmax(eij)\n",
        "#         a = K.expand_dims(K.softmax(eij, axis=-1))\n",
        "#         weighted_input = x * a\n",
        "#         result = K.sum(weighted_input, axis=1)\n",
        "\n",
        "#         if self.return_attention:\n",
        "#             return [result, a]\n",
        "#         return result\n",
        "\n",
        "#     def compute_output_shape(self, input_shape):\n",
        "#         if self.return_attention:\n",
        "#             return [(input_shape[0], input_shape[-1]),\n",
        "#                     (input_shape[0], input_shape[1])]\n",
        "#         else:\n",
        "#             return input_shape[0], input_shape[-1]\n",
        "\n",
        "\n",
        "class DeepAttention(Layer):\n",
        "    def __init__(self,\n",
        "                 kernel_regularizer=None, u_regularizer=None, bias_regularizer=None,\n",
        "                 W_constraint=None,W2_constraint=None, u_constraint=None, b_constraint=None,\n",
        "                 bias=True,three_layers=False,\n",
        "                 return_attention=False,\n",
        "                 **kwargs):\n",
        "\n",
        "        self.supports_masking = True\n",
        "        self.init = initializers.get('glorot_uniform')\n",
        "\n",
        "        self.W_regularizer = regularizers.get(kernel_regularizer)\n",
        "        self.W2_regularizer = regularizers.get(kernel_regularizer)\n",
        "        self.u_regularizer = regularizers.get(u_regularizer)\n",
        "        self.b1_regularizer = regularizers.get(bias_regularizer)\n",
        "        self.b2_regularizer = regularizers.get(bias_regularizer)\n",
        "        self.b3_regularizer = regularizers.get(bias_regularizer)\n",
        "\n",
        "        self.W_constraint = constraints.get(W_constraint)\n",
        "        self.W2_constraint = constraints.get(W2_constraint)\n",
        "        self.u_constraint = constraints.get(u_constraint)\n",
        "        self.b1_constraint = constraints.get(b_constraint)\n",
        "        self.b2_constraint = constraints.get(b_constraint)\n",
        "        self.b3_constraint = constraints.get(b_constraint)\n",
        "\n",
        "        self.bias = bias\n",
        "        self.return_attention = return_attention\n",
        "        self.three_layers = three_layers\n",
        "        super(DeepAttention, self).__init__(**kwargs)\n",
        "\n",
        "    def build(self, input_shape):\n",
        "        assert len(input_shape) == 3\n",
        "\n",
        "        self.W = self.add_weight(shape=(input_shape[-1], input_shape[-1],),\n",
        "                                 initializer=self.init,\n",
        "                                 name='{}_W'.format(self.name),\n",
        "                                 regularizer=self.W_regularizer,\n",
        "                                 constraint=self.W_constraint)\n",
        "        if self.three_layers==True:\n",
        "          self.W2 = self.add_weight(shape=(input_shape[-1], input_shape[-1],),\n",
        "                                  initializer=self.init,\n",
        "                                  name='{}_W2'.format(self.name),\n",
        "                                  regularizer=self.W2_regularizer,\n",
        "                                  constraint=self.W2_constraint)          \n",
        "        if self.bias:\n",
        "            self.b1 = self.add_weight(shape=(input_shape[-1],),\n",
        "                                     initializer='zero',\n",
        "                                     name='{}_b1'.format(self.name),\n",
        "                                     regularizer=self.b1_regularizer,\n",
        "                                     constraint=self.b1_constraint)\n",
        "            self.b2 = self.add_weight(shape=(1,),\n",
        "                                     initializer='zero',\n",
        "                                     name='{}_b2'.format(self.name),\n",
        "                                     regularizer=self.b2_regularizer,\n",
        "                                     constraint=self.b2_constraint)\n",
        "            if self.three_layers==True:\n",
        "              self.b3 = self.add_weight(shape=(1,),\n",
        "                                      initializer='zero',\n",
        "                                      name='{}_b3'.format(self.name),\n",
        "                                      regularizer=self.b3_regularizer,\n",
        "                                      constraint=self.b3_constraint)              \n",
        "        else:\n",
        "            self.b1 = None\n",
        "            self.b2 = None\n",
        "            self.b3 = None\n",
        "\n",
        "        self.u = self.add_weight(shape=(input_shape[-1],),\n",
        "                                 initializer=self.init,\n",
        "                                 name='{}_u'.format(self.name),\n",
        "                                 regularizer=self.u_regularizer,\n",
        "                                 constraint=self.u_constraint)\n",
        "\n",
        "        self.built = True\n",
        "\n",
        "\n",
        "    def compute_mask(self, inputs, mask=None):\n",
        "        # do not pass the mask to the next layers\n",
        "        if self.return_attention:\n",
        "            return [None, None]\n",
        "        return None\n",
        "\n",
        "    def call(self, x, mask=None):\n",
        "        # uit = tanh(Wx + b)\n",
        "        uit = dot_product(x, self.W)\n",
        "\n",
        "        if self.bias:\n",
        "            uit += self.b1\n",
        "\n",
        "        uit = K.tanh(uit)\n",
        "        if self.three_layers==True:\n",
        "          uit=dot_product(uit,self.W2)\n",
        "          if self.bias:\n",
        "            uit+=self.b3\n",
        "          uit=K.tanh(uit)\n",
        "        # ait = softmax(Ueij)\n",
        "        eij = dot_product(uit, self.u)\n",
        "        if self.bias:\n",
        "            eij += self.b2\n",
        "\n",
        "        # Apply mask\n",
        "        if mask is not None:\n",
        "            eij *= K.cast(mask, K.floatx())\n",
        "\n",
        "        a = K.expand_dims(K.softmax(eij, axis=-1))\n",
        "        \n",
        "        weighted_input = x * a\n",
        "        result = K.sum(weighted_input, axis=1)\n",
        "\n",
        "        if self.return_attention:\n",
        "            return [result, a]\n",
        "        return result\n",
        "\n",
        "    def compute_output_shape(self, input_shape):\n",
        "        if self.return_attention:\n",
        "            return [(input_shape[0], input_shape[-1]),\n",
        "                    (input_shape[0], input_shape[1])]\n",
        "        else:\n",
        "            return input_shape[0], input_shape[-1]"
      ]
    },
    {
      "cell_type": "code",
      "execution_count": null,
      "metadata": {
        "id": "SrwyQoI4sUhu"
      },
      "outputs": [],
      "source": [
        " #RNN Tuner example\n",
        "def build_model_test(hp):\n",
        "\n",
        "\n",
        "# create an empty  model\n",
        "\n",
        "\n",
        "  with tf.device('/device:GPU:0'):\n",
        "\n",
        "\n",
        "    inputs = Input((50,)) #\n",
        "\n",
        "    # Define the Embedding Layer with fastext weights\n",
        "    embeddings = Embedding(input_dim=MAX_WORDS+2, output_dim=EMBEDDING_DIM, weights=[embedding_matrix], \n",
        "                            input_length=MAX_SEQUENCE_LENGTH, mask_zero=True, trainable=False)(inputs)\n",
        "\n",
        "    drop_emb = Dropout(hp.Float('Dropout Rate',min_value=0.2,max_value=0.3,step=0.1))(embeddings)\n",
        "\n",
        "    # Define a (Biderectional) RNN with LSTM cells\n",
        "    bilstm = Bidirectional(LSTM(units=100, return_sequences=True, recurrent_dropout=0.33))(drop_emb)\n",
        "\n",
        "    drop_encodings = Dropout(hp.Float('Dropout Rate',min_value=0.2,max_value=0.3,step=0.1))(bilstm)\n",
        "\n",
        "    # Pass the encoding through an Attention Layer\n",
        "    x, attn = DeepAttention(return_attention=True,three_layers=hp.Choice('Three_layers',[True,False]))(drop_encodings)\n",
        "    # x, attn = LinearAttention(return_attention=True)(drop_encodings)\n",
        "    # for i in range(1, hp.Int(\"num_layers\", 1, 2)):\n",
        "\n",
        "    #   x, attn = DeepAttention(return_attention=True)(x)\n",
        "\n",
        "\n",
        "    # Apply Droupout to the encoding produced by the attension mechanism\n",
        "    drop_x = Dropout(hp.Float('Dropout Rate',min_value=0.2,max_value=0.3,step=0.1))(x) #x\n",
        "\n",
        "    # # Pass through a Dense Layer\n",
        "    # hidden = Dense(units=DENSE, activation=\"relu\")(drop_x)\n",
        "\n",
        "    # # Apply Dropout to the output of the Dense Layer\n",
        "    # drop_out = Dropout(0.33)(hidden) \n",
        "\n",
        " # Last pass through a Dense Layer with softmax activation to produce a probability distribution\n",
        "  out = Dense(units=1, activation=\"sigmoid\")( drop_x)\n",
        "\n",
        "  # Wrap model --> Remember Functional API\n",
        "  model2 = Model(inputs=inputs, outputs=out)\n",
        "  print(model2.summary())\n",
        "\n",
        "  model2.compile(loss='binary_crossentropy',\n",
        "                  optimizer=Adam(hp.Choice(\"learning_rate\", values=[1e-3, 1e-4])),\n",
        "                  metrics=[\"accuracy\"])\n",
        "\n",
        "  if not os.path.exists('/content/gdrive/My Drive/checkpoints'):\n",
        "    os.makedirs('/content/gdrive/My Drive/checkpoints')\n",
        "\n",
        "  checkpoint = ModelCheckpoint('/content/gdrive/My Drive/checkpoints/BiLSTM_attn.hdf5',\n",
        "                                monitor='val_accuracy', \n",
        "                                mode='max', verbose=2,\n",
        "                                save_best_only=True,\n",
        "                                save_weights_only=True)\n",
        "  return model2 "
      ]
    },
    {
      "cell_type": "code",
      "execution_count": null,
      "metadata": {
        "colab": {
          "base_uri": "https://localhost:8080/"
        },
        "id": "7-mJgFrQsfI9",
        "outputId": "49fb26ad-d60d-4d13-b7b3-ac863a7dd815"
      },
      "outputs": [
        {
          "name": "stdout",
          "output_type": "stream",
          "text": [
            "WARNING:tensorflow:Layer lstm will not use cuDNN kernels since it doesn't meet the criteria. It will use a generic GPU kernel as fallback when running on GPU.\n",
            "WARNING:tensorflow:Layer lstm will not use cuDNN kernels since it doesn't meet the criteria. It will use a generic GPU kernel as fallback when running on GPU.\n",
            "WARNING:tensorflow:Layer lstm will not use cuDNN kernels since it doesn't meet the criteria. It will use a generic GPU kernel as fallback when running on GPU.\n",
            "Model: \"model\"\n",
            "_________________________________________________________________\n",
            " Layer (type)                Output Shape              Param #   \n",
            "=================================================================\n",
            " input_1 (InputLayer)        [(None, 50)]              0         \n",
            "                                                                 \n",
            " embedding (Embedding)       (None, 50, 300)           150600    \n",
            "                                                                 \n",
            " dropout_4 (Dropout)         (None, 50, 300)           0         \n",
            "                                                                 \n",
            " bidirectional (Bidirectiona  (None, 50, 200)          320800    \n",
            " l)                                                              \n",
            "                                                                 \n",
            " dropout_5 (Dropout)         (None, 50, 200)           0         \n",
            "                                                                 \n",
            " deep_attention (DeepAttenti  [(None, 200),            80402     \n",
            " on)                          (None, 50, 1)]                     \n",
            "                                                                 \n",
            " dropout_6 (Dropout)         (None, 200)               0         \n",
            "                                                                 \n",
            " dense_6 (Dense)             (None, 1)                 201       \n",
            "                                                                 \n",
            "=================================================================\n",
            "Total params: 552,003\n",
            "Trainable params: 401,403\n",
            "Non-trainable params: 150,600\n",
            "_________________________________________________________________\n",
            "None\n"
          ]
        }
      ],
      "source": [
        " tuner = kt.Hyperband(\n",
        "    build_model_test,\n",
        "    objective='val_accuracy') "
      ]
    },
    {
      "cell_type": "code",
      "execution_count": null,
      "metadata": {
        "id": "tdLmBYh9cetL"
      },
      "outputs": [],
      "source": []
    },
    {
      "cell_type": "code",
      "execution_count": null,
      "metadata": {
        "colab": {
          "base_uri": "https://localhost:8080/"
        },
        "id": "66epWVVOsf_U",
        "outputId": "f61e9098-a264-4a01-c0ab-c1ddc82ca1ae"
      },
      "outputs": [
        {
          "name": "stdout",
          "output_type": "stream",
          "text": [
            "Trial 8 Complete [00h 00m 28s]\n",
            "val_accuracy: 0.6166666746139526\n",
            "\n",
            "Best val_accuracy So Far: 0.625\n",
            "Total elapsed time: 00h 04m 04s\n",
            "INFO:tensorflow:Oracle triggered exit\n",
            "WARNING:tensorflow:Layer lstm will not use cuDNN kernels since it doesn't meet the criteria. It will use a generic GPU kernel as fallback when running on GPU.\n",
            "WARNING:tensorflow:Layer lstm will not use cuDNN kernels since it doesn't meet the criteria. It will use a generic GPU kernel as fallback when running on GPU.\n",
            "WARNING:tensorflow:Layer lstm will not use cuDNN kernels since it doesn't meet the criteria. It will use a generic GPU kernel as fallback when running on GPU.\n",
            "Model: \"model\"\n",
            "_________________________________________________________________\n",
            " Layer (type)                Output Shape              Param #   \n",
            "=================================================================\n",
            " input_1 (InputLayer)        [(None, 50)]              0         \n",
            "                                                                 \n",
            " embedding (Embedding)       (None, 50, 300)           150600    \n",
            "                                                                 \n",
            " dropout (Dropout)           (None, 50, 300)           0         \n",
            "                                                                 \n",
            " bidirectional (Bidirectiona  (None, 50, 200)          320800    \n",
            " l)                                                              \n",
            "                                                                 \n",
            " dropout_1 (Dropout)         (None, 50, 200)           0         \n",
            "                                                                 \n",
            " deep_attention (DeepAttenti  [(None, 200),            80402     \n",
            " on)                          (None, 50, 1)]                     \n",
            "                                                                 \n",
            " dropout_2 (Dropout)         (None, 200)               0         \n",
            "                                                                 \n",
            " dense (Dense)               (None, 1)                 201       \n",
            "                                                                 \n",
            "=================================================================\n",
            "Total params: 552,003\n",
            "Trainable params: 401,403\n",
            "Non-trainable params: 150,600\n",
            "_________________________________________________________________\n",
            "None\n"
          ]
        }
      ],
      "source": [
        " tuner.search(\n",
        "    x=train_data,\n",
        "    y=y_train,\n",
        "    epochs=3,\n",
        "    batch_size= 64,\n",
        "    validation_data=(dev_data,y_dev),\n",
        ")\n",
        "best_model = tuner.get_best_models(num_models=1)[0] "
      ]
    },
    {
      "cell_type": "code",
      "execution_count": null,
      "metadata": {
        "colab": {
          "base_uri": "https://localhost:8080/"
        },
        "id": "T8VuyOQ2cf3a",
        "outputId": "0e955eb0-d9f2-4efe-f146-88f7ee836abe"
      },
      "outputs": [
        {
          "name": "stdout",
          "output_type": "stream",
          "text": [
            "WARNING:tensorflow:Layer lstm_1 will not use cuDNN kernels since it doesn't meet the criteria. It will use a generic GPU kernel as fallback when running on GPU.\n",
            "WARNING:tensorflow:Layer lstm_1 will not use cuDNN kernels since it doesn't meet the criteria. It will use a generic GPU kernel as fallback when running on GPU.\n",
            "WARNING:tensorflow:Layer lstm_1 will not use cuDNN kernels since it doesn't meet the criteria. It will use a generic GPU kernel as fallback when running on GPU.\n",
            "Model: \"model_1\"\n",
            "_________________________________________________________________\n",
            " Layer (type)                Output Shape              Param #   \n",
            "=================================================================\n",
            " input_2 (InputLayer)        [(None, 50)]              0         \n",
            "                                                                 \n",
            " embedding_1 (Embedding)     (None, 50, 300)           150600    \n",
            "                                                                 \n",
            " dropout_3 (Dropout)         (None, 50, 300)           0         \n",
            "                                                                 \n",
            " bidirectional_1 (Bidirectio  (None, 50, 200)          320800    \n",
            " nal)                                                            \n",
            "                                                                 \n",
            " dropout_4 (Dropout)         (None, 50, 200)           0         \n",
            "                                                                 \n",
            " deep_attention_1 (DeepAtten  [(None, 200),            80402     \n",
            " tion)                        (None, 50, 1)]                     \n",
            "                                                                 \n",
            " dropout_5 (Dropout)         (None, 200)               0         \n",
            "                                                                 \n",
            " dense_1 (Dense)             (None, 1)                 201       \n",
            "                                                                 \n",
            "=================================================================\n",
            "Total params: 552,003\n",
            "Trainable params: 401,403\n",
            "Non-trainable params: 150,600\n",
            "_________________________________________________________________\n",
            "None\n"
          ]
        }
      ],
      "source": [
        "# Get the optimal hyperparameters from the results\n",
        "best_hps=tuner.get_best_hyperparameters()[0]\n",
        "\n",
        "# Build model\n",
        "h_model = tuner.hypermodel.build(best_hps)"
      ]
    },
    {
      "cell_type": "markdown",
      "metadata": {
        "id": "3T1ZqWChfR73"
      },
      "source": [
        "best_"
      ]
    },
    {
      "cell_type": "code",
      "execution_count": null,
      "metadata": {
        "colab": {
          "base_uri": "https://localhost:8080/"
        },
        "id": "0ruu7xikfDri",
        "outputId": "2470d1fd-c6d7-4cb7-ca7d-877bfcd1f965"
      },
      "outputs": [
        {
          "name": "stdout",
          "output_type": "stream",
          "text": [
            "Results summary\n",
            "Results in ./untitled_project\n",
            "Showing 10 best trials\n",
            "<keras_tuner.engine.objective.Objective object at 0x7fce563e0450>\n",
            "Trial summary\n",
            "Hyperparameters:\n",
            "Dropout Rate: 0.30000000000000004\n",
            "Three_layers: 1\n",
            "learning_rate: 0.0001\n",
            "tuner/epochs: 2\n",
            "tuner/initial_epoch: 0\n",
            "tuner/bracket: 4\n",
            "tuner/round: 0\n",
            "Score: 0.625\n",
            "Trial summary\n",
            "Hyperparameters:\n",
            "Dropout Rate: 0.2\n",
            "Three_layers: 0\n",
            "learning_rate: 0.001\n",
            "tuner/epochs: 2\n",
            "tuner/initial_epoch: 0\n",
            "tuner/bracket: 4\n",
            "tuner/round: 0\n",
            "Score: 0.625\n",
            "Trial summary\n",
            "Hyperparameters:\n",
            "Dropout Rate: 0.30000000000000004\n",
            "Three_layers: 1\n",
            "learning_rate: 0.001\n",
            "tuner/epochs: 2\n",
            "tuner/initial_epoch: 0\n",
            "tuner/bracket: 4\n",
            "tuner/round: 0\n",
            "Score: 0.6166666746139526\n",
            "Trial summary\n",
            "Hyperparameters:\n",
            "Dropout Rate: 0.2\n",
            "Three_layers: 1\n",
            "learning_rate: 0.001\n",
            "tuner/epochs: 2\n",
            "tuner/initial_epoch: 0\n",
            "tuner/bracket: 4\n",
            "tuner/round: 0\n",
            "Score: 0.6000000238418579\n",
            "Trial summary\n",
            "Hyperparameters:\n",
            "Dropout Rate: 0.30000000000000004\n",
            "Three_layers: 0\n",
            "learning_rate: 0.0001\n",
            "tuner/epochs: 2\n",
            "tuner/initial_epoch: 0\n",
            "tuner/bracket: 4\n",
            "tuner/round: 0\n",
            "Score: 0.574999988079071\n",
            "Trial summary\n",
            "Hyperparameters:\n",
            "Dropout Rate: 0.30000000000000004\n",
            "Three_layers: 0\n",
            "learning_rate: 0.001\n",
            "tuner/epochs: 2\n",
            "tuner/initial_epoch: 0\n",
            "tuner/bracket: 4\n",
            "tuner/round: 0\n",
            "Score: 0.5583333373069763\n",
            "Trial summary\n",
            "Hyperparameters:\n",
            "Dropout Rate: 0.2\n",
            "Three_layers: 1\n",
            "learning_rate: 0.0001\n",
            "tuner/epochs: 2\n",
            "tuner/initial_epoch: 0\n",
            "tuner/bracket: 4\n",
            "tuner/round: 0\n",
            "Score: 0.5416666865348816\n",
            "Trial summary\n",
            "Hyperparameters:\n",
            "Dropout Rate: 0.2\n",
            "Three_layers: 0\n",
            "learning_rate: 0.0001\n",
            "tuner/epochs: 2\n",
            "tuner/initial_epoch: 0\n",
            "tuner/bracket: 4\n",
            "tuner/round: 0\n",
            "Score: 0.5249999761581421\n"
          ]
        }
      ],
      "source": [
        "tuner.results_summary()"
      ]
    },
    {
      "cell_type": "code",
      "execution_count": null,
      "metadata": {
        "colab": {
          "base_uri": "https://localhost:8080/"
        },
        "id": "rJG9I4bCc-xb",
        "outputId": "2e6754ce-baf2-4fc5-e2c1-b2e2bff7a61a"
      },
      "outputs": [
        {
          "name": "stdout",
          "output_type": "stream",
          "text": [
            "Epoch 1/50\n",
            "11/11 [==============================] - ETA: 0s - loss: 0.6908 - accuracy: 0.5629 — val_f1: 0.352015 — val_precision: 0.266944 — val_recall: 0.516667\n",
            "11/11 [==============================] - 24s 1s/step - loss: 0.6908 - accuracy: 0.5629 - val_loss: 0.6899 - val_accuracy: 0.5583 - val_f1: 0.3520 - val_recall: 0.5167 - val_precision: 0.2669\n",
            "Epoch 2/50\n",
            "11/11 [==============================] - ETA: 0s - loss: 0.6893 - accuracy: 0.5357 — val_f1: 0.352015 — val_precision: 0.266944 — val_recall: 0.516667\n",
            "11/11 [==============================] - 10s 886ms/step - loss: 0.6893 - accuracy: 0.5357 - val_loss: 0.6890 - val_accuracy: 0.5500 - val_f1: 0.3520 - val_recall: 0.5167 - val_precision: 0.2669\n",
            "Epoch 3/50\n",
            "11/11 [==============================] - ETA: 0s - loss: 0.6878 - accuracy: 0.5614 — val_f1: 0.352015 — val_precision: 0.266944 — val_recall: 0.516667\n",
            "11/11 [==============================] - 10s 948ms/step - loss: 0.6878 - accuracy: 0.5614 - val_loss: 0.6880 - val_accuracy: 0.5583 - val_f1: 0.3520 - val_recall: 0.5167 - val_precision: 0.2669\n",
            "Epoch 4/50\n",
            "11/11 [==============================] - ETA: 0s - loss: 0.6869 - accuracy: 0.5543 — val_f1: 0.352015 — val_precision: 0.266944 — val_recall: 0.516667\n",
            "11/11 [==============================] - 10s 942ms/step - loss: 0.6869 - accuracy: 0.5543 - val_loss: 0.6869 - val_accuracy: 0.5583 - val_f1: 0.3520 - val_recall: 0.5167 - val_precision: 0.2669\n",
            "Epoch 5/50\n",
            "11/11 [==============================] - ETA: 0s - loss: 0.6844 - accuracy: 0.5529 — val_f1: 0.352015 — val_precision: 0.266944 — val_recall: 0.516667\n",
            "11/11 [==============================] - 9s 836ms/step - loss: 0.6844 - accuracy: 0.5529 - val_loss: 0.6856 - val_accuracy: 0.5667 - val_f1: 0.3520 - val_recall: 0.5167 - val_precision: 0.2669\n",
            "Epoch 6/50\n",
            "11/11 [==============================] - ETA: 0s - loss: 0.6822 - accuracy: 0.5729 — val_f1: 0.352015 — val_precision: 0.266944 — val_recall: 0.516667\n",
            "11/11 [==============================] - 9s 849ms/step - loss: 0.6822 - accuracy: 0.5729 - val_loss: 0.6840 - val_accuracy: 0.5667 - val_f1: 0.3520 - val_recall: 0.5167 - val_precision: 0.2669\n",
            "Epoch 7/50\n",
            "11/11 [==============================] - ETA: 0s - loss: 0.6798 - accuracy: 0.5829 — val_f1: 0.352015 — val_precision: 0.266944 — val_recall: 0.516667\n",
            "11/11 [==============================] - 14s 1s/step - loss: 0.6798 - accuracy: 0.5829 - val_loss: 0.6817 - val_accuracy: 0.5583 - val_f1: 0.3520 - val_recall: 0.5167 - val_precision: 0.2669\n",
            "Epoch 8/50\n",
            "11/11 [==============================] - ETA: 0s - loss: 0.6767 - accuracy: 0.5929 — val_f1: 0.352015 — val_precision: 0.266944 — val_recall: 0.516667\n",
            "11/11 [==============================] - 19s 2s/step - loss: 0.6767 - accuracy: 0.5929 - val_loss: 0.6785 - val_accuracy: 0.5917 - val_f1: 0.3520 - val_recall: 0.5167 - val_precision: 0.2669\n",
            "Epoch 9/50\n",
            "11/11 [==============================] - ETA: 0s - loss: 0.6729 - accuracy: 0.6343 — val_f1: 0.352015 — val_precision: 0.266944 — val_recall: 0.516667\n",
            "11/11 [==============================] - 10s 871ms/step - loss: 0.6729 - accuracy: 0.6343 - val_loss: 0.6747 - val_accuracy: 0.6000 - val_f1: 0.3520 - val_recall: 0.5167 - val_precision: 0.2669\n",
            "Epoch 10/50\n",
            "11/11 [==============================] - ETA: 0s - loss: 0.6644 - accuracy: 0.6829 — val_f1: 0.352015 — val_precision: 0.266944 — val_recall: 0.516667\n",
            "11/11 [==============================] - 10s 874ms/step - loss: 0.6644 - accuracy: 0.6829 - val_loss: 0.6685 - val_accuracy: 0.6417 - val_f1: 0.3520 - val_recall: 0.5167 - val_precision: 0.2669\n",
            "Epoch 11/50\n",
            "11/11 [==============================] - ETA: 0s - loss: 0.6560 - accuracy: 0.6714 — val_f1: 0.352015 — val_precision: 0.266944 — val_recall: 0.516667\n",
            "11/11 [==============================] - 10s 883ms/step - loss: 0.6560 - accuracy: 0.6714 - val_loss: 0.6588 - val_accuracy: 0.6667 - val_f1: 0.3520 - val_recall: 0.5167 - val_precision: 0.2669\n",
            "Epoch 12/50\n",
            "11/11 [==============================] - ETA: 0s - loss: 0.6307 - accuracy: 0.6786 — val_f1: 0.352015 — val_precision: 0.266944 — val_recall: 0.516667\n",
            "11/11 [==============================] - 9s 864ms/step - loss: 0.6307 - accuracy: 0.6786 - val_loss: 0.6415 - val_accuracy: 0.6250 - val_f1: 0.3520 - val_recall: 0.5167 - val_precision: 0.2669\n",
            "Epoch 13/50\n",
            "11/11 [==============================] - ETA: 0s - loss: 0.5808 - accuracy: 0.7029 — val_f1: 0.352015 — val_precision: 0.266944 — val_recall: 0.516667\n",
            "11/11 [==============================] - 10s 869ms/step - loss: 0.5808 - accuracy: 0.7029 - val_loss: 0.6585 - val_accuracy: 0.6000 - val_f1: 0.3520 - val_recall: 0.5167 - val_precision: 0.2669\n",
            "Epoch 14/50\n",
            "11/11 [==============================] - ETA: 0s - loss: 0.5624 - accuracy: 0.7200 — val_f1: 0.352015 — val_precision: 0.266944 — val_recall: 0.516667\n",
            "11/11 [==============================] - 10s 886ms/step - loss: 0.5624 - accuracy: 0.7200 - val_loss: 0.6299 - val_accuracy: 0.6417 - val_f1: 0.3520 - val_recall: 0.5167 - val_precision: 0.2669\n",
            "Epoch 15/50\n",
            "11/11 [==============================] - ETA: 0s - loss: 0.5540 - accuracy: 0.7257 — val_f1: 0.352015 — val_precision: 0.266944 — val_recall: 0.516667\n",
            "11/11 [==============================] - 9s 859ms/step - loss: 0.5540 - accuracy: 0.7257 - val_loss: 0.6199 - val_accuracy: 0.6583 - val_f1: 0.3520 - val_recall: 0.5167 - val_precision: 0.2669\n",
            "Epoch 16/50\n",
            "11/11 [==============================] - ETA: 0s - loss: 0.5278 - accuracy: 0.7486 — val_f1: 0.352015 — val_precision: 0.266944 — val_recall: 0.516667\n",
            "11/11 [==============================] - 9s 859ms/step - loss: 0.5278 - accuracy: 0.7486 - val_loss: 0.6098 - val_accuracy: 0.6750 - val_f1: 0.3520 - val_recall: 0.5167 - val_precision: 0.2669\n",
            "Epoch 17/50\n",
            "11/11 [==============================] - ETA: 0s - loss: 0.5183 - accuracy: 0.7543 — val_f1: 0.352015 — val_precision: 0.266944 — val_recall: 0.516667\n",
            "11/11 [==============================] - 10s 871ms/step - loss: 0.5183 - accuracy: 0.7543 - val_loss: 0.6047 - val_accuracy: 0.6833 - val_f1: 0.3520 - val_recall: 0.5167 - val_precision: 0.2669\n",
            "Epoch 18/50\n",
            "11/11 [==============================] - ETA: 0s - loss: 0.5076 - accuracy: 0.7614 — val_f1: 0.352015 — val_precision: 0.266944 — val_recall: 0.516667\n",
            "11/11 [==============================] - 9s 847ms/step - loss: 0.5076 - accuracy: 0.7614 - val_loss: 0.5997 - val_accuracy: 0.6917 - val_f1: 0.3520 - val_recall: 0.5167 - val_precision: 0.2669\n",
            "Epoch 19/50\n",
            "11/11 [==============================] - ETA: 0s - loss: 0.4934 - accuracy: 0.7743 — val_f1: 0.352015 — val_precision: 0.266944 — val_recall: 0.516667\n",
            "11/11 [==============================] - 10s 960ms/step - loss: 0.4934 - accuracy: 0.7743 - val_loss: 0.6076 - val_accuracy: 0.6750 - val_f1: 0.3520 - val_recall: 0.5167 - val_precision: 0.2669\n",
            "Epoch 20/50\n",
            "11/11 [==============================] - ETA: 0s - loss: 0.4731 - accuracy: 0.7886 — val_f1: 0.352015 — val_precision: 0.266944 — val_recall: 0.516667\n",
            "11/11 [==============================] - 10s 869ms/step - loss: 0.4731 - accuracy: 0.7886 - val_loss: 0.6083 - val_accuracy: 0.7000 - val_f1: 0.3520 - val_recall: 0.5167 - val_precision: 0.2669\n",
            "Epoch 21/50\n",
            "11/11 [==============================] - ETA: 0s - loss: 0.4799 - accuracy: 0.7957 — val_f1: 0.352015 — val_precision: 0.266944 — val_recall: 0.516667\n",
            "11/11 [==============================] - 9s 850ms/step - loss: 0.4799 - accuracy: 0.7957 - val_loss: 0.6049 - val_accuracy: 0.6917 - val_f1: 0.3520 - val_recall: 0.5167 - val_precision: 0.2669\n",
            "Epoch 22/50\n",
            "11/11 [==============================] - ETA: 0s - loss: 0.4841 - accuracy: 0.7771 — val_f1: 0.352015 — val_precision: 0.266944 — val_recall: 0.516667\n",
            "11/11 [==============================] - 9s 849ms/step - loss: 0.4841 - accuracy: 0.7771 - val_loss: 0.5957 - val_accuracy: 0.6667 - val_f1: 0.3520 - val_recall: 0.5167 - val_precision: 0.2669\n",
            "Epoch 23/50\n",
            "11/11 [==============================] - ETA: 0s - loss: 0.4671 - accuracy: 0.7814 — val_f1: 0.352015 — val_precision: 0.266944 — val_recall: 0.516667\n",
            "11/11 [==============================] - 9s 867ms/step - loss: 0.4671 - accuracy: 0.7814 - val_loss: 0.6153 - val_accuracy: 0.6750 - val_f1: 0.3520 - val_recall: 0.5167 - val_precision: 0.2669\n",
            "Epoch 24/50\n",
            "11/11 [==============================] - ETA: 0s - loss: 0.4698 - accuracy: 0.7986 — val_f1: 0.352015 — val_precision: 0.266944 — val_recall: 0.516667\n",
            "11/11 [==============================] - 9s 854ms/step - loss: 0.4698 - accuracy: 0.7986 - val_loss: 0.5956 - val_accuracy: 0.6917 - val_f1: 0.3520 - val_recall: 0.5167 - val_precision: 0.2669\n",
            "Epoch 25/50\n",
            "11/11 [==============================] - ETA: 0s - loss: 0.4634 - accuracy: 0.8114 — val_f1: 0.352015 — val_precision: 0.266944 — val_recall: 0.516667\n",
            "11/11 [==============================] - 10s 887ms/step - loss: 0.4634 - accuracy: 0.8114 - val_loss: 0.5921 - val_accuracy: 0.6750 - val_f1: 0.3520 - val_recall: 0.5167 - val_precision: 0.2669\n",
            "Epoch 26/50\n",
            "11/11 [==============================] - ETA: 0s - loss: 0.4644 - accuracy: 0.7857 — val_f1: 0.352015 — val_precision: 0.266944 — val_recall: 0.516667\n",
            "11/11 [==============================] - 10s 885ms/step - loss: 0.4644 - accuracy: 0.7857 - val_loss: 0.5930 - val_accuracy: 0.7000 - val_f1: 0.3520 - val_recall: 0.5167 - val_precision: 0.2669\n",
            "Epoch 27/50\n",
            "11/11 [==============================] - ETA: 0s - loss: 0.4607 - accuracy: 0.7886 — val_f1: 0.352015 — val_precision: 0.266944 — val_recall: 0.516667\n",
            "11/11 [==============================] - 9s 836ms/step - loss: 0.4607 - accuracy: 0.7886 - val_loss: 0.5851 - val_accuracy: 0.6833 - val_f1: 0.3520 - val_recall: 0.5167 - val_precision: 0.2669\n",
            "Epoch 28/50\n",
            "11/11 [==============================] - ETA: 0s - loss: 0.4511 - accuracy: 0.8029 — val_f1: 0.352015 — val_precision: 0.266944 — val_recall: 0.516667\n",
            "11/11 [==============================] - 10s 898ms/step - loss: 0.4511 - accuracy: 0.8029 - val_loss: 0.5956 - val_accuracy: 0.6917 - val_f1: 0.3520 - val_recall: 0.5167 - val_precision: 0.2669\n",
            "Epoch 29/50\n",
            "11/11 [==============================] - ETA: 0s - loss: 0.4455 - accuracy: 0.8114 — val_f1: 0.352015 — val_precision: 0.266944 — val_recall: 0.516667\n",
            "11/11 [==============================] - 9s 867ms/step - loss: 0.4455 - accuracy: 0.8114 - val_loss: 0.5891 - val_accuracy: 0.6833 - val_f1: 0.3520 - val_recall: 0.5167 - val_precision: 0.2669\n",
            "Epoch 30/50\n",
            "11/11 [==============================] - ETA: 0s - loss: 0.4370 - accuracy: 0.8071 — val_f1: 0.352015 — val_precision: 0.266944 — val_recall: 0.516667\n",
            "11/11 [==============================] - 11s 972ms/step - loss: 0.4370 - accuracy: 0.8071 - val_loss: 0.5936 - val_accuracy: 0.6917 - val_f1: 0.3520 - val_recall: 0.5167 - val_precision: 0.2669\n",
            "Epoch 31/50\n",
            "11/11 [==============================] - ETA: 0s - loss: 0.4360 - accuracy: 0.8200 — val_f1: 0.352015 — val_precision: 0.266944 — val_recall: 0.516667\n",
            "11/11 [==============================] - 10s 872ms/step - loss: 0.4360 - accuracy: 0.8200 - val_loss: 0.5867 - val_accuracy: 0.7083 - val_f1: 0.3520 - val_recall: 0.5167 - val_precision: 0.2669\n",
            "Epoch 32/50\n",
            "11/11 [==============================] - ETA: 0s - loss: 0.4262 - accuracy: 0.8143 — val_f1: 0.352015 — val_precision: 0.266944 — val_recall: 0.516667\n",
            "11/11 [==============================] - 9s 838ms/step - loss: 0.4262 - accuracy: 0.8143 - val_loss: 0.6016 - val_accuracy: 0.7167 - val_f1: 0.3520 - val_recall: 0.5167 - val_precision: 0.2669\n",
            "Epoch 33/50\n",
            "11/11 [==============================] - ETA: 0s - loss: 0.4493 - accuracy: 0.8171 — val_f1: 0.352015 — val_precision: 0.266944 — val_recall: 0.516667\n",
            "11/11 [==============================] - 9s 844ms/step - loss: 0.4493 - accuracy: 0.8171 - val_loss: 0.5905 - val_accuracy: 0.7000 - val_f1: 0.3520 - val_recall: 0.5167 - val_precision: 0.2669\n",
            "Epoch 34/50\n",
            "11/11 [==============================] - ETA: 0s - loss: 0.4346 - accuracy: 0.8157 — val_f1: 0.352015 — val_precision: 0.266944 — val_recall: 0.516667\n",
            "11/11 [==============================] - 9s 847ms/step - loss: 0.4346 - accuracy: 0.8157 - val_loss: 0.5870 - val_accuracy: 0.6833 - val_f1: 0.3520 - val_recall: 0.5167 - val_precision: 0.2669\n",
            "Epoch 35/50\n",
            "11/11 [==============================] - ETA: 0s - loss: 0.4488 - accuracy: 0.8086 — val_f1: 0.352015 — val_precision: 0.266944 — val_recall: 0.516667\n",
            "11/11 [==============================] - 10s 883ms/step - loss: 0.4488 - accuracy: 0.8086 - val_loss: 0.5964 - val_accuracy: 0.6833 - val_f1: 0.3520 - val_recall: 0.5167 - val_precision: 0.2669\n",
            "Epoch 36/50\n",
            "11/11 [==============================] - ETA: 0s - loss: 0.4271 - accuracy: 0.8100 — val_f1: 0.352015 — val_precision: 0.266944 — val_recall: 0.516667\n",
            "11/11 [==============================] - 9s 860ms/step - loss: 0.4271 - accuracy: 0.8100 - val_loss: 0.5995 - val_accuracy: 0.6917 - val_f1: 0.3520 - val_recall: 0.5167 - val_precision: 0.2669\n",
            "Epoch 37/50\n",
            "11/11 [==============================] - ETA: 0s - loss: 0.4225 - accuracy: 0.8100 — val_f1: 0.352015 — val_precision: 0.266944 — val_recall: 0.516667\n",
            "11/11 [==============================] - 9s 853ms/step - loss: 0.4225 - accuracy: 0.8100 - val_loss: 0.6067 - val_accuracy: 0.6833 - val_f1: 0.3520 - val_recall: 0.5167 - val_precision: 0.2669\n",
            "Epoch 38/50\n",
            "11/11 [==============================] - ETA: 0s - loss: 0.4172 - accuracy: 0.8171 — val_f1: 0.352015 — val_precision: 0.266944 — val_recall: 0.516667\n",
            "11/11 [==============================] - 9s 851ms/step - loss: 0.4172 - accuracy: 0.8171 - val_loss: 0.6130 - val_accuracy: 0.6917 - val_f1: 0.3520 - val_recall: 0.5167 - val_precision: 0.2669\n",
            "Epoch 39/50\n",
            "11/11 [==============================] - ETA: 0s - loss: 0.4357 - accuracy: 0.8157 — val_f1: 0.352015 — val_precision: 0.266944 — val_recall: 0.516667\n",
            "11/11 [==============================] - 9s 859ms/step - loss: 0.4357 - accuracy: 0.8157 - val_loss: 0.6112 - val_accuracy: 0.6833 - val_f1: 0.3520 - val_recall: 0.5167 - val_precision: 0.2669\n",
            "Epoch 40/50\n",
            "11/11 [==============================] - ETA: 0s - loss: 0.4345 - accuracy: 0.8057 — val_f1: 0.352015 — val_precision: 0.266944 — val_recall: 0.516667\n",
            "11/11 [==============================] - 10s 874ms/step - loss: 0.4345 - accuracy: 0.8057 - val_loss: 0.6194 - val_accuracy: 0.7000 - val_f1: 0.3520 - val_recall: 0.5167 - val_precision: 0.2669\n",
            "Epoch 41/50\n",
            "11/11 [==============================] - ETA: 0s - loss: 0.4151 - accuracy: 0.8143 — val_f1: 0.352015 — val_precision: 0.266944 — val_recall: 0.516667\n",
            "11/11 [==============================] - 9s 866ms/step - loss: 0.4151 - accuracy: 0.8143 - val_loss: 0.6115 - val_accuracy: 0.7000 - val_f1: 0.3520 - val_recall: 0.5167 - val_precision: 0.2669\n",
            "Epoch 42/50\n",
            "11/11 [==============================] - ETA: 0s - loss: 0.4074 - accuracy: 0.8271 — val_f1: 0.352015 — val_precision: 0.266944 — val_recall: 0.516667\n",
            "11/11 [==============================] - 9s 863ms/step - loss: 0.4074 - accuracy: 0.8271 - val_loss: 0.6165 - val_accuracy: 0.6917 - val_f1: 0.3520 - val_recall: 0.5167 - val_precision: 0.2669\n",
            "Epoch 43/50\n",
            "11/11 [==============================] - ETA: 0s - loss: 0.3993 - accuracy: 0.8271 — val_f1: 0.352015 — val_precision: 0.266944 — val_recall: 0.516667\n",
            "11/11 [==============================] - 9s 850ms/step - loss: 0.3993 - accuracy: 0.8271 - val_loss: 0.6149 - val_accuracy: 0.7083 - val_f1: 0.3520 - val_recall: 0.5167 - val_precision: 0.2669\n",
            "Epoch 44/50\n",
            "11/11 [==============================] - ETA: 0s - loss: 0.4053 - accuracy: 0.8257 — val_f1: 0.352015 — val_precision: 0.266944 — val_recall: 0.516667\n",
            "11/11 [==============================] - 9s 863ms/step - loss: 0.4053 - accuracy: 0.8257 - val_loss: 0.6140 - val_accuracy: 0.6667 - val_f1: 0.3520 - val_recall: 0.5167 - val_precision: 0.2669\n",
            "Epoch 45/50\n",
            "11/11 [==============================] - ETA: 0s - loss: 0.4074 - accuracy: 0.8300 — val_f1: 0.352015 — val_precision: 0.266944 — val_recall: 0.516667\n",
            "11/11 [==============================] - 10s 873ms/step - loss: 0.4074 - accuracy: 0.8300 - val_loss: 0.6299 - val_accuracy: 0.6917 - val_f1: 0.3520 - val_recall: 0.5167 - val_precision: 0.2669\n",
            "Epoch 46/50\n",
            "11/11 [==============================] - ETA: 0s - loss: 0.4263 - accuracy: 0.8271 — val_f1: 0.352015 — val_precision: 0.266944 — val_recall: 0.516667\n",
            "11/11 [==============================] - 10s 871ms/step - loss: 0.4263 - accuracy: 0.8271 - val_loss: 0.6122 - val_accuracy: 0.6917 - val_f1: 0.3520 - val_recall: 0.5167 - val_precision: 0.2669\n",
            "Epoch 47/50\n",
            "11/11 [==============================] - ETA: 0s - loss: 0.4197 - accuracy: 0.8171 — val_f1: 0.352015 — val_precision: 0.266944 — val_recall: 0.516667\n",
            "11/11 [==============================] - 12s 1s/step - loss: 0.4197 - accuracy: 0.8171 - val_loss: 0.6077 - val_accuracy: 0.6667 - val_f1: 0.3520 - val_recall: 0.5167 - val_precision: 0.2669\n",
            "Epoch 48/50\n",
            "11/11 [==============================] - ETA: 0s - loss: 0.4296 - accuracy: 0.8157 — val_f1: 0.352015 — val_precision: 0.266944 — val_recall: 0.516667\n",
            "11/11 [==============================] - 10s 885ms/step - loss: 0.4296 - accuracy: 0.8157 - val_loss: 0.6060 - val_accuracy: 0.6583 - val_f1: 0.3520 - val_recall: 0.5167 - val_precision: 0.2669\n",
            "Epoch 49/50\n",
            "11/11 [==============================] - ETA: 0s - loss: 0.4111 - accuracy: 0.8143 — val_f1: 0.352015 — val_precision: 0.266944 — val_recall: 0.516667\n",
            "11/11 [==============================] - 10s 872ms/step - loss: 0.4111 - accuracy: 0.8143 - val_loss: 0.6042 - val_accuracy: 0.7167 - val_f1: 0.3520 - val_recall: 0.5167 - val_precision: 0.2669\n",
            "Epoch 50/50\n",
            "11/11 [==============================] - ETA: 0s - loss: 0.3948 - accuracy: 0.8371 — val_f1: 0.352015 — val_precision: 0.266944 — val_recall: 0.516667\n",
            "11/11 [==============================] - 10s 892ms/step - loss: 0.3948 - accuracy: 0.8371 - val_loss: 0.6031 - val_accuracy: 0.6833 - val_f1: 0.3520 - val_recall: 0.5167 - val_precision: 0.2669\n"
          ]
        }
      ],
      "source": [
        "history = best_model.fit(train_data, \n",
        "                    y_train,\n",
        "                    validation_data=(dev_data, y_dev),\n",
        "                    batch_size=64,\n",
        "                    epochs=50,\n",
        "                    shuffle=True,\n",
        "                    callbacks=[Metrics(valid_data=(dev_data, y_dev))])"
      ]
    },
    {
      "cell_type": "code",
      "execution_count": null,
      "metadata": {
        "colab": {
          "base_uri": "https://localhost:8080/"
        },
        "id": "oq5q9EBBetfT",
        "outputId": "9f476504-a7cc-46d7-c48c-e7b4dd46b9b8"
      },
      "outputs": [
        {
          "name": "stdout",
          "output_type": "stream",
          "text": [
            "Test f1-score: 67.92% \n",
            "\n"
          ]
        }
      ],
      "source": [
        "#Classifying with our model\n",
        "predictions_train = best_model.predict(train_data)\n",
        "predictions_dev = best_model.predict(dev_data)\n",
        "predictions_test = best_model.predict(test_data)\n",
        "\n",
        "#Calculating F1 score\n",
        "score = f1_score(y_test, np.round(predictions_test))\n",
        "\n",
        "print(\"Test f1-score: {:.2f}% \\n\".format(score*100)) "
      ]
    },
    {
      "cell_type": "code",
      "execution_count": null,
      "metadata": {
        "colab": {
          "base_uri": "https://localhost:8080/"
        },
        "id": "9pSKS9SbZQY7",
        "outputId": "48d25d37-cd45-452c-b524-5672247e5610"
      },
      "outputs": [
        {
          "name": "stdout",
          "output_type": "stream",
          "text": [
            "WARNING:tensorflow:Layer lstm_2 will not use cuDNN kernels since it doesn't meet the criteria. It will use a generic GPU kernel as fallback when running on GPU.\n",
            "WARNING:tensorflow:Layer lstm_2 will not use cuDNN kernels since it doesn't meet the criteria. It will use a generic GPU kernel as fallback when running on GPU.\n",
            "WARNING:tensorflow:Layer lstm_2 will not use cuDNN kernels since it doesn't meet the criteria. It will use a generic GPU kernel as fallback when running on GPU.\n",
            "Model: \"model_2\"\n",
            "_________________________________________________________________\n",
            " Layer (type)                Output Shape              Param #   \n",
            "=================================================================\n",
            " input_3 (InputLayer)        [(None, 50)]              0         \n",
            "                                                                 \n",
            " embedding_2 (Embedding)     (None, 50, 300)           150600    \n",
            "                                                                 \n",
            " dropout_6 (Dropout)         (None, 50, 300)           0         \n",
            "                                                                 \n",
            " bidirectional_2 (Bidirectio  (None, 50, 60)           79440     \n",
            " nal)                                                            \n",
            "                                                                 \n",
            " dropout_7 (Dropout)         (None, 50, 60)            0         \n",
            "                                                                 \n",
            " deep_attention_2 (DeepAtten  [(None, 60),             3721      \n",
            " tion)                        (None, 50, 1)]                     \n",
            "                                                                 \n",
            " dropout_8 (Dropout)         (None, 60)                0         \n",
            "                                                                 \n",
            " dense_2 (Dense)             (None, 1)                 61        \n",
            "                                                                 \n",
            "=================================================================\n",
            "Total params: 233,822\n",
            "Trainable params: 83,222\n",
            "Non-trainable params: 150,600\n",
            "_________________________________________________________________\n",
            "None\n"
          ]
        }
      ],
      "source": [
        "os.environ['TF_CPP_MIN_LOG_LEVEL'] = '3'\n",
        "import tensorflow as tf\n",
        "from tensorflow.keras.callbacks import ModelCheckpoint\n",
        "from tensorflow.keras.layers import Dense,Dropout, Bidirectional, LSTM, Embedding, Input\n",
        "from tensorflow.keras.optimizers import Adam\n",
        "import tensorflow.keras.backend as K\n",
        "from tensorflow.keras import Model\n",
        "\n",
        "LSTM_SIZE = 30\n",
        "\n",
        "with tf.device('/device:GPU:0'):\n",
        "\n",
        "  inputs = Input((50,))\n",
        "  \n",
        "  # Define the Embedding Layer with fastext weights\n",
        "  embeddings = Embedding(input_dim=MAX_WORDS+2, output_dim=EMBEDDING_DIM, weights=[embedding_matrix], \n",
        "                         input_length=300, mask_zero=True, trainable=False)(inputs)\n",
        "  drop_emb = Dropout(0.7)(embeddings)\n",
        "  \n",
        "  # Define a (Biderectional) RNN with LSTM cells\n",
        "  bilstm = Bidirectional(LSTM(units=LSTM_SIZE, return_sequences=True, recurrent_dropout=0.2))(drop_emb)\n",
        "  drop_encodings = Dropout(0.2)(bilstm)\n",
        "\n",
        "  # Pass the encoding through an Attention Layer\n",
        "  x, attn = DeepAttention(return_attention=True,three_layers=False)(drop_encodings)\n",
        "  # x, attn = LinearAttention(return_attention=True)(drop_encodings)\n",
        "\n",
        "  # Apply Droupout to the encoding produced by the attension mechanism\n",
        "  drop_x = Dropout(0.5)(x)\n",
        "\n",
        "  # # Pass through a Dense Layer\n",
        "  # hidden = Dense(units=DENSE, activation=\"relu\")(drop_x)\n",
        "  # # Apply Dropout to the output of the Dense Layer\n",
        "  # drop_out = Dropout(0.33)(hidden)\n",
        "\n",
        "  # Last pass through a Dense Layer with softmax activation to produce a probability distribution\n",
        "  out = Dense(units=1, activation=\"sigmoid\")(drop_x)\n",
        "  \n",
        "  # Wrap model --> Remember Functional API\n",
        "  model2 = Model(inputs=inputs, outputs=out)\n",
        "  print(model2.summary())\n",
        "\n",
        "  model2.compile(loss='binary_crossentropy',\n",
        "                 optimizer=Adam(lr=0.001),\n",
        "                 metrics=[\"accuracy\"])\n",
        "\n",
        "  if not os.path.exists('/content/gdrive/My Drive/checkpoints'):\n",
        "    os.makedirs('/content/gdrive/My Drive/checkpoints')\n",
        "\n",
        "  checkpoint = ModelCheckpoint('/content/gdrive/My Drive/checkpoints/BiLSTM_attn.hdf5',\n",
        "                               monitor='val_accuracy', \n",
        "                               mode='max', verbose=2,\n",
        "                               save_best_only=True,\n",
        "                               save_weights_only=True) "
      ]
    },
    {
      "cell_type": "code",
      "execution_count": null,
      "metadata": {
        "colab": {
          "base_uri": "https://localhost:8080/"
        },
        "id": "wQ7FHbrnUbZl",
        "outputId": "7b956a5b-1875-4910-adcf-484437f8254c"
      },
      "outputs": [
        {
          "name": "stdout",
          "output_type": "stream",
          "text": [
            "Epoch 1/50\n",
            "11/11 [==============================] - ETA: 0s - loss: 0.6928 - accuracy: 0.5086 — val_f1: 0.352015 — val_precision: 0.266944 — val_recall: 0.516667\n",
            "\n",
            "Epoch 1: val_accuracy improved from -inf to 0.52500, saving model to /content/gdrive/My Drive/checkpoints/BiLSTM_attn.hdf5\n",
            "11/11 [==============================] - 17s 1s/step - loss: 0.6928 - accuracy: 0.5086 - val_loss: 0.6889 - val_accuracy: 0.5250 - val_f1: 0.3520 - val_recall: 0.5167 - val_precision: 0.2669\n",
            "Epoch 2/50\n",
            "11/11 [==============================] - ETA: 0s - loss: 0.6887 - accuracy: 0.5171 — val_f1: 0.352015 — val_precision: 0.266944 — val_recall: 0.516667\n",
            "\n",
            "Epoch 2: val_accuracy improved from 0.52500 to 0.53333, saving model to /content/gdrive/My Drive/checkpoints/BiLSTM_attn.hdf5\n",
            "11/11 [==============================] - 10s 895ms/step - loss: 0.6887 - accuracy: 0.5171 - val_loss: 0.6857 - val_accuracy: 0.5333 - val_f1: 0.3520 - val_recall: 0.5167 - val_precision: 0.2669\n",
            "Epoch 3/50\n",
            "11/11 [==============================] - ETA: 0s - loss: 0.6829 - accuracy: 0.5686 — val_f1: 0.352015 — val_precision: 0.266944 — val_recall: 0.516667\n",
            "\n",
            "Epoch 3: val_accuracy improved from 0.53333 to 0.56667, saving model to /content/gdrive/My Drive/checkpoints/BiLSTM_attn.hdf5\n",
            "11/11 [==============================] - 10s 958ms/step - loss: 0.6829 - accuracy: 0.5686 - val_loss: 0.6815 - val_accuracy: 0.5667 - val_f1: 0.3520 - val_recall: 0.5167 - val_precision: 0.2669\n",
            "Epoch 4/50\n",
            "11/11 [==============================] - ETA: 0s - loss: 0.6732 - accuracy: 0.6457 — val_f1: 0.352015 — val_precision: 0.266944 — val_recall: 0.516667\n",
            "\n",
            "Epoch 4: val_accuracy improved from 0.56667 to 0.60000, saving model to /content/gdrive/My Drive/checkpoints/BiLSTM_attn.hdf5\n",
            "11/11 [==============================] - 10s 902ms/step - loss: 0.6732 - accuracy: 0.6457 - val_loss: 0.6723 - val_accuracy: 0.6000 - val_f1: 0.3520 - val_recall: 0.5167 - val_precision: 0.2669\n",
            "Epoch 5/50\n",
            "11/11 [==============================] - ETA: 0s - loss: 0.6496 - accuracy: 0.6714 — val_f1: 0.352015 — val_precision: 0.266944 — val_recall: 0.516667\n",
            "\n",
            "Epoch 5: val_accuracy improved from 0.60000 to 0.61667, saving model to /content/gdrive/My Drive/checkpoints/BiLSTM_attn.hdf5\n",
            "11/11 [==============================] - 10s 884ms/step - loss: 0.6496 - accuracy: 0.6714 - val_loss: 0.6542 - val_accuracy: 0.6167 - val_f1: 0.3520 - val_recall: 0.5167 - val_precision: 0.2669\n",
            "Epoch 6/50\n",
            "11/11 [==============================] - ETA: 0s - loss: 0.6041 - accuracy: 0.6943 — val_f1: 0.352015 — val_precision: 0.266944 — val_recall: 0.516667\n",
            "\n",
            "Epoch 6: val_accuracy did not improve from 0.61667\n",
            "11/11 [==============================] - 10s 873ms/step - loss: 0.6041 - accuracy: 0.6943 - val_loss: 0.6842 - val_accuracy: 0.6167 - val_f1: 0.3520 - val_recall: 0.5167 - val_precision: 0.2669\n",
            "Epoch 7/50\n",
            "11/11 [==============================] - ETA: 0s - loss: 0.5837 - accuracy: 0.6929 — val_f1: 0.352015 — val_precision: 0.266944 — val_recall: 0.516667\n",
            "\n",
            "Epoch 7: val_accuracy improved from 0.61667 to 0.65000, saving model to /content/gdrive/My Drive/checkpoints/BiLSTM_attn.hdf5\n",
            "11/11 [==============================] - 10s 885ms/step - loss: 0.5837 - accuracy: 0.6929 - val_loss: 0.6338 - val_accuracy: 0.6500 - val_f1: 0.3520 - val_recall: 0.5167 - val_precision: 0.2669\n",
            "Epoch 8/50\n",
            "11/11 [==============================] - ETA: 0s - loss: 0.5582 - accuracy: 0.7243 — val_f1: 0.352015 — val_precision: 0.266944 — val_recall: 0.516667\n",
            "\n",
            "Epoch 8: val_accuracy did not improve from 0.65000\n",
            "11/11 [==============================] - 9s 858ms/step - loss: 0.5582 - accuracy: 0.7243 - val_loss: 0.6322 - val_accuracy: 0.6417 - val_f1: 0.3520 - val_recall: 0.5167 - val_precision: 0.2669\n",
            "Epoch 9/50\n",
            "11/11 [==============================] - ETA: 0s - loss: 0.5519 - accuracy: 0.7314 — val_f1: 0.352015 — val_precision: 0.266944 — val_recall: 0.516667\n",
            "\n",
            "Epoch 9: val_accuracy did not improve from 0.65000\n",
            "11/11 [==============================] - 9s 837ms/step - loss: 0.5519 - accuracy: 0.7314 - val_loss: 0.6387 - val_accuracy: 0.6417 - val_f1: 0.3520 - val_recall: 0.5167 - val_precision: 0.2669\n",
            "Epoch 10/50\n",
            "11/11 [==============================] - ETA: 0s - loss: 0.5279 - accuracy: 0.7357 — val_f1: 0.352015 — val_precision: 0.266944 — val_recall: 0.516667\n",
            "\n",
            "Epoch 10: val_accuracy did not improve from 0.65000\n",
            "11/11 [==============================] - 10s 906ms/step - loss: 0.5279 - accuracy: 0.7357 - val_loss: 0.6091 - val_accuracy: 0.6167 - val_f1: 0.3520 - val_recall: 0.5167 - val_precision: 0.2669\n",
            "Epoch 11/50\n",
            "11/11 [==============================] - ETA: 0s - loss: 0.5485 - accuracy: 0.7300 — val_f1: 0.352015 — val_precision: 0.266944 — val_recall: 0.516667\n",
            "\n",
            "Epoch 11: val_accuracy did not improve from 0.65000\n",
            "11/11 [==============================] - 9s 828ms/step - loss: 0.5485 - accuracy: 0.7300 - val_loss: 0.6066 - val_accuracy: 0.6500 - val_f1: 0.3520 - val_recall: 0.5167 - val_precision: 0.2669\n",
            "Epoch 12/50\n",
            "11/11 [==============================] - ETA: 0s - loss: 0.5276 - accuracy: 0.7486 — val_f1: 0.352015 — val_precision: 0.266944 — val_recall: 0.516667\n",
            "\n",
            "Epoch 12: val_accuracy improved from 0.65000 to 0.67500, saving model to /content/gdrive/My Drive/checkpoints/BiLSTM_attn.hdf5\n",
            "11/11 [==============================] - 10s 869ms/step - loss: 0.5276 - accuracy: 0.7486 - val_loss: 0.6007 - val_accuracy: 0.6750 - val_f1: 0.3520 - val_recall: 0.5167 - val_precision: 0.2669\n",
            "Epoch 13/50\n",
            "11/11 [==============================] - ETA: 0s - loss: 0.5375 - accuracy: 0.7343 — val_f1: 0.352015 — val_precision: 0.266944 — val_recall: 0.516667\n",
            "\n",
            "Epoch 13: val_accuracy did not improve from 0.67500\n",
            "11/11 [==============================] - 10s 872ms/step - loss: 0.5375 - accuracy: 0.7343 - val_loss: 0.5862 - val_accuracy: 0.6667 - val_f1: 0.3520 - val_recall: 0.5167 - val_precision: 0.2669\n",
            "Epoch 14/50\n",
            "11/11 [==============================] - ETA: 0s - loss: 0.5372 - accuracy: 0.7371 — val_f1: 0.352015 — val_precision: 0.266944 — val_recall: 0.516667\n",
            "\n",
            "Epoch 14: val_accuracy did not improve from 0.67500\n",
            "11/11 [==============================] - 9s 845ms/step - loss: 0.5372 - accuracy: 0.7371 - val_loss: 0.6207 - val_accuracy: 0.6667 - val_f1: 0.3520 - val_recall: 0.5167 - val_precision: 0.2669\n",
            "Epoch 15/50\n",
            "11/11 [==============================] - ETA: 0s - loss: 0.5244 - accuracy: 0.7514 — val_f1: 0.352015 — val_precision: 0.266944 — val_recall: 0.516667\n",
            "\n",
            "Epoch 15: val_accuracy did not improve from 0.67500\n",
            "11/11 [==============================] - 9s 865ms/step - loss: 0.5244 - accuracy: 0.7514 - val_loss: 0.5805 - val_accuracy: 0.6667 - val_f1: 0.3520 - val_recall: 0.5167 - val_precision: 0.2669\n",
            "Epoch 16/50\n",
            "11/11 [==============================] - ETA: 0s - loss: 0.5031 - accuracy: 0.7543 — val_f1: 0.352015 — val_precision: 0.266944 — val_recall: 0.516667\n",
            "\n",
            "Epoch 16: val_accuracy improved from 0.67500 to 0.73333, saving model to /content/gdrive/My Drive/checkpoints/BiLSTM_attn.hdf5\n",
            "11/11 [==============================] - 9s 860ms/step - loss: 0.5031 - accuracy: 0.7543 - val_loss: 0.5729 - val_accuracy: 0.7333 - val_f1: 0.3520 - val_recall: 0.5167 - val_precision: 0.2669\n",
            "Epoch 17/50\n",
            "11/11 [==============================] - ETA: 0s - loss: 0.4970 - accuracy: 0.7586 — val_f1: 0.352015 — val_precision: 0.266944 — val_recall: 0.516667\n",
            "\n",
            "Epoch 17: val_accuracy did not improve from 0.73333\n",
            "11/11 [==============================] - 9s 858ms/step - loss: 0.4970 - accuracy: 0.7586 - val_loss: 0.5916 - val_accuracy: 0.7250 - val_f1: 0.3520 - val_recall: 0.5167 - val_precision: 0.2669\n",
            "Epoch 18/50\n",
            "11/11 [==============================] - ETA: 0s - loss: 0.4835 - accuracy: 0.7686 — val_f1: 0.352015 — val_precision: 0.266944 — val_recall: 0.516667\n",
            "\n",
            "Epoch 18: val_accuracy did not improve from 0.73333\n",
            "11/11 [==============================] - 10s 866ms/step - loss: 0.4835 - accuracy: 0.7686 - val_loss: 0.5912 - val_accuracy: 0.6667 - val_f1: 0.3520 - val_recall: 0.5167 - val_precision: 0.2669\n",
            "Epoch 19/50\n",
            "11/11 [==============================] - ETA: 0s - loss: 0.4992 - accuracy: 0.7614 — val_f1: 0.352015 — val_precision: 0.266944 — val_recall: 0.516667\n",
            "\n",
            "Epoch 19: val_accuracy did not improve from 0.73333\n",
            "11/11 [==============================] - 9s 854ms/step - loss: 0.4992 - accuracy: 0.7614 - val_loss: 0.5804 - val_accuracy: 0.6667 - val_f1: 0.3520 - val_recall: 0.5167 - val_precision: 0.2669\n",
            "Epoch 20/50\n",
            "11/11 [==============================] - ETA: 0s - loss: 0.4828 - accuracy: 0.7714 — val_f1: 0.352015 — val_precision: 0.266944 — val_recall: 0.516667\n",
            "\n",
            "Epoch 20: val_accuracy did not improve from 0.73333\n",
            "11/11 [==============================] - 9s 852ms/step - loss: 0.4828 - accuracy: 0.7714 - val_loss: 0.5756 - val_accuracy: 0.6667 - val_f1: 0.3520 - val_recall: 0.5167 - val_precision: 0.2669\n",
            "Epoch 21/50\n",
            "11/11 [==============================] - ETA: 0s - loss: 0.4770 - accuracy: 0.7857 — val_f1: 0.352015 — val_precision: 0.266944 — val_recall: 0.516667\n",
            "\n",
            "Epoch 21: val_accuracy did not improve from 0.73333\n",
            "11/11 [==============================] - 9s 860ms/step - loss: 0.4770 - accuracy: 0.7857 - val_loss: 0.5805 - val_accuracy: 0.7083 - val_f1: 0.3520 - val_recall: 0.5167 - val_precision: 0.2669\n",
            "Epoch 22/50\n",
            "11/11 [==============================] - ETA: 0s - loss: 0.4950 - accuracy: 0.7629 — val_f1: 0.352015 — val_precision: 0.266944 — val_recall: 0.516667\n",
            "\n",
            "Epoch 22: val_accuracy did not improve from 0.73333\n",
            "11/11 [==============================] - 10s 869ms/step - loss: 0.4950 - accuracy: 0.7629 - val_loss: 0.5810 - val_accuracy: 0.6750 - val_f1: 0.3520 - val_recall: 0.5167 - val_precision: 0.2669\n",
            "Epoch 23/50\n",
            "11/11 [==============================] - ETA: 0s - loss: 0.4814 - accuracy: 0.7657 — val_f1: 0.352015 — val_precision: 0.266944 — val_recall: 0.516667\n",
            "\n",
            "Epoch 23: val_accuracy did not improve from 0.73333\n",
            "11/11 [==============================] - 9s 849ms/step - loss: 0.4814 - accuracy: 0.7657 - val_loss: 0.5727 - val_accuracy: 0.6917 - val_f1: 0.3520 - val_recall: 0.5167 - val_precision: 0.2669\n",
            "Epoch 24/50\n",
            "11/11 [==============================] - ETA: 0s - loss: 0.4889 - accuracy: 0.7614 — val_f1: 0.352015 — val_precision: 0.266944 — val_recall: 0.516667\n",
            "\n",
            "Epoch 24: val_accuracy did not improve from 0.73333\n",
            "11/11 [==============================] - 9s 851ms/step - loss: 0.4889 - accuracy: 0.7614 - val_loss: 0.5714 - val_accuracy: 0.6250 - val_f1: 0.3520 - val_recall: 0.5167 - val_precision: 0.2669\n",
            "Epoch 25/50\n",
            "11/11 [==============================] - ETA: 0s - loss: 0.5160 - accuracy: 0.7386 — val_f1: 0.352015 — val_precision: 0.266944 — val_recall: 0.516667\n",
            "\n",
            "Epoch 25: val_accuracy did not improve from 0.73333\n",
            "11/11 [==============================] - 9s 850ms/step - loss: 0.5160 - accuracy: 0.7386 - val_loss: 0.5575 - val_accuracy: 0.6917 - val_f1: 0.3520 - val_recall: 0.5167 - val_precision: 0.2669\n",
            "Epoch 26/50\n",
            "11/11 [==============================] - ETA: 0s - loss: 0.4994 - accuracy: 0.7500 — val_f1: 0.352015 — val_precision: 0.266944 — val_recall: 0.516667\n",
            "\n",
            "Epoch 26: val_accuracy did not improve from 0.73333\n",
            "11/11 [==============================] - 9s 846ms/step - loss: 0.4994 - accuracy: 0.7500 - val_loss: 0.6084 - val_accuracy: 0.6917 - val_f1: 0.3520 - val_recall: 0.5167 - val_precision: 0.2669\n",
            "Epoch 27/50\n",
            "11/11 [==============================] - ETA: 0s - loss: 0.4731 - accuracy: 0.7700 — val_f1: 0.352015 — val_precision: 0.266944 — val_recall: 0.516667\n",
            "\n",
            "Epoch 27: val_accuracy did not improve from 0.73333\n",
            "11/11 [==============================] - 9s 856ms/step - loss: 0.4731 - accuracy: 0.7700 - val_loss: 0.5847 - val_accuracy: 0.6500 - val_f1: 0.3520 - val_recall: 0.5167 - val_precision: 0.2669\n",
            "Epoch 28/50\n",
            "11/11 [==============================] - ETA: 0s - loss: 0.4538 - accuracy: 0.8014 — val_f1: 0.352015 — val_precision: 0.266944 — val_recall: 0.516667\n",
            "\n",
            "Epoch 28: val_accuracy did not improve from 0.73333\n",
            "11/11 [==============================] - 9s 860ms/step - loss: 0.4538 - accuracy: 0.8014 - val_loss: 0.5747 - val_accuracy: 0.6750 - val_f1: 0.3520 - val_recall: 0.5167 - val_precision: 0.2669\n",
            "Epoch 29/50\n",
            "11/11 [==============================] - ETA: 0s - loss: 0.5055 - accuracy: 0.7557 — val_f1: 0.352015 — val_precision: 0.266944 — val_recall: 0.516667\n",
            "\n",
            "Epoch 29: val_accuracy did not improve from 0.73333\n",
            "11/11 [==============================] - 9s 841ms/step - loss: 0.5055 - accuracy: 0.7557 - val_loss: 0.5575 - val_accuracy: 0.7000 - val_f1: 0.3520 - val_recall: 0.5167 - val_precision: 0.2669\n",
            "Epoch 30/50\n",
            "11/11 [==============================] - ETA: 0s - loss: 0.4729 - accuracy: 0.7771 — val_f1: 0.352015 — val_precision: 0.266944 — val_recall: 0.516667\n",
            "\n",
            "Epoch 30: val_accuracy did not improve from 0.73333\n",
            "11/11 [==============================] - 9s 840ms/step - loss: 0.4729 - accuracy: 0.7771 - val_loss: 0.5951 - val_accuracy: 0.6750 - val_f1: 0.3520 - val_recall: 0.5167 - val_precision: 0.2669\n",
            "Epoch 31/50\n",
            "11/11 [==============================] - ETA: 0s - loss: 0.4534 - accuracy: 0.7886 — val_f1: 0.352015 — val_precision: 0.266944 — val_recall: 0.516667\n",
            "\n",
            "Epoch 31: val_accuracy did not improve from 0.73333\n",
            "11/11 [==============================] - 9s 853ms/step - loss: 0.4534 - accuracy: 0.7886 - val_loss: 0.5788 - val_accuracy: 0.6833 - val_f1: 0.3520 - val_recall: 0.5167 - val_precision: 0.2669\n",
            "Epoch 32/50\n",
            "11/11 [==============================] - ETA: 0s - loss: 0.4644 - accuracy: 0.7814 — val_f1: 0.352015 — val_precision: 0.266944 — val_recall: 0.516667\n",
            "\n",
            "Epoch 32: val_accuracy did not improve from 0.73333\n",
            "11/11 [==============================] - 9s 867ms/step - loss: 0.4644 - accuracy: 0.7814 - val_loss: 0.5859 - val_accuracy: 0.6750 - val_f1: 0.3520 - val_recall: 0.5167 - val_precision: 0.2669\n",
            "Epoch 33/50\n",
            "11/11 [==============================] - ETA: 0s - loss: 0.4611 - accuracy: 0.7829 — val_f1: 0.352015 — val_precision: 0.266944 — val_recall: 0.516667\n",
            "\n",
            "Epoch 33: val_accuracy did not improve from 0.73333\n",
            "11/11 [==============================] - 10s 871ms/step - loss: 0.4611 - accuracy: 0.7829 - val_loss: 0.5697 - val_accuracy: 0.6750 - val_f1: 0.3520 - val_recall: 0.5167 - val_precision: 0.2669\n",
            "Epoch 34/50\n",
            "11/11 [==============================] - ETA: 0s - loss: 0.4673 - accuracy: 0.7800 — val_f1: 0.352015 — val_precision: 0.266944 — val_recall: 0.516667\n",
            "\n",
            "Epoch 34: val_accuracy did not improve from 0.73333\n",
            "11/11 [==============================] - 10s 867ms/step - loss: 0.4673 - accuracy: 0.7800 - val_loss: 0.5711 - val_accuracy: 0.7000 - val_f1: 0.3520 - val_recall: 0.5167 - val_precision: 0.2669\n",
            "Epoch 35/50\n",
            "11/11 [==============================] - ETA: 0s - loss: 0.4765 - accuracy: 0.7786 — val_f1: 0.352015 — val_precision: 0.266944 — val_recall: 0.516667\n",
            "\n",
            "Epoch 35: val_accuracy did not improve from 0.73333\n",
            "11/11 [==============================] - 10s 874ms/step - loss: 0.4765 - accuracy: 0.7786 - val_loss: 0.5558 - val_accuracy: 0.6833 - val_f1: 0.3520 - val_recall: 0.5167 - val_precision: 0.2669\n",
            "Epoch 36/50\n",
            "11/11 [==============================] - ETA: 0s - loss: 0.4717 - accuracy: 0.8014 — val_f1: 0.352015 — val_precision: 0.266944 — val_recall: 0.516667\n",
            "\n",
            "Epoch 36: val_accuracy did not improve from 0.73333\n",
            "11/11 [==============================] - 10s 871ms/step - loss: 0.4717 - accuracy: 0.8014 - val_loss: 0.5472 - val_accuracy: 0.7083 - val_f1: 0.3520 - val_recall: 0.5167 - val_precision: 0.2669\n",
            "Epoch 37/50\n",
            "11/11 [==============================] - ETA: 0s - loss: 0.4584 - accuracy: 0.7800 — val_f1: 0.352015 — val_precision: 0.266944 — val_recall: 0.516667\n",
            "\n",
            "Epoch 37: val_accuracy did not improve from 0.73333\n",
            "11/11 [==============================] - 10s 887ms/step - loss: 0.4584 - accuracy: 0.7800 - val_loss: 0.5468 - val_accuracy: 0.7167 - val_f1: 0.3520 - val_recall: 0.5167 - val_precision: 0.2669\n",
            "Epoch 38/50\n",
            "11/11 [==============================] - ETA: 0s - loss: 0.4634 - accuracy: 0.7814 — val_f1: 0.352015 — val_precision: 0.266944 — val_recall: 0.516667\n",
            "\n",
            "Epoch 38: val_accuracy did not improve from 0.73333\n",
            "11/11 [==============================] - 10s 884ms/step - loss: 0.4634 - accuracy: 0.7814 - val_loss: 0.5762 - val_accuracy: 0.7083 - val_f1: 0.3520 - val_recall: 0.5167 - val_precision: 0.2669\n",
            "Epoch 39/50\n",
            "11/11 [==============================] - ETA: 0s - loss: 0.4337 - accuracy: 0.7943 — val_f1: 0.352015 — val_precision: 0.266944 — val_recall: 0.516667\n",
            "\n",
            "Epoch 39: val_accuracy did not improve from 0.73333\n",
            "11/11 [==============================] - 10s 872ms/step - loss: 0.4337 - accuracy: 0.7943 - val_loss: 0.5756 - val_accuracy: 0.6833 - val_f1: 0.3520 - val_recall: 0.5167 - val_precision: 0.2669\n",
            "Epoch 40/50\n",
            "11/11 [==============================] - ETA: 0s - loss: 0.4525 - accuracy: 0.7900 — val_f1: 0.352015 — val_precision: 0.266944 — val_recall: 0.516667\n",
            "\n",
            "Epoch 40: val_accuracy did not improve from 0.73333\n",
            "11/11 [==============================] - 10s 870ms/step - loss: 0.4525 - accuracy: 0.7900 - val_loss: 0.5605 - val_accuracy: 0.7083 - val_f1: 0.3520 - val_recall: 0.5167 - val_precision: 0.2669\n",
            "Epoch 41/50\n",
            "11/11 [==============================] - ETA: 0s - loss: 0.4698 - accuracy: 0.7686 — val_f1: 0.352015 — val_precision: 0.266944 — val_recall: 0.516667\n",
            "\n",
            "Epoch 41: val_accuracy did not improve from 0.73333\n",
            "11/11 [==============================] - 10s 874ms/step - loss: 0.4698 - accuracy: 0.7686 - val_loss: 0.5654 - val_accuracy: 0.6917 - val_f1: 0.3520 - val_recall: 0.5167 - val_precision: 0.2669\n",
            "Epoch 42/50\n",
            "11/11 [==============================] - ETA: 0s - loss: 0.4335 - accuracy: 0.8071 — val_f1: 0.352015 — val_precision: 0.266944 — val_recall: 0.516667\n",
            "\n",
            "Epoch 42: val_accuracy did not improve from 0.73333\n",
            "11/11 [==============================] - 10s 886ms/step - loss: 0.4335 - accuracy: 0.8071 - val_loss: 0.5828 - val_accuracy: 0.7083 - val_f1: 0.3520 - val_recall: 0.5167 - val_precision: 0.2669\n",
            "Epoch 43/50\n",
            "11/11 [==============================] - ETA: 0s - loss: 0.4461 - accuracy: 0.7929 — val_f1: 0.352015 — val_precision: 0.266944 — val_recall: 0.516667\n",
            "\n",
            "Epoch 43: val_accuracy did not improve from 0.73333\n",
            "11/11 [==============================] - 10s 888ms/step - loss: 0.4461 - accuracy: 0.7929 - val_loss: 0.5680 - val_accuracy: 0.6750 - val_f1: 0.3520 - val_recall: 0.5167 - val_precision: 0.2669\n",
            "Epoch 44/50\n",
            "11/11 [==============================] - ETA: 0s - loss: 0.4598 - accuracy: 0.7900 — val_f1: 0.352015 — val_precision: 0.266944 — val_recall: 0.516667\n",
            "\n",
            "Epoch 44: val_accuracy did not improve from 0.73333\n",
            "11/11 [==============================] - 10s 875ms/step - loss: 0.4598 - accuracy: 0.7900 - val_loss: 0.5559 - val_accuracy: 0.6750 - val_f1: 0.3520 - val_recall: 0.5167 - val_precision: 0.2669\n",
            "Epoch 45/50\n",
            "11/11 [==============================] - ETA: 0s - loss: 0.4509 - accuracy: 0.7914 — val_f1: 0.352015 — val_precision: 0.266944 — val_recall: 0.516667\n",
            "\n",
            "Epoch 45: val_accuracy did not improve from 0.73333\n",
            "11/11 [==============================] - 10s 872ms/step - loss: 0.4509 - accuracy: 0.7914 - val_loss: 0.5759 - val_accuracy: 0.6417 - val_f1: 0.3520 - val_recall: 0.5167 - val_precision: 0.2669\n",
            "Epoch 46/50\n",
            "11/11 [==============================] - ETA: 0s - loss: 0.4308 - accuracy: 0.7986 — val_f1: 0.352015 — val_precision: 0.266944 — val_recall: 0.516667\n",
            "\n",
            "Epoch 46: val_accuracy did not improve from 0.73333\n",
            "11/11 [==============================] - 9s 862ms/step - loss: 0.4308 - accuracy: 0.7986 - val_loss: 0.5714 - val_accuracy: 0.7083 - val_f1: 0.3520 - val_recall: 0.5167 - val_precision: 0.2669\n",
            "Epoch 47/50\n",
            "11/11 [==============================] - ETA: 0s - loss: 0.4691 - accuracy: 0.7800 — val_f1: 0.352015 — val_precision: 0.266944 — val_recall: 0.516667\n",
            "\n",
            "Epoch 47: val_accuracy did not improve from 0.73333\n",
            "11/11 [==============================] - 10s 890ms/step - loss: 0.4691 - accuracy: 0.7800 - val_loss: 0.5690 - val_accuracy: 0.6417 - val_f1: 0.3520 - val_recall: 0.5167 - val_precision: 0.2669\n",
            "Epoch 48/50\n",
            "11/11 [==============================] - ETA: 0s - loss: 0.4417 - accuracy: 0.7914 — val_f1: 0.352015 — val_precision: 0.266944 — val_recall: 0.516667\n",
            "\n",
            "Epoch 48: val_accuracy did not improve from 0.73333\n",
            "11/11 [==============================] - 10s 869ms/step - loss: 0.4417 - accuracy: 0.7914 - val_loss: 0.5832 - val_accuracy: 0.6833 - val_f1: 0.3520 - val_recall: 0.5167 - val_precision: 0.2669\n",
            "Epoch 49/50\n",
            "11/11 [==============================] - ETA: 0s - loss: 0.4577 - accuracy: 0.7814 — val_f1: 0.352015 — val_precision: 0.266944 — val_recall: 0.516667\n",
            "\n",
            "Epoch 49: val_accuracy did not improve from 0.73333\n",
            "11/11 [==============================] - 10s 899ms/step - loss: 0.4577 - accuracy: 0.7814 - val_loss: 0.5972 - val_accuracy: 0.6417 - val_f1: 0.3520 - val_recall: 0.5167 - val_precision: 0.2669\n",
            "Epoch 50/50\n",
            "11/11 [==============================] - ETA: 0s - loss: 0.4618 - accuracy: 0.7843 — val_f1: 0.352015 — val_precision: 0.266944 — val_recall: 0.516667\n",
            "\n",
            "Epoch 50: val_accuracy did not improve from 0.73333\n",
            "11/11 [==============================] - 10s 871ms/step - loss: 0.4618 - accuracy: 0.7843 - val_loss: 0.5616 - val_accuracy: 0.7000 - val_f1: 0.3520 - val_recall: 0.5167 - val_precision: 0.2669\n"
          ]
        }
      ],
      "source": [
        "history = model2.fit(train_data, \n",
        "                    y_train,\n",
        "                    validation_data=(dev_data, y_dev),\n",
        "                    batch_size=64,\n",
        "                    epochs=50,\n",
        "                    shuffle=True,\n",
        "                    callbacks=[Metrics(valid_data=(dev_data, y_dev)),\n",
        "                    checkpoint])"
      ]
    },
    {
      "cell_type": "code",
      "execution_count": null,
      "metadata": {
        "colab": {
          "base_uri": "https://localhost:8080/"
        },
        "id": "kXdYE8Xerga2",
        "outputId": "95ee93e9-87c1-4eef-a050-760d079330dd"
      },
      "outputs": [
        {
          "name": "stdout",
          "output_type": "stream",
          "text": [
            "Test f1-score: 64.90% \n",
            "\n"
          ]
        }
      ],
      "source": [
        "#Classifying with our model\n",
        "predictions_train = model2.predict(train_data)\n",
        "predictions_dev = model2.predict(dev_data)\n",
        "predictions_test = model2.predict(test_data)\n",
        "\n",
        "#Calculating F1 score\n",
        "score = f1_score(y_test, np.round(predictions_test))\n",
        "\n",
        "print(\"Test f1-score: {:.2f}% \\n\".format(score*100)) "
      ]
    },
    {
      "cell_type": "code",
      "execution_count": null,
      "metadata": {
        "colab": {
          "base_uri": "https://localhost:8080/"
        },
        "id": "Nd0VM3C1sFTy",
        "outputId": "565aca91-9ff6-4d01-bfd4-8fa6ec10caa4"
      },
      "outputs": [
        {
          "data": {
            "image/png": "[encoded data removed]",
            "text/plain": [
              "<Figure size 842.4x595.44 with 2 Axes>"
            ]
          },
          "metadata": {},
          "output_type": "display_data"
        }
      ],
      "source": [
        "#Plotting confusion matrix\n",
        "cm = confusion_matrix(y_test, np.round(predictions_test))\n",
        "f = sns.heatmap(cm, annot=True, fmt='d')"
      ]
    },
    {
      "cell_type": "code",
      "execution_count": null,
      "metadata": {
        "colab": {
          "base_uri": "https://localhost:8080/"
        },
        "id": "jdKsgJcWsGKK",
        "outputId": "ed31d6fe-e18b-4c8a-b3f5-818693556dc2"
      },
      "outputs": [
        {
          "data": {
            "image/png": "[encoded data removed]",
            "text/plain": [
              "<Figure size 842.4x595.44 with 1 Axes>"
            ]
          },
          "metadata": {},
          "output_type": "display_data"
        }
      ],
      "source": [
        "import matplotlib.pyplot as pyplot\n",
        "#Plot loss during training/Manually adjusted patience to stop at 4 epochs\n",
        "pyplot.subplot(211)\n",
        "plt.ylim((0,0.55))\n",
        "plt.title('Loss during Epochs')\n",
        "plt.ylabel('Loss')\n",
        "plt.xlabel('Number of Epochs')\n",
        "pyplot.plot(history.history['loss'], label='train')\n",
        "pyplot.plot(history.history['val_loss'], label='dev')\n",
        "pyplot.legend();"
      ]
    },
    {
      "cell_type": "code",
      "execution_count": null,
      "metadata": {
        "colab": {
          "base_uri": "https://localhost:8080/"
        },
        "id": "WUWDW7VpsI8o",
        "outputId": "64a59958-d2be-49f6-f0c9-5a7d8984b081"
      },
      "outputs": [
        {
          "name": "stdout",
          "output_type": "stream",
          "text": [
            "RNN\n",
            "\n",
            "Train\n",
            "              precision    recall  f1-score   support\n",
            "\n",
            "           0       0.80      0.91      0.86       350\n",
            "           1       0.90      0.78      0.83       350\n",
            "\n",
            "    accuracy                           0.85       700\n",
            "   macro avg       0.85      0.85      0.84       700\n",
            "weighted avg       0.85      0.85      0.84       700\n",
            "\n",
            "\n",
            "Dev\n",
            "              precision    recall  f1-score   support\n",
            "\n",
            "           0       0.69      0.77      0.73        62\n",
            "           1       0.72      0.62      0.67        58\n",
            "\n",
            "    accuracy                           0.70       120\n",
            "   macro avg       0.70      0.70      0.70       120\n",
            "weighted avg       0.70      0.70      0.70       120\n",
            "\n",
            "\n",
            "Test\n",
            "              precision    recall  f1-score   support\n",
            "\n",
            "           0       0.67      0.84      0.75        93\n",
            "           1       0.77      0.56      0.65        87\n",
            "\n",
            "    accuracy                           0.71       180\n",
            "   macro avg       0.72      0.70      0.70       180\n",
            "weighted avg       0.72      0.71      0.70       180\n",
            "\n"
          ]
        }
      ],
      "source": [
        "#Classification Report on train,dev,test datasets.\n",
        "\n",
        "print('RNN')\n",
        "print('')\n",
        "print('Train')\n",
        "print(classification_report(y_train,np.round(predictions_train)))\n",
        "print('')\n",
        "print('Dev')\n",
        "print(classification_report(y_dev,np.round(predictions_dev)))\n",
        "print('')\n",
        "print('Test')\n",
        "print(classification_report(y_test,np.round(predictions_test)))"
      ]
    },
    {
      "cell_type": "code",
      "execution_count": null,
      "metadata": {
        "colab": {
          "base_uri": "https://localhost:8080/"
        },
        "id": "xfO3TSQfsEVx",
        "outputId": "df6fe95e-e1ca-4ab2-8426-625207014512"
      },
      "outputs": [
        {
          "name": "stdout",
          "output_type": "stream",
          "text": [
            "Train Positive 0.8946168401135289\n",
            "Train Negative 0.8805814788226848\n",
            "Dev Positive 0.7620114942528736\n",
            "Dev Negative 0.7882872503840246\n",
            "Test Positive 0.7699772509578544\n",
            "Test Negative 0.7972284019280682\n"
          ]
        }
      ],
      "source": [
        "#Training AUC for the 2 Classes\n",
        "p,r,t = precision_recall_curve(y_train,np.round(predictions_train))\n",
        "positive_area=auc(r,p)\n",
        "print('Train Positive',positive_area)\n",
        "\n",
        "p2,r2,t2 = precision_recall_curve(1-y_train,1-np.round(predictions_train))\n",
        "negative_area=auc(r2,p2)\n",
        "print('Train Negative',negative_area)\n",
        "\n",
        "#Dev AUC for the 2 Classes\n",
        "p3,r3,t3 = precision_recall_curve(y_dev,np.round(predictions_dev))\n",
        "positive_area2=auc(r3,p3)\n",
        "print('Dev Positive',positive_area2)\n",
        "\n",
        "p4,r4,t4 = precision_recall_curve(1-y_dev,1-np.round(predictions_dev))\n",
        "negative_area2=auc(r4,p4)\n",
        "print('Dev Negative',negative_area2)\n",
        "\n",
        "\n",
        "#Test AUC for the 2 Classes\n",
        "p5,r5,t5 = precision_recall_curve(y_test,np.round(predictions_test))\n",
        "positive_area3=auc(r5,p5)\n",
        "print('Test Positive',positive_area3)\n",
        "\n",
        "p6,r6,t6 = precision_recall_curve(1-y_test,1-np.round(predictions_test))\n",
        "negative_area3=auc(r6,p6)\n",
        "print('Test Negative',negative_area3)"
      ]
    }
  ],
  "metadata": {
    "accelerator": "GPU",
    "colab": {
      "collapsed_sections": [
        "9u5gUTaRmz0K",
        "6inDdeLvm3It",
        "pFSYQ5pwm8wQ",
        "sCQNd3WNiZBc",
        "ZYzZp8OEihF5",
        "AiS7ml-Fiv1R",
        "TugUltEumjO8"
      ],
      "provenance": []
    },
    "kernelspec": {
      "display_name": "Python 3",
      "name": "python3"
    },
    "language_info": {
      "name": "python"
    }
  },
  "nbformat": 4,
  "nbformat_minor": 0
}
